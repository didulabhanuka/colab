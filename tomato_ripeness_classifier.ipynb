{
  "nbformat": 4,
  "nbformat_minor": 0,
  "metadata": {
    "colab": {
      "provenance": [],
      "gpuType": "T4",
      "authorship_tag": "ABX9TyOuGjgV8VL9lO4uur5o4T5N",
      "include_colab_link": true
    },
    "kernelspec": {
      "name": "python3",
      "display_name": "Python 3"
    },
    "language_info": {
      "name": "python"
    },
    "accelerator": "GPU"
  },
  "cells": [
    {
      "cell_type": "markdown",
      "metadata": {
        "id": "view-in-github",
        "colab_type": "text"
      },
      "source": [
        "<a href=\"https://colab.research.google.com/github/didulabhanuka/colab/blob/main/tomato_ripeness_classifier.ipynb\" target=\"_parent\"><img src=\"https://colab.research.google.com/assets/colab-badge.svg\" alt=\"Open In Colab\"/></a>"
      ]
    },
    {
      "cell_type": "markdown",
      "source": [
        "Install Required Libraries"
      ],
      "metadata": {
        "id": "xyrl5f5xcuwa"
      }
    },
    {
      "cell_type": "code",
      "source": [
        "!pip install ultralytics albumentations torchvision effdet pycocotools"
      ],
      "metadata": {
        "collapsed": true,
        "id": "yngPG0gjcdV-",
        "colab": {
          "base_uri": "https://localhost:8080/"
        },
        "outputId": "203150e1-e6da-43ce-a297-caed56afa41a"
      },
      "execution_count": null,
      "outputs": [
        {
          "output_type": "stream",
          "name": "stdout",
          "text": [
            "Requirement already satisfied: ultralytics in /usr/local/lib/python3.10/dist-packages (8.3.55)\n",
            "Requirement already satisfied: albumentations in /usr/local/lib/python3.10/dist-packages (1.4.20)\n",
            "Requirement already satisfied: torchvision in /usr/local/lib/python3.10/dist-packages (0.20.1+cu121)\n",
            "Requirement already satisfied: effdet in /usr/local/lib/python3.10/dist-packages (0.4.1)\n",
            "Requirement already satisfied: pycocotools in /usr/local/lib/python3.10/dist-packages (2.0.8)\n",
            "Requirement already satisfied: numpy>=1.23.0 in /usr/local/lib/python3.10/dist-packages (from ultralytics) (1.26.4)\n",
            "Requirement already satisfied: matplotlib>=3.3.0 in /usr/local/lib/python3.10/dist-packages (from ultralytics) (3.8.0)\n",
            "Requirement already satisfied: opencv-python>=4.6.0 in /usr/local/lib/python3.10/dist-packages (from ultralytics) (4.10.0.84)\n",
            "Requirement already satisfied: pillow>=7.1.2 in /usr/local/lib/python3.10/dist-packages (from ultralytics) (11.0.0)\n",
            "Requirement already satisfied: pyyaml>=5.3.1 in /usr/local/lib/python3.10/dist-packages (from ultralytics) (6.0.2)\n",
            "Requirement already satisfied: requests>=2.23.0 in /usr/local/lib/python3.10/dist-packages (from ultralytics) (2.32.3)\n",
            "Requirement already satisfied: scipy>=1.4.1 in /usr/local/lib/python3.10/dist-packages (from ultralytics) (1.13.1)\n",
            "Requirement already satisfied: torch>=1.8.0 in /usr/local/lib/python3.10/dist-packages (from ultralytics) (2.5.1+cu121)\n",
            "Requirement already satisfied: tqdm>=4.64.0 in /usr/local/lib/python3.10/dist-packages (from ultralytics) (4.67.1)\n",
            "Requirement already satisfied: psutil in /usr/local/lib/python3.10/dist-packages (from ultralytics) (5.9.5)\n",
            "Requirement already satisfied: py-cpuinfo in /usr/local/lib/python3.10/dist-packages (from ultralytics) (9.0.0)\n",
            "Requirement already satisfied: pandas>=1.1.4 in /usr/local/lib/python3.10/dist-packages (from ultralytics) (2.2.2)\n",
            "Requirement already satisfied: seaborn>=0.11.0 in /usr/local/lib/python3.10/dist-packages (from ultralytics) (0.13.2)\n",
            "Requirement already satisfied: ultralytics-thop>=2.0.0 in /usr/local/lib/python3.10/dist-packages (from ultralytics) (2.0.13)\n",
            "Requirement already satisfied: pydantic>=2.7.0 in /usr/local/lib/python3.10/dist-packages (from albumentations) (2.10.3)\n",
            "Requirement already satisfied: albucore==0.0.19 in /usr/local/lib/python3.10/dist-packages (from albumentations) (0.0.19)\n",
            "Requirement already satisfied: eval-type-backport in /usr/local/lib/python3.10/dist-packages (from albumentations) (0.2.0)\n",
            "Requirement already satisfied: opencv-python-headless>=4.9.0.80 in /usr/local/lib/python3.10/dist-packages (from albumentations) (4.10.0.84)\n",
            "Requirement already satisfied: stringzilla>=3.10.4 in /usr/local/lib/python3.10/dist-packages (from albucore==0.0.19->albumentations) (3.11.1)\n",
            "Requirement already satisfied: filelock in /usr/local/lib/python3.10/dist-packages (from torch>=1.8.0->ultralytics) (3.16.1)\n",
            "Requirement already satisfied: typing-extensions>=4.8.0 in /usr/local/lib/python3.10/dist-packages (from torch>=1.8.0->ultralytics) (4.12.2)\n",
            "Requirement already satisfied: networkx in /usr/local/lib/python3.10/dist-packages (from torch>=1.8.0->ultralytics) (3.4.2)\n",
            "Requirement already satisfied: jinja2 in /usr/local/lib/python3.10/dist-packages (from torch>=1.8.0->ultralytics) (3.1.4)\n",
            "Requirement already satisfied: fsspec in /usr/local/lib/python3.10/dist-packages (from torch>=1.8.0->ultralytics) (2024.10.0)\n",
            "Requirement already satisfied: sympy==1.13.1 in /usr/local/lib/python3.10/dist-packages (from torch>=1.8.0->ultralytics) (1.13.1)\n",
            "Requirement already satisfied: mpmath<1.4,>=1.1.0 in /usr/local/lib/python3.10/dist-packages (from sympy==1.13.1->torch>=1.8.0->ultralytics) (1.3.0)\n",
            "Requirement already satisfied: timm>=0.9.2 in /usr/local/lib/python3.10/dist-packages (from effdet) (1.0.12)\n",
            "Requirement already satisfied: omegaconf>=2.0 in /usr/local/lib/python3.10/dist-packages (from effdet) (2.3.0)\n",
            "Requirement already satisfied: contourpy>=1.0.1 in /usr/local/lib/python3.10/dist-packages (from matplotlib>=3.3.0->ultralytics) (1.3.1)\n",
            "Requirement already satisfied: cycler>=0.10 in /usr/local/lib/python3.10/dist-packages (from matplotlib>=3.3.0->ultralytics) (0.12.1)\n",
            "Requirement already satisfied: fonttools>=4.22.0 in /usr/local/lib/python3.10/dist-packages (from matplotlib>=3.3.0->ultralytics) (4.55.3)\n",
            "Requirement already satisfied: kiwisolver>=1.0.1 in /usr/local/lib/python3.10/dist-packages (from matplotlib>=3.3.0->ultralytics) (1.4.7)\n",
            "Requirement already satisfied: packaging>=20.0 in /usr/local/lib/python3.10/dist-packages (from matplotlib>=3.3.0->ultralytics) (24.2)\n",
            "Requirement already satisfied: pyparsing>=2.3.1 in /usr/local/lib/python3.10/dist-packages (from matplotlib>=3.3.0->ultralytics) (3.2.0)\n",
            "Requirement already satisfied: python-dateutil>=2.7 in /usr/local/lib/python3.10/dist-packages (from matplotlib>=3.3.0->ultralytics) (2.8.2)\n",
            "Requirement already satisfied: antlr4-python3-runtime==4.9.* in /usr/local/lib/python3.10/dist-packages (from omegaconf>=2.0->effdet) (4.9.3)\n",
            "Requirement already satisfied: pytz>=2020.1 in /usr/local/lib/python3.10/dist-packages (from pandas>=1.1.4->ultralytics) (2024.2)\n",
            "Requirement already satisfied: tzdata>=2022.7 in /usr/local/lib/python3.10/dist-packages (from pandas>=1.1.4->ultralytics) (2024.2)\n",
            "Requirement already satisfied: annotated-types>=0.6.0 in /usr/local/lib/python3.10/dist-packages (from pydantic>=2.7.0->albumentations) (0.7.0)\n",
            "Requirement already satisfied: pydantic-core==2.27.1 in /usr/local/lib/python3.10/dist-packages (from pydantic>=2.7.0->albumentations) (2.27.1)\n",
            "Requirement already satisfied: charset-normalizer<4,>=2 in /usr/local/lib/python3.10/dist-packages (from requests>=2.23.0->ultralytics) (3.4.0)\n",
            "Requirement already satisfied: idna<4,>=2.5 in /usr/local/lib/python3.10/dist-packages (from requests>=2.23.0->ultralytics) (3.10)\n",
            "Requirement already satisfied: urllib3<3,>=1.21.1 in /usr/local/lib/python3.10/dist-packages (from requests>=2.23.0->ultralytics) (2.2.3)\n",
            "Requirement already satisfied: certifi>=2017.4.17 in /usr/local/lib/python3.10/dist-packages (from requests>=2.23.0->ultralytics) (2024.12.14)\n",
            "Requirement already satisfied: huggingface_hub in /usr/local/lib/python3.10/dist-packages (from timm>=0.9.2->effdet) (0.27.0)\n",
            "Requirement already satisfied: safetensors in /usr/local/lib/python3.10/dist-packages (from timm>=0.9.2->effdet) (0.4.5)\n",
            "Requirement already satisfied: six>=1.5 in /usr/local/lib/python3.10/dist-packages (from python-dateutil>=2.7->matplotlib>=3.3.0->ultralytics) (1.17.0)\n",
            "Requirement already satisfied: MarkupSafe>=2.0 in /usr/local/lib/python3.10/dist-packages (from jinja2->torch>=1.8.0->ultralytics) (3.0.2)\n"
          ]
        }
      ]
    },
    {
      "cell_type": "markdown",
      "source": [
        "Import Libraries and Mount Google Drive"
      ],
      "metadata": {
        "id": "8sTj9gi9c1zK"
      }
    },
    {
      "cell_type": "code",
      "source": [
        "import os\n",
        "import cv2\n",
        "import zipfile\n",
        "from albumentations import Compose, HorizontalFlip, Rotate, RandomBrightnessContrast, HueSaturationValue\n",
        "from ultralytics import YOLO\n",
        "from torchvision.models.detection import fasterrcnn_resnet50_fpn\n",
        "from effdet import create_model\n",
        "from effdet.bench import DetBenchTrain\n",
        "from sklearn.metrics import precision_score, recall_score, f1_score\n",
        "import torch\n",
        "from torch.utils.data import DataLoader, Dataset\n",
        "from torchvision.transforms import functional as F\n",
        "\n",
        "from google.colab import drive\n",
        "drive.mount('/content/drive')\n"
      ],
      "metadata": {
        "colab": {
          "base_uri": "https://localhost:8080/"
        },
        "id": "1L53HS3Ac7DE",
        "outputId": "8659ff8f-e010-429b-b465-9c9de4526a15",
        "collapsed": true
      },
      "execution_count": null,
      "outputs": [
        {
          "output_type": "stream",
          "name": "stderr",
          "text": [
            "/usr/local/lib/python3.10/dist-packages/albumentations/__init__.py:24: UserWarning: A new version of Albumentations is available: 1.4.24 (you have 1.4.20). Upgrade using: pip install -U albumentations. To disable automatic update checks, set the environment variable NO_ALBUMENTATIONS_UPDATE to 1.\n",
            "  check_for_updates()\n"
          ]
        },
        {
          "output_type": "stream",
          "name": "stdout",
          "text": [
            "Creating new Ultralytics Settings v0.0.6 file ✅ \n",
            "View Ultralytics Settings with 'yolo settings' or at '/root/.config/Ultralytics/settings.json'\n",
            "Update Settings with 'yolo settings key=value', i.e. 'yolo settings runs_dir=path/to/dir'. For help see https://docs.ultralytics.com/quickstart/#ultralytics-settings.\n",
            "Mounted at /content/drive\n"
          ]
        }
      ]
    },
    {
      "cell_type": "markdown",
      "source": [
        "Unzip Dataset"
      ],
      "metadata": {
        "id": "nRV4KPYHdcUO"
      }
    },
    {
      "cell_type": "code",
      "source": [
        "dataset_zip = \"/content/drive/MyDrive/tomato_ripeness_classifier/tomato_dataset.zip\"\n",
        "dataset_dir = \"/content/dataset/dataset\"\n",
        "\n",
        "os.makedirs(\"/content/dataset\", exist_ok=True)\n",
        "with zipfile.ZipFile(dataset_zip, 'r') as zip_ref:\n",
        "    zip_ref.extractall(\"/content/dataset\")\n",
        "\n",
        "print(\"Dataset unzipped successfully.\")\n"
      ],
      "metadata": {
        "colab": {
          "base_uri": "https://localhost:8080/"
        },
        "id": "2NzsEDVTddgR",
        "outputId": "5f1a9fcf-2e17-4e90-9b4f-86249d62fe66",
        "collapsed": true
      },
      "execution_count": null,
      "outputs": [
        {
          "output_type": "stream",
          "name": "stdout",
          "text": [
            "Dataset unzipped successfully.\n"
          ]
        }
      ]
    },
    {
      "cell_type": "markdown",
      "source": [
        "Apply Augmentations"
      ],
      "metadata": {
        "id": "bn95x7WueZm5"
      }
    },
    {
      "cell_type": "code",
      "source": [
        "augmented_dir = \"/content/dataset_augmented\"\n",
        "\n",
        "# Create Augmented Dataset Folders\n",
        "os.makedirs(f\"{augmented_dir}/train/images\", exist_ok=True)\n",
        "os.makedirs(f\"{augmented_dir}/train/labels\", exist_ok=True)\n",
        "os.makedirs(f\"{augmented_dir}/val/images\", exist_ok=True)\n",
        "os.makedirs(f\"{augmented_dir}/val/labels\", exist_ok=True)\n",
        "\n",
        "def augment_data(image_folder, label_folder, output_image_folder, output_label_folder):\n",
        "    # Augmentation Pipeline with Brightness and Hue-Saturation Adjustments\n",
        "    augmentations = Compose(\n",
        "        [\n",
        "            RandomBrightnessContrast(p=0.2),\n",
        "            HueSaturationValue(p=0.2),\n",
        "        ],\n",
        "        bbox_params={\"format\": \"yolo\", \"label_fields\": [\"class_labels\"]}\n",
        "    )\n",
        "\n",
        "    for image_file in os.listdir(image_folder):\n",
        "        img_path = os.path.join(image_folder, image_file)\n",
        "        label_path = os.path.join(label_folder, os.path.splitext(image_file)[0] + \".txt\")\n",
        "        image = cv2.imread(img_path)\n",
        "        h, w, _ = image.shape\n",
        "\n",
        "        # Read and Validate Bounding Boxes\n",
        "        with open(label_path, \"r\") as f:\n",
        "            bboxes = []\n",
        "            class_labels = []\n",
        "            for line in f.readlines():\n",
        "                cls, x_center, y_center, width, height = map(float, line.strip().split())\n",
        "\n",
        "                # Validate the input bounding boxes\n",
        "                if not (0 <= x_center <= 1 and 0 <= y_center <= 1 and 0 <= width <= 1 and 0 <= height <= 1):\n",
        "                    print(f\"Invalid bbox in {image_file}: {[x_center, y_center, width, height]}\")\n",
        "                    continue\n",
        "\n",
        "                bboxes.append([x_center, y_center, width, height])\n",
        "                class_labels.append(int(cls))\n",
        "\n",
        "        if not bboxes:\n",
        "            print(f\"No valid bounding boxes found for {image_file}. Skipping augmentation.\")\n",
        "            continue\n",
        "\n",
        "        # Debug: Log input bounding boxes\n",
        "        print(f\"Processing {image_file}: {bboxes}\")\n",
        "\n",
        "        try:\n",
        "            # Apply Augmentations\n",
        "            augmented = augmentations(image=image, bboxes=bboxes, class_labels=class_labels)\n",
        "            augmented_image = augmented[\"image\"]\n",
        "            augmented_bboxes = augmented[\"bboxes\"]\n",
        "            augmented_class_labels = augmented[\"class_labels\"]\n",
        "\n",
        "            # Clip Bounding Boxes to Ensure Valid Values After Augmentation\n",
        "            clipped_bboxes = []\n",
        "            for bbox in augmented_bboxes:\n",
        "                x_center, y_center, width, height = bbox\n",
        "                x_center = min(max(x_center, 0), 1)\n",
        "                y_center = min(max(y_center, 0), 1)\n",
        "                width = min(max(width, 0), 1)\n",
        "                height = min(max(height, 0), 1)\n",
        "                clipped_bboxes.append([x_center, y_center, width, height])\n",
        "\n",
        "            # Save Augmented Image\n",
        "            output_img_path = os.path.join(output_image_folder, image_file)\n",
        "            cv2.imwrite(output_img_path, augmented_image)\n",
        "\n",
        "            # Save Updated Labels\n",
        "            output_label_path = os.path.join(output_label_folder, os.path.splitext(image_file)[0] + \".txt\")\n",
        "            with open(output_label_path, \"w\") as f:\n",
        "                for bbox, cls in zip(clipped_bboxes, augmented_class_labels):\n",
        "                    x_center, y_center, width, height = bbox\n",
        "                    f.write(f\"{cls} {x_center:.6f} {y_center:.6f} {width:.6f} {height:.6f}\\n\")\n",
        "\n",
        "        except Exception as e:\n",
        "            print(f\"Error processing {image_file}: {e}\")\n",
        "            continue\n",
        "\n",
        "    print(f\"Augmented data saved to {output_image_folder} and {output_label_folder}.\")\n",
        "\n",
        "# Apply Augmentation to Train and Validation Sets\n",
        "augment_data(\n",
        "    image_folder=f\"{dataset_dir}/train/images\",  # Corrected path\n",
        "    label_folder=f\"{dataset_dir}/train/labels\",  # Corrected path\n",
        "    output_image_folder=f\"{augmented_dir}/train/images\",\n",
        "    output_label_folder=f\"{augmented_dir}/train/labels\"\n",
        ")\n",
        "\n",
        "augment_data(\n",
        "    image_folder=f\"{dataset_dir}/val/images\",  # Corrected path\n",
        "    label_folder=f\"{dataset_dir}/val/labels\",  # Corrected path\n",
        "    output_image_folder=f\"{augmented_dir}/val/images\",\n",
        "    output_label_folder=f\"{augmented_dir}/val/labels\"\n",
        ")\n"
      ],
      "metadata": {
        "colab": {
          "base_uri": "https://localhost:8080/"
        },
        "id": "xtI2coMleidv",
        "outputId": "926e2272-cfcd-44ce-8367-e1044e442325",
        "collapsed": true
      },
      "execution_count": null,
      "outputs": [
        {
          "output_type": "stream",
          "name": "stderr",
          "text": [
            "/usr/local/lib/python3.10/dist-packages/albumentations/core/composition.py:205: UserWarning: Got processor for bboxes, but no transform to process it.\n",
            "  self._set_keys()\n"
          ]
        },
        {
          "output_type": "stream",
          "name": "stdout",
          "text": [
            "Processing IMG_20191215_112544.jpg: [[0.3465, 0.345, 0.2492, 0.1799], [0.6202, 0.2961, 0.2585, 0.2035], [0.6551, 0.4352, 0.1374, 0.1088], [0.5581, 0.471, 0.2137, 0.1533], [0.3011, 0.5588, 0.2026, 0.1446], [0.5488, 0.6217, 0.1683, 0.121], [0.5022, 0.7211, 0.1229, 0.097], [0.4091, 0.6606, 0.0984, 0.0712], [0.3447, 0.6536, 0.0804, 0.0668], [0.3683, 0.7176, 0.117, 0.076], [0.3567, 0.7687, 0.1019, 0.076], [0.0285, 0.6392, 0.0571, 0.045], [0.1118, 0.6643, 0.0478, 0.0341], [0.2344, 0.7818, 0.0891, 0.0734], [0.4388, 0.7547, 0.0693, 0.0629], [0.3161, 0.8314, 0.044, 0.0353], [0.4511, 0.8101, 0.0401, 0.0403], [0.1675, 0.8061, 0.0806, 0.0608], [0.1785, 0.8403, 0.0656, 0.0472], [0.0719, 0.5865, 0.0623, 0.0533], [0.4929, 0.5461, 0.0914, 0.0563], [0.6082, 0.5619, 0.0635, 0.0249]]\n",
            "Error processing IMG_20191215_112544.jpg: Expected x_min for bbox [-5.0001e-05      0.6167     0.05705      0.6617           5] to be in the range [0.0, 1.0], got -5.000084638595581e-05.\n",
            "Processing IMG_20191215_111425.jpg: [[0.4309, 0.4066, 0.1805, 0.1651], [0.5902, 0.518, 0.166, 0.1197], [0.5046, 0.5839, 0.0972, 0.0646], [0.4268, 0.5317, 0.1456, 0.1017], [0.244, 0.5182, 0.0943, 0.0624], [0.1878, 0.4776, 0.1159, 0.0616], [0.3232, 0.5363, 0.0536, 0.0358]]\n",
            "Processing IMG_1078.jpg: [[0.6517, 0.2048, 0.0537, 0.0373], [0.6211, 0.1761, 0.0937, 0.0786], [0.6762, 0.1119, 0.0928, 0.1019], [0.6056, 0.0691, 0.1603, 0.1382], [0.9414, 0.1455, 0.0479, 0.0293], [0.8946, 0.1417, 0.0244, 0.0177], [0.8826, 0.555, 0.0448, 0.034], [0.3799, 0.7664, 0.222, 0.1924], [0.234, 0.8438, 0.0937, 0.0689], [0.2354, 0.7641, 0.1247, 0.0899], [0.1728, 0.7601, 0.1363, 0.1159], [0.8575, 0.1656, 0.0245, 0.0171]]\n",
            "Processing IMG_1201.jpg: [[0.2186, 0.4931, 0.1116, 0.0757], [0.417, 0.3622, 0.1749, 0.122], [0.2979, 0.686, 0.0928, 0.0634], [0.3968, 0.7001, 0.1121, 0.0696], [0.4203, 0.6336, 0.1403, 0.0934], [0.4889, 0.5636, 0.1051, 0.0722], [0.5691, 0.3637, 0.1339, 0.1101], [0.562, 0.461, 0.081, 0.0599], [0.6114, 0.4826, 0.0505, 0.0405], [0.5776, 0.5788, 0.0969, 0.0797], [0.5679, 0.7554, 0.0834, 0.0674]]\n",
            "Processing IMG_1037.jpg: [[0.5955, 0.3599, 0.3043, 0.2038], [0.5186, 0.4635, 0.1879, 0.1013], [0.3626, 0.3866, 0.1972, 0.1712]]\n",
            "Processing IMG_20191215_112452.jpg: [[0.3861, 0.3806, 0.1025, 0.0782], [0.5747, 0.3786, 0.1328, 0.0987], [0.4391, 0.4501, 0.1246, 0.086], [0.4851, 0.5636, 0.1316, 0.1105], [0.396, 0.6108, 0.1025, 0.0886], [0.5145, 0.6647, 0.1264, 0.0978], [0.4597, 0.728, 0.0984, 0.0838], [0.5736, 0.537, 0.0524, 0.0301]]\n",
            "Processing IMG_20191215_112433.jpg: [[0.2815, 0.2446, 0.1205, 0.0926], [0.4967, 0.2481, 0.1479, 0.1162], [0.4944, 0.366, 0.1537, 0.1511], [0.1843, 0.345, 0.2056, 0.1537], [0.8548, 0.478, 0.2725, 0.197], [0.1811, 0.4946, 0.1502, 0.1236], [0.6991, 0.5228, 0.1823, 0.1537], [0.3604, 0.5455, 0.1502, 0.117], [0.5098, 0.5859, 0.2079, 0.1542], [0.647, 0.6117, 0.1654, 0.1315], [0.2268, 0.6245, 0.1508, 0.1109], [0.4979, 0.7123, 0.1712, 0.1179], [0.6909, 0.7307, 0.159, 0.1302], [0.0713, 0.7302, 0.0611, 0.0559], [0.0591, 0.7877, 0.0891, 0.0668]]\n",
            "Processing IMG_20191215_111501.jpg: [[0.6251, 0.5328, 0.251, 0.2271], [0.4056, 0.594, 0.2882, 0.2594], [0.083, 0.3476, 0.166, 0.1284], [0.2253, 0.392, 0.1363, 0.107], [0.1994, 0.5027, 0.1042, 0.0847], [0.1118, 0.5029, 0.0932, 0.0721]]\n",
            "Processing IMG_1163.jpg: [[0.4146, 0.0946, 0.1879, 0.159], [0.2806, 0.0981, 0.1359, 0.1415], [0.3039, 0.4228, 0.2213, 0.1677], [0.4344, 0.5622, 0.1669, 0.1357], [0.3393, 0.6932, 0.2562, 0.1846], [0.4037, 0.8024, 0.2003, 0.1386], [0.3668, 0.8636, 0.1514, 0.1083]]\n",
            "Processing IMG_20191215_111248.jpg: [[0.7377, 0.2222, 0.1889, 0.1347], [0.6396, 0.1971, 0.1017, 0.0779], [0.6418, 0.2757, 0.1316, 0.0991], [0.3732, 0.3126, 0.0991, 0.0585], [0.4689, 0.3705, 0.0969, 0.0945], [0.3597, 0.3616, 0.1515, 0.1057], [0.3472, 0.4164, 0.1035, 0.0535], [0.1189, 0.8173, 0.0757, 0.0561], [0.1675, 0.7638, 0.0797, 0.0627], [0.2246, 0.6806, 0.111, 0.0779], [0.2754, 0.7164, 0.1026, 0.0743], [0.7714, 0.6121, 0.0643, 0.0268], [0.824, 0.6197, 0.0542, 0.0294]]\n",
            "Processing IMG_20191215_110946.jpg: [[0.5983, 0.2516, 0.1695, 0.1188], [0.9078, 0.0847, 0.0699, 0.0507], [0.916, 0.1321, 0.0675, 0.0511], [0.9739, 0.1256, 0.0507, 0.0494], [0.3779, 0.6503, 0.1584, 0.1092], [0.4193, 0.7536, 0.205, 0.1577]]\n",
            "Processing IMG_20191215_110824.jpg: [[0.0393, 0.6964, 0.0786, 0.1271], [0.4292, 0.6372, 0.2749, 0.2105], [0.6155, 0.5793, 0.2259, 0.1577], [0.3342, 0.6682, 0.0792, 0.0507], [0.5398, 0.4284, 0.2108, 0.1677]]\n",
            "Processing IMG_1074.jpg: [[0.4535, 0.4875, 0.361, 0.2645]]\n",
            "Processing IMG_0994.jpg: [[0.6106, 0.5517, 0.4433, 0.2731], [0.314, 0.4676, 0.2492, 0.1968], [0.3862, 0.6437, 0.2368, 0.1694]]\n",
            "Processing IMG_20191215_111455.jpg: [[0.0512, 0.9457, 0.0943, 0.093], [0.0585, 0.6376, 0.117, 0.0463], [0.0611, 0.9615, 0.1141, 0.0764], [0.2955, 0.6861, 0.2626, 0.2061], [0.5922, 0.6806, 0.3692, 0.2808]]\n",
            "Processing IMG_20191215_112605.jpg: [[0.9174, 0.2077, 0.1555, 0.1245], [0.2792, 0.3147, 0.152, 0.1131], [0.7378, 0.3579, 0.1852, 0.1384], [0.175, 0.4011, 0.1275, 0.0895], [0.2917, 0.4254, 0.1223, 0.0891], [0.8534, 0.4529, 0.1799, 0.1301], [0.2548, 0.5274, 0.1112, 0.0808], [0.776, 0.5309, 0.1114, 0.1001], [0.6915, 0.5419, 0.1642, 0.1268], [0.7351, 0.6402, 0.1422, 0.1001], [0.7978, 0.6336, 0.0766, 0.0855], [0.1443, 0.6369, 0.0973, 0.0712], [0.0601, 0.6997, 0.111, 0.0807], [0.1589, 0.6784, 0.1011, 0.0663], [0.1947, 0.7239, 0.0953, 0.0695], [0.1912, 0.7788, 0.077, 0.0546], [0.1824, 0.8336, 0.0762, 0.0574], [0.121, 0.7893, 0.0881, 0.0692]]\n",
            "Processing IMG_20191215_111555.jpg: [[0.1855, 0.097, 0.0891, 0.0673], [0.5737, 0.7012, 0.0846, 0.0488], [0.6164, 0.6282, 0.1708, 0.1352], [0.7526, 0.5891, 0.1688, 0.1272]]\n",
            "Processing IMG_20191215_111936.jpg: [[0.5844, 0.3391, 0.2009, 0.1507], [0.1208, 0.4062, 0.2393, 0.1625], [0.4597, 0.6256, 0.1753, 0.1463], [0.147, 0.8112, 0.1799, 0.1542], [0.1299, 0.9296, 0.1328, 0.1018], [0.0673, 0.8584, 0.0775, 0.0939], [0.29, 0.8337, 0.1374, 0.1066], [0.2775, 0.9333, 0.1287, 0.1092], [0.4268, 0.8564, 0.1502, 0.1328], [0.5675, 0.827, 0.1403, 0.1096], [0.5977, 0.8881, 0.1077, 0.0756], [0.5244, 0.9348, 0.1054, 0.0922], [0.4423, 0.9558, 0.1205, 0.0878]]\n",
            "Processing IMG_0984.jpg: [[0.5885, 0.4466, 0.3028, 0.205], [0.382, 0.396, 0.1677, 0.1596], [0.4848, 0.5215, 0.1638, 0.1136]]\n",
            "Processing IMG_20191215_111951_1.jpg: [[0.5983, 0.5302, 0.152, 0.1275], [0.6225, 0.6728, 0.1409, 0.1079], [0.4175, 0.6975, 0.1724, 0.1127], [0.5908, 0.749, 0.1066, 0.0751], [0.4382, 0.8067, 0.1368, 0.1048], [0.2948, 0.3694, 0.0559, 0.0413], [0.1818, 0.3832, 0.0608, 0.0433], [0.1854, 0.4316, 0.0537, 0.039], [0.3043, 0.4187, 0.0528, 0.039], [0.3283, 0.43, 0.0392, 0.0291], [0.0227, 0.4938, 0.0444, 0.0316], [0.0659, 0.516, 0.0384, 0.0264], [0.0493, 0.5412, 0.048, 0.0347]]\n",
            "Processing IMG_1192.jpg: [[0.7935, 0.5983, 0.2935, 0.2032], [0.4476, 0.3561, 0.1747, 0.0681], [0.4441, 0.4449, 0.2422, 0.1735], [0.3967, 0.6493, 0.222, 0.1619], [0.255, 0.8018, 0.2508, 0.191], [0.1584, 0.4813, 0.1972, 0.1275], [0.0706, 0.3709, 0.1398, 0.1363], [0.0848, 0.814, 0.1046, 0.0927]]\n",
            "Processing IMG_20191215_112541.jpg: [[0.4009, 0.6421, 0.1299, 0.1001], [0.4179, 0.537, 0.1788, 0.1394], [0.4469, 0.4123, 0.1709, 0.1423], [0.634, 0.4149, 0.2342, 0.172]]\n",
            "Processing IMG_20191215_112613.jpg: [[0.3019, 0.2096, 0.1031, 0.0926], [0.2891, 0.2566, 0.0716, 0.052], [0.4629, 0.1828, 0.0722, 0.0957], [0.5462, 0.1745, 0.1642, 0.1349], [0.6103, 0.2361, 0.0617, 0.0572], [0.6819, 0.1987, 0.1258, 0.1004], [0.5459, 0.2441, 0.0914, 0.0288], [0.3852, 0.2854, 0.0646, 0.0694], [0.3651, 0.3559, 0.0792, 0.076], [0.3223, 0.397, 0.0576, 0.0594], [0.5421, 0.2961, 0.1048, 0.0821], [0.5762, 0.3131, 0.0681, 0.0585], [0.5317, 0.3915, 0.0641, 0.0563], [0.5797, 0.407, 0.0833, 0.0664], [0.2454, 0.5011, 0.1112, 0.0721], [0.2888, 0.5566, 0.0731, 0.0552], [0.1328, 0.5606, 0.0771, 0.0492], [0.1583, 0.5972, 0.1237, 0.0895], [0.2188, 0.6162, 0.0687, 0.068], [0.3263, 0.6121, 0.0643, 0.0452], [0.2442, 0.6733, 0.1017, 0.07], [0.1372, 0.6324, 0.1043, 0.0634], [0.1277, 0.6621, 0.0722, 0.0264], [0.389, 0.6459, 0.0815, 0.0621], [0.2206, 0.7214, 0.0502, 0.0413], [0.2268, 0.745, 0.0291, 0.0172], [0.419, 0.7166, 0.0771, 0.0627], [0.3886, 0.7478, 0.0594, 0.0472], [0.288, 0.7744, 0.0713, 0.0555], [0.0308, 0.7161, 0.0617, 0.0452], [0.0398, 0.6852, 0.0593, 0.0332], [0.0311, 0.7411, 0.0518, 0.0295], [0.024, 0.6557, 0.0481, 0.0434], [0.3433, 0.8828, 0.0446, 0.0482], [0.1805, 0.2852, 0.0511, 0.0347], [0.1517, 0.305, 0.0436, 0.032]]\n",
            "Error processing IMG_20191215_112613.jpg: Expected x_min for bbox [-5.0001e-05      0.6935     0.06165      0.7387           4] to be in the range [0.0, 1.0], got -5.000084638595581e-05.\n",
            "Processing IMG_1273.jpg: [[0.7298, 0.3284, 0.1863, 0.17], [0.5081, 0.3255, 0.1514, 0.1479], [0.3408, 0.3602, 0.1397, 0.1124], [0.3253, 0.4172, 0.1724, 0.166], [0.2682, 0.4874, 0.1436, 0.1235], [0.1995, 0.5305, 0.1662, 0.156]]\n",
            "Processing IMG_1063.jpg: [[0.686, 0.5325, 0.2823, 0.2191], [0.5282, 0.7011, 0.2868, 0.2068], [0.4339, 0.5066, 0.2944, 0.2165]]\n",
            "Processing IMG_20191215_111342.jpg: [[0.893, 0.3776, 0.1275, 0.0825], [0.95, 0.4245, 0.0542, 0.0603], [0.727, 0.6455, 0.2766, 0.2489], [0.6193, 0.773, 0.124, 0.0908], [0.3837, 0.7016, 0.3168, 0.2319], [0.0225, 0.2729, 0.0451, 0.0414]]\n",
            "Error processing IMG_20191215_111342.jpg: Expected x_min for bbox [-4.9999e-05      0.2522     0.04505      0.2936           2] to be in the range [0.0, 1.0], got -4.999898374080658e-05.\n",
            "Processing IMG_20191215_112311.jpg: [[0.9224, 0.1793, 0.0862, 0.0581], [0.9521, 0.2673, 0.0874, 0.0629], [0.9789, 0.3225, 0.0396, 0.0555], [0.2676, 0.1915, 0.0949, 0.0852], [0.3759, 0.238, 0.1101, 0.0908], [0.2571, 0.2741, 0.1054, 0.0817], [0.2923, 0.3415, 0.085, 0.0655], [0.2888, 0.4033, 0.0885, 0.0625], [0.3494, 0.452, 0.071, 0.055], [0.285, 0.4675, 0.0716, 0.0485], [0.3427, 0.5001, 0.06, 0.0445], [0.3171, 0.5149, 0.0413, 0.0306], [0.9794, 0.6064, 0.0384, 0.0301], [0.1295, 0.6309, 0.0757, 0.0532], [0.0971, 0.6735, 0.0832, 0.0617], [0.4515, 0.6768, 0.085, 0.0611], [0.5204, 0.7214, 0.0995, 0.0809], [0.5984, 0.8082, 0.0652, 0.0551], [0.6653, 0.8084, 0.0705, 0.0509], [0.6464, 0.8399, 0.0705, 0.0532], [0.5684, 0.8459, 0.0845, 0.0723]]\n",
            "Processing IMG_20191215_111646.jpg: [[0.4166, 0.1395, 0.1147, 0.0956], [0.4251, 0.1743, 0.1933, 0.1651], [0.5739, 0.2057, 0.166, 0.1424], [0.0379, 0.3859, 0.0745, 0.0651], [0.0638, 0.3387, 0.0775, 0.0616], [0.1077, 0.4112, 0.0885, 0.0624], [0.1246, 0.3806, 0.0582, 0.0642], [0.3974, 0.4582, 0.0577, 0.0637], [0.4802, 0.4574, 0.1088, 0.0826], [0.4383, 0.4929, 0.0718, 0.0505], [0.3749, 0.5649, 0.0683, 0.0479], [0.6105, 0.6854, 0.0753, 0.0591], [0.9112, 0.7784, 0.1528, 0.1096], [0.7714, 0.7495, 0.1295, 0.0968], [0.7254, 0.8139, 0.1, 0.0796], [0.8271, 0.8231, 0.1079, 0.0875]]\n",
            "Processing IMG_1111.jpg: [[0.8744, 0.1698, 0.0391, 0.0286], [0.8189, 0.2126, 0.0426, 0.0356], [0.9112, 0.1478, 0.0391, 0.0293], [0.5228, 0.3263, 0.04, 0.0686], [0.559, 0.4345, 0.0875, 0.0652], [0.4571, 0.3855, 0.0923, 0.0593], [0.4127, 0.457, 0.0675, 0.0556], [0.4609, 0.449, 0.0519, 0.031], [0.456, 0.4821, 0.0715, 0.0499], [0.4819, 0.526, 0.0373, 0.0293], [0.3974, 0.5189, 0.0439, 0.035], [0.3326, 0.5513, 0.0395, 0.03], [0.3772, 0.6156, 0.0453, 0.0326], [0.4111, 0.6975, 0.0395, 0.0273], [0.5179, 0.6208, 0.0453, 0.0323], [0.3235, 0.5655, 0.0249, 0.0183]]\n",
            "Processing IMG_1297.jpg: [[0.5532, 0.4978, 0.0614, 0.0431], [0.5401, 0.5404, 0.0475, 0.046], [0.4974, 0.5375, 0.0687, 0.0518], [0.5264, 0.4634, 0.0703, 0.0507], [0.5569, 0.2807, 0.0471, 0.0344], [0.5679, 0.3038, 0.0374, 0.0194], [0.5285, 0.2714, 0.0374, 0.0327], [0.5146, 0.3214, 0.039, 0.0237], [0.4988, 0.3111, 0.0359, 0.0316], [0.7444, 0.3064, 0.0279, 0.0222], [0.9668, 0.0545, 0.0248, 0.0204], [0.9537, 0.0648, 0.0228, 0.0184], [0.903, 0.0308, 0.0322, 0.0284]]\n",
            "Processing IMG_20191215_111652.jpg: [[0.4883, 0.5699, 0.3255, 0.235], [0.5838, 0.5293, 0.1566, 0.1371]]\n",
            "Processing IMG_20191215_111757.jpg: [[0.7852, 0.2922, 0.3104, 0.1965], [0.5314, 0.3177, 0.2137, 0.1498], [0.1307, 0.3354, 0.1799, 0.1284], [0.1686, 0.2793, 0.1287, 0.0913], [0.1561, 0.5841, 0.1013, 0.0694], [0.2417, 0.6007, 0.0932, 0.0668], [0.3922, 0.7254, 0.1718, 0.131], [0.5086, 0.7874, 0.1683, 0.1345], [0.479, 0.9331, 0.1007, 0.0869], [0.1694, 0.437, 0.0606, 0.0441]]\n",
            "Processing IMG_1213.jpg: [[0.2096, 0.0748, 0.1475, 0.1485], [0.1195, 0.0652, 0.2221, 0.1304], [0.0875, 0.5383, 0.1222, 0.0851], [0.2037, 0.5218, 0.0979, 0.0724], [0.1415, 0.6137, 0.0628, 0.0608], [0.26, 0.6051, 0.0891, 0.0648], [0.2138, 0.677, 0.0736, 0.0567], [0.3654, 0.7866, 0.1283, 0.0947], [0.4207, 0.7309, 0.2066, 0.1554], [0.52, 0.7481, 0.0621, 0.0775], [0.3883, 0.4985, 0.1796, 0.1291], [0.5747, 0.5352, 0.1472, 0.0922], [0.4876, 0.6524, 0.131, 0.0957], [0.5669, 0.4339, 0.1789, 0.1316]]\n",
            "Processing IMG_20191215_111234.jpg: [[0.6979, 0.3529, 0.251, 0.2175], [0.5535, 0.4477, 0.209, 0.166], [0.338, 0.4459, 0.2347, 0.1834], [0.4755, 0.613, 0.1566, 0.0956], [0.4388, 0.713, 0.2894, 0.2092], [0.3415, 0.9671, 0.1096, 0.0651]]\n",
            "Processing IMG_1026.jpg: [[0.4026, 0.443, 0.2601, 0.1867], [0.6475, 0.3633, 0.1931, 0.14], [0.6055, 0.4683, 0.1503, 0.1026], [0.5629, 0.5127, 0.1932, 0.1343]]\n",
            "Processing IMG_20191215_110911.jpg: [[0.366, 0.4739, 0.1939, 0.145], [0.3168, 0.5527, 0.1432, 0.1018], [0.5133, 0.5918, 0.1264, 0.0821], [0.4367, 0.6728, 0.2201, 0.1245], [0.4603, 0.7322, 0.1287, 0.0502], [0.3072, 0.8381, 0.1217, 0.1293], [0.1697, 0.8833, 0.1077, 0.128], [0.1898, 0.6171, 0.0268, 0.0271]]\n",
            "Processing IMG_20191215_111044.jpg: [[0.2087, 0.6717, 0.0735, 0.0597], [0.2759, 0.6397, 0.1291, 0.0977], [0.221, 0.5144, 0.1902, 0.1229], [0.1337, 0.474, 0.1193, 0.086], [0.0711, 0.4218, 0.1115, 0.0788], [0.254, 0.4553, 0.1155, 0.0699], [0.8052, 0.3854, 0.2718, 0.1935], [0.5665, 0.3554, 0.2293, 0.1657], [0.4537, 0.0854, 0.2083, 0.1701], [0.5204, 0.0375, 0.1259, 0.0736], [0.6272, 0.1006, 0.1405, 0.1159], [0.7492, 0.086, 0.1211, 0.0908], [0.7639, 0.1157, 0.0925, 0.0466], [0.6847, 0.1441, 0.074, 0.0598], [0.387, 0.1091, 0.0696, 0.0776]]\n",
            "Processing IMG_20191215_111301.jpg: [[0.7503, 0.423, 0.2323, 0.1804], [0.4781, 0.678, 0.3738, 0.2537], [0.5509, 0.4886, 0.2582, 0.188], [0.2836, 0.5229, 0.2846, 0.2393]]\n",
            "Processing IMG_20191215_111305.jpg: [[0.4326, 0.0267, 0.0612, 0.0462], [0.4271, 0.1483, 0.1092, 0.0878], [0.3457, 0.2014, 0.0613, 0.0491], [0.3232, 0.2416, 0.0796, 0.0543], [0.4059, 0.2385, 0.0337, 0.0388], [0.3526, 0.3851, 0.0789, 0.0701], [0.5753, 0.4319, 0.1038, 0.0689], [0.407, 0.502, 0.1876, 0.1378], [0.4748, 0.5747, 0.2381, 0.1956], [0.524, 0.5577, 0.2722, 0.205], [0.2628, 0.622, 0.2669, 0.2045], [0.3877, 0.4375, 0.0907, 0.0451]]\n",
            "Processing IMG_1148.jpg: [[0.5924, 0.4612, 0.1662, 0.1211], [0.0535, 0.2143, 0.1056, 0.12], [0.4045, 0.5119, 0.1879, 0.1467]]\n",
            "Processing IMG_1160.jpg: [[0.5212, 0.4231, 0.1309, 0.0951], [0.2245, 0.4636, 0.1444, 0.1021], [0.4232, 0.6034, 0.1145, 0.0929], [0.4757, 0.736, 0.0963, 0.07], [0.4931, 0.7794, 0.0757, 0.052], [0.4432, 0.8099, 0.0699, 0.0577], [0.3818, 0.7514, 0.1022, 0.0841], [0.3842, 0.8249, 0.081, 0.0709], [0.292, 0.7355, 0.0939, 0.0683], [0.2752, 0.7996, 0.0851, 0.0722], [0.2151, 0.7126, 0.1127, 0.092], [0.1734, 0.7435, 0.101, 0.0753], [0.1737, 0.7989, 0.0875, 0.0603]]\n",
            "Processing IMG_20191215_112535.jpg: [[0.2201, 0.3538, 0.1304, 0.0978], [0.3287, 0.3738, 0.1112, 0.0847], [0.2626, 0.4428, 0.1316, 0.0908], [0.4009, 0.4725, 0.1159, 0.0873], [0.2987, 0.5985, 0.1036, 0.0799], [0.2111, 0.7289, 0.0693, 0.0498], [0.267, 0.7453, 0.0693, 0.052], [0.3206, 0.6839, 0.0751, 0.0585], [0.3837, 0.6811, 0.071, 0.0633], [0.3648, 0.7383, 0.067, 0.0511], [0.5413, 0.5049, 0.1066, 0.0856], [0.6085, 0.5494, 0.1001, 0.0681], [0.7049, 0.4957, 0.1543, 0.1144], [0.7151, 0.3612, 0.1467, 0.1118], [0.773, 0.1677, 0.1578, 0.1275]]\n",
            "Processing IMG_1039.jpg: [[0.6685, 0.495, 0.427, 0.3168], [0.2997, 0.3491, 0.4068, 0.2871], [0.3408, 0.6371, 0.4131, 0.3028]]\n",
            "Processing IMG_1069.jpg: [[0.3754, 0.5951, 0.3936, 0.297], [0.6265, 0.5404, 0.3013, 0.2213]]\n",
            "Processing IMG_1258.jpg: [[0.6855, 0.2475, 0.1646, 0.1607], [0.6425, 0.4018, 0.1498, 0.1421], [0.6126, 0.5392, 0.146, 0.1316], [0.4355, 0.3331, 0.1413, 0.1409], [0.4181, 0.4626, 0.1374, 0.1275], [0.3719, 0.5791, 0.1382, 0.1054], [0.5757, 0.693, 0.1312, 0.1258], [0.5004, 0.8088, 0.1017, 0.099], [0.3936, 0.6863, 0.1227, 0.1135], [0.3319, 0.7783, 0.1095, 0.1077], [0.4134, 0.8516, 0.1048, 0.1066]]\n",
            "Processing IMG_1257.jpg: [[0.9713, 0.2146, 0.0559, 0.06], [0.962, 0.2358, 0.0745, 0.0547], [0.9037, 0.2682, 0.0776, 0.0577], [0.9511, 0.3153, 0.087, 0.0611], [0.4748, 0.2175, 0.2042, 0.1648], [0.4779, 0.412, 0.1964, 0.1497], [0.3199, 0.3404, 0.191, 0.1462], [0.2807, 0.4752, 0.1856, 0.1328], [0.2721, 0.5375, 0.1467, 0.071], [0.4383, 0.5273, 0.1654, 0.1287], [0.5815, 0.4816, 0.1662, 0.12], [0.6817, 0.5791, 0.1693, 0.1101], [0.7593, 0.6254, 0.1739, 0.1293], [0.7224, 0.7005, 0.153, 0.113], [0.5334, 0.6076, 0.1553, 0.1077], [0.6048, 0.6865, 0.118, 0.1013], [0.5827, 0.7497, 0.1266, 0.0786], [0.5493, 0.7943, 0.1064, 0.0769], [0.4608, 0.7486, 0.1297, 0.0984], [0.4208, 0.6507, 0.1367, 0.1112]]\n",
            "Processing IMG_1089.jpg: [[0.4732, 0.3945, 0.3145, 0.2009], [0.3234, 0.3249, 0.1995, 0.1561], [0.1463, 0.6726, 0.1514, 0.1118], [0.0403, 0.3639, 0.0745, 0.0524]]\n",
            "Processing IMG_1158.jpg: [[0.0514, 0.4651, 0.1014, 0.1951], [0.185, 0.6711, 0.2501, 0.1928], [0.4195, 0.7698, 0.1908, 0.1326], [0.5852, 0.9156, 0.2732, 0.1665], [0.4551, 0.6067, 0.3123, 0.2388]]\n",
            "Processing IMG_20191215_112609.jpg: [[0.4795, 0.3579, 0.166, 0.1428], [0.6318, 0.388, 0.1491, 0.1332], [0.0317, 0.526, 0.0635, 0.0546], [0.5148, 0.4852, 0.1828, 0.1336], [0.6024, 0.5073, 0.1217, 0.1149], [0.4507, 0.609, 0.184, 0.1498], [0.5561, 0.6267, 0.1316, 0.1249], [0.3299, 0.6772, 0.1007, 0.0843], [0.6964, 0.6252, 0.1491, 0.1175], [0.6842, 0.697, 0.1258, 0.0821], [0.5832, 0.7269, 0.1135, 0.1009], [0.4819, 0.7346, 0.1473, 0.1188], [0.5276, 0.806, 0.1083, 0.0782], [0.4545, 0.8656, 0.1031, 0.0943], [0.4271, 0.9117, 0.0611, 0.0432]]\n",
            "Error processing IMG_20191215_112609.jpg: Expected x_min for bbox [-5.0001e-05      0.4987     0.06345      0.5533           3] to be in the range [0.0, 1.0], got -5.000084638595581e-05.\n",
            "Processing IMG_20191215_111326.jpg: [[0.4099, 0.3789, 0.2446, 0.1777], [0.2315, 0.5228, 0.1299, 0.0987], [0.4379, 0.604, 0.3517, 0.2542], [0.1852, 0.715, 0.0832, 0.0628], [0.2486, 0.7163, 0.0639, 0.0515], [0.2331, 0.7607, 0.0762, 0.0532], [0.2012, 0.9081, 0.1418, 0.1063], [0.153, 0.9773, 0.0955, 0.0446], [0.1165, 0.9367, 0.0418, 0.0796], [0.1121, 0.874, 0.0374, 0.0446], [0.1013, 0.8393, 0.0255, 0.036], [0.1413, 0.8446, 0.0564, 0.0446], [0.964, 0.4584, 0.0705, 0.0467], [0.6464, 0.5643, 0.0442, 0.0349], [0.6833, 0.5811, 0.0355, 0.0284]]\n",
            "Processing IMG_20191215_111450.jpg: [[0.6103, 0.1286, 0.2038, 0.1594], [0.7293, 0.0389, 0.1718, 0.0769], [0.2409, 0.2105, 0.0456, 0.032], [0.2161, 0.2411, 0.0779, 0.0592], [0.1603, 0.1978, 0.0483, 0.0379], [0.1458, 0.2229, 0.0753, 0.0497], [0.2802, 0.4674, 0.0583, 0.037], [0.273, 0.4992, 0.0732, 0.0694], [0.4821, 0.7985, 0.1392, 0.1468], [0.3731, 0.8426, 0.1635, 0.1486], [0.3453, 0.9463, 0.1951, 0.1066], [0.8161, 0.9847, 0.0777, 0.0299], [0.971, 0.7024, 0.0574, 0.066], [0.8975, 0.6793, 0.0858, 0.0612], [0.8839, 0.7099, 0.0724, 0.05]]\n",
            "Processing IMG_20191215_111617.jpg: [[0.8196, 0.3706, 0.265, 0.2031], [0.5704, 0.3634, 0.2382, 0.1721], [0.7061, 0.4632, 0.209, 0.1358]]\n",
            "Processing IMG_20191215_111519.jpg: [[0.2463, 0.0786, 0.1165, 0.0908], [0.2155, 0.0616, 0.1421, 0.1118], [0.4798, 0.5786, 0.123, 0.0809], [0.5243, 0.4654, 0.1038, 0.0801], [0.5555, 0.5276, 0.1036, 0.055]]\n",
            "Processing IMG_20191215_111206.jpg: [[0.6274, 0.3974, 0.2677, 0.1919], [0.494, 0.5507, 0.3073, 0.1899], [0.2268, 0.5875, 0.1488, 0.0944], [0.3208, 0.6387, 0.2021, 0.1255], [0.2061, 0.7041, 0.2052, 0.1479], [0.3364, 0.7513, 0.1374, 0.105], [0.1924, 0.8089, 0.1057, 0.0769]]\n",
            "Processing IMG_20191215_110612.jpg: [[0.2952, 0.1478, 0.0788, 0.0624], [0.4077, 0.1592, 0.118, 0.1037], [0.3516, 0.2024, 0.1079, 0.0925], [0.4449, 0.2356, 0.107, 0.0809], [0.2928, 0.3674, 0.1409, 0.0941], [0.1821, 0.3801, 0.1352, 0.1063], [0.2728, 0.4399, 0.1079, 0.074], [0.0938, 0.4961, 0.0697, 0.0393], [0.0682, 0.5379, 0.0789, 0.0494], [0.2182, 0.7162, 0.0567, 0.0379], [0.0266, 0.6226, 0.0509, 0.0402], [0.5347, 0.7582, 0.0862, 0.0669], [0.56, 0.8277, 0.09, 0.0704], [0.7462, 0.5633, 0.0582, 0.0393], [0.8548, 0.4834, 0.142, 0.11], [0.8791, 0.4718, 0.1179, 0.0833], [0.8113, 0.4221, 0.1218, 0.0718], [0.7409, 0.459, 0.0926, 0.0778]]\n",
            "Processing IMG_1023.jpg: [[0.6456, 0.4632, 0.5474, 0.4047], [0.2352, 0.4568, 0.3835, 0.2976]]\n",
            "Processing IMG_1032.jpg: [[0.3373, 0.9253, 0.2011, 0.1479], [0.5097, 0.6516, 0.3874, 0.2749], [0.5609, 0.4635, 0.2415, 0.1863], [0.3385, 0.5046, 0.2143, 0.2149]]\n",
            "Processing IMG_1020.jpg: [[0.5508, 0.5165, 0.2927, 0.2294], [0.3971, 0.4379, 0.3564, 0.2679]]\n",
            "Processing IMG_1169.jpg: [[0.4808, 0.6023, 0.1715, 0.1372], [0.4069, 0.4745, 0.214, 0.155], [0.5061, 0.4124, 0.1519, 0.1261], [0.5038, 0.6904, 0.1445, 0.0957], [0.0467, 0.2922, 0.0891, 0.1175], [0.0497, 0.1694, 0.0979, 0.1392]]\n",
            "Processing IMG_20191215_110856.jpg: [[0.2321, 0.5507, 0.2719, 0.1974], [0.4743, 0.5896, 0.2696, 0.1092], [0.6679, 0.6357, 0.2283, 0.1664], [0.4603, 0.7422, 0.3511, 0.2625], [0.23, 0.9355, 0.1724, 0.1275], [0.3864, 0.9016, 0.1543, 0.0922]]\n",
            "Processing IMG_20191215_112358.jpg: [[0.1246, 0.1734, 0.0617, 0.0419], [0.023, 0.1657, 0.046, 0.0563], [0.0314, 0.0941, 0.0629, 0.0712], [0.4656, 0.3548, 0.2114, 0.162], [0.6356, 0.4415, 0.1799, 0.1336], [0.4126, 0.4754, 0.2009, 0.1437], [0.5806, 0.5597, 0.184, 0.1411], [0.405, 0.6103, 0.2114, 0.1489], [0.4449, 0.7691, 0.1957, 0.1564], [0.0626, 0.9178, 0.1252, 0.1052], [0.0754, 0.9776, 0.1089, 0.0441], [0.0201, 0.8674, 0.0402, 0.0873]]\n",
            "Error processing IMG_20191215_112358.jpg: Expected x_min for bbox [-5.0001e-05      0.0585     0.06285      0.1297           5] to be in the range [0.0, 1.0], got -5.000084638595581e-05.\n",
            "Processing IMG_1249.jpg: [[0.9717, 0.9052, 0.0567, 0.0996], [0.9247, 0.7756, 0.1242, 0.0897], [0.8828, 0.9666, 0.1009, 0.0652], [0.7896, 0.8877, 0.1087, 0.0868], [0.7624, 0.9192, 0.0916, 0.067], [0.8125, 0.9856, 0.0629, 0.0274], [0.731, 0.9789, 0.0753, 0.0408], [0.5734, 0.3447, 0.229, 0.1654], [0.6444, 0.1884, 0.2826, 0.2219], [0.2989, 0.4824, 0.2205, 0.1601], [0.6572, 0.8021, 0.1203, 0.1007], [0.5318, 0.8409, 0.1335, 0.1083], [0.4953, 0.6601, 0.1584, 0.1229], [0.4328, 0.7654, 0.1561, 0.1229], [0.401, 0.8444, 0.1095, 0.0687], [0.3288, 0.8024, 0.1095, 0.0559], [0.3164, 0.7317, 0.1312, 0.1042], [0.1749, 0.8833, 0.0887, 0.0678], [0.1919, 0.9475, 0.0898, 0.0748], [0.3774, 0.8795, 0.0699, 0.0506], [0.2644, 0.8932, 0.0787, 0.0586], [0.2782, 0.854, 0.071, 0.0568], [0.0633, 0.8155, 0.0605, 0.0432], [0.0293, 0.7701, 0.057, 0.0502], [0.3505, 0.9444, 0.0743, 0.0638]]\n",
            "Error processing IMG_1249.jpg: Expected x_max for bbox [    0.94335      0.8554      1.0001       0.955           3] to be in the range [0.0, 1.0], got 1.0000500679016113.\n",
            "Processing IMG_20191215_112340.jpg: [[0.0547, 0.0808, 0.1095, 0.1345], [0.3293, 0.0961, 0.0483, 0.0419], [0.0542, 0.2734, 0.1072, 0.0952], [0.0753, 0.3284, 0.1162, 0.071], [0.0264, 0.3395, 0.052, 0.068], [0.0275, 0.3862, 0.0542, 0.0386], [0.0892, 0.4158, 0.0955, 0.0634], [0.0542, 0.4691, 0.1083, 0.0796], [0.0821, 0.5313, 0.0938, 0.0627], [0.0273, 0.5597, 0.0546, 0.0601], [0.0209, 0.6651, 0.041, 0.0601], [0.1145, 0.6463, 0.0551, 0.033], [0.05, 0.6753, 0.0624, 0.0514], [0.5447, 0.3835, 0.0914, 0.0725], [0.5581, 0.4238, 0.1089, 0.1114], [0.6536, 0.4806, 0.1345, 0.0965], [0.6854, 0.5472, 0.0792, 0.0725], [0.5881, 0.5953, 0.1549, 0.0978], [0.3794, 0.5743, 0.1182, 0.0961], [0.2711, 0.5614, 0.131, 0.0895], [0.2708, 0.6593, 0.1456, 0.1079], [0.4271, 0.6558, 0.1368, 0.1044], [0.4091, 0.7433, 0.0728, 0.0838], [0.4848, 0.808, 0.1217, 0.1013], [0.5628, 0.8049, 0.0623, 0.0812], [0.7515, 0.9665, 0.0728, 0.0646], [0.3375, 0.713, 0.0751, 0.059]]\n",
            "Error processing IMG_20191215_112340.jpg: Expected x_min for bbox [-5.0001e-05     0.01355     0.10945     0.14805           5] to be in the range [0.0, 1.0], got -5.000084638595581e-05.\n",
            "Processing IMG_1033.jpg: [[0.6009, 0.5561, 0.427, 0.3307], [0.3288, 0.5034, 0.3797, 0.2964], [0.3237, 0.3706, 0.3276, 0.1473]]\n",
            "Processing IMG_20191215_112329.jpg: [[0.4714, 0.15, 0.2463, 0.2136], [0.4897, 0.3042, 0.1747, 0.128], [0.3581, 0.4099, 0.17, 0.1332], [0.4376, 0.4756, 0.1357, 0.1101], [0.3613, 0.5531, 0.1532, 0.1201], [0.543, 0.8239, 0.0914, 0.0773], [0.5733, 0.7001, 0.1427, 0.1092], [0.6263, 0.7577, 0.1096, 0.0875], [0.7175, 0.678, 0.1308, 0.0997], [0.7309, 0.5799, 0.1321, 0.1004], [0.7248, 0.0935, 0.0687, 0.0594], [0.8522, 0.303, 0.041, 0.0301], [0.7871, 0.0479, 0.0718, 0.0608], [0.6986, 0.0256, 0.0762, 0.0505], [0.794, 0.214, 0.0527, 0.0414], [0.6172, 0.9836, 0.0506, 0.0319]]\n",
            "Processing IMG_20191215_111651.jpg: [[0.6079, 0.7451, 0.2998, 0.2237]]\n",
            "Processing IMG_20191215_111947.jpg: [[0.6775, 0.4409, 0.1264, 0.0991], [0.4851, 0.5204, 0.1025, 0.079], [0.327, 0.4599, 0.0821, 0.0603], [0.7582, 0.5968, 0.1572, 0.1], [0.7893, 0.6933, 0.1042, 0.0764], [0.5197, 0.6645, 0.1357, 0.1131], [0.3642, 0.6481, 0.1182, 0.0943], [0.3325, 0.5544, 0.1106, 0.0878], [0.283, 0.5346, 0.0978, 0.0725], [0.4766, 0.8189, 0.1112, 0.0891], [0.2798, 0.8062, 0.1066, 0.0786], [0.4565, 0.7298, 0.0757, 0.0594], [0.0175, 0.29, 0.0338, 0.0603], [0.0157, 0.3745, 0.0303, 0.052]]\n",
            "Processing IMG_1081.jpg: [[0.7399, 0.0638, 0.469, 0.1275], [0.63, 0.6231, 0.1931, 0.1615], [0.4896, 0.6762, 0.1647, 0.1311], [0.4292, 0.5593, 0.2019, 0.1332]]\n",
            "Processing IMG_20191215_111622.jpg: [[0.3695, 0.1542, 0.3488, 0.2926], [0.5657, 0.3075, 0.1007, 0.1144], [0.4921, 0.4422, 0.2143, 0.162], [0.5838, 0.7503, 0.1927, 0.1205], [0.3599, 0.7957, 0.2143, 0.1712], [0.5704, 0.8678, 0.2603, 0.221], [0.405, 0.3679, 0.2882, 0.2136]]\n",
            "Processing IMG_20191215_110446.jpg: [[0.3577, 0.8043, 0.1651, 0.2278], [0.2301, 0.7139, 0.1766, 0.2278], [0.7784, 0.5741, 0.0651, 0.0781], [0.6878, 0.5511, 0.0555, 0.0638], [0.5623, 0.2499, 0.0609, 0.0842]]\n",
            "Processing IMG_1177.jpg: [[0.7469, 0.3348, 0.1863, 0.1386], [0.5035, 0.3907, 0.1747, 0.1351], [0.5439, 0.2542, 0.1452, 0.1252], [0.3292, 0.3066, 0.1677, 0.1275], [0.2612, 0.4303, 0.153, 0.1165], [0.2011, 0.5217, 0.1273, 0.0839], [0.4643, 0.4746, 0.1646, 0.113], [0.382, 0.5771, 0.1149, 0.099], [0.2395, 0.5797, 0.1033, 0.074], [0.2717, 0.6324, 0.0668, 0.0582], [0.3265, 0.6452, 0.1079, 0.0873], [0.4946, 0.5948, 0.1615, 0.1194], [0.4965, 0.7023, 0.1545, 0.1095], [0.722, 0.4929, 0.1646, 0.124], [0.6805, 0.6047, 0.139, 0.1007], [0.703, 0.7119, 0.1297, 0.0903], [0.618, 0.7512, 0.1009, 0.0792], [0.5582, 0.8039, 0.0901, 0.0635], [0.5163, 0.7754, 0.1258, 0.0763]]\n",
            "Processing IMG_20191215_112539.jpg: [[0.711, 0.2306, 0.2341, 0.1825], [0.4487, 0.2784, 0.1893, 0.1507], [0.3901, 0.4099, 0.1654, 0.1262], [0.5383, 0.4586, 0.1939, 0.145], [0.6566, 0.5156, 0.1567, 0.1175], [0.4806, 0.5967, 0.1493, 0.1149], [0.402, 0.5708, 0.1066, 0.0935], [0.3762, 0.6227, 0.0832, 0.0512], [0.5737, 0.602, 0.1013, 0.1017], [0.5211, 0.7072, 0.1176, 0.0915], [0.4302, 0.709, 0.0907, 0.0713], [0.45, 0.7572, 0.0757, 0.0548], [0.4997, 0.778, 0.0925, 0.0694], [0.8051, 0.9626, 0.0726, 0.0614], [0.8465, 0.9684, 0.0462, 0.0551], [0.7549, 0.9727, 0.0524, 0.0479]]\n",
            "Processing IMG_20191215_111257.jpg: [[0.9285, 0.3166, 0.1252, 0.0891], [0.3176, 0.3928, 0.0658, 0.0459], [0.3258, 0.6256, 0.2545, 0.1978], [0.1735, 0.7132, 0.0524, 0.055], [0.5567, 0.6191, 0.2248, 0.1917], [0.3983, 0.7206, 0.2061, 0.1223], [0.964, 0.8527, 0.0693, 0.0773], [0.9856, 0.8706, 0.0274, 0.0738], [0.5643, 0.9676, 0.078, 0.0625]]\n",
            "Processing IMG_20191215_112848.jpg: [[0.048, 0.606, 0.0961, 0.107], [0.5826, 0.5972, 0.0856, 0.0703], [0.6531, 0.5929, 0.0774, 0.0721], [0.7422, 0.6759, 0.1194, 0.0852], [0.771, 0.7156, 0.0978, 0.0659], [0.8409, 0.7232, 0.0757, 0.0559], [0.7972, 0.6106, 0.0827, 0.0594], [0.227, 0.2922, 0.036, 0.0336], [0.247, 0.2752, 0.0322, 0.0313], [0.3235, 0.0282, 0.1124, 0.0555], [0.3261, 0.0961, 0.1025, 0.0742], [0.467, 0.0262, 0.1013, 0.0515], [0.4961, 0.0166, 0.1002, 0.0314], [0.6548, 0.0406, 0.1112, 0.0804], [0.6111, 0.1087, 0.1089, 0.0952], [0.4592, 0.178, 0.0786, 0.0808], [0.5282, 0.2009, 0.071, 0.0716], [0.5666, 0.1876, 0.0769, 0.0895], [0.7785, 0.0218, 0.1025, 0.0437], [0.695, 0.1018, 0.0879, 0.0943], [0.8443, 0.0463, 0.0943, 0.0917], [0.7369, 0.1315, 0.0786, 0.0856], [0.8665, 0.1201, 0.0885, 0.0804], [0.9288, 0.1749, 0.0641, 0.0642], [0.8834, 0.1856, 0.0478, 0.0664], [0.7954, 0.1898, 0.0594, 0.0581], [0.9436, 0.1961, 0.0553, 0.048], [0.8842, 0.2361, 0.0576, 0.052], [0.8155, 0.2328, 0.0437, 0.0472], [0.9148, 0.0908, 0.0314, 0.0271], [0.1517, 0.2118, 0.0297, 0.021]]\n",
            "Error processing IMG_20191215_112848.jpg: Expected x_min for bbox [-5.0001e-05      0.5525     0.09605      0.6595           3] to be in the range [0.0, 1.0], got -5.000084638595581e-05.\n",
            "Processing IMG_20191215_110921.jpg: [[0.2011, 0.3799, 0.2124, 0.1633], [0.4275, 0.3522, 0.1906, 0.1452], [0.3808, 0.4231, 0.0942, 0.0621], [0.6229, 0.5025, 0.1024, 0.0943], [0.5887, 0.433, 0.1168, 0.0797], [0.5416, 0.5144, 0.107, 0.0774], [0.528, 0.6751, 0.0678, 0.0678], [0.4621, 0.7838, 0.1258, 0.0808], [0.4486, 0.8731, 0.1891, 0.1621]]\n",
            "Processing IMG_1229.jpg: [[0.507, 0.306, 0.368, 0.2848], [0.5295, 0.5602, 0.3323, 0.2504], [0.3435, 0.6734, 0.2523, 0.1939]]\n",
            "Processing IMG_1038.jpg: [[0.6331, 0.6673, 0.3626, 0.2655], [0.3688, 0.617, 0.2997, 0.2312]]\n",
            "Processing IMG_20191215_110910.jpg: [[0.5439, 0.2461, 0.1759, 0.1332], [0.177, 0.694, 0.255, 0.2018], [0.2705, 0.6376, 0.1427, 0.1267], [0.4312, 0.6549, 0.1368, 0.0991], [0.5244, 0.6874, 0.1019, 0.0961], [0.3782, 0.7466, 0.1916, 0.1463], [0.5302, 0.7833, 0.1007, 0.0913]]\n",
            "Processing IMG_20191215_110844.jpg: [[0.5753, 0.5038, 0.283, 0.2048], [0.4062, 0.6396, 0.2882, 0.2066]]\n",
            "Processing IMG_1289.jpg: [[0.5955, 0.0553, 0.1289, 0.1095], [0.446, 0.0565, 0.125, 0.113], [0.4852, 0.0498, 0.0435, 0.0681], [0.7003, 0.2562, 0.1863, 0.1374], [0.6001, 0.4184, 0.2221, 0.1974], [0.6848, 0.5672, 0.2159, 0.2015], [0.4794, 0.5657, 0.1995, 0.1462], [0.4697, 0.4431, 0.0792, 0.1141], [0.4002, 0.5264, 0.1312, 0.0897], [0.2911, 0.6653, 0.1273, 0.124], [0.3789, 0.4851, 0.118, 0.0722], [0.646, 0.7008, 0.1801, 0.152], [0.4852, 0.7882, 0.118, 0.124], [0.6642, 0.8211, 0.139, 0.099], [0.552, 0.8819, 0.132, 0.1159], [0.6619, 0.9387, 0.1576, 0.1211], [0.5555, 0.9759, 0.1343, 0.0466]]\n",
            "Processing IMG_20191215_112328.jpg: [[0.6458, 0.1424, 0.2131, 0.1808], [0.5028, 0.1917, 0.1811, 0.1502], [0.6714, 0.2682, 0.1665, 0.1214], [0.6108, 0.3555, 0.0617, 0.048], [0.6047, 0.4317, 0.1299, 0.1018], [0.4926, 0.4413, 0.1258, 0.0991], [0.3884, 0.4627, 0.1083, 0.0852], [0.5366, 0.4859, 0.0809, 0.0467], [0.6068, 0.5274, 0.0582, 0.0494], [0.4725, 0.5485, 0.0984, 0.083], [0.3555, 0.5199, 0.0472, 0.031], [0.3858, 0.6062, 0.1042, 0.0742], [0.4926, 0.637, 0.099, 0.0817], [0.4035, 0.6527, 0.1071, 0.0799], [0.4995, 0.7686, 0.0876, 0.0722], [0.4177, 0.7349, 0.1002, 0.0797], [0.3382, 0.7381, 0.077, 0.0718], [0.3585, 0.7871, 0.0962, 0.0573], [0.3243, 0.8175, 0.0673, 0.0566], [0.3631, 0.8383, 0.0598, 0.052], [0.4223, 0.849, 0.0922, 0.0786], [0.3823, 0.9078, 0.083, 0.071], [0.9109, 0.9724, 0.0628, 0.0482], [0.7993, 0.9756, 0.0613, 0.0463]]\n",
            "Processing IMG_1082.jpg: [[0.2284, 0.2661, 0.0803, 0.0554], [0.1636, 0.293, 0.0622, 0.0431], [0.4864, 0.6352, 0.0799, 0.0593]]\n",
            "Processing IMG_20191215_111456.jpg: [[0.0477, 0.3099, 0.0932, 0.0738], [0.0745, 0.5959, 0.1304, 0.0922], [0.0323, 0.64, 0.0646, 0.1026], [0.1197, 0.6355, 0.1135, 0.076], [0.0885, 0.6964, 0.1141, 0.0808], [0.0838, 0.7462, 0.0699, 0.0319], [0.2219, 0.8975, 0.1514, 0.1267], [0.4219, 0.8713, 0.2754, 0.2367], [0.6056, 0.7333, 0.219, 0.1817], [0.5381, 0.9071, 0.0617, 0.0681], [0.552, 0.9687, 0.1258, 0.062]]\n",
            "Processing IMG_1027.jpg: [[0.7496, 0.2063, 0.0804, 0.0471], [0.7012, 0.2164, 0.0341, 0.0321], [0.4998, 0.4493, 0.1479, 0.0956], [0.3965, 0.465, 0.0704, 0.0537]]\n",
            "Processing IMG_1296.jpg: [[0.9537, 0.1251, 0.0417, 0.0394], [0.927, 0.1621, 0.044, 0.0295], [0.5505, 0.3688, 0.0645, 0.0515], [0.5117, 0.3939, 0.0687, 0.0559], [0.4916, 0.4165, 0.0618, 0.0472], [0.4795, 0.4411, 0.0428, 0.031], [0.459, 0.4613, 0.0297, 0.0292]]\n",
            "Processing IMG_20191215_111759.jpg: [[0.2705, 0.6261, 0.2673, 0.1926], [0.3922, 0.5776, 0.1671, 0.114], [0.4822, 0.6848, 0.2294, 0.1791], [0.8944, 0.8232, 0.0885, 0.0655], [0.9669, 0.8215, 0.0635, 0.0603], [0.9396, 0.882, 0.0879, 0.0694], [0.9203, 0.4564, 0.0493, 0.0324], [0.9502, 0.4655, 0.0299, 0.0201], [0.9654, 0.4732, 0.0603, 0.0383], [0.9865, 0.4707, 0.026, 0.0307]]\n",
            "Processing IMG_20191215_110859.jpg: [[0.6533, 0.5889, 0.2923, 0.2371], [0.4198, 0.6117, 0.2073, 0.1926]]\n",
            "Processing IMG_1219.jpg: [[0.783, 0.1239, 0.0705, 0.0655], [0.7302, 0.1683, 0.0791, 0.0731], [0.7299, 0.2066, 0.0735, 0.0333], [0.6023, 0.0287, 0.0929, 0.0567], [0.6187, 0.1107, 0.0715, 0.0789], [0.5071, 0.1916, 0.0679, 0.0417], [0.5025, 0.1763, 0.0607, 0.0387], [0.4553, 0.121, 0.1583, 0.1164], [0.3741, 0.1821, 0.1266, 0.1045], [0.3871, 0.2665, 0.1322, 0.0728], [0.3848, 0.3143, 0.1378, 0.1003], [0.3848, 0.399, 0.1235, 0.0842], [0.5007, 0.3775, 0.1246, 0.0942], [0.051, 0.5081, 0.1011, 0.1332], [0.0305, 0.6005, 0.0602, 0.0716], [0.3504, 0.4688, 0.1394, 0.09], [0.5211, 0.4746, 0.1368, 0.0938], [0.5377, 0.5634, 0.1557, 0.116], [0.3391, 0.5515, 0.1241, 0.1076], [0.4729, 0.6995, 0.1537, 0.1118], [0.3677, 0.6679, 0.1496, 0.1091], [0.2695, 0.644, 0.1307, 0.0996], [0.3269, 0.7709, 0.1373, 0.1068], [0.1939, 0.7966, 0.1419, 0.1007], [0.1064, 0.6957, 0.122, 0.0995], [0.6056, 0.7749, 0.0618, 0.0544], [0.5755, 0.8242, 0.0761, 0.0502], [0.5622, 0.845, 0.0679, 0.0521], [0.6084, 0.8791, 0.0766, 0.0613], [0.5918, 0.9312, 0.0812, 0.0643], [0.5194, 0.8971, 0.073, 0.0567], [0.492, 0.8448, 0.0643, 0.0525], [0.5163, 0.9691, 0.0659, 0.0528], [0.4527, 0.9321, 0.0572, 0.0502], [0.7172, 0.5774, 0.0408, 0.0483], [0.6442, 0.5592, 0.0572, 0.0448], [0.6774, 0.6413, 0.05, 0.039], [0.4693, 0.8742, 0.0594, 0.0512]]\n",
            "Processing IMG_20191215_111634.jpg: [[0.78, 0.0568, 0.4385, 0.1118], [0.3888, 0.6629, 0.1937, 0.1509], [0.5506, 0.6213, 0.2188, 0.1773], [0.2728, 0.5601, 0.2752, 0.1889]]\n",
            "Processing IMG_20191215_111542.jpg: [[0.3048, 0.1533, 0.1823, 0.1284], [0.3776, 0.4846, 0.1974, 0.1533], [0.3753, 0.6431, 0.2323, 0.1839], [0.6277, 0.7298, 0.2527, 0.2035], [0.4254, 0.8217, 0.2358, 0.19]]\n",
            "Processing IMG_20191215_111146.jpg: [[0.4219, 0.4839, 0.3954, 0.3179], [0.5925, 0.6983, 0.3197, 0.2061]]\n",
            "Processing IMG_1215.jpg: [[0.3181, 0.5614, 0.1368, 0.0925], [0.4778, 0.7714, 0.0804, 0.0528], [0.4135, 0.802, 0.0881, 0.0665], [0.3657, 0.8084, 0.0522, 0.0678], [0.3304, 0.7606, 0.0887, 0.0674], [0.2776, 0.7435, 0.0957, 0.0718], [0.3284, 0.616, 0.0716, 0.0432], [0.2553, 0.577, 0.0534, 0.0621], [0.4115, 0.54, 0.0922, 0.0762], [0.3689, 0.5101, 0.081, 0.0365], [0.2934, 0.4907, 0.1039, 0.0691], [0.3516, 0.4667, 0.0863, 0.0625], [0.3613, 0.3877, 0.0998, 0.0797], [0.4411, 0.3527, 0.1139, 0.0863], [0.356, 0.2741, 0.1362, 0.1079], [0.562, 0.2133, 0.1327, 0.0982], [0.5559, 0.6671, 0.0663, 0.0467], [0.6486, 0.301, 0.1239, 0.1052], [0.8597, 0.262, 0.128, 0.0845], [0.7235, 0.3974, 0.1022, 0.0832], [0.9692, 0.4533, 0.057, 0.0401], [0.968, 0.4861, 0.0499, 0.0299], [0.8488, 0.4504, 0.0839, 0.0528], [0.695, 0.4714, 0.0393, 0.0392], [0.7473, 0.4597, 0.0581, 0.044], [0.7434, 0.4934, 0.0599, 0.0348]]\n",
            "Processing IMG_20191215_111552.jpg: [[0.0638, 0.3016, 0.1264, 0.0651], [0.255, 0.3708, 0.3121, 0.2393], [0.5116, 0.4199, 0.2615, 0.2223], [0.3552, 0.5693, 0.2539, 0.1865]]\n",
            "Processing IMG_1104.jpg: [[0.4503, 0.596, 0.264, 0.1904], [0.5817, 0.5613, 0.2788, 0.1818], [0.4525, 0.8, 0.1394, 0.1084]]\n",
            "Processing IMG_20191215_112017.jpg: [[0.0827, 0.3904, 0.1363, 0.1092], [0.283, 0.5049, 0.1479, 0.1066], [0.0906, 0.5525, 0.124, 0.0873], [0.5605, 0.5861, 0.1392, 0.1092], [0.7157, 0.6405, 0.17, 0.1358], [0.5779, 0.7097, 0.1275, 0.1118], [0.5774, 0.8056, 0.1077, 0.0895], [0.7192, 0.842, 0.1654, 0.1337], [0.7666, 0.9141, 0.0961, 0.0699]]\n",
            "Processing IMG_1265.jpg: [[0.6782, 0.2949, 0.1576, 0.1299], [0.6677, 0.4586, 0.0699, 0.1147], [0.5916, 0.433, 0.1786, 0.1566], [0.5435, 0.5197, 0.1693, 0.1322], [0.4786, 0.5788, 0.1467, 0.099], [0.4456, 0.6682, 0.1134, 0.1031], [0.3564, 0.7084, 0.0466, 0.046]]\n",
            "Processing IMG_1053.jpg: [[0.3654, 0.5571, 0.4319, 0.2841], [0.3338, 0.4173, 0.2052, 0.1294], [0.6523, 0.5837, 0.2042, 0.152]]\n",
            "Processing IMG_1286.jpg: [[0.672, 0.4743, 0.2259, 0.1776], [0.5982, 0.6376, 0.1887, 0.1619], [0.406, 0.5905, 0.2205, 0.1759], [0.399, 0.4181, 0.2298, 0.184]]\n",
            "Processing IMG_20191215_111349.jpg: [[0.5269, 0.6079, 0.162, 0.1198], [0.4068, 0.6726, 0.1552, 0.1203], [0.5197, 0.7539, 0.1943, 0.1802], [0.3732, 0.9158, 0.0987, 0.0904], [0.4534, 0.857, 0.1055, 0.1017], [0.1435, 0.8731, 0.1228, 0.0966], [0.0418, 0.8864, 0.0806, 0.1141], [0.1032, 0.7858, 0.1205, 0.1073], [0.0599, 0.7576, 0.1107, 0.0791], [0.1183, 0.709, 0.0723, 0.052], [0.5883, 0.3785, 0.2154, 0.1243], [0.606, 0.4551, 0.1544, 0.0955], [0.5555, 0.3138, 0.1454, 0.0989], [0.734, 0.3274, 0.1333, 0.0966]]\n",
            "Processing IMG_1047.jpg: [[0.8144, 0.5162, 0.1988, 0.1275], [0.8428, 0.5724, 0.1576, 0.1258], [0.5085, 0.6944, 0.146, 0.1217], [0.3653, 0.7069, 0.1064, 0.0978], [0.4088, 0.7456, 0.0831, 0.067]]\n",
            "Processing IMG_1263.jpg: [[0.3055, 0.3842, 0.0869, 0.0947], [0.2867, 0.4621, 0.1162, 0.0815], [0.3184, 0.5273, 0.0869, 0.0744], [0.4426, 0.492, 0.091, 0.0867], [0.4593, 0.5737, 0.0822, 0.0784], [0.3936, 0.2828, 0.0621, 0.0503], [0.385, 0.2627, 0.0466, 0.036], [0.4249, 0.2975, 0.0582, 0.0549], [0.46, 0.3158, 0.0599, 0.0543], [0.493, 0.3499, 0.0488, 0.0433], [0.4464, 0.3597, 0.0444, 0.0403], [0.4214, 0.3519, 0.0262, 0.0246], [0.3914, 0.5703, 0.0613, 0.0453], [0.466, 0.6244, 0.0577, 0.0416], [0.517, 0.6273, 0.0453, 0.0439], [0.4804, 0.6617, 0.0688, 0.0529], [0.5104, 0.7085, 0.0506, 0.0459], [0.4358, 0.6685, 0.0355, 0.0459]]\n",
            "Processing IMG_1174.jpg: [[0.2989, 0.3398, 0.1693, 0.1333], [0.3451, 0.4376, 0.1266, 0.0984], [0.4592, 0.5593, 0.0582, 0.0844], [0.3913, 0.5643, 0.132, 0.106], [0.4872, 0.6411, 0.094, 0.0676], [0.4748, 0.6871, 0.1188, 0.099], [0.5144, 0.7611, 0.1017, 0.0827], [0.5109, 0.8307, 0.087, 0.0693], [0.4616, 0.812, 0.0489, 0.0577], [0.729, 0.5849, 0.0668, 0.0437], [0.7426, 0.5296, 0.0582, 0.0413], [0.6541, 0.5351, 0.0613, 0.0442], [0.6262, 0.5779, 0.0551, 0.0402], [0.6013, 0.6207, 0.052, 0.0384], [0.7057, 0.6368, 0.0621, 0.0355], [0.6949, 0.6758, 0.0512, 0.0344], [0.6696, 0.5084, 0.0582, 0.0373]]\n",
            "Processing IMG_20191215_111627.jpg: [[0.3826, 0.4059, 0.3517, 0.2817], [0.5072, 0.5616, 0.1747, 0.1607], [0.3683, 0.6833, 0.421, 0.3219], [0.649, 0.7411, 0.3057, 0.283]]\n",
            "Processing IMG_1261.jpg: [[0.5446, 0.2795, 0.1607, 0.1374], [0.6064, 0.3832, 0.1413, 0.1223], [0.4336, 0.3698, 0.1763, 0.1433], [0.6413, 0.4836, 0.1227, 0.1019], [0.5101, 0.504, 0.1522, 0.1473], [0.521, 0.4461, 0.1537, 0.0839], [0.5893, 0.5785, 0.1211, 0.1182], [0.625, 0.5899, 0.0947, 0.1083], [0.5718, 0.7299, 0.1234, 0.1159], [0.4662, 0.8752, 0.0753, 0.071], [0.3183, 0.7914, 0.1397, 0.113], [0.2791, 0.6784, 0.1669, 0.1467], [0.2783, 0.5162, 0.184, 0.1462]]\n",
            "Processing IMG_1237.jpg: [[0.4437, 0.3413, 0.1823, 0.1388], [0.439, 0.4266, 0.1782, 0.1038], [0.3664, 0.5238, 0.1708, 0.121], [0.2513, 0.6185, 0.1337, 0.1028], [0.5949, 0.3074, 0.1391, 0.1104], [0.578, 0.4345, 0.1458, 0.1084], [0.7023, 0.4851, 0.1445, 0.1003], [0.6196, 0.5717, 0.1654, 0.1256], [0.7046, 0.6461, 0.1533, 0.1053], [0.6401, 0.7332, 0.1431, 0.1063], [0.5497, 0.8031, 0.135, 0.1063], [0.4457, 0.775, 0.081, 0.0603]]\n",
            "Processing IMG_20191215_112443.jpg: [[0.6423, 0.2767, 0.1304, 0.1026], [0.4862, 0.2843, 0.1689, 0.1354], [0.5052, 0.4171, 0.1823, 0.1406], [0.6542, 0.4614, 0.1322, 0.079], [0.4918, 0.5186, 0.1555, 0.1105], [0.6825, 0.537, 0.1805, 0.1236], [0.4883, 0.5936, 0.1198, 0.077], [0.5728, 0.606, 0.0854, 0.0489], [0.5938, 0.6468, 0.1184, 0.0915], [0.4584, 0.6156, 0.0696, 0.0436], [0.3104, 0.571, 0.1189, 0.0839], [0.2091, 0.6402, 0.1259, 0.0987], [0.2681, 0.6841, 0.1101, 0.0921], [0.386, 0.7394, 0.0849, 0.0674], [0.2822, 0.7637, 0.0776, 0.0612]]\n",
            "Processing IMG_20191215_111524.jpg: [[0.2548, 0.3859, 0.1753, 0.1393], [0.3823, 0.4156, 0.2021, 0.1629], [0.1284, 0.5136, 0.2568, 0.2795], [0.7395, 0.6754, 0.1584, 0.1175], [0.1264, 0.8981, 0.17, 0.135], [0.0384, 0.9615, 0.0769, 0.0764], [0.5081, 0.9722, 0.1077, 0.055], [0.9618, 0.7202, 0.0697, 0.0448], [0.9591, 0.7564, 0.0666, 0.0471]]\n",
            "Error processing IMG_20191215_111524.jpg: Expected x_min for bbox [-4.9997e-05      0.9233     0.07685      0.9997           0] to be in the range [0.0, 1.0], got -4.999712109565735e-05.\n",
            "Processing IMG_20191215_111515.jpg: [[0.2102, 0.1886, 0.114, 0.0931], [0.3485, 0.2004, 0.1405, 0.1328], [0.2908, 0.2323, 0.0938, 0.0921], [0.2037, 0.3895, 0.0704, 0.052], [0.1614, 0.3815, 0.0586, 0.0434], [0.1141, 0.2826, 0.0429, 0.0379], [0.0902, 0.2943, 0.0364, 0.0293], [0.044, 0.2228, 0.0406, 0.031], [0.0749, 0.2406, 0.0333, 0.0224], [0.0103, 0.2045, 0.0207, 0.0218], [0.6337, 0.6309, 0.2274, 0.1648], [0.3826, 0.7743, 0.0431, 0.0341], [0.0499, 0.1726, 0.0287, 0.0204], [0.0997, 0.2293, 0.0258, 0.0208]]\n",
            "Error processing IMG_20191215_111515.jpg: Expected x_min for bbox [     -5e-05      0.1936     0.02065      0.2154           1] to be in the range [0.0, 1.0], got -4.9999915063381195e-05.\n",
            "Processing IMG_1236.jpg: [[0.5026, 0.2722, 0.1931, 0.1468], [0.4926, 0.3661, 0.1856, 0.1195], [0.662, 0.2404, 0.1434, 0.1145], [0.6364, 0.3744, 0.1545, 0.1135], [0.4149, 0.4696, 0.1767, 0.1249], [0.2975, 0.5623, 0.1336, 0.1045], [0.4935, 0.7255, 0.0817, 0.0619], [0.6784, 0.5191, 0.1727, 0.1272], [0.7645, 0.4315, 0.1487, 0.1065], [0.7583, 0.5988, 0.1549, 0.1129], [0.6899, 0.6874, 0.1496, 0.1109], [0.5996, 0.7566, 0.1385, 0.1075]]\n",
            "Processing IMG_20191215_110956.jpg: [[0.8784, 0.0304, 0.1857, 0.0607], [0.524, 0.5635, 0.2052, 0.1463], [0.3243, 0.6121, 0.1933, 0.1654], [0.4775, 0.6834, 0.1784, 0.135]]\n",
            "Processing IMG_20191215_110636.jpg: [[0.3415, 0.58, 0.3197, 0.2402], [0.6362, 0.5985, 0.2859, 0.2101], [0.5139, 0.7309, 0.2347, 0.1489], [0.3511, 0.9658, 0.1083, 0.0677]]\n",
            "Processing IMG_20191215_112339.jpg: [[0.5445, 0.2784, 0.1421, 0.1131], [0.8857, 0.3247, 0.1397, 0.0904], [0.6554, 0.3837, 0.1345, 0.1114], [0.3345, 0.3786, 0.1531, 0.1135], [0.7448, 0.4691, 0.1118, 0.0873], [0.4356, 0.4367, 0.12, 0.0961], [0.3485, 0.4769, 0.1089, 0.083], [0.8802, 0.5077, 0.0844, 0.0598], [0.3334, 0.5287, 0.0949, 0.0546], [0.7719, 0.528, 0.0623, 0.0393], [0.72, 0.5245, 0.0565, 0.0402], [0.7675, 0.5553, 0.0699, 0.038], [0.2856, 0.5673, 0.0949, 0.0777], [0.3686, 0.5878, 0.1032, 0.0649], [0.4158, 0.616, 0.1005, 0.0784], [0.3319, 0.6648, 0.1418, 0.1016], [0.2612, 0.6622, 0.0569, 0.0704], [0.3145, 0.8325, 0.1002, 0.0754], [0.3739, 0.8248, 0.0699, 0.0689], [0.3301, 0.7702, 0.0456, 0.0537], [0.5096, 0.8095, 0.0756, 0.0609], [0.4636, 0.8707, 0.0909, 0.0774], [0.4165, 0.8673, 0.0666, 0.0697]]\n",
            "Processing IMG_1269.jpg: [[0.8447, 0.4172, 0.0963, 0.0763], [0.9658, 0.2044, 0.0683, 0.071], [0.934, 0.2414, 0.0761, 0.06], [0.9616, 0.2903, 0.0738, 0.0553], [0.7372, 0.3843, 0.08, 0.0745], [0.8548, 0.4854, 0.0823, 0.0635], [0.7481, 0.4347, 0.0753, 0.0612], [0.7679, 0.4696, 0.0668, 0.06], [0.7799, 0.5156, 0.0629, 0.0553], [0.8257, 0.5453, 0.0505, 0.0413], [0.8777, 0.5625, 0.0551, 0.0408], [0.8684, 0.5884, 0.0536, 0.032], [0.6487, 0.3951, 0.0769, 0.074], [0.5314, 0.458, 0.1235, 0.0996], [0.4946, 0.3904, 0.1165, 0.1042], [0.5411, 0.5482, 0.132, 0.1194], [0.4321, 0.5424, 0.1172, 0.0961], [0.3839, 0.4484, 0.1219, 0.071], [0.2857, 0.5552, 0.1568, 0.1089], [0.441, 0.6507, 0.1568, 0.1205], [0.3366, 0.621, 0.1343, 0.1042], [0.5819, 0.7375, 0.0846, 0.0518], [0.5547, 0.6985, 0.0955, 0.0495], [0.5893, 0.4982, 0.0435, 0.06]]\n",
            "Processing IMG_20191215_111433.jpg: [[0.2441, 0.3032, 0.1107, 0.1051], [0.3138, 0.3068, 0.0502, 0.0405], [0.2554, 0.3568, 0.0674, 0.029], [0.3454, 0.3575, 0.1225, 0.0902], [0.3398, 0.2492, 0.0496, 0.0384], [0.3864, 0.4744, 0.0665, 0.0565], [0.2686, 0.6704, 0.1321, 0.1106], [0.1447, 0.6777, 0.1202, 0.0988], [0.2265, 0.8112, 0.0494, 0.0425], [0.1792, 0.8353, 0.0782, 0.0586], [0.3927, 0.8825, 0.09, 0.061], [0.4353, 0.8359, 0.1427, 0.117], [0.4793, 0.7758, 0.1172, 0.086], [0.5602, 0.8258, 0.1031, 0.1012], [0.348, 0.8284, 0.0596, 0.0686], [0.6651, 0.371, 0.1651, 0.1549], [0.8172, 0.3484, 0.1735, 0.1374], [0.8837, 0.3912, 0.1427, 0.1133], [0.6825, 0.4627, 0.0793, 0.0377], [0.7882, 0.463, 0.1497, 0.0971], [0.5737, 0.3273, 0.0581, 0.0462], [0.5403, 0.3022, 0.0528, 0.0423]]\n",
            "Processing IMG_20191215_112419.jpg: [[0.4373, 0.2998, 0.1596, 0.128], [0.0489, 0.3623, 0.0955, 0.0703], [0.5162, 0.4335, 0.1345, 0.1044], [0.0218, 0.4254, 0.0425, 0.0568], [0.3203, 0.4605, 0.1759, 0.1315], [0.4347, 0.5416, 0.0938, 0.0708], [0.3899, 0.5809, 0.067, 0.0541], [0.6241, 0.5754, 0.1405, 0.1126], [0.4843, 0.5804, 0.1427, 0.1133], [0.5226, 0.6542, 0.14, 0.103], [0.6138, 0.7112, 0.1127, 0.0862], [0.417, 0.6577, 0.0793, 0.0637], [0.5341, 0.7272, 0.0812, 0.0629], [0.3417, 0.6931, 0.0724, 0.0566], [0.3812, 0.7213, 0.057, 0.0379], [0.4497, 0.7305, 0.0555, 0.039], [0.3884, 0.7498, 0.0693, 0.0546], [0.4472, 0.8013, 0.1394, 0.1088], [0.5563, 0.8161, 0.1095, 0.0925]]\n",
            "Processing IMG_20191215_111348.jpg: [[0.4701, 0.2814, 0.1879, 0.1542], [0.3912, 0.3781, 0.2051, 0.153], [0.3094, 0.45, 0.1276, 0.0873], [0.1993, 0.8644, 0.0999, 0.0856], [0.29, 0.8735, 0.1145, 0.0953], [0.8115, 0.8059, 0.0808, 0.0617], [0.0548, 0.1067, 0.1095, 0.0795], [0.1428, 0.1297, 0.0888, 0.0818]]\n",
            "Processing IMG_20191215_111320.jpg: [[0.5779, 0.3107, 0.2848, 0.2389], [0.7899, 0.4077, 0.2475, 0.1708], [0.9384, 0.4234, 0.0763, 0.0581], [0.4471, 0.4299, 0.0881, 0.0691], [0.1561, 0.7942, 0.1026, 0.068], [0.1407, 0.7511, 0.0436, 0.0386], [0.1871, 0.7477, 0.0819, 0.0376], [0.304, 0.7444, 0.1581, 0.1136], [0.3688, 0.6415, 0.1563, 0.1192], [0.1909, 0.6653, 0.21, 0.1549], [0.2186, 0.1204, 0.0524, 0.0393], [0.2578, 0.1273, 0.0401, 0.0393], [0.0975, 0.1453, 0.0542, 0.0475]]\n",
            "Processing IMG_20191215_112431.jpg: [[0.1989, 0.0496, 0.1368, 0.0983], [0.1208, 0.0445, 0.0635, 0.0882], [0.0524, 0.0258, 0.1048, 0.0515], [0.587, 0.2092, 0.1514, 0.1485], [0.3974, 0.2885, 0.1799, 0.1411], [0.5436, 0.3821, 0.2032, 0.1599], [0.3986, 0.4992, 0.2149, 0.1563], [0.5782, 0.547, 0.1875, 0.1393], [0.0512, 0.5686, 0.0943, 0.0655], [0.0673, 0.5913, 0.0879, 0.0524], [0.3928, 0.6595, 0.1683, 0.1319], [0.5168, 0.775, 0.1194, 0.0983], [0.407, 0.8064, 0.1502, 0.1218]]\n",
            "Processing IMG_20191215_111401.jpg: [[0.0635, 0.3684, 0.092, 0.0607], [0.1089, 0.4468, 0.1234, 0.1179], [0.0667, 0.471, 0.131, 0.0965], [0.1039, 0.5361, 0.0565, 0.0415], [0.0623, 0.5632, 0.0617, 0.0406], [0.5724, 0.5156, 0.2224, 0.155], [0.5453, 0.6514, 0.3779, 0.2869], [0.2864, 0.6678, 0.0651, 0.0474], [0.33, 0.6379, 0.0636, 0.052], [0.3459, 0.8968, 0.165, 0.1505], [0.5215, 0.8714, 0.1937, 0.1554], [0.3521, 0.9689, 0.1183, 0.0615], [0.4658, 0.9606, 0.1489, 0.0781]]\n",
            "Processing IMG_1212.jpg: [[0.2849, 0.697, 0.1398, 0.1037], [0.2904, 0.7949, 0.1211, 0.0978], [0.236, 0.8953, 0.1398, 0.1159], [0.1929, 0.8141, 0.1343, 0.1071], [0.3831, 0.3639, 0.1825, 0.1433], [0.4111, 0.163, 0.1499, 0.12], [0.5004, 0.29, 0.1793, 0.1316], [0.5027, 0.1933, 0.139, 0.0967], [0.6074, 0.2982, 0.1073, 0.1155], [0.707, 0.2727, 0.1404, 0.0896], [0.6388, 0.1998, 0.1323, 0.0916], [0.5723, 0.4264, 0.1587, 0.1215], [0.4994, 0.4803, 0.1087, 0.0876], [0.4008, 0.5053, 0.1492, 0.1124], [0.5821, 0.5494, 0.1418, 0.1094], [0.6179, 0.6699, 0.1364, 0.1053], [0.4413, 0.6319, 0.1316, 0.1003], [0.4872, 0.7962, 0.1303, 0.1089], [0.5851, 0.0456, 0.1465, 0.0911]]\n",
            "Processing IMG_20191215_112349.jpg: [[0.6472, 0.3385, 0.2626, 0.2026], [0.5806, 0.4621, 0.2329, 0.152], [0.4059, 0.4278, 0.1421, 0.1166], [0.3444, 0.5156, 0.1986, 0.128], [0.4758, 0.6302, 0.2178, 0.1651], [0.5386, 0.6996, 0.1852, 0.1214], [0.6216, 0.6737, 0.0809, 0.1009], [0.6708, 0.7938, 0.0606, 0.0598], [0.9725, 0.8625, 0.0536, 0.1048], [0.6729, 0.9401, 0.1671, 0.1184], [0.7823, 0.9519, 0.1147, 0.0948]]\n",
            "Processing IMG_1018.jpg: [[0.038, 0.6153, 0.0657, 0.0533], [0.0305, 0.5698, 0.0471, 0.0423], [0.1708, 0.2931, 0.0402, 0.0275], [0.1301, 0.3185, 0.0436, 0.0156], [0.1027, 0.3111, 0.0359, 0.0206], [0.5866, 0.2325, 0.0446, 0.0315], [0.564, 0.2546, 0.0544, 0.0385], [0.5339, 0.2139, 0.0299, 0.0229], [0.5035, 0.2298, 0.0517, 0.0393], [0.4671, 0.2732, 0.0547, 0.0403], [0.6224, 0.5265, 0.0443, 0.037], [0.6564, 0.4645, 0.0265, 0.0196], [0.5999, 0.4699, 0.0604, 0.0496], [0.5586, 0.5326, 0.0866, 0.0667], [0.5165, 0.5792, 0.0655, 0.0501], [0.4517, 0.5581, 0.048, 0.0352], [0.4648, 0.5173, 0.1051, 0.0795]]\n",
            "Processing IMG_20191215_111452.jpg: [[0.6801, 0.1127, 0.3133, 0.2236], [0.4187, 0.2695, 0.2224, 0.1782], [0.6321, 0.3033, 0.2452, 0.1734], [0.5453, 0.4824, 0.2044, 0.1472], [0.3639, 0.5219, 0.2003, 0.1459], [0.4964, 0.6027, 0.1555, 0.1205], [0.4134, 0.7227, 0.1301, 0.0919], [0.0398, 0.5321, 0.0785, 0.0562], [0.0554, 0.5835, 0.0916, 0.0816]]\n",
            "Processing IMG_1140.jpg: [[0.778, 0.6798, 0.2149, 0.1574], [0.2663, 0.583, 0.1396, 0.1175], [0.305, 0.7423, 0.1788, 0.1755], [0.5591, 0.6048, 0.1306, 0.116], [0.763, 0.7581, 0.1587, 0.07], [0.76, 0.8696, 0.1145, 0.0942]]\n",
            "Processing IMG_20191215_111359.jpg: [[0.0678, 0.4077, 0.1357, 0.1166], [0.5832, 0.5269, 0.3418, 0.2398], [0.2795, 0.6047, 0.2725, 0.2092], [0.3896, 0.6295, 0.2189, 0.1472], [0.0783, 0.6194, 0.1099, 0.0804], [0.2963, 0.7613, 0.1065, 0.0794], [0.178, 0.7761, 0.1222, 0.0924], [0.1094, 0.7559, 0.0749, 0.0564], [0.2457, 0.8386, 0.1172, 0.0986], [0.3804, 0.9775, 0.1497, 0.0442], [0.9573, 0.2288, 0.0851, 0.0567], [0.9821, 0.1635, 0.0355, 0.0979], [0.9379, 0.1625, 0.0717, 0.0668]]\n",
            "Error processing IMG_20191215_111359.jpg: Expected x_min for bbox [-5.0001e-05      0.3494     0.13565       0.466           2] to be in the range [0.0, 1.0], got -5.000084638595581e-05.\n",
            "Processing IMG_20191215_111419.jpg: [[0.0786, 0.0505, 0.1563, 0.1011], [0.431, 0.6706, 0.1075, 0.0827], [0.546, 0.659, 0.1245, 0.1014]]\n",
            "Error processing IMG_20191215_111419.jpg: Expected y_min for bbox [    0.00045 -4.9997e-05     0.15675     0.10105           2] to be in the range [0.0, 1.0], got -4.999712109565735e-05.\n",
            "Processing IMG_20191215_112508.jpg: [[0.918, 0.0814, 0.1625, 0.1585], [0.5643, 0.1637, 0.1858, 0.1694], [0.4357, 0.2453, 0.2375, 0.1808], [0.5514, 0.3257, 0.1863, 0.1485], [0.4474, 0.4506, 0.1423, 0.1181], [0.6284, 0.5123, 0.161, 0.1268], [0.535, 0.7085, 0.1382, 0.1135], [0.6836, 0.7871, 0.1458, 0.1211], [0.615, 0.889, 0.1322, 0.1109], [0.5026, 0.8697, 0.0896, 0.0896], [0.0787, 0.7303, 0.119, 0.0866], [0.1625, 0.6984, 0.1084, 0.0729], [0.1547, 0.6255, 0.1129, 0.0911], [0.0896, 0.6154, 0.1387, 0.087], [0.1453, 0.5133, 0.1256, 0.0862]]\n",
            "Processing IMG_1156.jpg: [[0.5186, 0.5535, 0.1724, 0.1229], [0.5155, 0.3552, 0.1118, 0.0815], [0.4565, 0.575, 0.1087, 0.0961], [0.3672, 0.3182, 0.1242, 0.1007], [0.5085, 0.4344, 0.1149, 0.078], [0.3447, 0.4216, 0.1071, 0.0757], [0.406, 0.4734, 0.0916, 0.0699], [0.3897, 0.5532, 0.0932, 0.0745], [0.4495, 0.6344, 0.0963, 0.0635], [0.5035, 0.6906, 0.1561, 0.1269], [0.5225, 0.7905, 0.1273, 0.0903], [0.6339, 0.6225, 0.1095, 0.0804], [0.6448, 0.6918, 0.0939, 0.0711], [0.736, 0.6924, 0.1025, 0.0769], [0.7259, 0.4996, 0.1072, 0.0804], [0.8234, 0.442, 0.1778, 0.1281]]\n",
            "Processing IMG_20191215_112033.jpg: [[0.9739, 0.8903, 0.0495, 0.0529], [0.464, 0.9616, 0.0345, 0.0284], [0.482, 0.9842, 0.0222, 0.0192], [0.5226, 0.9745, 0.0429, 0.0393], [0.6808, 0.6896, 0.0521, 0.0371], [0.7458, 0.6599, 0.0452, 0.0345], [0.7508, 0.6913, 0.0345, 0.0273], [0.7269, 0.7175, 0.0379, 0.0238], [0.5297, 0.6638, 0.1122, 0.0772], [0.5826, 0.7116, 0.0272, 0.0218], [0.4708, 0.68, 0.0823, 0.0741], [0.3779, 0.6981, 0.1011, 0.0747], [0.5582, 0.704, 0.0268, 0.0169], [0.3235, 0.6496, 0.1202, 0.0879], [0.5448, 0.5763, 0.1205, 0.0915], [0.3767, 0.5659, 0.1387, 0.1048], [0.5393, 0.458, 0.1367, 0.1033]]\n",
            "Processing IMG_20191215_111445.jpg: [[0.1823, 0.6824, 0.1937, 0.1503], [0.3443, 0.7217, 0.1752, 0.1318], [0.223, 0.7978, 0.1123, 0.0997], [0.3399, 0.8499, 0.192, 0.1285], [0.6228, 0.5133, 0.1361, 0.0855], [0.5431, 0.4655, 0.1105, 0.0908], [0.8287, 0.4625, 0.0748, 0.0604], [0.9139, 0.4873, 0.077, 0.0677], [0.8432, 0.5132, 0.0784, 0.0475]]\n",
            "Processing IMG_20191215_111642.jpg: [[0.8662, 0.2376, 0.2661, 0.3939], [0.5327, 0.5803, 0.2015, 0.1527], [0.3382, 0.5624, 0.1954, 0.139], [0.2065, 0.5743, 0.0916, 0.0779], [0.291, 0.676, 0.1444, 0.1103], [0.4377, 0.6634, 0.1497, 0.1162]]\n",
            "Processing IMG_20191215_112324.jpg: [[0.5037, 0.0354, 0.1386, 0.0681], [0.681, 0.0454, 0.1114, 0.0908], [0.5993, 0.1048, 0.1038, 0.0851], [0.6628, 0.1295, 0.0982, 0.0828], [0.6975, 0.2199, 0.0815, 0.0623], [0.5917, 0.2554, 0.1473, 0.1447], [0.6752, 0.3023, 0.0582, 0.0494], [0.3719, 0.3858, 0.1473, 0.1132], [0.3375, 0.4713, 0.1544, 0.1246], [0.3327, 0.5393, 0.1337, 0.0722], [0.2481, 0.5928, 0.1144, 0.0866], [0.1641, 0.5839, 0.0881, 0.071], [0.1836, 0.6481, 0.1048, 0.0786], [0.2724, 0.7322, 0.0638, 0.0646], [0.3679, 0.6333, 0.1403, 0.112], [0.416, 0.6112, 0.0947, 0.0786], [0.4236, 0.7273, 0.1149, 0.101], [0.4481, 0.748, 0.0922, 0.0741], [0.4856, 0.7893, 0.0456, 0.0361], [0.4864, 0.6602, 0.0987, 0.087], [0.5696, 0.6483, 0.1195, 0.0987], [0.6504, 0.6217, 0.1038, 0.0699], [0.6119, 0.6889, 0.0542, 0.038], [0.6547, 0.6891, 0.0537, 0.0619], [0.7271, 0.6878, 0.1063, 0.0828], [0.774, 0.6156, 0.1058, 0.0858], [0.6588, 0.5431, 0.1428, 0.1063], [0.5512, 0.5594, 0.1139, 0.0843]]\n",
            "Processing IMG_20191215_111252.jpg: [[0.4765, 0.7601, 0.2087, 0.1717], [0.3406, 0.8655, 0.1926, 0.1344], [0.2975, 0.7364, 0.1769, 0.1301], [0.7481, 0.446, 0.062, 0.0431], [0.7451, 0.3766, 0.1149, 0.087], [0.6379, 0.3637, 0.1654, 0.1157], [0.6298, 0.4366, 0.1784, 0.1243], [0.4859, 0.4714, 0.0949, 0.0807]]\n",
            "Processing IMG_1109.jpg: [[0.0997, 0.8185, 0.1685, 0.0986], [0.4164, 0.6376, 0.2078, 0.1242], [0.3742, 0.5121, 0.1843, 0.1462], [0.3398, 0.3509, 0.0628, 0.0854], [0.265, 0.4289, 0.1186, 0.133], [0.5474, 0.5383, 0.1914, 0.1413]]\n",
            "Processing IMG_20191215_110829.jpg: [[0.7422, 0.3758, 0.1042, 0.0441], [0.817, 0.3273, 0.0617, 0.0485], [0.6018, 0.6739, 0.2323, 0.1712], [0.4091, 0.4961, 0.2009, 0.1441], [0.345, 0.6169, 0.1927, 0.1428]]\n",
            "Processing IMG_20191215_112022.jpg: [[0.6444, 0.4549, 0.1044, 0.0723], [0.526, 0.4377, 0.1105, 0.0842], [0.505, 0.5251, 0.0978, 0.07], [0.5905, 0.5844, 0.0661, 0.0512], [0.4925, 0.5987, 0.085, 0.0634], [0.5889, 0.643, 0.07, 0.0555], [0.5103, 0.6554, 0.0845, 0.0644], [0.5233, 0.7017, 0.0709, 0.0489], [0.5748, 0.6979, 0.0469, 0.0439], [0.4689, 0.7603, 0.0323, 0.0245], [0.4388, 0.7652, 0.032, 0.0247], [0.4136, 0.8418, 0.0258, 0.0195], [0.4279, 0.8796, 0.0289, 0.0187], [0.3515, 0.7171, 0.0342, 0.0263], [0.6563, 0.66, 0.0267, 0.0202], [0.6343, 0.6812, 0.0239, 0.0166], [0.6219, 0.679, 0.0224, 0.0174], [0.6184, 0.697, 0.0199, 0.0168], [0.6611, 0.6775, 0.0252, 0.0178], [0.6722, 0.6923, 0.0237, 0.0179], [0.679, 0.7101, 0.0191, 0.0155], [0.6501, 0.708, 0.0179, 0.0127], [0.6675, 0.7239, 0.0189, 0.0147], [0.7339, 0.7223, 0.0151, 0.0138], [0.703, 0.714, 0.0179, 0.0123], [0.83, 0.8708, 0.022, 0.0187], [0.8052, 0.8745, 0.0183, 0.0145], [0.7836, 0.7268, 0.0243, 0.0152], [0.8607, 0.8565, 0.0191, 0.0149]]\n",
            "Processing IMG_20191215_111526.jpg: [[0.5465, 0.3562, 0.1823, 0.1463], [0.5852, 0.5202, 0.1328, 0.0996], [0.525, 0.5796, 0.1473, 0.1127], [0.2716, 0.0758, 0.0437, 0.0397], [0.6006, 0.7073, 0.0949, 0.0773], [0.4988, 0.6979, 0.117, 0.0865], [0.6114, 0.7876, 0.0687, 0.093], [0.5279, 0.778, 0.1543, 0.1323], [0.4273, 0.7535, 0.0651, 0.0511], [0.116, 0.5877, 0.0597, 0.0411]]\n",
            "Processing IMG_1235.jpg: [[0.5889, 0.5619, 0.2927, 0.2306], [0.4654, 0.403, 0.1995, 0.1537], [0.5272, 0.6359, 0.1832, 0.1141], [0.5081, 0.7113, 0.2026, 0.1287], [0.6172, 0.32, 0.1522, 0.1229], [0.3292, 0.6076, 0.2019, 0.159], [0.3199, 0.7503, 0.1677, 0.1368], [0.4895, 0.8502, 0.1918, 0.1514], [0.1925, 0.3174, 0.1165, 0.1339], [0.1949, 0.4854, 0.1009, 0.0786], [0.1925, 0.605, 0.1009, 0.099]]\n",
            "Processing IMG_20191215_111439.jpg: [[0.4508, 0.4511, 0.1815, 0.1203], [0.5728, 0.433, 0.0731, 0.0559], [0.7306, 0.5771, 0.125, 0.0763], [0.7668, 0.6279, 0.1024, 0.0797], [0.6625, 0.6375, 0.1318, 0.0989], [0.5514, 0.6937, 0.0723, 0.0576], [0.3292, 0.6338, 0.119, 0.0893], [0.3985, 0.5734, 0.1175, 0.0813]]\n",
            "Processing IMG_1295.jpg: [[0.3783, 0.3172, 0.1714, 0.1229], [0.4511, 0.4126, 0.1585, 0.1118], [0.6501, 0.4408, 0.1761, 0.1312], [0.5171, 0.4995, 0.1485, 0.107], [0.7123, 0.5458, 0.1632, 0.1255], [0.6181, 0.6173, 0.1438, 0.1136], [0.57, 0.5856, 0.1274, 0.0995]]\n",
            "Processing IMG_1087.jpg: [[0.4239, 0.6464, 0.4596, 0.3261], [0.3319, 0.357, 0.3859, 0.3098]]\n",
            "Processing IMG_20191215_111510.jpg: [[0.4926, 0.5721, 0.2143, 0.1581], [0.4661, 0.6702, 0.223, 0.1419], [0.6365, 0.7673, 0.3145, 0.1957]]\n",
            "Processing IMG_20191215_111853.jpg: [[0.3907, 0.4234, 0.0873, 0.0616], [0.3543, 0.4573, 0.11, 0.0804], [0.564, 0.3142, 0.0891, 0.0659], [0.0999, 0.2808, 0.0716, 0.0585], [0.0512, 0.2858, 0.0536, 0.0459], [0.1296, 0.3398, 0.06, 0.0463], [0.0722, 0.3566, 0.0559, 0.0441], [0.1374, 0.3817, 0.0582, 0.0384], [0.0772, 0.3913, 0.0542, 0.0341], [0.1275, 0.418, 0.0501, 0.0349], [0.0943, 0.4273, 0.0431, 0.0301], [0.7567, 0.3016, 0.0809, 0.0738], [0.6306, 0.3867, 0.0722, 0.0546], [0.78, 0.4033, 0.0786, 0.0555], [0.5759, 0.5055, 0.0827, 0.0659], [0.6609, 0.4769, 0.0536, 0.0402], [0.7538, 0.4487, 0.0635, 0.0441], [0.4516, 0.5304, 0.0751, 0.0581], [0.5742, 0.5474, 0.0699, 0.0459], [0.3689, 0.5357, 0.0961, 0.0703], [0.6283, 0.5946, 0.0769, 0.0607], [0.5675, 0.6018, 0.0518, 0.0454], [0.5037, 0.6068, 0.085, 0.0572], [0.6656, 0.6977, 0.0675, 0.0546], [0.4472, 0.63, 0.0722, 0.0502], [0.6621, 0.8208, 0.0221, 0.0205], [0.6793, 0.9881, 0.0553, 0.0232], [0.5284, 0.7992, 0.0483, 0.0384], [0.4693, 0.6861, 0.0722, 0.0576], [0.3054, 0.6326, 0.0798, 0.0581], [0.3392, 0.7045, 0.0413, 0.0332], [0.2606, 0.7298, 0.0588, 0.0463], [0.0181, 0.6585, 0.0352, 0.041], [0.0997, 0.7308, 0.055, 0.0383], [0.1482, 0.7434, 0.0436, 0.035], [0.031, 0.7027, 0.048, 0.031], [0.1907, 0.6923, 0.0502, 0.0373], [0.2331, 0.6307, 0.0401, 0.0357], [0.2219, 0.6686, 0.0379, 0.03], [0.1814, 0.6682, 0.0458, 0.0287], [0.1891, 0.6354, 0.0453, 0.0258], [0.2631, 0.6753, 0.0286, 0.0225], [0.0557, 0.6596, 0.0374, 0.0294], [0.0132, 0.7333, 0.0264, 0.0294], [0.0341, 0.8059, 0.0295, 0.0241], [0.1022, 0.6268, 0.0449, 0.0297], [0.0713, 0.621, 0.0255, 0.0208], [0.2926, 0.6629, 0.0374, 0.0221], [0.2296, 0.712, 0.0348, 0.0257], [0.242, 0.7981, 0.0182, 0.0156]]\n",
            "Processing IMG_20191215_112922.jpg: [[0.6283, 0.4142, 0.1561, 0.1402], [0.5002, 0.4363, 0.1025, 0.062], [0.3433, 0.3522, 0.124, 0.1157], [0.4842, 0.483, 0.131, 0.1232], [0.6912, 0.5435, 0.1304, 0.1227], [0.329, 0.4939, 0.1141, 0.1005], [0.2949, 0.563, 0.0961, 0.0926], [0.4469, 0.5448, 0.0693, 0.0756], [0.5194, 0.5896, 0.1095, 0.1101], [0.704, 0.6258, 0.1165, 0.0978], [0.7142, 0.6953, 0.0856, 0.048], [0.6158, 0.6903, 0.0856, 0.0817], [0.4097, 0.5964, 0.0775, 0.0651], [0.4006, 0.6494, 0.0675, 0.069], [0.2682, 0.625, 0.0868, 0.0786], [0.3337, 0.6911, 0.0699, 0.0721], [0.5282, 0.8817, 0.0357, 0.035], [0.4982, 0.8452, 0.0427, 0.0386], [0.5334, 0.8502, 0.0392, 0.034], [0.5548, 0.8233, 0.037, 0.0337]]\n",
            "Processing IMG_20191215_111544.jpg: [[0.1686, 0.2186, 0.1718, 0.1498], [0.2248, 0.3586, 0.2888, 0.2018], [0.4233, 0.4924, 0.2387, 0.1629], [0.874, 0.4964, 0.1118, 0.0668], [0.4699, 0.6143, 0.2341, 0.1821], [0.4469, 0.6955, 0.152, 0.0852], [0.9171, 0.5636, 0.071, 0.0729], [0.6365, 0.7097, 0.2353, 0.1695], [0.4711, 0.8582, 0.106, 0.0865]]\n",
            "Processing IMG_20191215_112028.jpg: [[0.3491, 0.4747, 0.0961, 0.0594], [0.6318, 0.35, 0.106, 0.079], [0.6828, 0.3996, 0.1194, 0.0882], [0.6146, 0.4684, 0.0972, 0.0756], [0.6359, 0.4918, 0.0652, 0.0437], [0.2114, 0.4328, 0.106, 0.0777], [0.359, 0.5077, 0.0914, 0.0633], [0.465, 0.526, 0.0972, 0.0677], [0.5841, 0.5343, 0.0885, 0.0642], [0.6123, 0.5848, 0.0344, 0.0271], [0.5139, 0.5811, 0.0716, 0.059], [0.3648, 0.5667, 0.0751, 0.0555], [0.4458, 0.6064, 0.0821, 0.0668], [0.3663, 0.6221, 0.0745, 0.0537], [0.3258, 0.5485, 0.0483, 0.0576], [0.3374, 0.6505, 0.0786, 0.0546], [0.4038, 0.644, 0.0611, 0.0494], [0.6318, 0.4291, 0.0839, 0.0537]]\n",
            "Processing IMG_1010.jpg: [[0.4804, 0.0594, 0.3018, 0.1189], [0.587, 0.5634, 0.2472, 0.2109], [0.3598, 0.5898, 0.3082, 0.2479]]\n",
            "Error processing IMG_1010.jpg: Expected y_min for bbox [     0.3295 -5.0001e-05      0.6313     0.11885           2] to be in the range [0.0, 1.0], got -5.000084638595581e-05.\n",
            "Processing IMG_20191215_110918.jpg: [[0.2897, 0.4014, 0.1636, 0.1941], [0.1444, 0.3412, 0.1817, 0.2151], [0.5717, 0.6505, 0.0709, 0.0775], [0.8289, 0.5378, 0.1281, 0.175], [0.741, 0.5783, 0.1409, 0.1961], [0.907, 0.5072, 0.0564, 0.0587]]\n",
            "Processing IMG_20191215_111208.jpg: [[0.8199, 0.3842, 0.3578, 0.2192], [0.5397, 0.3274, 0.2599, 0.1938], [0.2941, 0.4404, 0.1183, 0.0616], [0.2911, 0.4864, 0.1409, 0.1062], [0.3235, 0.5449, 0.1213, 0.0751], [0.7724, 0.5245, 0.2553, 0.1667], [0.5736, 0.4946, 0.2328, 0.1678], [0.3461, 0.3291, 0.1514, 0.1305], [0.2358, 0.2777, 0.1928, 0.1429]]\n",
            "Processing IMG_20191215_112911.jpg: [[0.5797, 0.185, 0.1997, 0.1909], [0.6114, 0.2994, 0.1665, 0.1332], [0.7191, 0.3782, 0.1514, 0.1293], [0.5558, 0.4204, 0.145, 0.1306], [0.3948, 0.4234, 0.1677, 0.1384], [0.6539, 0.4601, 0.1153, 0.1035], [0.7488, 0.4341, 0.0943, 0.0638], [0.7055, 0.5068, 0.0984, 0.0834], [0.5826, 0.5553, 0.1042, 0.0887], [0.7084, 0.5815, 0.0693, 0.0659], [0.6196, 0.6357, 0.0757, 0.0799], [0.4254, 0.5149, 0.1229, 0.0943], [0.3188, 0.5372, 0.1695, 0.1371], [0.2647, 0.6534, 0.1415, 0.1249]]\n",
            "Processing IMG_20191215_111119.jpg: [[0.1905, 0.646, 0.1956, 0.1439], [0.3733, 0.6678, 0.16, 0.1307], [0.9392, 0.6929, 0.121, 0.1091], [0.6862, 0.3778, 0.2056, 0.1176], [0.5383, 0.3479, 0.122, 0.0479], [0.5407, 0.4197, 0.177, 0.1466], [0.6068, 0.4438, 0.0819, 0.0561], [0.6935, 0.4559, 0.1497, 0.0954]]\n",
            "Processing IMG_20191215_110813.jpg: [[0.7975, 0.1026, 0.3744, 0.2026], [0.0285, 0.6612, 0.0559, 0.0428], [0.4676, 0.5036, 0.1782, 0.1293], [0.7413, 0.6199, 0.1712, 0.1288], [0.6303, 0.6907, 0.2836, 0.1943], [0.4573, 0.6281, 0.173, 0.1288], [0.2906, 0.7095, 0.0978, 0.0783]]\n",
            "Processing IMG_20191215_111522.jpg: [[0.6833, 0.2983, 0.0984, 0.076], [0.6088, 0.3175, 0.0751, 0.0725], [0.6391, 0.6844, 0.2335, 0.166], [0.3948, 0.7228, 0.3005, 0.1878], [0.9101, 0.4935, 0.074, 0.0466], [0.9383, 0.5368, 0.1057, 0.0664], [0.3188, 0.9266, 0.1065, 0.0951], [0.3589, 0.9783, 0.0978, 0.0426], [0.9479, 0.961, 0.1025, 0.0768]]\n",
            "Processing IMG_20191215_110616.jpg: [[0.5634, 0.2677, 0.2428, 0.1529], [0.5776, 0.8018, 0.212, 0.1826], [0.6785, 0.797, 0.0978, 0.069], [0.7256, 0.8636, 0.1074, 0.0766], [0.4029, 0.6971, 0.0819, 0.0694], [0.5913, 0.6679, 0.0731, 0.0479], [0.6569, 0.6433, 0.0757, 0.0522]]\n",
            "Processing IMG_20191215_111806.jpg: [[0.4527, 0.0972, 0.2056, 0.1935], [0.7238, 0.1098, 0.2667, 0.0939], [0.5954, 0.205, 0.1334, 0.1026], [0.2417, 0.7405, 0.2748, 0.19], [0.4181, 0.7141, 0.1863, 0.1345], [0.4297, 0.8438, 0.2306, 0.152]]\n",
            "Processing IMG_20191215_111051.jpg: [[0.0282, 0.1199, 0.0565, 0.0834], [0.0949, 0.3288, 0.0957, 0.0667], [0.1403, 0.3581, 0.0944, 0.0523], [0.0672, 0.4489, 0.0871, 0.0534], [0.1522, 0.5088, 0.0823, 0.0572], [0.1344, 0.5672, 0.0785, 0.06], [0.2169, 0.5111, 0.0521, 0.0446], [0.1799, 0.5517, 0.1014, 0.0782], [0.1383, 0.6161, 0.0571, 0.0393], [0.1402, 0.6482, 0.0493, 0.0313], [0.1753, 0.6524, 0.0481, 0.0398], [0.3667, 0.832, 0.1055, 0.0795], [0.2971, 0.7755, 0.1017, 0.0848], [0.3929, 0.7484, 0.1226, 0.0908], [0.314, 0.6524, 0.2024, 0.1479], [0.4781, 0.6106, 0.1734, 0.1364], [0.446, 0.2655, 0.1101, 0.0799], [0.5326, 0.3271, 0.2188, 0.1688], [0.7122, 0.2967, 0.21, 0.1463], [0.5273, 0.0228, 0.0806, 0.0456]]\n",
            "Error processing IMG_20191215_111051.jpg: Expected x_min for bbox [-4.9999e-05      0.0782     0.05645      0.1616           2] to be in the range [0.0, 1.0], got -4.999898374080658e-05.\n",
            "Processing IMG_1019.jpg: [[0.7345, 0.5628, 0.3727, 0.2778], [0.4717, 0.1578, 0.2508, 0.2085], [0.3529, 0.2588, 0.2539, 0.1555], [0.519, 0.6397, 0.3533, 0.2731]]\n",
            "Processing IMG_1194.jpg: [[0.1921, 0.5421, 0.2461, 0.1619], [0.3381, 0.6205, 0.1638, 0.138], [0.5109, 0.5966, 0.2034, 0.1555], [0.6289, 0.5724, 0.1056, 0.1002], [0.4243, 0.437, 0.1731, 0.1345], [0.5722, 0.4597, 0.2391, 0.1648]]\n",
            "Processing IMG_20191215_110834.jpg: [[0.4175, 0.4769, 0.2143, 0.1607], [0.5308, 0.632, 0.2242, 0.1721], [0.3197, 0.671, 0.2073, 0.1542], [0.7221, 0.6918, 0.2189, 0.159]]\n",
            "Processing IMG_20191215_110736.jpg: [[0.1555, 0.2212, 0.1654, 0.1516], [0.3363, 0.3125, 0.2289, 0.1638], [0.1948, 0.3153, 0.0903, 0.0743], [0.4883, 0.3854, 0.1322, 0.0913], [0.8141, 0.8163, 0.2376, 0.1651], [0.7285, 0.8392, 0.17, 0.1411], [0.0337, 0.7276, 0.0673, 0.0972], [0.119, 0.7255, 0.1154, 0.0855], [0.3061, 0.6432, 0.0593, 0.0362]]\n",
            "Processing IMG_20191215_110937.jpg: [[0.4469, 0.5132, 0.2195, 0.264], [0.3086, 0.4868, 0.1665, 0.2034]]\n",
            "Processing IMG_20191215_111446.jpg: [[0.4755, 0.5791, 0.2219, 0.1826], [0.6571, 0.6326, 0.2172, 0.2013], [0.1513, 0.6607, 0.0649, 0.0449], [0.0999, 0.6997, 0.1378, 0.0964], [0.1397, 0.7848, 0.1328, 0.1094], [0.0526, 0.7821, 0.1052, 0.0844]]\n",
            "Processing IMG_20191215_111239.jpg: [[0.4525, 0.3583, 0.2492, 0.1909], [0.5124, 0.4682, 0.1479, 0.0489], [0.2775, 0.4778, 0.3581, 0.2769], [0.5238, 0.6514, 0.3698, 0.3376]]\n",
            "Processing IMG_1086.jpg: [[0.4963, 0.5112, 0.3376, 0.2598]]\n",
            "Processing IMG_20191215_110743.jpg: [[0.4787, 0.5981, 0.0791, 0.1014], [0.7679, 0.5067, 0.1228, 0.1356], [0.1838, 0.7663, 0.1085, 0.1306], [0.6998, 0.4027, 0.0934, 0.1386], [0.8011, 0.3691, 0.0987, 0.1356], [0.3781, 0.2913, 0.1281, 0.1707], [0.4625, 0.2365, 0.107, 0.1597], [0.357, 0.1517, 0.1326, 0.1466]]\n",
            "Processing IMG_20191215_112634.jpg: [[0.1999, 0.6889, 0.2404, 0.1816], [0.3357, 0.7439, 0.1898, 0.1073], [0.3188, 0.8703, 0.2483, 0.2097], [0.4374, 0.8685, 0.0709, 0.1301], [0.5339, 0.6757, 0.0603, 0.0476], [0.4608, 0.644, 0.0903, 0.0634], [0.4526, 0.5786, 0.1083, 0.0779], [0.5447, 0.5848, 0.0828, 0.0634], [0.5557, 0.5185, 0.1004, 0.0793], [0.4491, 0.5031, 0.1277, 0.0816], [0.4341, 0.4049, 0.1814, 0.1367], [0.6006, 0.4263, 0.1321, 0.103], [0.4698, 0.2265, 0.1462, 0.1156], [0.3833, 0.2553, 0.0938, 0.0753], [0.6829, 0.2615, 0.1541, 0.1176]]\n",
            "Processing IMG_1015.jpg: [[0.7411, 0.3575, 0.2694, 0.2026], [0.5365, 0.504, 0.295, 0.2195], [0.3455, 0.4516, 0.1475, 0.1066], [0.2193, 0.3599, 0.1002, 0.071]]\n",
            "Processing IMG_1196.jpg: [[0.7352, 0.4002, 0.1973, 0.1603], [0.6927, 0.6713, 0.2295, 0.1563], [0.6046, 0.5462, 0.1685, 0.129], [0.3715, 0.5398, 0.2096, 0.1567]]\n",
            "Processing IMG_1248.jpg: [[0.4018, 0.2246, 0.235, 0.201], [0.5963, 0.2752, 0.2214, 0.1798], [0.4511, 0.4069, 0.2295, 0.1777], [0.3502, 0.5699, 0.2653, 0.201], [0.5102, 0.5929, 0.1641, 0.1539], [0.5801, 0.4372, 0.1526, 0.1403], [0.6864, 0.5869, 0.1978, 0.1509], [0.4005, 0.7319, 0.2025, 0.1585], [0.6742, 0.677, 0.1681, 0.1073], [0.55, 0.714, 0.1465, 0.1256], [0.4835, 0.8071, 0.1431, 0.1023], [0.3887, 0.8894, 0.1384, 0.121], [0.2702, 0.6555, 0.1148, 0.0846]]\n",
            "Processing IMG_20191215_111144.jpg: [[0.313, 0.5932, 0.2975, 0.235], [0.5292, 0.6946, 0.2704, 0.1734], [0.4783, 0.5271, 0.223, 0.1683]]\n",
            "Processing IMG_20191215_112001.jpg: [[0.7646, 0.2867, 0.1654, 0.1437], [0.4961, 0.3051, 0.1665, 0.1306], [0.4391, 0.2843, 0.1048, 0.1013], [0.3034, 0.4483, 0.1642, 0.1253], [0.4187, 0.3821, 0.1223, 0.0943], [0.0984, 0.3861, 0.1747, 0.1275], [0.2099, 0.4059, 0.1007, 0.0887], [0.1403, 0.4723, 0.1118, 0.0721], [0.8551, 0.3859, 0.1648, 0.1227], [0.334, 0.5066, 0.1042, 0.0638], [0.6711, 0.4265, 0.1229, 0.0939], [0.2652, 0.5555, 0.1368, 0.1031], [0.2155, 0.5791, 0.1258, 0.0917], [0.3299, 0.6282, 0.0972, 0.079], [0.2428, 0.6389, 0.1071, 0.0629], [0.7206, 0.5953, 0.145, 0.1048], [0.6854, 0.6291, 0.1025, 0.0729], [0.8711, 0.63, 0.1339, 0.1], [0.2089, 0.814, 0.0586, 0.0594], [0.2648, 0.8135, 0.0876, 0.0684], [0.0163, 0.361, 0.0326, 0.0913], [0.0157, 0.5304, 0.0314, 0.0721], [0.2233, 0.473, 0.0798, 0.0533]]\n",
            "Processing IMG_20191215_111409.jpg: [[0.4615, 0.4636, 0.2079, 0.1446], [0.2503, 0.5946, 0.1096, 0.0763], [0.4053, 0.6719, 0.2232, 0.1271], [0.1198, 0.955, 0.1893, 0.0892], [0.9055, 0.8436, 0.1875, 0.1681], [0.9203, 0.958, 0.1566, 0.0808], [0.1623, 0.3139, 0.0524, 0.0406], [0.7501, 0.2444, 0.0621, 0.0515], [0.7725, 0.266, 0.0647, 0.0525]]\n",
            "Processing IMG_1256.jpg: [[0.3746, 0.283, 0.2616, 0.2015], [0.4883, 0.5276, 0.2733, 0.2248], [0.59, 0.6991, 0.2221, 0.1986], [0.6153, 0.1697, 0.2352, 0.1881], [0.724, 0.5875, 0.2135, 0.1561]]\n",
            "Processing IMG_1247.jpg: [[0.4247, 0.0592, 0.1632, 0.1176], [0.5758, 0.1145, 0.1685, 0.1339], [0.5538, 0.2384, 0.162, 0.1325], [0.4399, 0.1999, 0.1385, 0.118], [0.2823, 0.264, 0.1943, 0.1519], [0.5444, 0.3778, 0.1233, 0.0951], [0.5045, 0.4187, 0.1562, 0.1189], [0.4141, 0.4145, 0.0928, 0.092], [0.4164, 0.5149, 0.1045, 0.0797], [0.5195, 0.5491, 0.1438, 0.1066], [0.5201, 0.6556, 0.1215, 0.0925], [0.39, 0.5979, 0.1268, 0.0969], [0.3844, 0.6812, 0.1098, 0.0819], [0.6042, 0.6466, 0.0697, 0.0506], [0.7368, 0.8733, 0.0719, 0.0573], [0.5572, 0.7017, 0.0653, 0.0496], [0.5135, 0.7872, 0.0586, 0.0483], [0.4036, 0.7498, 0.0954, 0.0739], [0.4222, 0.7922, 0.0493, 0.0343], [0.0977, 0.6737, 0.0706, 0.0489], [0.0283, 0.663, 0.0551, 0.0483], [0.1026, 0.7193, 0.0679, 0.0483], [0.0363, 0.7062, 0.0701, 0.0493], [0.0494, 0.7531, 0.0732, 0.0526], [0.2482, 0.4908, 0.1008, 0.0699], [0.2138, 0.7481, 0.0521, 0.0345]]\n",
            "Processing IMG_20191215_112440.jpg: [[0.3375, 0.1236, 0.1846, 0.1485], [0.3698, 0.271, 0.1735, 0.1288], [0.548, 0.2644, 0.1631, 0.0878], [0.3436, 0.3765, 0.0687, 0.0585], [0.2661, 0.4599, 0.1176, 0.0786], [0.3121, 0.5044, 0.1549, 0.1301], [0.6202, 0.5503, 0.1619, 0.1162], [0.3523, 0.6141, 0.106, 0.0952], [0.2469, 0.6171, 0.1421, 0.0987], [0.391, 0.6927, 0.1147, 0.0882], [0.5095, 0.7197, 0.1642, 0.1162], [0.3264, 0.7588, 0.131, 0.0991], [0.476, 0.8145, 0.1194, 0.0996], [0.5549, 0.8088, 0.0559, 0.0847], [0.4327, 0.8671, 0.0967, 0.0808], [0.5168, 0.88, 0.0681, 0.0611], [0.4181, 0.7785, 0.0699, 0.079]]\n",
            "Processing IMG_20191215_111914.jpg: [[0.5634, 0.3448, 0.1497, 0.1122], [0.2804, 0.3586, 0.1916, 0.1476], [0.4824, 0.4367, 0.1567, 0.1118], [0.4862, 0.5909, 0.1537, 0.1083], [0.4985, 0.7239, 0.1258, 0.1026], [0.3147, 0.6996, 0.1636, 0.1179], [0.3165, 0.7945, 0.1428, 0.0942], [0.4674, 0.804, 0.1154, 0.0866], [0.3932, 0.8575, 0.0714, 0.0577], [0.3015, 0.8795, 0.1038, 0.0805], [0.066, 0.873, 0.0555, 0.0439], [0.133, 0.8168, 0.044, 0.0366], [0.0539, 0.786, 0.0524, 0.037], [0.0816, 0.3063, 0.0414, 0.0319], [0.1216, 0.3561, 0.0387, 0.0276], [0.1342, 0.3862, 0.0371, 0.0253], [0.045, 0.3723, 0.0433, 0.0301], [0.0345, 0.3521, 0.0398, 0.0247], [0.0804, 0.4025, 0.036, 0.0278], [0.1177, 0.4253, 0.0326, 0.0224], [0.0136, 0.4027, 0.0272, 0.0296], [0.1237, 0.7106, 0.0306, 0.0233], [0.116, 0.6933, 0.0329, 0.0238], [0.1656, 0.8701, 0.0394, 0.0362], [0.0683, 0.8306, 0.0494, 0.0359], [0.0197, 0.8794, 0.0394, 0.0416], [0.0113, 0.8543, 0.0226, 0.0396], [0.1903, 0.7862, 0.0345, 0.0247], [0.1373, 0.9133, 0.0402, 0.0319], [0.0771, 0.9649, 0.044, 0.0385], [0.116, 0.9633, 0.039, 0.0353], [0.1396, 0.7738, 0.0264, 0.0256]]\n",
            "Processing IMG_1150.jpg: [[0.6522, 0.4324, 0.1304, 0.0914], [0.6533, 0.5203, 0.1203, 0.0868], [0.6351, 0.6041, 0.1196, 0.0821], [0.6001, 0.6612, 0.0901, 0.0611], [0.5112, 0.6609, 0.0924, 0.071], [0.5594, 0.6085, 0.0644, 0.0675], [0.6064, 0.5389, 0.0854, 0.0681], [0.5175, 0.4257, 0.1297, 0.1048], [0.4674, 0.377, 0.1149, 0.0868], [0.4666, 0.4557, 0.0916, 0.0693], [0.4786, 0.5267, 0.111, 0.0763], [0.4526, 0.5445, 0.0792, 0.0536], [0.4612, 0.6053, 0.0901, 0.0716]]\n",
            "Processing IMG_20191215_110730.jpg: [[0.0297, 0.6359, 0.0594, 0.0681], [0.283, 0.5785, 0.2015, 0.2101], [0.4856, 0.4645, 0.3086, 0.2275], [0.4827, 0.5955, 0.2073, 0.0878], [0.6778, 0.409, 0.0897, 0.0555], [0.6647, 0.449, 0.067, 0.0629], [0.4749, 0.7171, 0.3069, 0.1974], [0.3179, 0.7488, 0.1712, 0.1393]]\n",
            "Processing IMG_1067.jpg: [[0.6304, 0.5648, 0.3106, 0.2551], [0.2966, 0.6286, 0.3789, 0.2754], [0.229, 0.4152, 0.3354, 0.2679], [0.7477, 0.8927, 0.1149, 0.0629], [0.6665, 0.9503, 0.1359, 0.0978]]\n",
            "Processing IMG_1051.jpg: [[0.7081, 0.5066, 0.4519, 0.29], [0.3532, 0.5401, 0.3199, 0.2428], [0.4674, 0.7273, 0.2112, 0.1409]]\n",
            "Processing IMG_20191215_111945.jpg: [[0.4348, 0.679, 0.0405, 0.0317], [0.4147, 0.6714, 0.0472, 0.0356], [0.3502, 0.6598, 0.0524, 0.041], [0.2985, 0.6955, 0.0538, 0.0334], [0.3484, 0.7066, 0.0501, 0.0421], [0.2979, 0.7259, 0.0521, 0.0413], [0.3681, 0.7094, 0.0426, 0.0326], [0.3172, 0.7475, 0.0443, 0.0358], [0.3602, 0.7528, 0.0481, 0.0399], [0.3338, 0.7757, 0.0428, 0.0297], [0.2574, 0.6755, 0.0591, 0.0412], [0.1889, 0.6643, 0.0518, 0.0367], [0.2336, 0.6403, 0.0643, 0.0517], [0.207, 0.6203, 0.0649, 0.0443], [0.1582, 0.6068, 0.0565, 0.041], [0.2881, 0.6056, 0.0579, 0.0434], [0.2371, 0.5854, 0.0585, 0.043], [0.2174, 0.5706, 0.0539, 0.036], [0.2665, 0.5562, 0.0536, 0.0393], [0.3033, 0.5775, 0.0454, 0.0328], [0.3438, 0.6026, 0.0541, 0.0439], [0.3772, 0.6286, 0.0544, 0.0387], [0.3667, 0.5638, 0.0408, 0.0332], [0.3429, 0.5241, 0.0512, 0.0354], [0.5126, 0.5891, 0.0466, 0.0339], [0.4719, 0.536, 0.0544, 0.038], [0.4728, 0.4964, 0.0556, 0.0426], [0.4023, 0.501, 0.0501, 0.0389], [0.5685, 0.5204, 0.0594, 0.0419], [0.7249, 0.5062, 0.055, 0.0423], [0.1501, 0.4424, 0.0258, 0.0163], [0.1311, 0.4256, 0.0243, 0.0143], [0.0932, 0.4355, 0.0214, 0.0176], [0.1433, 0.2722, 0.0313, 0.0228], [0.0844, 0.2544, 0.0356, 0.028], [0.1371, 0.2992, 0.0269, 0.0191], [0.1851, 0.2703, 0.0252, 0.0222], [0.0518, 0.2606, 0.0342, 0.0269], [0.1343, 0.2284, 0.0365, 0.0274], [0.1741, 0.2158, 0.0368, 0.0282], [0.0801, 0.1956, 0.0472, 0.0334], [0.0657, 0.2057, 0.0376, 0.0293], [0.1272, 0.1678, 0.0426, 0.0339], [0.1566, 0.1406, 0.044, 0.0354], [0.0712, 0.1358, 0.0423, 0.0297], [0.0992, 0.1039, 0.0368, 0.0284], [0.1707, 0.2334, 0.0339, 0.02], [0.417, 0.4814, 0.0316, 0.031], [0.0274, 0.2159, 0.0206, 0.0164], [0.0272, 0.2386, 0.0227, 0.0161], [0.0697, 0.3291, 0.0186, 0.0136], [0.0443, 0.3624, 0.0211, 0.0134], [0.0894, 0.4164, 0.0166, 0.0127]]\n",
            "Processing IMG_20191215_112834.jpg: [[0.4085, 0.3765, 0.1194, 0.1022], [0.4033, 0.4798, 0.1695, 0.1288], [0.6449, 0.4843, 0.2032, 0.1284], [0.4603, 0.5217, 0.1194, 0.1018], [0.3867, 0.5597, 0.0419, 0.0354], [0.5063, 0.5459, 0.0961, 0.0839], [0.6344, 0.5588, 0.1217, 0.0415], [0.6091, 0.6352, 0.1595, 0.1175], [0.7058, 0.6304, 0.0932, 0.0939], [0.5951, 0.7331, 0.1316, 0.093], [0.6036, 0.8219, 0.1112, 0.0908], [0.3561, 0.8715, 0.0553, 0.0537], [0.4198, 0.8204, 0.0361, 0.0406], [0.6624, 0.851, 0.0833, 0.0712], [0.7334, 0.8058, 0.0961, 0.0751], [0.8752, 0.9329, 0.0477, 0.0542], [0.8837, 0.9811, 0.0728, 0.0371], [0.8082, 0.8272, 0.0396, 0.0489], [0.8074, 0.6743, 0.0751, 0.0507], [0.7325, 0.7385, 0.0559, 0.0454], [0.4752, 0.5848, 0.0524, 0.0288]]\n",
            "Processing IMG_20191215_111922.jpg: [[0.667, 0.3983, 0.1243, 0.0927], [0.792, 0.5567, 0.1454, 0.0943], [0.2923, 0.6127, 0.1009, 0.0774], [0.1525, 0.4093, 0.1032, 0.0785], [0.6519, 0.5158, 0.1077, 0.0813], [0.1887, 0.6327, 0.0957, 0.0689], [0.6274, 0.5952, 0.0979, 0.0763], [0.5939, 0.6443, 0.0881, 0.0616], [0.693, 0.6598, 0.1235, 0.0859], [0.6433, 0.7228, 0.0994, 0.0819], [0.5668, 0.7208, 0.067, 0.0712], [0.1989, 0.5358, 0.1009, 0.0718], [0.1273, 0.4822, 0.0934, 0.0695], [0.0644, 0.5257, 0.0866, 0.0537], [0.0919, 0.6158, 0.0783, 0.0531], [0.2184, 0.6957, 0.0814, 0.0627], [0.3149, 0.7016, 0.0723, 0.052]]\n",
            "Processing IMG_1214.jpg: [[0.9359, 0.0638, 0.0893, 0.0739], [0.9387, 0.0341, 0.1227, 0.0681], [0.2885, 0.1722, 0.1937, 0.1664], [0.4423, 0.3221, 0.2759, 0.2109], [0.3331, 0.4841, 0.1914, 0.1422], [0.3319, 0.3615, 0.1538, 0.1488], [0.5074, 0.5343, 0.1879, 0.1413], [0.5653, 0.6283, 0.1532, 0.1101], [0.464, 0.7545, 0.1104, 0.0894], [0.4358, 0.6897, 0.0822, 0.0674], [0.4834, 0.7996, 0.0963, 0.0572], [0.1784, 0.7175, 0.0746, 0.0489], [0.1709, 0.9671, 0.1067, 0.0628], [0.1412, 0.9902, 0.0945, 0.0187]]\n",
            "Error processing IMG_1214.jpg: Expected x_max for bbox [    0.87735  5.0001e-05      1.0001     0.06815           5] to be in the range [0.0, 1.0], got 1.0000500679016113.\n",
            "Processing IMG_20191215_111636.jpg: [[0.5919, 0.2736, 0.2684, 0.2118], [0.3363, 0.3363, 0.2929, 0.2079], [0.4673, 0.7189, 0.1625, 0.1136], [0.4443, 0.8337, 0.1153, 0.1223], [0.3048, 0.8315, 0.1881, 0.1782]]\n",
            "Processing IMG_20191215_112428.jpg: [[0.9148, 0.2016, 0.1677, 0.1454], [0.6976, 0.2343, 0.17, 0.1393], [0.5185, 0.2326, 0.1776, 0.1341], [0.5372, 0.3531, 0.166, 0.1175], [0.3331, 0.4003, 0.1735, 0.1463], [0.6598, 0.4311, 0.1339, 0.1022], [0.7593, 0.3483, 0.12, 0.1122], [0.3831, 0.5759, 0.1615, 0.1295], [0.6256, 0.5885, 0.1241, 0.0908], [0.3603, 0.6435, 0.1251, 0.0839], [0.4886, 0.6566, 0.0922, 0.0676], [0.4269, 0.6948, 0.1094, 0.0893], [0.4592, 0.7465, 0.0845, 0.0644], [0.4894, 0.7853, 0.0762, 0.0548], [0.8632, 0.7811, 0.0624, 0.0477], [0.9032, 0.7954, 0.0528, 0.0408], [0.8322, 0.8099, 0.0548, 0.0376], [0.8479, 0.8313, 0.0578, 0.0488]]\n",
            "Processing IMG_20191215_110534.jpg: [[0.4778, 0.728, 0.1916, 0.1406], [0.4676, 0.8631, 0.1973, 0.141], [0.6759, 0.1986, 0.2959, 0.2157]]\n",
            "Processing IMG_1044.jpg: [[0.7601, 0.4367, 0.1304, 0.1794], [0.5081, 0.4094, 0.4092, 0.3319], [0.236, 0.4426, 0.104, 0.0617]]\n",
            "Processing IMG_20191215_111343.jpg: [[0.2228, 0.2077, 0.0932, 0.063], [0.2593, 0.2341, 0.0405, 0.0528], [0.2261, 0.2613, 0.0582, 0.0456], [0.7178, 0.3359, 0.0765, 0.0543], [0.6702, 0.4276, 0.1939, 0.1618], [0.4909, 0.4532, 0.2871, 0.2298], [0.3593, 0.7525, 0.1423, 0.1075], [0.5036, 0.8245, 0.1555, 0.1466], [0.38, 0.8625, 0.1413, 0.1185]]\n",
            "Processing IMG_1189.jpg: [[0.5655, 0.2815, 0.1235, 0.1124], [0.3488, 0.2479, 0.1627, 0.1241], [0.3917, 0.3798, 0.1431, 0.1084], [0.3053, 0.3914, 0.1013, 0.0871], [0.3235, 0.4798, 0.1175, 0.0815], [0.6702, 0.4324, 0.1749, 0.1236], [0.5703, 0.3955, 0.1101, 0.0831], [0.5112, 0.4712, 0.1445, 0.1028], [0.6287, 0.4957, 0.0999, 0.0456], [0.6017, 0.5345, 0.1134, 0.0663], [0.5976, 0.598, 0.0864, 0.0587], [0.7029, 0.5519, 0.135, 0.0881], [0.7208, 0.6264, 0.0992, 0.0709], [0.7759, 0.6332, 0.054, 0.0653], [0.4217, 0.6114, 0.0736, 0.0552], [0.3863, 0.674, 0.0851, 0.0699], [0.2962, 0.6519, 0.106, 0.0744], [0.2837, 0.8631, 0.0783, 0.0674], [0.3603, 0.773, 0.0763, 0.0582], [0.4157, 0.8408, 0.0682, 0.0491], [0.3012, 0.9368, 0.0756, 0.0567], [0.1723, 0.6762, 0.0729, 0.0673], [0.1446, 0.7469, 0.0945, 0.0658], [0.2209, 0.7666, 0.0797, 0.0628], [0.2911, 0.7836, 0.0365, 0.0228], [0.1048, 0.8479, 0.0932, 0.0724], [0.1517, 0.8957, 0.0776, 0.0618], [0.1885, 0.9537, 0.0608, 0.0511], [0.4427, 0.2663, 0.0641, 0.0638], [0.4238, 0.4993, 0.0844, 0.0618], [0.4329, 0.4342, 0.0999, 0.0653], [0.605, 0.0476, 0.0621, 0.0517], [0.574, 0.1382, 0.0594, 0.0456], [0.2286, 0.361, 0.0466, 0.0314]]\n",
            "Processing IMG_20191215_112026.jpg: [[0.8668, 0.7984, 0.0337, 0.0289], [0.8406, 0.8064, 0.0393, 0.0313], [0.8142, 0.7924, 0.0287, 0.0226], [0.8168, 0.8172, 0.034, 0.0276], [0.8529, 0.8224, 0.0322, 0.0179], [0.6973, 0.7774, 0.0342, 0.0285], [0.6888, 0.7956, 0.0337, 0.0262], [0.6678, 0.7749, 0.028, 0.0332], [0.0976, 0.4396, 0.0735, 0.0511], [0.0873, 0.4824, 0.072, 0.05], [0.1168, 0.5088, 0.0567, 0.0362], [0.0965, 0.5459, 0.0498, 0.035], [0.0469, 0.5671, 0.0479, 0.0304], [0.0144, 0.5015, 0.028, 0.0428], [0.0144, 0.5511, 0.0272, 0.0327], [0.5947, 0.2833, 0.1372, 0.0995], [0.6276, 0.4045, 0.1544, 0.1078], [0.5664, 0.4766, 0.1261, 0.0927], [0.8833, 0.447, 0.1565, 0.1155], [0.8894, 0.5134, 0.0289, 0.019], [0.8157, 0.5567, 0.1327, 0.1041], [0.9084, 0.5129, 0.0243, 0.0186], [0.8558, 0.7264, 0.0363, 0.026], [0.825, 0.71, 0.036, 0.0267], [0.6362, 0.5741, 0.1215, 0.0941], [0.7443, 0.6233, 0.1264, 0.1034], [0.3076, 0.7784, 0.0233, 0.0192], [0.2907, 0.7951, 0.0246, 0.0195], [0.2835, 0.8104, 0.0203, 0.0162], [0.2787, 0.826, 0.0186, 0.0145], [0.3155, 0.8113, 0.0156, 0.015], [0.3091, 0.7952, 0.0163, 0.0147], [0.6128, 0.8664, 0.0203, 0.0218], [0.257, 0.7793, 0.0226, 0.016], [0.8356, 0.35, 0.1656, 0.1209], [0.9892, 0.8262, 0.0208, 0.027]]\n",
            "Processing IMG_1022.jpg: [[0.7752, 0.4458, 0.3471, 0.2731], [0.58, 0.6044, 0.2888, 0.2015], [0.5244, 0.4201, 0.2508, 0.2044], [0.3777, 0.5549, 0.2104, 0.163]]\n",
            "Processing IMG_1113.jpg: [[0.2603, 0.17, 0.0337, 0.0299], [0.1947, 0.1202, 0.0771, 0.0597], [0.1972, 0.072, 0.0618, 0.0498], [0.0847, 0.0588, 0.0919, 0.0685], [0.029, 0.0994, 0.048, 0.0394], [0.103, 0.1476, 0.0439, 0.0302], [0.0515, 0.16, 0.047, 0.0352], [0.1972, 0.2035, 0.0444, 0.0394], [0.1385, 0.2048, 0.0557, 0.0375], [0.1788, 0.2627, 0.0363, 0.0337], [0.1418, 0.2726, 0.0521, 0.0368], [0.1232, 0.295, 0.0689, 0.0479], [0.1268, 0.3339, 0.0526, 0.0314], [0.2922, 0.524, 0.0934, 0.0563], [0.2952, 0.5772, 0.0965, 0.0632], [0.3514, 0.6224, 0.0883, 0.0578], [0.2044, 0.6126, 0.1057, 0.0789], [0.2363, 0.6813, 0.1123, 0.0647], [0.2299, 0.7325, 0.1108, 0.0827], [0.6485, 0.2311, 0.0955, 0.0724], [0.5735, 0.247, 0.0832, 0.0505], [0.6258, 0.2985, 0.0909, 0.0693], [0.5727, 0.2845, 0.0715, 0.0613], [0.5569, 0.3344, 0.0776, 0.054], [0.5952, 0.3586, 0.0613, 0.0509], [0.6197, 0.3779, 0.0745, 0.0536], [0.6391, 0.4015, 0.0735, 0.0548], [0.7179, 0.1394, 0.0995, 0.0812], [0.7149, 0.2784, 0.073, 0.0574], [0.7486, 0.3038, 0.071, 0.0394], [0.7481, 0.3209, 0.073, 0.0375], [0.7761, 0.2835, 0.0536, 0.0387], [0.877, 0.0609, 0.0572, 0.0467], [0.9444, 0.0197, 0.0899, 0.0379], [0.7848, 0.2104, 0.0842, 0.0708], [0.8208, 0.1323, 0.0439, 0.0394], [0.8719, 0.1216, 0.0694, 0.064], [0.9265, 0.1206, 0.0888, 0.0689], [0.9068, 0.2008, 0.0526, 0.0379], [0.8499, 0.264, 0.0756, 0.0617], [0.879, 0.2952, 0.0796, 0.059], [0.8614, 0.3172, 0.0607, 0.0394], [0.989, 0.4062, 0.022, 0.0383], [0.8798, 0.3961, 0.0342, 0.031], [0.9267, 0.3666, 0.0414, 0.028], [0.9604, 0.0892, 0.0638, 0.0421], [0.8678, 0.3676, 0.0613, 0.0413], [0.8468, 0.3971, 0.047, 0.0322], [0.7654, 0.18, 0.0444, 0.0314], [0.3726, 0.7459, 0.0398, 0.0337]]\n",
            "Processing IMG_20191215_110931.jpg: [[0.764, 0.2059, 0.2492, 0.1961], [0.5078, 0.8342, 0.17, 0.1223], [0.6094, 0.7812, 0.1322, 0.1101]]\n",
            "Processing IMG_20191215_112042.jpg: [[0.1438, 0.2507, 0.0536, 0.0402], [0.2369, 0.3639, 0.0379, 0.033], [0.2497, 0.3971, 0.0396, 0.0287], [0.3677, 0.373, 0.184, 0.1397], [0.5198, 0.4278, 0.1246, 0.1014], [0.4524, 0.4709, 0.1634, 0.1156], [0.6314, 0.5538, 0.0845, 0.0713], [0.5345, 0.5662, 0.1435, 0.1139], [0.5988, 0.6461, 0.1127, 0.0961], [0.6266, 0.6986, 0.1189, 0.0816], [0.9469, 0.6851, 0.0466, 0.0289]]\n",
            "Processing IMG_20191215_112844_1.jpg: [[0.4123, 0.3474, 0.1444, 0.1218], [0.4804, 0.3365, 0.0722, 0.0852], [0.3331, 0.3651, 0.1013, 0.0935], [0.4923, 0.4234, 0.0972, 0.086], [0.5459, 0.4728, 0.0844, 0.0694], [0.5238, 0.5354, 0.0937, 0.0943], [0.2903, 0.4902, 0.1182, 0.1149], [0.6761, 0.5029, 0.0908, 0.0756], [0.6289, 0.5472, 0.0408, 0.0524], [0.4172, 0.5787, 0.0996, 0.104], [0.2635, 0.5861, 0.1101, 0.0996], [0.4574, 0.6429, 0.0798, 0.076], [0.3016, 0.6488, 0.0873, 0.0773], [0.2815, 0.6684, 0.0611, 0.0607], [0.2321, 0.7045, 0.0681, 0.0655], [0.6394, 0.6066, 0.0757, 0.0594], [0.6641, 0.6079, 0.032, 0.0367], [0.7037, 0.5686, 0.074, 0.0646], [0.7078, 0.6215, 0.0623, 0.0594], [0.4489, 0.7096, 0.0643, 0.0642], [0.3998, 0.7692, 0.0481, 0.0573], [0.3772, 0.796, 0.0395, 0.0372], [0.3952, 0.8224, 0.042, 0.0384], [0.5793, 0.6828, 0.0476, 0.0577], [0.5694, 0.7147, 0.043, 0.0471], [0.5555, 0.728, 0.0405, 0.0372], [0.6198, 0.7225, 0.081, 0.0809], [0.6223, 0.7745, 0.0517, 0.0581], [0.6213, 0.8097, 0.0354, 0.0509], [0.6395, 0.8307, 0.0587, 0.0566], [0.7223, 0.6851, 0.0663, 0.0782], [0.72, 0.7356, 0.0719, 0.057], [0.7168, 0.7709, 0.0673, 0.0585], [0.7606, 0.6501, 0.0517, 0.0442], [0.7943, 0.6348, 0.0402, 0.0382], [0.7914, 0.679, 0.0283, 0.0399], [0.4062, 0.6542, 0.0291, 0.0225], [0.4064, 0.6746, 0.0274, 0.0194], [0.3876, 0.6805, 0.0217, 0.0223], [0.3753, 0.6922, 0.0186, 0.0177], [0.4031, 0.6925, 0.0225, 0.0172], [0.3839, 0.6878, 0.0195, 0.0167], [0.376, 0.7151, 0.0199, 0.0149], [0.397, 0.712, 0.0125, 0.0136], [0.0226, 0.0435, 0.0365, 0.0384], [0.0402, 0.0771, 0.0336, 0.0313], [0.0392, 0.0964, 0.0298, 0.0282], [0.0431, 0.1166, 0.0278, 0.0269], [0.101, 0.0924, 0.029, 0.0302], [0.0942, 0.1038, 0.0229, 0.0256], [0.0557, 0.1396, 0.0206, 0.0209], [0.0994, 0.1214, 0.0229, 0.0222], [0.2018, 0.4739, 0.033, 0.025], [0.2254, 0.502, 0.0281, 0.0256], [0.0413, 0.333, 0.031, 0.0206], [0.0388, 0.3595, 0.0266, 0.0193], [0.0423, 0.379, 0.0179, 0.0124]]\n",
            "Processing IMG_1282.jpg: [[0.5885, 0.2053, 0.1786, 0.1287], [0.4934, 0.3634, 0.1234, 0.1386], [0.3556, 0.3695, 0.1895, 0.1694], [0.3307, 0.4527, 0.1522, 0.074], [0.5256, 0.5046, 0.1273, 0.124], [0.4526, 0.46, 0.1102, 0.0652], [0.3851, 0.5351, 0.1724, 0.1421], [0.2733, 0.5351, 0.0994, 0.1025], [0.3121, 0.6231, 0.1102, 0.085], [0.3179, 0.7031, 0.0831, 0.1136], [0.3765, 0.6784, 0.132, 0.1339], [0.4833, 0.6056, 0.1126, 0.1025], [0.6526, 0.4557, 0.1436, 0.124], [0.6976, 0.5613, 0.1607, 0.1048], [0.5501, 0.6475, 0.0582, 0.0606], [0.613, 0.5745, 0.0955, 0.0891], [0.7135, 0.6685, 0.1165, 0.0908], [0.6766, 0.7323, 0.1002, 0.0868], [0.788, 0.7264, 0.0963, 0.0821]]\n",
            "Processing IMG_1276.jpg: [[0.5594, 0.1628, 0.1902, 0.1846], [0.5679, 0.3436, 0.1669, 0.1491], [0.3556, 0.2786, 0.1646, 0.1473], [0.3843, 0.4329, 0.1304, 0.1287], [0.5776, 0.4938, 0.146, 0.1304], [0.4227, 0.5337, 0.1219, 0.1159], [0.4678, 0.5747, 0.0862, 0.0827], [0.521, 0.5974, 0.132, 0.113], [0.6075, 0.6458, 0.111, 0.1048], [0.4177, 0.9707, 0.0637, 0.0559], [0.3606, 0.9719, 0.0831, 0.0547]]\n",
            "Processing IMG_20191215_112335.jpg: [[0.4384, 0.3248, 0.2938, 0.226], [0.4045, 0.1941, 0.1717, 0.109], [0.3762, 0.5192, 0.2026, 0.1491], [0.5423, 0.5963, 0.2109, 0.1779], [0.6403, 0.7429, 0.1793, 0.1412], [0.3258, 0.8014, 0.067, 0.0537], [0.5367, 0.807, 0.0836, 0.0695], [0.5322, 0.8895, 0.1213, 0.1068], [0.5585, 0.9573, 0.1092, 0.074]]\n",
            "Processing IMG_20191215_111516.jpg: [[0.6044, 0.6977, 0.2772, 0.2057]]\n",
            "Processing IMG_1283.jpg: [[0.9441, 0.2539, 0.1118, 0.1072], [0.8994, 0.1412, 0.1778, 0.1007], [0.7325, 0.1852, 0.1669, 0.1095], [0.6724, 0.2309, 0.146, 0.0891], [0.9736, 0.4024, 0.0528, 0.0408], [0.8245, 0.421, 0.1103, 0.1025], [0.7628, 0.3334, 0.0784, 0.1031], [0.7345, 0.3881, 0.0839, 0.0448], [0.6758, 0.3182, 0.17, 0.1066], [0.9146, 0.502, 0.0652, 0.0396], [0.8587, 0.4886, 0.0621, 0.0757], [0.6242, 0.3832, 0.0947, 0.0885], [0.7189, 0.4778, 0.1227, 0.0984], [0.4324, 0.209, 0.1755, 0.1491], [0.4682, 0.3776, 0.1273, 0.1299], [0.3319, 0.3968, 0.1498, 0.1287], [0.446, 0.5008, 0.0955, 0.1211], [0.6595, 0.5546, 0.1467, 0.1345], [0.6025, 0.6222, 0.0978, 0.1019], [0.5171, 0.5247, 0.1646, 0.1584], [0.5419, 0.665, 0.1537, 0.1339], [0.507, 0.7256, 0.132, 0.099], [0.5904, 0.7433, 0.0862, 0.0844], [0.4111, 0.6036, 0.1141, 0.0879], [0.3839, 0.6889, 0.0846, 0.0745], [0.2973, 0.6618, 0.1134, 0.1031], [0.3028, 0.759, 0.0994, 0.0926], [0.4697, 0.7911, 0.1071, 0.0891]]\n",
            "Processing IMG_1226.jpg: [[0.9631, 0.5919, 0.0722, 0.1275], [0.9018, 0.6106, 0.0598, 0.0507], [0.9328, 0.6536, 0.1126, 0.0809], [0.2789, 0.4882, 0.1302, 0.0957], [0.3848, 0.4503, 0.1164, 0.0842], [0.4122, 0.4024, 0.1138, 0.0773], [0.4571, 0.4583, 0.0516, 0.0413], [0.4553, 0.5102, 0.1011, 0.0747], [0.5339, 0.4436, 0.1092, 0.0793], [0.3667, 0.5108, 0.1138, 0.0582], [0.3726, 0.5466, 0.1103, 0.0547], [0.3537, 0.6233, 0.1093, 0.0842], [0.464, 0.5843, 0.099, 0.0751], [0.4931, 0.6381, 0.0837, 0.0616], [0.516, 0.6591, 0.0531, 0.0379], [0.2345, 0.0222, 0.0628, 0.0437], [0.2526, 0.0634, 0.0511, 0.0417], [0.2008, 0.0601, 0.0577, 0.0459]]\n",
            "Processing IMG_20191215_111640.jpg: [[0.4056, 0.6514, 0.2137, 0.1515], [0.5497, 0.5424, 0.2061, 0.1581], [0.3296, 0.5263, 0.2609, 0.1852], [0.695, 0.0693, 0.2457, 0.134], [0.9137, 0.0529, 0.1717, 0.1022]]\n",
            "Processing IMG_1266.jpg: [[0.679, 0.4693, 0.2446, 0.191], [0.6953, 0.6615, 0.1887, 0.1584], [0.5737, 0.688, 0.1211, 0.1427], [0.5815, 0.5439, 0.1584, 0.1479], [0.4662, 0.5116, 0.1716, 0.145], [0.4332, 0.5942, 0.1351, 0.0868], [0.3354, 0.3846, 0.1925, 0.145], [0.3529, 0.4536, 0.1343, 0.0908], [0.3311, 0.5209, 0.1048, 0.0903]]\n",
            "Processing IMG_20191215_110902.jpg: [[0.2361, 0.7586, 0.3185, 0.2507], [0.5567, 0.6813, 0.3832, 0.3101], [0.7055, 0.4477, 0.2871, 0.2533], [0.4592, 0.4588, 0.2533, 0.1891]]\n",
            "Processing IMG_20191215_111507.jpg: [[0.1086, 0.1273, 0.1776, 0.1489], [0.2242, 0.0293, 0.0664, 0.0568], [0.1555, 0.4717, 0.1957, 0.1328], [0.1534, 0.535, 0.1555, 0.0437], [0.2803, 0.3688, 0.0505, 0.0371], [0.4348, 0.5782, 0.1017, 0.0918], [0.542, 0.5981, 0.1312, 0.1011], [0.0269, 0.8414, 0.0537, 0.0971], [0.2036, 0.8218, 0.0991, 0.073], [0.9286, 0.7064, 0.0766, 0.0548], [0.8441, 0.8266, 0.0661, 0.0502], [0.8392, 0.8674, 0.0669, 0.0512]]\n",
            "Processing IMG_20191215_112901.jpg: [[0.3948, 0.3586, 0.1223, 0.1127], [0.566, 0.4086, 0.0955, 0.0887], [0.4647, 0.4843, 0.0885, 0.0812], [0.3596, 0.3996, 0.0973, 0.076], [0.3741, 0.4376, 0.0739, 0.0524], [0.3674, 0.4806, 0.0699, 0.059], [0.5165, 0.5193, 0.0648, 0.0611], [0.6109, 0.5355, 0.1413, 0.0965], [0.713, 0.5229, 0.1043, 0.0858], [0.738, 0.5738, 0.1342, 0.0904], [0.696, 0.6391, 0.1058, 0.0714], [0.719, 0.6773, 0.0729, 0.0429], [0.7046, 0.7871, 0.1018, 0.0718], [0.7704, 0.7052, 0.0825, 0.0668], [0.813, 0.6348, 0.1048, 0.0786], [0.4676, 0.4453, 0.0785, 0.0391], [0.6904, 0.4327, 0.1291, 0.087], [0.8099, 0.4553, 0.0542, 0.0433], [0.896, 0.4269, 0.0613, 0.041], [0.8631, 0.4637, 0.041, 0.0448], [0.8347, 0.4907, 0.0501, 0.0387], [0.9411, 0.1791, 0.0471, 0.0422], [0.958, 0.2229, 0.0415, 0.0334], [0.8671, 0.1724, 0.042, 0.0365], [0.9763, 0.1456, 0.0456, 0.0513], [0.2843, 0.3093, 0.04, 0.0338], [0.2625, 0.2892, 0.044, 0.033], [0.5966, 0.6049, 0.0507, 0.0332], [0.5846, 0.5859, 0.0606, 0.0301]]\n",
            "Processing IMG_0989.jpg: [[0.4592, 0.5852, 0.316, 0.2457]]\n",
            "Processing IMG_20191215_112039.jpg: [[0.5098, 0.3752, 0.1962, 0.1433], [0.3686, 0.4256, 0.1444, 0.107], [0.3073, 0.3422, 0.0257, 0.0204], [0.0758, 0.4606, 0.0375, 0.0276], [0.075, 0.4903, 0.0322, 0.0221], [0.0569, 0.5103, 0.0302, 0.0241], [0.0283, 0.5166, 0.0283, 0.0213], [0.5963, 0.503, 0.1909, 0.1361], [0.4534, 0.5196, 0.1326, 0.114], [0.6486, 0.6328, 0.1815, 0.1336], [0.5063, 0.6175, 0.1259, 0.104], [0.6017, 0.6971, 0.1279, 0.0924], [0.7594, 0.7069, 0.1513, 0.118], [0.6901, 0.7524, 0.1011, 0.0914], [0.2532, 0.8279, 0.0396, 0.0317], [0.2336, 0.8622, 0.0383, 0.0291], [0.2043, 0.8769, 0.0387, 0.03], [0.1757, 0.9136, 0.0361, 0.0267], [0.2811, 0.8139, 0.0339, 0.0254], [0.0357, 0.7468, 0.0282, 0.0221], [0.0539, 0.7566, 0.0277, 0.0211], [0.0103, 0.7292, 0.0198, 0.0198], [0.2814, 0.8376, 0.0308, 0.0228], [0.312, 0.874, 0.0277, 0.0208], [0.2695, 0.8911, 0.0255, 0.0221], [0.1625, 0.9717, 0.0344, 0.034]]\n",
            "Processing IMG_1077.jpg: [[0.2433, 0.2442, 0.101, 0.055], [0.1421, 0.019, 0.0505, 0.0379], [0.0808, 0.0289, 0.0689, 0.0486], [0.1916, 0.2159, 0.0311, 0.0237], [0.5081, 0.5594, 0.1108, 0.1095], [0.4395, 0.6511, 0.1562, 0.1145], [0.3774, 0.5661, 0.1812, 0.1306]]\n",
            "Processing IMG_0998.jpg: [[0.3196, 0.5815, 0.2159, 0.128], [0.533, 0.3958, 0.243, 0.1951], [0.3949, 0.4806, 0.1898, 0.1627], [0.2121, 0.4196, 0.2802, 0.2245]]\n",
            "Processing IMG_20191215_111324.jpg: [[0.085, 0.1802, 0.0734, 0.0686], [0.0751, 0.2601, 0.1095, 0.107], [0.6397, 0.4463, 0.1939, 0.1363], [0.5078, 0.5282, 0.1875, 0.1402], [0.5127, 0.6005, 0.1555, 0.0673], [0.7713, 0.6478, 0.0287, 0.0241], [0.7996, 0.6765, 0.0364, 0.035]]\n",
            "Processing IMG_1191.jpg: [[0.9689, 0.3011, 0.0602, 0.0716], [0.9576, 0.2594, 0.0817, 0.0571], [0.892, 0.1868, 0.0934, 0.0712], [0.8989, 0.1294, 0.0807, 0.062], [0.8057, 0.1015, 0.0914, 0.0743], [0.7246, 0.1526, 0.072, 0.0356], [0.3808, 0.0649, 0.0725, 0.0655], [0.1235, 0.0599, 0.1276, 0.0731], [0.1115, 0.1338, 0.1802, 0.139], [0.1776, 0.4013, 0.1828, 0.1302], [0.0438, 0.4034, 0.0868, 0.1068], [0.3055, 0.3314, 0.1772, 0.1252], [0.2309, 0.2347, 0.1261, 0.1011], [0.1748, 0.3115, 0.1271, 0.0869], [0.2965, 0.2485, 0.0459, 0.0475], [0.3307, 0.2678, 0.0439, 0.0241], [0.3792, 0.5316, 0.193, 0.1344], [0.2789, 0.6015, 0.1424, 0.1057], [0.1977, 0.5401, 0.1139, 0.0869], [0.1952, 0.4842, 0.0444, 0.031], [0.3573, 0.4625, 0.0725, 0.0345], [0.5293, 0.5339, 0.1348, 0.1015], [0.3289, 0.7179, 0.1006, 0.0927], [0.4392, 0.7198, 0.1537, 0.1264], [0.574, 0.6471, 0.1179, 0.0919], [0.528, 0.8439, 0.1241, 0.1034], [0.6633, 0.6723, 0.0853, 0.0636], [0.7565, 0.528, 0.1133, 0.085], [0.8762, 0.6649, 0.0648, 0.0502]]\n",
            "Processing IMG_20191215_111638.jpg: [[0.5113, 0.6723, 0.1805, 0.1315], [0.4955, 0.5562, 0.17, 0.1192], [0.3759, 0.6095, 0.145, 0.1026]]\n",
            "Processing IMG_20191215_111226.jpg: [[0.6906, 0.3876, 0.3319, 0.2424], [0.366, 0.3509, 0.3919, 0.2625], [0.8426, 0.4852, 0.0874, 0.076], [0.8065, 0.5402, 0.0897, 0.0437], [0.3913, 0.8075, 0.2562, 0.1686]]\n",
            "Processing IMG_20191215_110740.jpg: [[0.1153, 0.516, 0.2283, 0.1751], [0.3634, 0.5134, 0.276, 0.1673], [0.2245, 0.5614, 0.1217, 0.0843], [0.6915, 0.5859, 0.1846, 0.1315], [0.5846, 0.6815, 0.1677, 0.1323], [0.7352, 0.7005, 0.1392, 0.1066], [0.2531, 0.955, 0.1156, 0.0887], [0.2228, 0.8905, 0.121, 0.0994]]\n",
            "Processing IMG_20191215_112015.jpg: [[0.3088, 0.4858, 0.1235, 0.0915], [0.3295, 0.4463, 0.0942, 0.0576], [0.3239, 0.5649, 0.0994, 0.0746], [0.8011, 0.5847, 0.0851, 0.0588], [0.629, 0.5796, 0.113, 0.0723], [0.6369, 0.4768, 0.1228, 0.0915], [0.7205, 0.5282, 0.1439, 0.1119]]\n",
            "Processing IMG_1203.jpg: [[0.6922, 0.4248, 0.1669, 0.1287], [0.3952, 0.29, 0.219, 0.1805], [0.6067, 0.5127, 0.1949, 0.1415], [0.4022, 0.5567, 0.132, 0.1176], [0.2814, 0.5378, 0.2213, 0.1578], [0.4934, 0.7069, 0.1669, 0.1374], [0.3971, 0.826, 0.1452, 0.1264], [0.4255, 0.7684, 0.087, 0.0681], [0.875, 0.4434, 0.1072, 0.0914], [0.3987, 0.6807, 0.1312, 0.1095], [0.6553, 0.2198, 0.0978, 0.0926]]\n",
            "Processing IMG_1101.jpg: [[0.597, 0.513, 0.3044, 0.2271]]\n",
            "Processing IMG_20191215_111521.jpg: [[0.1167, 0.3125, 0.2312, 0.1725], [0.1138, 0.4658, 0.2265, 0.1463], [0.4848, 0.723, 0.2254, 0.1751], [0.614, 0.7979, 0.145, 0.11]]\n",
            "Processing IMG_20191215_111605.jpg: [[0.1808, 0.5815, 0.2684, 0.1655], [0.6606, 0.5319, 0.2615, 0.193], [0.5011, 0.5496, 0.2079, 0.1664], [0.628, 0.6787, 0.1951, 0.1861], [0.5008, 0.678, 0.0652, 0.059], [0.5733, 0.7739, 0.1392, 0.1109]]\n",
            "Processing IMG_1275.jpg: [[0.3598, 0.246, 0.2089, 0.1974], [0.3773, 0.3776, 0.1491, 0.131], [0.5109, 0.4807, 0.177, 0.1532], [0.4138, 0.492, 0.0947, 0.1223], [0.5268, 0.6181, 0.1405, 0.138], [0.6378, 0.6371, 0.1033, 0.092], [0.6172, 0.7331, 0.1118, 0.0943], [0.5834, 0.7011, 0.066, 0.0664], [0.9072, 0.902, 0.0862, 0.0606], [0.9623, 0.1034, 0.066, 0.0646], [0.9554, 0.0341, 0.066, 0.0681], [0.9305, 0.8496, 0.0691, 0.0431]]\n",
            "Processing IMG_20191215_111338.jpg: [[0.4548, 0.6278, 0.3773, 0.2782]]\n",
            "Processing IMG_20191215_111331.jpg: [[0.5066, 0.3776, 0.3203, 0.231], [0.3316, 0.5619, 0.3488, 0.2537], [0.6394, 0.561, 0.276, 0.1882], [0.5558, 0.7352, 0.3011, 0.2214]]\n",
            "Processing IMG_20191215_112325.jpg: [[0.6502, 0.0963, 0.1031, 0.0799], [0.6336, 0.1821, 0.0792, 0.0594], [0.7978, 0.2289, 0.1712, 0.1389], [0.8676, 0.3003, 0.0419, 0.0354], [0.6269, 0.3804, 0.1671, 0.1284], [0.7882, 0.4649, 0.1811, 0.1262], [0.5931, 0.4752, 0.0798, 0.0341], [0.7203, 0.4856, 0.0827, 0.0812], [0.6548, 0.5066, 0.0739, 0.062], [0.6071, 0.5311, 0.1473, 0.1074], [0.4699, 0.554, 0.0606, 0.045], [0.7422, 0.6195, 0.1497, 0.1053], [0.6155, 0.611, 0.1118, 0.0804], [0.7157, 0.6964, 0.1223, 0.0904], [0.6464, 0.7145, 0.0908, 0.0874], [0.736, 0.7516, 0.0326, 0.0245], [0.5709, 0.6338, 0.1008, 0.0835], [0.4869, 0.6576, 0.0886, 0.0649], [0.4529, 0.6807, 0.1018, 0.0839], [0.4005, 0.6405, 0.0557, 0.0687], [0.3256, 0.6524, 0.1479, 0.1056], [0.2281, 0.6171, 0.043, 0.0296], [0.1268, 0.6885, 0.1413, 0.101], [0.2198, 0.7476, 0.1398, 0.1022], [0.3486, 0.7899, 0.1099, 0.0843], [0.2744, 0.7931, 0.084, 0.0817], [0.276, 0.7379, 0.0709, 0.0843]]\n",
            "Processing IMG_1001.jpg: [[0.375, 0.6423, 0.4984, 0.382], [0.4212, 0.3858, 0.3377, 0.2521], [0.6906, 0.4746, 0.2523, 0.1945], [0.6017, 0.6277, 0.1817, 0.2061]]\n",
            "Processing IMG_1154.jpg: [[0.5341, 0.4476, 0.135, 0.1003], [0.3407, 0.5484, 0.1182, 0.0952], [0.6695, 0.5532, 0.1182, 0.0734], [0.519, 0.7089, 0.0938, 0.077], [0.3866, 0.6464, 0.0938, 0.0633], [0.3086, 0.6403, 0.0743, 0.0562], [0.3394, 0.7271, 0.1164, 0.098], [0.2684, 0.8006, 0.095, 0.0666], [0.1919, 0.694, 0.0551, 0.0655], [0.1656, 0.747, 0.073, 0.0551]]\n",
            "Processing IMG_20191215_111930.jpg: [[0.212, 0.8331, 0.0617, 0.0485], [0.1625, 0.8569, 0.0606, 0.0524], [0.1229, 0.827, 0.0641, 0.0511], [0.9596, 0.7149, 0.078, 0.0603], [0.9556, 0.768, 0.085, 0.0572], [0.9503, 0.8189, 0.0734, 0.0515], [0.9809, 0.8193, 0.0355, 0.0507], [0.6164, 0.811, 0.1706, 0.1284], [0.5413, 0.906, 0.152, 0.1288], [0.4032, 0.9228, 0.1287, 0.1188], [0.3637, 0.8409, 0.1741, 0.1245], [0.4024, 0.7232, 0.2038, 0.1424], [0.6807, 0.6564, 0.1817, 0.1371], [0.4327, 0.5588, 0.2096, 0.1577], [0.6775, 0.4717, 0.1648, 0.1336], [0.9608, 0.3332, 0.0769, 0.1284], [0.9454, 0.3651, 0.1066, 0.0952], [0.9829, 0.1653, 0.0326, 0.0948], [0.9649, 0.2133, 0.0687, 0.0721], [0.2325, 0.0679, 0.081, 0.0617], [0.1702, 0.0812, 0.0815, 0.0667], [0.1834, 0.138, 0.0753, 0.0548], [0.2497, 0.1425, 0.0617, 0.0558], [0.2543, 0.1943, 0.0401, 0.0492], [0.3688, 0.1214, 0.0665, 0.0518], [0.3855, 0.1658, 0.0418, 0.0396], [0.3672, 0.0672, 0.0432, 0.0584], [0.205, 0.0168, 0.0956, 0.0337], [0.3569, 0.1933, 0.0498, 0.0413]]\n",
            "Error processing IMG_20191215_111930.jpg: Expected y_min for bbox [     0.1572 -5.0001e-05      0.2528     0.03365           5] to be in the range [0.0, 1.0], got -5.000084638595581e-05.\n",
            "Processing IMG_20191215_111521_1.jpg: [[0.8665, 0.8892, 0.1735, 0.1694], [0.5162, 0.7304, 0.1893, 0.1446], [0.4664, 0.5811, 0.2026, 0.1603]]\n",
            "Processing IMG_20191215_111415.jpg: [[0.0702, 0.0378, 0.1403, 0.0756], [0.1045, 0.0908, 0.2032, 0.1441], [0.0204, 0.1716, 0.0408, 0.0638], [0.3864, 0.6322, 0.2626, 0.1882], [0.4638, 0.7287, 0.2684, 0.1996], [0.7122, 0.704, 0.2504, 0.1913], [0.5573, 0.811, 0.2259, 0.1293]]\n",
            "Processing IMG_20191215_112552.jpg: [[0.7282, 0.0389, 0.1147, 0.0777], [0.6874, 0.0981, 0.0821, 0.0721], [0.6592, 0.1308, 0.0326, 0.0258], [0.5576, 0.1395, 0.1147, 0.1], [0.3604, 0.1609, 0.0943, 0.0825], [0.5264, 0.2128, 0.0938, 0.0895], [0.4703, 0.2407, 0.0784, 0.0819], [0.3205, 0.2475, 0.1189, 0.0941], [0.3593, 0.3002, 0.1101, 0.0707], [0.3258, 0.3474, 0.118, 0.0905], [0.4568, 0.3142, 0.0911, 0.0703], [0.4154, 0.3588, 0.077, 0.0452], [0.435, 0.3941, 0.0986, 0.0717], [0.3472, 0.4217, 0.1008, 0.0687], [0.3767, 0.4417, 0.0744, 0.0525], [0.4319, 0.4461, 0.0608, 0.0456], [0.4397, 0.4944, 0.0938, 0.0687], [0.3853, 0.4957, 0.0423, 0.0528], [0.0881, 0.4091, 0.0383, 0.0244], [0.4208, 0.5483, 0.0789, 0.0543], [0.3343, 0.565, 0.0689, 0.0491], [0.3796, 0.5937, 0.0578, 0.0468], [0.9863, 0.9275, 0.0268, 0.054], [0.4281, 0.7743, 0.1195, 0.095], [0.5021, 0.7575, 0.0701, 0.058], [0.6044, 0.8132, 0.0815, 0.0787], [0.5383, 0.8234, 0.1187, 0.0968], [0.5182, 0.9268, 0.1413, 0.1186], [0.029, 0.6198, 0.0574, 0.0482], [0.0701, 0.5848, 0.0582, 0.0383]]\n",
            "Processing IMG_20191215_111438.jpg: [[0.8485, 0.0613, 0.0705, 0.0698], [0.7736, 0.0686, 0.0785, 0.0655], [0.9038, 0.0919, 0.0762, 0.0586], [0.5466, 0.5406, 0.093, 0.0744], [0.4744, 0.595, 0.1577, 0.1413], [0.3886, 0.8161, 0.0658, 0.0551], [0.3411, 0.8328, 0.0682, 0.0534], [0.0335, 0.6259, 0.0655, 0.0479], [0.0406, 0.5162, 0.0804, 0.0554], [0.7972, 0.3844, 0.1087, 0.0715]]\n",
            "Processing IMG_20191215_112907.jpg: [[0.0539, 0.0908, 0.0635, 0.0472], [0.0355, 0.0306, 0.0699, 0.0611], [0.1695, 0.3819, 0.1584, 0.1245], [0.276, 0.4394, 0.1794, 0.1537], [0.4047, 0.4599, 0.1211, 0.1074], [0.5255, 0.4107, 0.1473, 0.1262], [0.113, 0.4972, 0.1619, 0.1367], [0.1875, 0.5516, 0.1887, 0.1668], [0.4239, 0.568, 0.1677, 0.1358], [0.5721, 0.5697, 0.1462, 0.1219]]\n",
            "Processing IMG_20191215_111402.jpg: [[0.1971, 0.4265, 0.1019, 0.0669], [0.263, 0.3771, 0.1139, 0.0759], [0.6884, 0.8546, 0.3067, 0.2595], [0.4356, 0.8626, 0.2217, 0.1482], [0.4018, 0.7024, 0.3402, 0.2808], [0.7594, 0.6223, 0.4259, 0.2843]]\n",
            "Processing IMG_20191215_111356.jpg: [[0.5453, 0.5267, 0.2428, 0.1668], [0.4624, 0.6702, 0.3238, 0.2782], [0.2443, 0.7791, 0.2486, 0.1965], [0.2836, 0.8698, 0.1001, 0.0607], [0.8662, 0.9595, 0.1555, 0.0804]]\n",
            "Processing IMG_1042.jpg: [[0.4092, 0.4755, 0.2422, 0.1869], [0.6366, 0.442, 0.3075, 0.2388]]\n",
            "Processing IMG_20191215_111200.jpg: [[0.1851, 0.0459, 0.1362, 0.0919], [0.0919, 0.0735, 0.1089, 0.0809], [0.6256, 0.3395, 0.3215, 0.256], [0.3901, 0.6771, 0.2034, 0.1509], [0.2519, 0.6256, 0.1832, 0.1384]]\n",
            "Error processing IMG_20191215_111200.jpg: Expected y_min for bbox [      0.117 -5.0001e-05      0.2532     0.09185           2] to be in the range [0.0, 1.0], got -5.000084638595581e-05.\n",
            "Processing IMG_20191215_111504.jpg: [[0.6924, 0.6261, 0.3273, 0.2284], [0.4248, 0.6706, 0.2696, 0.2109]]\n",
            "Processing IMG_20191215_111426.jpg: [[0.0585, 0.0707, 0.117, 0.1319], [0.0742, 0.3745, 0.1007, 0.0834], [0.0215, 0.3533, 0.0431, 0.0777], [0.3679, 0.605, 0.0744, 0.0562], [0.3069, 0.62, 0.0679, 0.0535], [0.7236, 0.5978, 0.0901, 0.0729], [0.6112, 0.5865, 0.1519, 0.1249], [0.5347, 0.5744, 0.0992, 0.0817], [0.6471, 0.6365, 0.1458, 0.1025]]\n",
            "Error processing IMG_20191215_111426.jpg: Expected x_min for bbox [-4.9999e-05     0.31445     0.04305     0.39215           2] to be in the range [0.0, 1.0], got -4.999898374080658e-05.\n",
            "Processing IMG_1181.jpg: [[0.6379, 0.905, 0.1657, 0.1228], [0.5661, 0.8263, 0.2029, 0.1567], [0.9397, 0.7517, 0.1165, 0.1054], [0.8519, 0.6455, 0.1577, 0.1235], [0.6731, 0.6677, 0.234, 0.1755], [0.8468, 0.5069, 0.1717, 0.1386], [0.6992, 0.4681, 0.1577, 0.1243], [0.5521, 0.6919, 0.1024, 0.1107], [0.5556, 0.5389, 0.1717, 0.1348], [0.2231, 0.7581, 0.1476, 0.1213], [0.2493, 0.8169, 0.1255, 0.0701], [0.6053, 0.2821, 0.2209, 0.1665], [0.542, 0.4135, 0.1326, 0.11], [0.3115, 0.2516, 0.1657, 0.0934], [0.305, 0.3627, 0.2189, 0.1695], [0.2769, 0.5273, 0.2129, 0.1506], [0.1006, 0.5465, 0.1537, 0.1137], [0.1112, 0.731, 0.0944, 0.0685], [0.3301, 0.6109, 0.1707, 0.1205], [0.3803, 0.6734, 0.1245, 0.0814], [0.3748, 0.7408, 0.0633, 0.0535], [0.1368, 0.6421, 0.1235, 0.0836]]\n",
            "Processing IMG_20191215_110711.jpg: [[0.4667, 0.7016, 0.2976, 0.1944], [0.2227, 0.9595, 0.1333, 0.0795]]\n",
            "Processing IMG_1009.jpg: [[0.336, 0.4515, 0.2818, 0.166], [0.5858, 0.5464, 0.2049, 0.1568], [0.3888, 0.6305, 0.3112, 0.199]]\n",
            "Processing IMG_20191215_110758.jpg: [[0.4694, 0.5697, 0.2228, 0.148], [0.4854, 0.7126, 0.2127, 0.148], [0.6296, 0.6625, 0.1876, 0.1532]]\n",
            "Processing IMG_20191215_111913.jpg: [[0.0565, 0.0347, 0.0804, 0.0633], [0.6146, 0.3131, 0.1089, 0.0795], [0.49, 0.3583, 0.1229, 0.0922], [0.4428, 0.4029, 0.0996, 0.0712], [0.3596, 0.4476, 0.0961, 0.0533], [0.3535, 0.3961, 0.0955, 0.0664], [0.502, 0.4204, 0.0815, 0.0537], [0.5838, 0.432, 0.0938, 0.0726], [0.6479, 0.409, 0.0856, 0.041], [0.699, 0.4546, 0.0602, 0.0509], [0.6418, 0.4872, 0.0967, 0.063], [0.5332, 0.4681, 0.0759, 0.0543], [0.695, 0.5047, 0.0633, 0.0456], [0.576, 0.5074, 0.0663, 0.038], [0.615, 0.5395, 0.0623, 0.0558], [0.5729, 0.5569, 0.0998, 0.0695], [0.6003, 0.6183, 0.0775, 0.0638], [0.5041, 0.9849, 0.1008, 0.0292], [0.4562, 0.4625, 0.0784, 0.0519], [0.2404, 0.464, 0.1092, 0.0707], [0.3626, 0.5081, 0.0903, 0.0598], [0.3659, 0.5475, 0.0872, 0.0509], [0.4357, 0.5825, 0.0753, 0.0542], [0.3817, 0.6341, 0.0449, 0.0343], [0.3633, 0.6042, 0.0819, 0.0571], [0.3131, 0.5797, 0.081, 0.0565], [0.2162, 0.5946, 0.0634, 0.0287], [0.0718, 0.6727, 0.0757, 0.0548], [0.2067, 0.5588, 0.0982, 0.0647], [0.1821, 0.5063, 0.0325, 0.0293], [0.1196, 0.4854, 0.0417, 0.0313], [0.0718, 0.4615, 0.0348, 0.0281], [0.0316, 0.4569, 0.0402, 0.0293], [0.0883, 0.4295, 0.0402, 0.0273], [0.1018, 0.3891, 0.0429, 0.0322], [0.0471, 0.3858, 0.0436, 0.0324], [0.062, 0.3302, 0.0513, 0.0327], [0.0155, 0.3479, 0.031, 0.029], [0.1424, 0.3426, 0.0337, 0.0241], [0.1005, 0.329, 0.033, 0.0239], [0.1109, 0.2684, 0.0347, 0.0252], [0.0754, 0.2805, 0.0316, 0.0222], [0.0965, 0.3043, 0.0316, 0.0219], [0.0695, 0.2674, 0.033, 0.0232], [0.107, 0.3539, 0.0321, 0.0239], [0.0135, 0.375, 0.0269, 0.0447], [0.4592, 0.2888, 0.0185, 0.0267], [0.4725, 0.2703, 0.0344, 0.0175]]\n",
            "Processing IMG_20191215_110600.jpg: [[0.3208, 0.0366, 0.0549, 0.0724], [0.3905, 0.0595, 0.0792, 0.1181], [0.3518, 0.1088, 0.0676, 0.1128], [0.4158, 0.1549, 0.0752, 0.1003], [0.2963, 0.3009, 0.097, 0.117], [0.2106, 0.3011, 0.0953, 0.1313], [0.2716, 0.3866, 0.077, 0.0938], [0.1718, 0.4622, 0.0531, 0.0624], [0.1479, 0.5203, 0.0571, 0.0631], [0.1096, 0.6302, 0.0491, 0.0487], [0.2374, 0.7672, 0.0418, 0.05], [0.4309, 0.821, 0.0627, 0.0866], [0.4384, 0.9095, 0.0682, 0.091], [0.6389, 0.6238, 0.0433, 0.0493], [0.6557, 0.4126, 0.0851, 0.0834], [0.6717, 0.4922, 0.0984, 0.1436], [0.6786, 0.4725, 0.0811, 0.1042], [0.5947, 0.4528, 0.0591, 0.1011], [0.1951, 0.453, 0.0252, 0.0527], [0.0132, 0.4417, 0.0264, 0.0591], [0.8935, 0.0277, 0.0856, 0.054]]\n",
            "Processing IMG_1253.jpg: [[0.802, 0.642, 0.1398, 0.1042], [0.6545, 0.4152, 0.2252, 0.1596], [0.5703, 0.2536, 0.198, 0.1543], [0.4802, 0.5509, 0.0846, 0.0734], [0.4899, 0.4629, 0.1087, 0.1199], [0.413, 0.5334, 0.087, 0.0792], [0.335, 0.5803, 0.1731, 0.1264], [0.4526, 0.8947, 0.0466, 0.0413], [0.3548, 0.923, 0.0606, 0.0501], [0.3529, 0.7127, 0.1234, 0.0978], [0.2702, 0.7602, 0.0932, 0.0809], [0.1778, 0.6935, 0.1708, 0.0885], [0.1622, 0.7989, 0.2065, 0.1619], [0.0834, 0.84, 0.0707, 0.0705], [0.057, 0.854, 0.0706, 0.0588], [0.1339, 0.5349, 0.2011, 0.1497], [0.2166, 0.3893, 0.2438, 0.1764], [0.0652, 0.4696, 0.1273, 0.1031]]\n",
            "Processing IMG_1088.jpg: [[0.4825, 0.7576, 0.5148, 0.403], [0.408, 0.3558, 0.5272, 0.4111]]\n",
            "Processing IMG_0995.jpg: [[0.7411, 0.0565, 0.3145, 0.113], [0.6549, 0.4297, 0.344, 0.2469], [0.6572, 0.6697, 0.4309, 0.2935], [0.3105, 0.4909, 0.4348, 0.3517]]\n",
            "Processing IMG_20191215_111513.jpg: [[0.1301, 0.0378, 0.1531, 0.0756], [0.3543, 0.4699, 0.2475, 0.2096], [0.5838, 0.5066, 0.3337, 0.2254], [0.143, 0.5586, 0.1706, 0.1188], [0.0312, 0.5702, 0.0611, 0.1035], [0.0879, 0.8241, 0.0408, 0.0681], [0.2786, 0.7106, 0.3407, 0.2987], [0.0699, 0.6477, 0.0446, 0.0368], [0.9192, 0.3548, 0.0775, 0.0607]]\n",
            "Processing IMG_20191215_111137.jpg: [[0.2807, 0.3631, 0.2539, 0.1769], [0.0204, 0.1928, 0.0408, 0.0834], [0.0667, 0.2904, 0.0716, 0.0585], [0.0303, 0.3326, 0.0594, 0.0494], [0.0403, 0.4752, 0.0806, 0.0568], [0.2864, 0.4531, 0.1634, 0.0674], [0.0147, 0.515, 0.0286, 0.0367], [0.808, 0.661, 0.1682, 0.1265], [0.7294, 0.7513, 0.2285, 0.1664]]\n",
            "Processing IMG_20191215_111528.jpg: [[0.1424, 0.0662, 0.2452, 0.1323], [0.4606, 0.1371, 0.0757, 0.0664], [0.2492, 0.4066, 0.1246, 0.1188], [0.138, 0.4352, 0.205, 0.1402], [0.6359, 0.4132, 0.0804, 0.0533], [0.258, 0.6745, 0.1211, 0.0913], [0.8452, 0.6979, 0.0751, 0.048], [0.2306, 0.7645, 0.1595, 0.1236], [0.1272, 0.7202, 0.2312, 0.1721], [0.0466, 0.8097, 0.092, 0.0935]]\n",
            "Processing IMG_1112.jpg: [[0.8124, 0.3903, 0.091, 0.063], [0.7578, 0.4467, 0.0945, 0.0638], [0.6419, 0.3032, 0.0693, 0.0806], [0.5773, 0.2759, 0.1127, 0.0876], [0.4872, 0.1889, 0.1109, 0.0748], [0.5215, 0.3054, 0.1045, 0.0806], [0.4144, 0.2508, 0.0945, 0.0806], [0.4071, 0.336, 0.0928, 0.0766], [0.3662, 0.3593, 0.0546, 0.0414], [0.5365, 0.3773, 0.0816, 0.0652], [0.6252, 0.4306, 0.0675, 0.059], [0.5752, 0.4537, 0.0804, 0.0559], [0.5535, 0.5306, 0.0957, 0.0634], [0.3067, 0.3815, 0.0728, 0.0542], [0.2644, 0.343, 0.074, 0.0608], [0.3665, 0.4586, 0.0341, 0.0401], [0.1226, 0.2219, 0.1039, 0.0704], [0.1393, 0.2891, 0.074, 0.0515], [0.1819, 0.3071, 0.0429, 0.0427], [0.4182, 0.7283, 0.0775, 0.0643], [0.4326, 0.653, 0.0769, 0.059], [0.0718, 0.7547, 0.0575, 0.0423], [0.1276, 0.7589, 0.0446, 0.0339], [0.0175, 0.6838, 0.0335, 0.0484], [0.179, 0.7573, 0.0511, 0.0352], [0.2192, 0.7703, 0.0423, 0.0304], [0.5758, 0.7182, 0.1004, 0.0837], [0.5201, 0.7023, 0.0593, 0.0555], [0.5295, 0.6385, 0.0781, 0.0616], [0.6046, 0.7479, 0.0546, 0.0445], [0.5001, 0.7527, 0.0252, 0.0207], [0.5794, 0.8513, 0.0288, 0.0242], [0.6246, 0.6288, 0.0922, 0.0713], [0.6618, 0.9614, 0.0622, 0.0489], [0.8098, 0.8157, 0.0282, 0.0224], [0.7296, 0.7102, 0.0887, 0.0713], [0.5168, 0.8872, 0.027, 0.0185]]\n",
            "Processing IMG_1294.jpg: [[0.533, 0.4883, 0.2151, 0.1718], [0.4278, 0.3814, 0.1941, 0.1584], [0.4336, 0.2443, 0.1467, 0.1252], [0.4185, 0.5185, 0.1149, 0.1275], [0.4685, 0.6021, 0.1141, 0.0606], [0.5831, 0.6344, 0.1926, 0.1555], [0.6165, 0.7273, 0.1615, 0.1188], [0.6898, 0.6953, 0.0769, 0.1013]]\n",
            "Processing IMG_1245.jpg: [[0.6351, 0.2079, 0.1925, 0.1596], [0.4037, 0.283, 0.1894, 0.1491], [0.5481, 0.4353, 0.1832, 0.1392], [0.5703, 0.4999, 0.1374, 0.0821], [0.3315, 0.4373, 0.1832, 0.1363], [0.4802, 0.6041, 0.1576, 0.1205], [0.3338, 0.6222, 0.1382, 0.1019], [0.2403, 0.7101, 0.1048, 0.0856], [0.4899, 0.7247, 0.1258, 0.0891], [0.4666, 0.8184, 0.104, 0.0716], [0.361, 0.7835, 0.1118, 0.0786], [0.3785, 0.8315, 0.0846, 0.0629], [0.6405, 0.9378, 0.0621, 0.0553], [0.731, 0.8269, 0.052, 0.0431], [0.7822, 0.8397, 0.052, 0.0419], [0.8944, 0.566, 0.0807, 0.0489], [0.9709, 0.5369, 0.0582, 0.0547], [0.9111, 0.483, 0.0722, 0.0472], [0.9045, 0.6481, 0.0652, 0.0396], [0.9422, 0.5771, 0.0644, 0.0489], [0.8839, 0.6868, 0.0551, 0.0332], [0.8606, 0.5846, 0.066, 0.0419], [0.5869, 0.9771, 0.0513, 0.0408], [0.8727, 0.7139, 0.0497, 0.0338], [0.9779, 0.6254, 0.0427, 0.0443], [0.9775, 0.6807, 0.0435, 0.0454]]\n",
            "Processing IMG_20191215_110717.jpg: [[0.5843, 0.3072, 0.1788, 0.1419], [0.4126, 0.2546, 0.1811, 0.1555], [0.4728, 0.3621, 0.1095, 0.0978], [0.5631, 0.4005, 0.1351, 0.0943], [0.6592, 0.3363, 0.0745, 0.1083], [0.4515, 0.7369, 0.1361, 0.0954], [0.374, 0.8044, 0.1766, 0.142], [0.5193, 0.8328, 0.1801, 0.144]]\n",
            "Processing IMG_20191215_110809.jpg: [[0.1596, 0.311, 0.1805, 0.1258], [0.2955, 0.3361, 0.1555, 0.1131], [0.7713, 0.3413, 0.1601, 0.0956], [0.4667, 0.7975, 0.1333, 0.1066]]\n",
            "Processing IMG_20191215_110527.jpg: [[0.4876, 0.2286, 0.2056, 0.1519], [0.361, 0.2687, 0.1235, 0.0923], [0.6618, 0.424, 0.0476, 0.0361], [0.3233, 0.894, 0.1696, 0.1291], [0.4013, 0.8942, 0.1554, 0.1492]]\n",
            "Processing IMG_20191215_111355.jpg: [[0.3334, 0.8121, 0.2754, 0.2118], [0.4784, 0.7287, 0.1904, 0.1655], [0.3415, 0.6213, 0.251, 0.1865]]\n",
            "Processing IMG_20191215_112628.jpg: [[0.4155, 0.4701, 0.1811, 0.1384], [0.5433, 0.5601, 0.2178, 0.1463], [0.2705, 0.6903, 0.0705, 0.0467], [0.3465, 0.6601, 0.1165, 0.0904], [0.4426, 0.6518, 0.1304, 0.0913], [0.3555, 0.7238, 0.0517, 0.0418], [0.5215, 0.6986, 0.0516, 0.0338], [0.4626, 0.718, 0.116, 0.049], [0.5717, 0.7506, 0.076, 0.0535], [0.6352, 0.8186, 0.0542, 0.0399], [0.3114, 0.7442, 0.0516, 0.0467], [0.521, 0.7903, 0.0587, 0.0403], [0.5747, 0.8414, 0.082, 0.0649], [0.315, 0.7893, 0.0506, 0.0406], [0.2995, 0.8173, 0.0349, 0.0319]]\n",
            "Processing IMG_20191215_112421.jpg: [[0.5383, 0.1788, 0.1986, 0.1611], [0.5826, 0.3306, 0.2405, 0.1834], [0.3814, 0.6184, 0.17, 0.1328], [0.2492, 0.6254, 0.113, 0.0908], [0.4012, 0.7136, 0.1223, 0.0891], [0.3564, 0.7477, 0.0932, 0.0664], [0.3439, 0.8184, 0.0821, 0.0638], [0.5322, 0.6896, 0.0815, 0.062], [0.4816, 0.7359, 0.0617, 0.048], [0.5297, 0.7703, 0.0639, 0.052], [0.482, 0.8341, 0.059, 0.0491], [0.5303, 0.842, 0.0521, 0.0459], [0.5349, 0.8052, 0.0406, 0.027], [0.9145, 0.7646, 0.0747, 0.0589], [0.8875, 0.7439, 0.0559, 0.048], [0.7514, 0.7295, 0.0594, 0.0474], [0.8408, 0.6566, 0.1064, 0.0761], [0.7715, 0.5503, 0.0965, 0.0761], [0.7393, 0.6491, 0.0766, 0.0554], [0.7217, 0.5943, 0.0873, 0.06], [0.8416, 0.6156, 0.082, 0.0342]]\n",
            "Processing IMG_20191215_112523.jpg: [[0.4807, 0.1382, 0.2789, 0.2249], [0.5276, 0.3147, 0.2178, 0.1655], [0.6775, 0.3808, 0.2009, 0.1415], [0.382, 0.4506, 0.1747, 0.1333], [0.3036, 0.5672, 0.201, 0.1462], [0.4934, 0.5457, 0.1747, 0.1352], [0.6484, 0.6407, 0.2172, 0.1542], [0.4932, 0.6733, 0.1367, 0.123], [0.3364, 0.7614, 0.1321, 0.1179], [0.4436, 0.7828, 0.1819, 0.1463], [0.5946, 0.7321, 0.1554, 0.1156], [0.6204, 0.8309, 0.1541, 0.1149], [0.3886, 0.8636, 0.1193, 0.0885], [0.494, 0.8551, 0.1154, 0.0895]]\n",
            "Processing IMG_1072.jpg: [[0.4298, 0.3808, 0.2461, 0.1941], [0.4517, 0.4993, 0.2287, 0.1248], [0.4702, 0.2568, 0.0984, 0.0735], [0.5244, 0.1789, 0.1336, 0.1204]]\n",
            "Processing IMG_1231.jpg: [[0.9565, 0.626, 0.0854, 0.0932], [0.8731, 0.6318, 0.1141, 0.078], [0.9526, 0.9693, 0.0776, 0.0576], [0.7675, 0.6813, 0.0722, 0.0594], [0.7364, 0.7119, 0.052, 0.0425], [0.7314, 0.6018, 0.0606, 0.0472], [0.6859, 0.6397, 0.0691, 0.0507], [0.6894, 0.3002, 0.2003, 0.1543], [0.3544, 0.313, 0.2275, 0.1671], [0.0279, 0.6621, 0.0544, 0.1036], [0.5792, 0.4318, 0.1662, 0.124], [0.375, 0.5159, 0.1879, 0.1328], [0.5571, 0.6414, 0.1514, 0.1159], [0.4037, 0.7133, 0.1584, 0.1165], [0.564, 0.8045, 0.1483, 0.1135], [0.5831, 0.8682, 0.0916, 0.0524], [0.4949, 0.842, 0.0908, 0.0862], [0.4293, 0.8074, 0.1273, 0.0938]]\n",
            "Processing IMG_20191215_110755.jpg: [[0.4242, 0.4341, 0.2289, 0.124], [0.5011, 0.1657, 0.039, 0.0284], [0.4327, 0.212, 0.0396, 0.0284], [0.5779, 0.5307, 0.092, 0.0733], [0.6816, 0.5784, 0.1867, 0.137], [0.5112, 0.5561, 0.0396, 0.0297]]\n",
            "Processing IMG_1090.jpg: [[0.6385, 0.379, 0.1533, 0.1139], [0.5274, 0.2889, 0.162, 0.1261], [0.5061, 0.3927, 0.1951, 0.1615], [0.414, 0.4945, 0.1836, 0.1382], [0.3127, 0.3795, 0.2052, 0.1494], [0.2664, 0.4018, 0.0331, 0.0208], [0.445, 0.6469, 0.104, 0.0714], [0.8753, 0.1162, 0.0604, 0.0646], [0.8386, 0.1467, 0.0901, 0.0683], [0.8884, 0.0523, 0.0786, 0.0659], [0.842, 0.0568, 0.0284, 0.0296], [0.3834, 0.6124, 0.1421, 0.1035], [0.2689, 0.5791, 0.1154, 0.0822], [0.3645, 0.556, 0.0981, 0.0546], [0.1461, 0.7794, 0.0839, 0.0539]]\n",
            "Processing IMG_20191215_112450.jpg: [[0.464, 0.1782, 0.1597, 0.1588], [0.3036, 0.1212, 0.2651, 0.2119], [0.3939, 0.4401, 0.1597, 0.0836], [0.3695, 0.3652, 0.2041, 0.152], [0.2975, 0.5957, 0.128, 0.0684], [0.3122, 0.5076, 0.171, 0.126], [0.5118, 0.5144, 0.1921, 0.1486], [0.5687, 0.6598, 0.232, 0.174], [0.136, 0.9494, 0.1017, 0.1], [0.177, 0.9691, 0.0633, 0.0593], [0.0264, 0.9231, 0.0497, 0.096]]\n",
            "Processing IMG_20191215_111530.jpg: [[0.2227, 0.5225, 0.3919, 0.2537], [0.5919, 0.5632, 0.2615, 0.1804], [0.5733, 0.7501, 0.4781, 0.376], [0.1796, 0.7752, 0.3581, 0.2952], [0.8094, 0.4121, 0.0699, 0.0459], [0.8554, 0.4278, 0.0629, 0.059], [0.6036, 0.4241, 0.0565, 0.0393]]\n",
            "Processing IMG_20191215_112619.jpg: [[0.0754, 0.1839, 0.0868, 0.1013], [0.1657, 0.2046, 0.1229, 0.1009], [0.4813, 0.3514, 0.2079, 0.176], [0.2053, 0.4411, 0.0507, 0.041], [0.6318, 0.4743, 0.1642, 0.1223], [0.4434, 0.5551, 0.1671, 0.1284], [0.465, 0.6582, 0.1508, 0.1066], [0.582, 0.7237, 0.1834, 0.1319], [0.0597, 0.7138, 0.1194, 0.0607], [0.382, 0.7606, 0.1957, 0.1463], [0.4693, 0.8689, 0.1852, 0.1524], [0.6633, 0.8385, 0.0734, 0.055], [0.5587, 0.8473, 0.0518, 0.0725], [0.229, 0.3752, 0.0723, 0.0552]]\n",
            "Processing IMG_1034.jpg: [[0.887, 0.1957, 0.1235, 0.1351], [0.5835, 0.6237, 0.2275, 0.1829], [0.5373, 0.5002, 0.1413, 0.0874], [0.3664, 0.5049, 0.2578, 0.1619], [0.3602, 0.7104, 0.3649, 0.2865]]\n",
            "Processing IMG_20191215_111149.jpg: [[0.3689, 0.7901, 0.237, 0.1921], [0.4436, 0.702, 0.1673, 0.1209], [0.3639, 0.624, 0.1597, 0.1298], [0.5343, 0.4161, 0.2898, 0.2125], [0.6838, 0.3851, 0.1976, 0.1648]]\n",
            "Processing IMG_20191215_111719.jpg: [[0.1144, 0.3773, 0.2288, 0.2053], [0.3479, 0.418, 0.2556, 0.1895], [0.7244, 0.716, 0.1607, 0.1262], [0.7055, 0.597, 0.1601, 0.1205]]\n",
            "Processing IMG_20191215_110604.jpg: [[0.287, 0.0446, 0.0546, 0.0795], [0.3591, 0.0599, 0.0802, 0.1199], [0.324, 0.1132, 0.0732, 0.1128], [0.3894, 0.154, 0.0769, 0.1003], [0.2797, 0.3136, 0.1008, 0.117], [0.1933, 0.3231, 0.0981, 0.1328], [0.2597, 0.404, 0.0799, 0.093], [0.1605, 0.4882, 0.0521, 0.0621], [0.1396, 0.5492, 0.0571, 0.0645], [0.1088, 0.6633, 0.0468, 0.0517], [0.2465, 0.786, 0.0428, 0.048], [0.448, 0.8187, 0.0647, 0.0839], [0.4621, 0.905, 0.0667, 0.0893], [0.6368, 0.5943, 0.043, 0.052], [0.6754, 0.4429, 0.0801, 0.1051], [0.6684, 0.4629, 0.0997, 0.1383], [0.5903, 0.433, 0.0634, 0.0994], [0.6464, 0.3865, 0.0864, 0.0843]]\n",
            "Error processing IMG_20191215_110604.jpg: Expected y_min for bbox [      0.319 -5.0001e-05      0.3992     0.11985           1] to be in the range [0.0, 1.0], got -5.000084638595581e-05.\n",
            "Processing IMG_20191215_112926.jpg: [[0.7189, 0.3524, 0.1951, 0.1223], [0.5305, 0.4998, 0.1433, 0.1288], [0.6647, 0.4758, 0.1345, 0.1192], [0.4836, 0.5861, 0.0693, 0.0708], [0.5509, 0.6051, 0.1246, 0.1079], [0.6516, 0.6263, 0.1235, 0.1197], [0.7375, 0.583, 0.1543, 0.1267], [0.5069, 0.6512, 0.0623, 0.0585], [0.5669, 0.699, 0.1031, 0.1009], [0.5232, 0.7127, 0.0658, 0.0917], [0.6429, 0.7254, 0.113, 0.0987], [0.7061, 0.7582, 0.0658, 0.0664], [0.7724, 0.7012, 0.145, 0.1122], [0.8097, 0.7221, 0.1124, 0.1026], [0.7491, 0.8141, 0.0576, 0.0681], [0.7151, 0.8879, 0.1071, 0.1013], [0.8706, 0.8383, 0.1269, 0.0991], [0.8924, 0.918, 0.1182, 0.1109], [0.5534, 0.946, 0.0527, 0.041], [0.4894, 0.9435, 0.0481, 0.0452], [0.4005, 0.8982, 0.0435, 0.041], [0.4005, 0.9388, 0.0405, 0.0486], [0.0281, 0.421, 0.038, 0.033], [0.3932, 0.4652, 0.042, 0.0372], [0.3917, 0.4937, 0.037, 0.0311], [0.4322, 0.4962, 0.0339, 0.0323], [0.0413, 0.4726, 0.0319, 0.0292], [0.3805, 0.5167, 0.036, 0.0308]]\n",
            "Processing IMG_20191215_110958.jpg: [[0.1194, 0.7114, 0.1188, 0.0795], [0.8158, 0.464, 0.1735, 0.1262], [0.6691, 0.4328, 0.1491, 0.1127], [0.4313, 0.6883, 0.1007, 0.0741]]\n",
            "Processing IMG_20191215_112630.jpg: [[0.6303, 0.7836, 0.0894, 0.0726], [0.5662, 0.8087, 0.1022, 0.076], [0.5799, 0.8584, 0.0907, 0.0617], [0.557, 0.6157, 0.14, 0.1119], [0.4733, 0.6935, 0.1312, 0.1149], [0.3789, 0.5867, 0.1607, 0.1232], [0.3767, 0.5056, 0.1043, 0.0634], [0.3958, 0.3269, 0.2131, 0.1645], [0.2721, 0.4143, 0.3487, 0.2573]]\n",
            "Processing IMG_20191215_112506.jpg: [[0.4953, 0.3909, 0.2568, 0.1764], [0.2268, 0.4324, 0.2056, 0.1415], [0.4102, 0.5411, 0.1858, 0.1249], [0.2376, 0.5867, 0.1968, 0.1446], [0.3476, 0.6007, 0.0804, 0.0712], [0.4537, 0.7506, 0.1246, 0.0984], [0.378, 0.8305, 0.1149, 0.0931], [0.4441, 0.829, 0.0489, 0.0637], [0.7013, 0.4827, 0.1478, 0.1018], [0.7281, 0.5993, 0.161, 0.1231], [0.8183, 0.6811, 0.1043, 0.0771], [0.7238, 0.706, 0.123, 0.0911], [0.7995, 0.7371, 0.0942, 0.0585], [0.8963, 0.7561, 0.1043, 0.079], [0.8056, 0.811, 0.1236, 0.0968]]\n",
            "Processing IMG_20191215_111744.jpg: [[0.5931, 0.1954, 0.131, 0.114], [0.5503, 0.2671, 0.1211, 0.0983], [0.6466, 0.3182, 0.1225, 0.1048], [0.5843, 0.3482, 0.083, 0.0881], [0.6375, 0.4084, 0.1246, 0.0923], [0.455, 0.514, 0.2112, 0.1432], [0.6276, 0.5852, 0.1767, 0.1466], [0.5251, 0.6116, 0.0871, 0.09], [0.4724, 0.6029, 0.0851, 0.0528], [0.5418, 0.8218, 0.114, 0.106], [0.4302, 0.8512, 0.1154, 0.0987], [0.5075, 0.9086, 0.1158, 0.0994]]\n",
            "Processing IMG_20191215_110752.jpg: [[0.5495, 0.5946, 0.1788, 0.1291], [0.3045, 0.4116, 0.2232, 0.1707], [0.2818, 0.317, 0.1717, 0.0826], [0.4101, 0.4501, 0.1519, 0.1295]]\n",
            "Processing IMG_1216.jpg: [[0.6165, 0.3069, 0.1568, 0.1269], [0.6739, 0.4059, 0.1506, 0.1048], [0.5955, 0.5284, 0.177, 0.1182], [0.4627, 0.7643, 0.1506, 0.1159], [0.3695, 0.7008, 0.0963, 0.0996], [0.3991, 0.5972, 0.1568, 0.1182], [0.3428, 0.5052, 0.1343, 0.1054], [0.2337, 0.4688, 0.1599, 0.106], [0.2178, 0.5843, 0.1731, 0.1229]]\n",
            "Processing IMG_20191215_112509.jpg: [[0.5119, 0.4479, 0.1572, 0.121], [0.4385, 0.6082, 0.1875, 0.1463], [0.5398, 0.6272, 0.1141, 0.1205], [0.4787, 0.7309, 0.1479, 0.1157], [0.3725, 0.802, 0.1462, 0.1205], [0.5006, 0.8406, 0.1347, 0.1093]]\n",
            "Processing IMG_1143.jpg: [[0.3341, 0.3382, 0.1948, 0.1431], [0.6726, 0.3793, 0.1747, 0.1303], [0.3743, 0.4994, 0.1366, 0.0889], [0.5194, 0.4734, 0.1316, 0.1137]]\n",
            "Processing IMG_20191215_111535.jpg: [[0.5779, 0.2826, 0.2486, 0.2], [0.2912, 0.3686, 0.2667, 0.207], [0.4816, 0.4138, 0.1549, 0.107], [0.4245, 0.5121, 0.2446, 0.1664], [0.6036, 0.5077, 0.159, 0.135], [0.366, 0.6392, 0.3278, 0.2389], [0.688, 0.6516, 0.1508, 0.1555], [0.5707, 0.7743, 0.2842, 0.207], [0.3976, 0.9466, 0.1175, 0.106]]\n",
            "Processing IMG_20191215_111453.jpg: [[0.5544, 0.6234, 0.1409, 0.1035], [0.2879, 0.2502, 0.0507, 0.0376], [0.2734, 0.2882, 0.0541, 0.0341]]\n",
            "Processing IMG_20191215_112412.jpg: [[0.2108, 0.1957, 0.1223, 0.0812], [0.3508, 0.1544, 0.117, 0.1009], [0.7209, 0.074, 0.12, 0.0991], [0.6295, 0.1304, 0.1491, 0.0939], [0.8059, 0.1773, 0.1805, 0.1433], [0.6295, 0.2789, 0.2877, 0.2258], [0.4629, 0.2854, 0.1304, 0.1437], [0.3692, 0.3219, 0.1118, 0.0533], [0.2888, 0.2644, 0.0582, 0.0878], [0.3741, 0.3708, 0.1392, 0.0917], [0.3305, 0.4586, 0.1695, 0.1328], [0.43, 0.5402, 0.1939, 0.1502], [0.5063, 0.6603, 0.1893, 0.1537], [0.4661, 0.7066, 0.1543, 0.1136], [0.5372, 0.8342, 0.1776, 0.1476], [0.8461, 0.8433, 0.0606, 0.0524], [0.8988, 0.8702, 0.0681, 0.052], [0.8866, 0.9167, 0.0728, 0.0611], [0.941, 0.8374, 0.0629, 0.0459], [0.95, 0.8905, 0.0518, 0.0446], [0.9107, 0.977, 0.0699, 0.0454], [0.8525, 0.9067, 0.0384, 0.0577], [0.8528, 0.9316, 0.0612, 0.0445]]\n",
            "Processing IMG_1123.jpg: [[0.8397, 0.612, 0.1048, 0.0827], [0.8075, 0.5247, 0.1087, 0.0839], [0.6502, 0.4635, 0.0877, 0.0699], [0.5295, 0.5314, 0.0885, 0.067], [0.4383, 0.5893, 0.0955, 0.0722], [0.5505, 0.693, 0.1304, 0.0967], [0.6471, 0.6848, 0.066, 0.0547], [0.5272, 0.7494, 0.0481, 0.0361], [0.6316, 0.7608, 0.1141, 0.0903], [0.228, 0.5568, 0.0928, 0.0735], [0.1473, 0.6369, 0.1321, 0.0832], [0.7907, 0.4744, 0.0499, 0.033]]\n",
            "Processing IMG_20191215_112342.jpg: [[0.7625, 0.1679, 0.3267, 0.2703], [0.948, 0.2138, 0.1013, 0.0817], [0.9058, 0.3439, 0.0844, 0.0511], [0.4268, 0.5016, 0.1933, 0.1585], [0.5776, 0.5658, 0.1223, 0.1053], [0.4452, 0.585, 0.159, 0.0965], [0.0696, 0.6909, 0.1392, 0.1205], [0.536, 0.7232, 0.0659, 0.0445], [0.4931, 0.7628, 0.1378, 0.1129], [0.4373, 0.7341, 0.075, 0.0577]]\n",
            "Processing IMG_1232.jpg: [[0.4938, 0.5354, 0.2919, 0.2265], [0.1273, 0.2588, 0.2531, 0.2417], [0.5749, 0.9503, 0.153, 0.0978], [0.3008, 0.5325, 0.1467, 0.1636], [0.3067, 0.5363, 0.1196, 0.1328], [0.0718, 0.4466, 0.1421, 0.1689], [0.1859, 0.6475, 0.1856, 0.1316], [0.097, 0.7369, 0.1398, 0.1159], [0.5815, 0.8647, 0.1118, 0.1013]]\n",
            "Processing IMG_20191215_111303.jpg: [[0.216, 0.1173, 0.0955, 0.0773], [0.2178, 0.0135, 0.1456, 0.0271], [0.3421, 0.459, 0.3325, 0.2376], [0.5567, 0.5983, 0.3622, 0.2682], [0.2516, 0.6922, 0.3669, 0.2612], [0.7494, 0.7473, 0.3401, 0.2681]]\n",
            "Error processing IMG_20191215_111303.jpg: Expected y_min for bbox [      0.145      -5e-05      0.2906     0.02705           2] to be in the range [0.0, 1.0], got -4.9999915063381195e-05.\n",
            "Processing IMG_20191215_112036.jpg: [[0.4344, 0.3317, 0.1258, 0.0991], [0.2769, 0.3367, 0.0949, 0.0611], [0.2795, 0.5038, 0.0536, 0.038], [0.3968, 0.5009, 0.0961, 0.0725], [0.6525, 0.5167, 0.0868, 0.0341], [0.644, 0.5902, 0.099, 0.059], [0.6266, 0.6444, 0.0838, 0.0581], [0.7125, 0.8547, 0.039, 0.0341], [0.6964, 0.8687, 0.0361, 0.0315], [0.3098, 0.7887, 0.0291, 0.0271], [0.361, 0.6828, 0.0384, 0.0258]]\n",
            "Processing IMG_1180.jpg: [[0.5349, 0.3246, 0.132, 0.1112], [0.3917, 0.1368, 0.1079, 0.1106], [0.3587, 0.3398, 0.1289, 0.1031], [0.3422, 0.3954, 0.0616, 0.0361], [0.2805, 0.3212, 0.0241, 0.0163], [0.2752, 0.4355, 0.0628, 0.0458], [0.0786, 0.4366, 0.0922, 0.0665], [0.1525, 0.448, 0.071, 0.0401], [0.1669, 0.5264, 0.0481, 0.0339], [0.0906, 0.5495, 0.0892, 0.0616], [0.4749, 0.5422, 0.1368, 0.0982], [0.4611, 0.6695, 0.1151, 0.0876], [0.3783, 0.6213, 0.1069, 0.0819], [0.3337, 0.6816, 0.0881, 0.0766], [0.4681, 0.7835, 0.0975, 0.0718], [0.3912, 0.7749, 0.0587, 0.0572], [0.4716, 0.8668, 0.0763, 0.0647], [0.4106, 0.8372, 0.0505, 0.0436], [0.9407, 0.05, 0.0564, 0.0489], [0.8591, 0.0751, 0.0517, 0.0427], [0.7575, 0.0544, 0.0481, 0.0383], [0.8846, 0.2237, 0.0581, 0.044], [0.8714, 0.1909, 0.0622, 0.048], [0.9445, 0.2692, 0.0429, 0.0313], [0.9466, 0.0154, 0.0634, 0.0308], [0.9293, 0.1262, 0.044, 0.0277], [0.8077, 0.0192, 0.0511, 0.0365], [0.8805, 0.3461, 0.0464, 0.0308], [0.8071, 0.2778, 0.0593, 0.044], [0.7514, 0.2814, 0.0546, 0.0423], [0.6742, 0.2241, 0.0528, 0.0467], [0.6287, 0.2461, 0.0581, 0.0449], [0.7379, 0.3989, 0.0499, 0.0361], [0.6439, 0.4137, 0.0335, 0.0269], [0.6692, 0.367, 0.044, 0.0374], [0.9774, 0.0953, 0.0217, 0.0163], [0.9472, 0.341, 0.0176, 0.0172], [0.7255, 0.0865, 0.0217, 0.0163], [0.7933, 0.2298, 0.0528, 0.0388], [0.8623, 0.3349, 0.0511, 0.0418], [0.3023, 0.6539, 0.064, 0.044], [0.2488, 0.6851, 0.0593, 0.0423], [0.2306, 0.6523, 0.0663, 0.048], [0.1928, 0.9172, 0.0634, 0.0493], [0.6901, 0.5061, 0.0148, 0.0127], [0.8437, 0.1122, 0.0425, 0.0339], [0.8137, 0.3324, 0.05, 0.039], [0.6857, 0.3005, 0.0439, 0.0309], [0.6928, 0.2656, 0.0459, 0.0359]]\n",
            "Processing IMG_1202.jpg: [[0.2696, 0.9414, 0.0556, 0.041], [0.2298, 0.9469, 0.0426, 0.036], [0.2127, 0.9262, 0.0519, 0.0406], [0.4684, 0.814, 0.0448, 0.0346], [0.468, 0.8625, 0.0422, 0.0323], [0.4487, 0.4645, 0.0364, 0.0246], [0.4058, 0.4586, 0.036, 0.027], [0.3958, 0.4768, 0.0408, 0.03], [0.418, 0.5164, 0.0364, 0.0293], [0.3676, 0.4994, 0.0377, 0.028], [0.3479, 0.4718, 0.0444, 0.03], [0.4098, 0.5349, 0.0315, 0.023]]\n",
            "Processing IMG_20191215_111413.jpg: [[0.6967, 0.958, 0.0693, 0.0729], [0.4105, 0.5684, 0.1957, 0.1393]]\n",
            "Processing IMG_20191215_110850.jpg: [[0.5079, 0.5995, 0.3342, 0.2374]]\n",
            "Processing IMG_20191215_112346.jpg: [[0.0792, 0.2238, 0.0652, 0.0502], [0.0772, 0.2716, 0.0658, 0.0472], [0.0699, 0.3234, 0.0571, 0.0476], [0.3762, 0.2775, 0.1293, 0.1297], [0.5945, 0.4324, 0.1258, 0.09], [0.306, 0.3915, 0.1729, 0.1306], [0.536, 0.5245, 0.1764, 0.1415], [0.3776, 0.5527, 0.1252, 0.0974], [0.502, 0.6086, 0.1083, 0.0799], [0.6344, 0.6927, 0.1159, 0.0926], [0.4982, 0.7031, 0.1264, 0.1022], [0.0338, 0.8045, 0.0675, 0.0664], [0.1101, 0.842, 0.0932, 0.0725], [0.0294, 0.9285, 0.0588, 0.0943]]\n",
            "Processing IMG_1061.jpg: [[0.7578, 0.529, 0.2422, 0.1823], [0.571, 0.6653, 0.403, 0.2323], [0.2857, 0.6667, 0.2702, 0.2003], [0.3579, 0.5037, 0.3183, 0.2026]]\n",
            "Processing IMG_1041.jpg: [[0.5827, 0.5622, 0.3673, 0.2836], [0.2907, 0.5637, 0.2818, 0.2155], [0.0946, 0.7, 0.1472, 0.1058], [0.205, 0.7887, 0.1789, 0.1443], [0.1021, 0.9066, 0.1715, 0.121]]\n",
            "Processing IMG_20191215_112715.jpg: [[0.6507, 0.349, 0.1368, 0.0926], [0.6138, 0.4407, 0.1397, 0.1057], [0.8391, 0.4223, 0.0862, 0.0978], [0.7113, 0.5252, 0.1007, 0.1026], [0.3241, 0.4433, 0.1427, 0.1118], [0.3182, 0.554, 0.1485, 0.1096], [0.435, 0.5027, 0.1328, 0.0882], [0.4341, 0.5795, 0.1089, 0.0769], [0.2737, 0.6608, 0.0885, 0.0812], [0.3706, 0.6542, 0.1147, 0.0908], [0.4685, 0.6922, 0.1054, 0.0891], [0.3214, 0.7289, 0.1025, 0.0952], [0.4335, 0.7315, 0.0798, 0.0786], [0.5285, 0.7082, 0.06, 0.0799], [0.5913, 0.7374, 0.0542, 0.0694], [0.6539, 0.7368, 0.092, 0.0891], [0.6959, 0.689, 0.0431, 0.0354], [0.0224, 0.3677, 0.0448, 0.0341], [0.0609, 0.3704, 0.039, 0.0367], [0.0588, 0.0745, 0.041, 0.032], [0.1325, 0.1191, 0.0405, 0.0334], [0.1301, 0.1319, 0.0392, 0.0347], [0.1195, 0.1564, 0.0304, 0.0261]]\n",
            "Processing IMG_1016.jpg: [[0.4522, 0.5628, 0.2244, 0.2032], [0.3692, 0.5092, 0.2694, 0.244], [0.1685, 0.5974, 0.2298, 0.1654], [0.5093, 0.9646, 0.1335, 0.0693]]\n",
            "Processing IMG_1164.jpg: [[0.5295, 0.6691, 0.3401, 0.2586], [0.3913, 0.5002, 0.2252, 0.1747], [0.3606, 0.3238, 0.2104, 0.1793], [0.5303, 0.8487, 0.1832, 0.1264]]\n",
            "Processing IMG_20191215_110907.jpg: [[0.4498, 0.518, 0.1834, 0.1424], [0.5916, 0.5376, 0.1258, 0.131], [0.5418, 0.6116, 0.145, 0.1131], [0.3765, 0.5833, 0.1252, 0.0904]]\n",
            "Processing IMG_20191215_112623.jpg: [[0.6324, 0.1077, 0.2178, 0.1839], [0.5098, 0.2502, 0.1928, 0.1555], [0.336, 0.3985, 0.2434, 0.1786], [0.4062, 0.6306, 0.1613, 0.1284], [0.4696, 0.7114, 0.1485, 0.1345], [0.5008, 0.794, 0.1339, 0.1057], [0.3881, 0.8008, 0.1124, 0.1087], [0.2644, 0.7933, 0.1689, 0.1315], [0.2472, 0.9012, 0.138, 0.1105], [0.3424, 0.9189, 0.1269, 0.1127]]\n",
            "Processing IMG_20191215_111332.jpg: [[0.9585, 0.9289, 0.0804, 0.1109], [0.4923, 0.5678, 0.2952, 0.2315], [0.7151, 0.6306, 0.2003, 0.1467], [0.3744, 0.4127, 0.2923, 0.193], [0.7628, 0.2251, 0.0687, 0.0485], [0.7934, 0.2524, 0.0576, 0.0402]]\n",
            "Processing IMG_20191215_111114.jpg: [[0.6222, 0.3104, 0.2124, 0.1655], [0.8188, 0.3367, 0.1868, 0.1367], [0.6956, 0.4347, 0.168, 0.1181], [0.3461, 0.7449, 0.1333, 0.1], [0.2968, 0.5387, 0.0994, 0.0706], [0.3665, 0.5319, 0.0595, 0.0593], [0.2862, 0.487, 0.1085, 0.0554], [0.1766, 0.4313, 0.0836, 0.057], [0.1431, 0.4062, 0.0377, 0.0271], [0.2041, 0.389, 0.0813, 0.0548], [0.2825, 0.413, 0.1311, 0.0972], [0.3348, 0.3918, 0.0731, 0.0661], [0.383, 0.3943, 0.046, 0.0305]]\n",
            "Processing IMG_1100.jpg: [[0.316, 0.4635, 0.3183, 0.2248], [0.505, 0.5063, 0.229, 0.1869], [0.5543, 0.6172, 0.2143, 0.1351]]\n",
            "Processing IMG_1064.jpg: [[0.9632, 0.5459, 0.0737, 0.0769], [0.8739, 0.5404, 0.1172, 0.0779], [0.0769, 0.46, 0.0599, 0.0476], [0.2813, 0.6928, 0.1065, 0.0752], [0.6142, 0.5335, 0.1252, 0.0962], [0.5683, 0.4658, 0.1061, 0.0752], [0.5203, 0.3869, 0.1256, 0.1045], [0.4886, 0.5057, 0.1527, 0.1272]]\n",
            "Error processing IMG_1064.jpg: Expected x_max for bbox [    0.92635     0.50745           1     0.58435           2] to be in the range [0.0, 1.0], got 1.0000499486923218.\n",
            "Processing IMG_20191215_110622.jpg: [[0.5098, 0.3771, 0.2219, 0.176], [0.6964, 0.4723, 0.2178, 0.1384], [0.5482, 0.6648, 0.17, 0.1552], [0.2538, 0.7209, 0.2083, 0.1618], [0.3947, 0.6644, 0.173, 0.1479], [0.304, 0.8249, 0.0903, 0.072]]\n",
            "Processing IMG_20191215_112708.jpg: [[0.7224, 0.4208, 0.159, 0.1489], [0.5593, 0.4896, 0.1427, 0.1354], [0.6024, 0.5638, 0.1264, 0.1179], [0.7267, 0.5728, 0.1479, 0.1454], [0.6132, 0.6165, 0.0815, 0.0528], [0.7561, 0.6531, 0.1299, 0.1157], [0.6196, 0.6643, 0.0897, 0.0786], [0.7588, 0.7132, 0.0955, 0.0603], [0.2638, 0.9356, 0.0367, 0.0368], [0.2299, 0.9677, 0.0341, 0.0327], [0.3214, 0.8766, 0.0417, 0.037], [0.2663, 0.8898, 0.0295, 0.0279], [0.8081, 0.7341, 0.0333, 0.029], [0.7526, 0.7549, 0.0348, 0.027], [0.9735, 0.1645, 0.0525, 0.0373], [0.9183, 0.1941, 0.0548, 0.0339], [0.9698, 0.2284, 0.0582, 0.0376], [0.89, 0.2546, 0.0525, 0.029], [0.9132, 0.2669, 0.0429, 0.0405], [0.8957, 0.2919, 0.0371, 0.0342], [0.3442, 0.5386, 0.0498, 0.0681], [0.304, 0.504, 0.0819, 0.0689], [0.335, 0.4553, 0.0888, 0.0663], [0.2692, 0.4119, 0.111, 0.0755], [0.2791, 0.3742, 0.0819, 0.0287], [0.3344, 0.4121, 0.0616, 0.0574], [0.5661, 0.2691, 0.0356, 0.031], [0.5175, 0.2945, 0.0356, 0.0261], [0.5217, 0.3163, 0.031, 0.0233], [0.514, 0.3806, 0.0241, 0.0204], [0.4767, 0.3195, 0.0306, 0.0221], [0.542, 0.3024, 0.0287, 0.0212], [0.2509, 0.3636, 0.025, 0.0195], [0.2046, 0.422, 0.019, 0.019], [0.2064, 0.4054, 0.0233, 0.0167], [0.6935, 0.6933, 0.037, 0.0373]]\n",
            "Processing IMG_1106.jpg: [[0.4099, 0.3654, 0.3013, 0.2219], [0.6964, 0.4632, 0.2842, 0.2079], [0.4751, 0.5651, 0.268, 0.1914], [0.3002, 0.6762, 0.1668, 0.121]]\n",
            "Processing IMG_1178.jpg: [[0.5885, 0.5526, 0.1335, 0.1095], [0.3715, 0.4431, 0.1933, 0.1467], [0.2154, 0.0539, 0.1328, 0.1031], [0.1727, 0.1444, 0.1235, 0.0943], [0.0438, 0.0687, 0.0862, 0.1036], [0.057, 0.1572, 0.0955, 0.078], [0.3039, 0.6292, 0.1467, 0.1112], [0.5054, 0.6612, 0.0978, 0.0891], [0.4173, 0.9448, 0.066, 0.0588], [0.2682, 0.7553, 0.1188, 0.0978], [0.2488, 0.8429, 0.0831, 0.067], [0.2733, 0.9049, 0.059, 0.0536]]\n",
            "Processing IMG_20191215_110812.jpg: [[0.4062, 0.4212, 0.1217, 0.1035], [0.412, 0.5234, 0.1112, 0.0817], [0.4688, 0.5828, 0.1514, 0.1323], [0.5302, 0.6516, 0.1066, 0.0873], [0.6324, 0.9497, 0.1572, 0.1]]\n",
            "Processing IMG_1119.jpg: [[0.9662, 0.0809, 0.066, 0.0686], [0.8902, 0.0591, 0.1031, 0.0828], [0.9143, 0.1825, 0.0903, 0.0669], [0.9467, 0.2632, 0.0726, 0.0498], [0.9575, 0.3164, 0.0602, 0.0388], [0.7595, 0.1737, 0.0865, 0.066], [0.7336, 0.0748, 0.088, 0.0675], [0.6528, 0.123, 0.0714, 0.0614], [0.6804, 0.2299, 0.0764, 0.0562], [0.5953, 0.1909, 0.0598, 0.0478], [0.5381, 0.034, 0.0645, 0.0559], [0.6121, 0.2714, 0.0517, 0.0443], [0.4937, 0.1474, 0.1988, 0.1615], [0.7593, 0.3892, 0.0537, 0.0391], [0.3741, 0.1433, 0.0544, 0.055], [0.3322, 0.187, 0.0594, 0.0458], [0.2569, 0.1498, 0.0656, 0.0472], [0.2305, 0.2109, 0.0568, 0.0437], [0.3637, 0.2792, 0.1803, 0.1439], [0.4486, 0.3846, 0.1633, 0.1248], [0.3557, 0.4123, 0.1359, 0.1118], [0.3291, 0.4991, 0.0988, 0.0805], [0.3417, 0.5709, 0.073, 0.0515], [0.2687, 0.5401, 0.0915, 0.0709], [0.2882, 0.5879, 0.0517, 0.0368], [0.2533, 0.5838, 0.0251, 0.0235], [0.2447, 0.5029, 0.0235, 0.0194], [0.203, 0.5444, 0.0279, 0.0224], [0.1971, 0.592, 0.0248, 0.0194], [0.3816, 0.6467, 0.0657, 0.041], [0.5519, 0.5522, 0.1612, 0.1155], [0.6196, 0.5287, 0.103, 0.0939], [0.6662, 0.6261, 0.1296, 0.0916], [0.7361, 0.6789, 0.0484, 0.034], [0.8455, 0.7531, 0.0506, 0.0406], [0.9665, 0.6241, 0.0644, 0.0443], [0.6185, 0.0268, 0.0617, 0.0503], [0.6775, 0.0498, 0.0457, 0.0376]]\n",
            "Processing IMG_20191215_111804.jpg: [[0.4912, 0.6796, 0.2964, 0.1904], [0.5322, 0.4933, 0.2597, 0.2267], [0.3968, 0.5149, 0.1485, 0.1729]]\n",
            "Processing IMG_1162.jpg: [[0.4727, 0.2516, 0.1748, 0.1476], [0.2699, 0.3495, 0.1466, 0.1145], [0.4913, 0.4576, 0.1396, 0.1107], [0.3412, 0.4678, 0.1326, 0.0964], [0.3301, 0.583, 0.1145, 0.0859], [0.4783, 0.5755, 0.1215, 0.0919], [0.4541, 0.6888, 0.1115, 0.0806], [0.4195, 0.7416, 0.0944, 0.0701], [0.3869, 0.7815, 0.0713, 0.0505], [0.3321, 0.6772, 0.0984, 0.0738], [0.3306, 0.7284, 0.0613, 0.0407]]\n",
            "Processing IMG_20191215_112426.jpg: [[0.7084, 0.3116, 0.2207, 0.1629], [0.3334, 0.2989, 0.2207, 0.1638], [0.5844, 0.4304, 0.1706, 0.1271], [0.3427, 0.4857, 0.1846, 0.1275], [0.0914, 0.5459, 0.1328, 0.0891], [0.5366, 0.6296, 0.1543, 0.1157], [0.3768, 0.6656, 0.1386, 0.1083], [0.4158, 0.7492, 0.1106, 0.0887], [0.5124, 0.78, 0.1386, 0.1092], [0.4624, 0.8115, 0.0606, 0.0498], [0.5468, 0.8372, 0.085, 0.0646], [0.4846, 0.9077, 0.0418, 0.0347], [0.1407, 0.9138, 0.0524, 0.0449], [0.1752, 0.9394, 0.052, 0.0426], [0.642, 0.6806, 0.0713, 0.0489], [0.813, 0.7077, 0.0709, 0.0614], [0.7917, 0.6202, 0.066, 0.0476], [0.5854, 0.6828, 0.0498, 0.032], [0.5761, 0.7197, 0.0489, 0.0347], [0.7804, 0.7325, 0.0462, 0.033], [0.7049, 0.6643, 0.037, 0.034], [0.6378, 0.7151, 0.0559, 0.0386]]\n",
            "Processing IMG_1080.jpg: [[0.6972, 0.4993, 0.2112, 0.159], [0.5338, 0.4539, 0.1514, 0.0868], [0.5248, 0.5579, 0.2081, 0.1595], [0.4344, 0.4943, 0.0511, 0.055], [0.3574, 0.5475, 0.1708, 0.1607]]\n",
            "Processing IMG_20191215_111444.jpg: [[0.5523, 0.354, 0.1718, 0.1795], [0.6714, 0.3987, 0.1619, 0.1476], [0.2091, 0.0527, 0.0405, 0.0373], [0.2985, 0.0581, 0.0423, 0.0363], [0.2745, 0.0905, 0.0603, 0.0575], [0.601, 0.6042, 0.1453, 0.11], [0.5618, 0.6999, 0.1224, 0.1053], [0.4057, 0.7409, 0.0955, 0.0822], [0.4819, 0.7785, 0.0929, 0.0743], [0.4476, 0.8282, 0.1255, 0.1004], [0.3384, 0.9013, 0.0631, 0.0339], [0.3435, 0.9286, 0.0744, 0.0575], [0.179, 0.2461, 0.036, 0.0425], [0.0724, 0.3101, 0.0547, 0.0399]]\n",
            "Processing IMG_20191215_111900.jpg: [[0.3492, 0.2908, 0.0865, 0.0623], [0.1951, 0.3226, 0.0907, 0.0635], [0.0159, 0.37, 0.0302, 0.0238], [0.3311, 0.381, 0.0782, 0.0569], [0.0575, 0.3962, 0.0333, 0.0241], [0.0156, 0.4209, 0.0313, 0.0311], [0.0324, 0.4414, 0.0313, 0.0222], [0.0201, 0.4541, 0.0391, 0.0245], [0.0533, 0.4642, 0.0179, 0.0122], [0.2163, 0.4176, 0.0787, 0.0534], [0.3235, 0.4369, 0.0738, 0.0534], [0.3163, 0.4763, 0.0663, 0.0432], [0.2352, 0.4785, 0.0756, 0.0532], [0.2581, 0.5107, 0.0628, 0.0443], [0.3109, 0.5143, 0.0486, 0.0371], [0.3519, 0.4953, 0.0524, 0.0325], [0.4036, 0.4997, 0.0458, 0.0323], [0.3775, 0.5308, 0.037, 0.0264], [0.7598, 0.4887, 0.1428, 0.0982], [0.5894, 0.5557, 0.1566, 0.1091], [0.4792, 0.6036, 0.0433, 0.0316], [0.4145, 0.603, 0.0532, 0.0373], [0.424, 0.6435, 0.0517, 0.0356], [0.4784, 0.6533, 0.0402, 0.0304], [0.4328, 0.6767, 0.0486, 0.0353], [0.6211, 0.6996, 0.1493, 0.1027], [0.7721, 0.7044, 0.1308, 0.1004], [0.6583, 0.7653, 0.1224, 0.0776], [0.688, 0.4508, 0.0286, 0.0205], [0.6274, 0.972, 0.0564, 0.0518]]\n",
            "Error processing IMG_20191215_111900.jpg: Expected x_min for bbox [-5.0001e-05     0.40535     0.03125     0.43645           4] to be in the range [0.0, 1.0], got -5.000084638595581e-05.\n",
            "Processing IMG_20191215_112307.jpg: [[0.6277, 0.2741, 0.1444, 0.0956], [0.6414, 0.3465, 0.1473, 0.1218], [0.7369, 0.4075, 0.1252, 0.1118], [0.6187, 0.4298, 0.1438, 0.1013], [0.4626, 0.3459, 0.1648, 0.1301], [0.4213, 0.4003, 0.124, 0.0991], [0.541, 0.3607, 0.0722, 0.0943], [0.6865, 0.4863, 0.1188, 0.0668], [0.3075, 0.4112, 0.1654, 0.128], [0.7107, 0.54, 0.1508, 0.114], [0.2853, 0.5143, 0.1467, 0.1105], [0.414, 0.5699, 0.1246, 0.09], [0.7069, 0.6298, 0.1153, 0.0786], [0.734, 0.6601, 0.0984, 0.0459], [0.3837, 0.7927, 0.106, 0.0821], [0.75, 0.8237, 0.0571, 0.0603], [0.3045, 0.7759, 0.1211, 0.0782]]\n",
            "Processing IMG_1285.jpg: [[0.3761, 0.481, 0.1995, 0.1572], [0.6184, 0.5293, 0.1949, 0.1584], [0.5559, 0.6749, 0.1662, 0.1433], [0.3851, 0.6324, 0.1941, 0.1584]]\n",
            "Processing IMG_0997.jpg: [[0.5472, 0.5268, 0.2318, 0.1723], [0.3659, 0.4459, 0.3063, 0.1711], [0.3608, 0.5887, 0.195, 0.1413]]\n",
            "Processing IMG_20191215_112012_1.jpg: [[0.2684, 0.794, 0.1106, 0.09], [0.3415, 0.6031, 0.131, 0.1005], [0.2434, 0.5474, 0.1328, 0.107], [0.2056, 0.5215, 0.0874, 0.0725], [0.6956, 0.5243, 0.1462, 0.0991], [0.568, 0.4736, 0.1066, 0.0887], [0.8272, 0.5905, 0.145, 0.0987], [0.5529, 0.5623, 0.1066, 0.0817], [0.4938, 0.547, 0.0699, 0.0642], [0.5605, 0.6007, 0.0821, 0.0363], [0.4822, 0.4736, 0.0827, 0.0677], [0.6114, 0.437, 0.1106, 0.0817], [0.5142, 0.3787, 0.106, 0.083], [0.5302, 0.3016, 0.1031, 0.0755], [0.6338, 0.3433, 0.1252, 0.0978], [0.6994, 0.3127, 0.0745, 0.0734], [0.7864, 0.2856, 0.1462, 0.097], [0.7995, 0.3424, 0.0874, 0.0533]]\n",
            "Processing IMG_20191215_111335.jpg: [[0.6627, 0.5221, 0.4554, 0.3044], [0.359, 0.509, 0.2195, 0.2153], [0.6263, 0.68, 0.2696, 0.1092], [0.2779, 0.0753, 0.0911, 0.0804]]\n",
            "Processing IMG_20191215_111514.jpg: [[0.757, 0.6044, 0.3704, 0.283], [0.4562, 0.6453, 0.3255, 0.2336], [0.2335, 0.5191, 0.0873, 0.0651], [0.3424, 0.5402, 0.1095, 0.0952], [0.2848, 0.5426, 0.0466, 0.0694], [0.5442, 0.9495, 0.1508, 0.1004]]\n",
            "Processing IMG_1118.jpg: [[0.439, 0.4708, 0.2725, 0.1962], [0.2554, 0.8435, 0.2454, 0.1928], [0.1133, 0.9256, 0.2236, 0.1462], [0.8773, 0.0617, 0.1009, 0.0792], [0.6879, 0.0638, 0.1009, 0.0821], [0.7717, 0.4947, 0.0994, 0.0716], [0.6984, 0.1499, 0.0691, 0.0553], [0.6615, 0.2242, 0.0668, 0.0582], [0.7997, 0.014, 0.1009, 0.0279], [0.96, 0.0623, 0.0738, 0.0617], [0.8199, 0.5858, 0.0963, 0.0629], [0.9604, 0.5721, 0.0761, 0.053]]\n",
            "Processing IMG_20191215_110545.jpg: [[0.5349, 0.2317, 0.0937, 0.0756], [0.6254, 0.2486, 0.1063, 0.0596], [0.8211, 0.4823, 0.2162, 0.1678], [0.6297, 0.469, 0.1737, 0.1512], [0.18, 0.5565, 0.1443, 0.1014], [0.3236, 0.6667, 0.0502, 0.0343], [0.8747, 0.9469, 0.0383, 0.0433], [0.8212, 0.9668, 0.0511, 0.0419]]\n",
            "Processing IMG_1187.jpg: [[0.1323, 0.6074, 0.074, 0.0498], [0.1135, 0.5458, 0.0951, 0.0639], [0.2066, 0.4755, 0.0746, 0.0581], [0.1933, 0.4005, 0.0775, 0.063], [0.2292, 0.3124, 0.0904, 0.0718], [0.034, 0.6431, 0.064, 0.0524], [0.1123, 0.6426, 0.0528, 0.0409], [0.0847, 0.6138, 0.0376, 0.0431], [0.0213, 0.5764, 0.0411, 0.0396], [0.2544, 0.5427, 0.0681, 0.055], [0.3184, 0.5297, 0.0681, 0.052], [0.3483, 0.426, 0.081, 0.0568], [0.2888, 0.6059, 0.0628, 0.0396], [0.4297, 0.5156, 0.0593, 0.0572], [0.4605, 0.5057, 0.0857, 0.0647], [0.5116, 0.3518, 0.0434, 0.0326], [0.2142, 0.786, 0.0628, 0.0511], [0.2491, 0.7353, 0.061, 0.0449], [0.0574, 0.6768, 0.0699, 0.0449], [0.2979, 0.7001, 0.0575, 0.0431], [0.3249, 0.6651, 0.0294, 0.0207], [0.4132, 0.6211, 0.0652, 0.0471], [0.4338, 0.6613, 0.0569, 0.0449], [0.4605, 0.6748, 0.0305, 0.0242], [0.5273, 0.6065, 0.0592, 0.0383], [0.3358, 0.7487, 0.0602, 0.0502], [0.3009, 0.7493, 0.0413, 0.049], [0.2079, 0.6333, 0.024, 0.0168], [0.2779, 0.8196, 0.0689, 0.0524], [0.1916, 0.8485, 0.0536, 0.0406], [0.2651, 0.9333, 0.0689, 0.0555], [0.2488, 0.9013, 0.0658, 0.0513], [0.3054, 0.9589, 0.0495, 0.044], [0.3333, 0.8682, 0.0572, 0.0509], [0.391, 0.8536, 0.0623, 0.0525], [0.3468, 0.8354, 0.0516, 0.0375], [0.4229, 0.8081, 0.0505, 0.0402], [0.4474, 0.7623, 0.0414, 0.0375], [0.3999, 0.7774, 0.0393, 0.0387], [0.3496, 0.6886, 0.047, 0.0417], [0.4553, 0.9283, 0.048, 0.0425], [0.4162, 0.9721, 0.0414, 0.0337], [0.5015, 0.8818, 0.0638, 0.0582], [0.5592, 0.8935, 0.0393, 0.0302], [0.3481, 0.908, 0.049, 0.0448], [0.3805, 0.9203, 0.0505, 0.0425], [0.1418, 0.6831, 0.048, 0.0337], [0.2618, 0.6875, 0.0367, 0.0295], [0.5191, 0.6802, 0.0296, 0.0218], [0.647, 0.6306, 0.0546, 0.0436], [0.611, 0.5364, 0.0562, 0.0429], [0.7057, 0.5138, 0.074, 0.0521], [0.7236, 0.5969, 0.0516, 0.0413], [0.7976, 0.6404, 0.023, 0.0218], [0.7468, 0.6877, 0.0143, 0.0123], [0.9538, 0.2787, 0.0332, 0.0237], [0.9467, 0.2182, 0.0485, 0.0306], [0.8563, 0.2973, 0.0168, 0.0157], [0.8139, 0.2389, 0.0281, 0.0199], [0.8415, 0.237, 0.0291, 0.0222], [0.8504, 0.2071, 0.0368, 0.026], [0.8862, 0.1811, 0.0541, 0.0398], [0.9622, 0.1392, 0.0429, 0.0295], [0.9433, 0.014, 0.0286, 0.0226], [0.9451, 0.0867, 0.0495, 0.0417], [0.9089, 0.1003, 0.0301, 0.0291], [0.889, 0.0582, 0.0158, 0.0115], [0.8479, 0.0458, 0.0153, 0.0149], [0.1811, 0.8018, 0.0664, 0.0436], [0.3414, 0.944, 0.0531, 0.0402]]\n",
            "Processing IMG_1028.jpg: [[0.1916, 0.7637, 0.0986, 0.1026], [0.4182, 0.5975, 0.1526, 0.1083], [0.5617, 0.5323, 0.1556, 0.111], [0.6451, 0.4396, 0.1204, 0.1061], [0.4933, 0.4865, 0.216, 0.1567], [0.3498, 0.4046, 0.1532, 0.1242], [0.4934, 0.3531, 0.1691, 0.1224], [0.83, 0.911, 0.1133, 0.0863]]\n",
            "Processing IMG_1293.jpg: [[0.3424, 0.2096, 0.2065, 0.1339], [0.2337, 0.4132, 0.1724, 0.1403], [0.4883, 0.276, 0.1755, 0.1409], [0.5112, 0.4155, 0.1669, 0.1438], [0.4713, 0.4562, 0.1335, 0.117], [0.2333, 0.5206, 0.1499, 0.1083], [0.2733, 0.6245, 0.1196, 0.0961], [0.5765, 0.5218, 0.1452, 0.1234], [0.5586, 0.6079, 0.1064, 0.092], [0.4553, 0.6056, 0.1266, 0.1072], [0.4348, 0.6982, 0.0932, 0.0675], [0.2849, 0.6787, 0.0994, 0.074], [0.7143, 0.2655, 0.1879, 0.1374], [0.7318, 0.3849, 0.1638, 0.12], [0.7418, 0.4932, 0.1436, 0.1106], [0.7842, 0.5907, 0.118, 0.0961], [0.7162, 0.642, 0.0924, 0.074], [0.8245, 0.6959, 0.0792, 0.0757], [0.7764, 0.674, 0.0652, 0.0541]]\n",
            "Processing IMG_1049.jpg: [[0.9331, 0.4315, 0.1327, 0.1233], [0.993, 0.5048, 0.0129, 0.0392], [0.4854, 0.4736, 0.1501, 0.1195]]\n",
            "Processing IMG_20191215_112334.jpg: [[0.6391, 0.1354, 0.1729, 0.1441], [0.6097, 0.2596, 0.0873, 0.1315], [0.4641, 0.2668, 0.2003, 0.1581], [0.5986, 0.4769, 0.1759, 0.1371], [0.0291, 0.5145, 0.0582, 0.0742], [0.092, 0.5324, 0.0803, 0.0542], [0.0559, 0.5859, 0.0734, 0.0336], [0.0451, 0.6136, 0.0879, 0.0646], [0.3966, 0.599, 0.1852, 0.1454], [0.5619, 0.671, 0.1677, 0.1288], [0.0606, 0.6874, 0.0664, 0.0472], [0.541, 0.7905, 0.1502, 0.1275], [0.3817, 0.8403, 0.1625, 0.1336]]\n",
            "Processing IMG_20191215_110541.jpg: [[0.3942, 0.4839, 0.1724, 0.1363], [0.2955, 0.7477, 0.2405, 0.2018], [0.5357, 0.7328, 0.2737, 0.1895], [0.6781, 0.6012, 0.223, 0.1699]]\n",
            "Processing IMG_20191215_112834_1.jpg: [[0.3852, 0.4909, 0.1764, 0.1319], [0.3977, 0.3819, 0.1293, 0.1079], [0.4461, 0.5302, 0.1269, 0.1066], [0.497, 0.5544, 0.0984, 0.086], [0.6333, 0.5014, 0.2137, 0.1328], [0.6368, 0.5704, 0.1462, 0.0524], [0.5913, 0.6529, 0.1601, 0.1188], [0.7002, 0.6455, 0.1066, 0.0969], [0.5832, 0.7549, 0.131, 0.0948], [0.5919, 0.8451, 0.117, 0.0935], [0.3546, 0.8778, 0.0501, 0.0533], [0.6554, 0.8687, 0.0903, 0.083], [0.7267, 0.8294, 0.1118, 0.0839], [0.8155, 0.6846, 0.0751, 0.0511], [0.7317, 0.7503, 0.0681, 0.0507], [0.773, 0.794, 0.0763, 0.0454], [0.8807, 0.9503, 0.0507, 0.0559], [0.7998, 0.8481, 0.0635, 0.0664], [0.0349, 0.3511, 0.0477, 0.0367]]\n",
            "Processing IMG_20191215_111624.jpg: [[0.5488, 0.4568, 0.2836, 0.2105], [0.3485, 0.5994, 0.2917, 0.2214], [0.5896, 0.6121, 0.216, 0.1542], [0.5049, 0.7473, 0.3063, 0.221], [0.9655, 0.6237, 0.0664, 0.1083]]\n",
            "Processing IMG_20191215_110441.jpg: [[0.5039, 0.1281, 0.1193, 0.0898], [0.5295, 0.1697, 0.0471, 0.0535], [0.3355, 0.2596, 0.0854, 0.0713], [0.7244, 0.4697, 0.0835, 0.0577], [0.6065, 0.4754, 0.0727, 0.0457], [0.2641, 0.8254, 0.2778, 0.2393], [0.5279, 0.8431, 0.2731, 0.2232]]\n",
            "Processing IMG_0996.jpg: [[0.4596, 0.6469, 0.4177, 0.2923]]\n",
            "Processing IMG_20191215_112854.jpg: [[0.2205, 0.094, 0.1555, 0.1356], [0.1458, 0.1498, 0.0385, 0.0422], [0.0919, 0.1658, 0.0451, 0.0399], [0.0661, 0.1329, 0.0258, 0.0273], [0.0684, 0.1944, 0.0375, 0.0395], [0.1152, 0.196, 0.0441, 0.0403], [0.3089, 0.2155, 0.1509, 0.1128], [0.2048, 0.2412, 0.121, 0.1147], [0.298, 0.3294, 0.1504, 0.1174], [0.5226, 0.3034, 0.1509, 0.1458], [0.3458, 0.3509, 0.0942, 0.1018], [0.182, 0.3116, 0.1119, 0.0953], [0.1537, 0.3904, 0.1079, 0.0965], [0.2205, 0.4419, 0.0744, 0.0703], [0.2965, 0.4297, 0.0957, 0.0892], [0.4727, 0.428, 0.1342, 0.1306], [0.3686, 0.5053, 0.1347, 0.1219], [0.6281, 0.4238, 0.1463, 0.1344], [0.5289, 0.5193, 0.1139, 0.1105], [0.4476, 0.5336, 0.0749, 0.101], [0.2281, 0.5155, 0.1089, 0.0976], [0.2886, 0.5727, 0.0537, 0.1018], [0.5985, 0.5659, 0.1003, 0.101], [0.7261, 0.5119, 0.1296, 0.1147], [0.7476, 0.6033, 0.1261, 0.0984], [0.697, 0.6505, 0.0805, 0.0653], [0.7195, 0.7079, 0.0608, 0.057], [0.8, 0.6802, 0.0851, 0.0668], [0.8089, 0.7048, 0.0916, 0.0805], [0.8525, 0.7345, 0.0704, 0.0623], [0.7912, 0.7519, 0.0674, 0.0585], [0.677, 0.9273, 0.0295, 0.0238], [0.0482, 0.2069, 0.0277, 0.0327], [0.548, 0.195, 0.0533, 0.0373], [0.5361, 0.163, 0.0498, 0.0334], [0.5238, 0.129, 0.0392, 0.0419]]\n",
            "Processing IMG_1274.jpg: [[0.5675, 0.313, 0.2919, 0.2114], [0.3886, 0.502, 0.2912, 0.2038], [0.5831, 0.6729, 0.3199, 0.2242], [0.3234, 0.6831, 0.2135, 0.1584]]\n",
            "Processing IMG_1288.jpg: [[0.6025, 0.2667, 0.1491, 0.1467], [0.2915, 0.2973, 0.1561, 0.1322], [0.3012, 0.4169, 0.1475, 0.12], [0.3773, 0.5509, 0.1537, 0.1176], [0.2007, 0.5453, 0.1561, 0.1205], [0.106, 0.6845, 0.1499, 0.1077], [0.1964, 0.7972, 0.1258, 0.1025], [0.4515, 0.589, 0.1157, 0.1007], [0.3024, 0.6638, 0.1421, 0.1141], [0.3839, 0.6801, 0.1002, 0.092], [0.4674, 0.7602, 0.0978, 0.0868], [0.5163, 0.6796, 0.118, 0.0932], [0.5404, 0.6068, 0.1009, 0.0804], [0.606, 0.502, 0.1467, 0.092], [0.6848, 0.527, 0.1102, 0.0804], [0.623, 0.6076, 0.0675, 0.0588], [0.6483, 0.6152, 0.1118, 0.0879], [0.7061, 0.6397, 0.0567, 0.0577], [0.7795, 0.5322, 0.1056, 0.0699], [0.7974, 0.5832, 0.1227, 0.0798], [0.7985, 0.6665, 0.1048, 0.0821]]\n",
            "Processing IMG_20191215_112601.jpg: [[0.8085, 0.7232, 0.1415, 0.0969], [0.5648, 0.547, 0.2318, 0.1743], [0.5977, 0.6964, 0.2079, 0.1594], [0.4757, 0.8315, 0.2236, 0.1808], [0.3802, 0.6844, 0.2294, 0.1703], [0.2976, 0.5389, 0.2492, 0.1834]]\n",
            "Processing IMG_1146.jpg: [[0.3329, 0.5861, 0.0406, 0.0272], [0.3887, 0.5683, 0.0349, 0.0239], [0.2822, 0.5678, 0.0386, 0.0264], [0.3156, 0.6146, 0.0383, 0.0259], [0.2662, 0.5914, 0.0349, 0.0242], [0.2891, 0.6386, 0.0336, 0.0254], [0.2593, 0.6484, 0.0138, 0.0098], [0.2295, 0.6197, 0.0265, 0.0189], [0.4047, 0.5883, 0.0346, 0.0232], [0.4737, 0.5355, 0.0327, 0.0223], [0.4575, 0.5286, 0.0353, 0.0247], [0.4089, 0.5305, 0.028, 0.0199], [0.4171, 0.5474, 0.0222, 0.0173], [0.4409, 0.5525, 0.0301, 0.0254], [0.4299, 0.6181, 0.028, 0.019], [0.4432, 0.63, 0.009, 0.0057], [0.458, 0.5575, 0.0245, 0.0212], [0.4572, 0.5771, 0.0196, 0.0149], [0.4689, 0.5952, 0.0289, 0.0232], [0.4837, 0.6224, 0.021, 0.0144], [0.5144, 0.5097, 0.0254, 0.0164], [0.5071, 0.5598, 0.033, 0.0232], [0.5074, 0.5807, 0.026, 0.0191], [0.4628, 0.1401, 0.0248, 0.0188], [0.4657, 0.1182, 0.0196, 0.0158], [0.5015, 0.1528, 0.0193, 0.0197], [0.4707, 0.1635, 0.0137, 0.0131], [0.5814, 0.0857, 0.0286, 0.0313], [0.5898, 0.1446, 0.0359, 0.0274], [0.6099, 0.101, 0.0359, 0.0278], [0.6713, 0.1178, 0.0327, 0.0254], [0.6372, 0.1205, 0.0374, 0.0278], [0.5957, 0.1848, 0.0198, 0.0166], [0.6081, 0.2085, 0.0219, 0.0177], [0.6397, 0.209, 0.0149, 0.0103], [0.65, 0.1917, 0.0245, 0.0186], [0.6465, 0.1584, 0.0333, 0.0256], [0.6731, 0.163, 0.0327, 0.0274], [0.689, 0.1561, 0.0236, 0.0175], [0.6629, 0.191, 0.0146, 0.0151], [0.6808, 0.1796, 0.0213, 0.0164], [0.688, 0.1946, 0.0222, 0.0179], [0.7119, 0.184, 0.0304, 0.023], [0.663, 0.5036, 0.0236, 0.0177], [0.6781, 0.4217, 0.0198, 0.0147], [0.8015, 0.2755, 0.0239, 0.0164], [0.7709, 0.2585, 0.0204, 0.014], [0.8068, 0.3038, 0.0274, 0.019], [0.7402, 0.248, 0.0196, 0.0156], [0.8492, 0.3038, 0.0259, 0.0202], [0.8505, 0.327, 0.0238, 0.0152], [0.8284, 0.3407, 0.0178, 0.0164], [0.8132, 0.3238, 0.0259, 0.019], [0.8001, 0.3151, 0.0226, 0.015], [0.766, 0.3059, 0.0239, 0.0171], [0.7307, 0.2669, 0.0162, 0.0122], [0.7506, 0.2856, 0.0185, 0.015], [0.7934, 0.3384, 0.0218, 0.0154], [0.7882, 0.3551, 0.0165, 0.0124], [0.7629, 0.3249, 0.0213, 0.015], [0.7628, 0.344, 0.02, 0.0133], [0.7356, 0.3882, 0.0185, 0.0129], [0.7359, 0.4039, 0.0139, 0.0123], [0.7249, 0.4032, 0.0166, 0.0119], [0.7174, 0.2771, 0.0079, 0.0055], [0.7472, 0.5995, 0.0148, 0.0108], [0.7267, 0.5928, 0.0148, 0.0103]]\n",
            "Processing IMG_20191215_111924.jpg: [[0.2347, 0.1983, 0.184, 0.1328], [0.4012, 0.1644, 0.1433, 0.1079], [0.3229, 0.2269, 0.1159, 0.1026], [0.4871, 0.2354, 0.1019, 0.0777], [0.4277, 0.2725, 0.1636, 0.1144], [0.3197, 0.3125, 0.1281, 0.0808], [0.1663, 0.3577, 0.1613, 0.1109], [0.6825, 0.2931, 0.106, 0.0935], [0.7477, 0.3435, 0.0862, 0.0651], [0.3709, 0.3396, 0.099, 0.0467], [0.5188, 0.321, 0.0815, 0.0576], [0.5089, 0.3562, 0.0629, 0.0389], [0.0894, 0.4169, 0.0588, 0.038], [0.3893, 0.4014, 0.081, 0.0577], [0.4172, 0.4319, 0.0367, 0.0262], [0.3051, 0.4442, 0.1118, 0.069], [0.0894, 0.4839, 0.131, 0.0777], [0.1063, 0.5402, 0.0844, 0.0559], [0.2492, 0.521, 0.0908, 0.0681], [0.1435, 0.4151, 0.0518, 0.0301], [0.5925, 0.4339, 0.1007, 0.0747], [0.6071, 0.4704, 0.067, 0.0402], [0.7247, 0.718, 0.0833, 0.0638], [0.7911, 0.7636, 0.0961, 0.0756], [0.7515, 0.7748, 0.0437, 0.0454]]\n",
            "Processing IMG_1110.jpg: [[0.5758, 0.2274, 0.1579, 0.1228], [0.5271, 0.17, 0.1415, 0.1022], [0.6698, 0.2935, 0.1274, 0.0938], [0.5565, 0.3071, 0.111, 0.0762], [0.5767, 0.382, 0.0611, 0.0427], [0.7062, 0.4227, 0.111, 0.0819], [0.764, 0.4907, 0.0869, 0.0647], [0.87, 0.5086, 0.1121, 0.0766], [0.9436, 0.5149, 0.0481, 0.0366], [0.8949, 0.5464, 0.0493, 0.0308], [0.5967, 0.4344, 0.0986, 0.077], [0.6199, 0.5299, 0.0828, 0.0639], [0.5661, 0.5863, 0.0822, 0.063], [0.5157, 0.5246, 0.0975, 0.0682], [0.471, 0.3899, 0.1022, 0.0771], [0.4702, 0.3014, 0.0781, 0.0718], [0.4558, 0.3556, 0.0505, 0.0233], [0.3249, 0.2067, 0.1057, 0.0876], [0.3751, 0.2622, 0.1016, 0.077], [0.3384, 0.3263, 0.1127, 0.081], [0.2849, 0.4526, 0.1057, 0.0784], [0.2433, 0.3084, 0.101, 0.085], [0.1793, 0.3945, 0.0928, 0.0687], [0.0663, 0.4581, 0.0675, 0.0524], [0.0979, 0.5614, 0.0382, 0.022]]\n",
            "Processing IMG_20191215_111049.jpg: [[0.3, 0.8071, 0.1099, 0.0859], [0.3217, 0.6149, 0.3209, 0.2437], [0.55, 0.6263, 0.2184, 0.1773], [0.4827, 0.4691, 0.2061, 0.1616]]\n",
            "Processing IMG_20191215_111204.jpg: [[0.6964, 0.5514, 0.2283, 0.1585], [0.4985, 0.5608, 0.1957, 0.1433], [0.483, 0.4424, 0.1788, 0.117]]\n",
            "Processing IMG_20191215_111505.jpg: [[0.5114, 0.5053, 0.1009, 0.0424], [0.8173, 0.942, 0.1943, 0.1147], [0.3683, 0.8135, 0.2817, 0.2113]]\n",
            "Processing IMG_1144.jpg: [[0.427, 0.1709, 0.2298, 0.1776], [0.7779, 0.3127, 0.2189, 0.17], [0.8703, 0.2848, 0.0652, 0.0967], [0.75, 0.4772, 0.2205, 0.1462], [0.6914, 0.5209, 0.1483, 0.0879], [0.6758, 0.6403, 0.212, 0.1578], [0.6102, 0.5867, 0.0823, 0.0577], [0.5493, 0.7168, 0.0629, 0.0536], [0.4084, 0.3698, 0.1988, 0.1549], [0.4977, 0.3916, 0.0947, 0.1054], [0.3548, 0.5072, 0.2065, 0.1316], [0.3428, 0.6359, 0.1685, 0.1258]]\n",
            "Processing IMG_20191215_110806.jpg: [[0.6753, 0.2472, 0.3849, 0.2819], [0.542, 0.5387, 0.2207, 0.1474], [0.3503, 0.631, 0.2365, 0.1785], [0.5344, 0.6847, 0.2056, 0.157]]\n",
            "Processing IMG_1280.jpg: [[0.7453, 0.3703, 0.0854, 0.0932], [0.6607, 0.3147, 0.0637, 0.0763], [0.8133, 0.5025, 0.0489, 0.0408], [0.816, 0.5381, 0.0217, 0.021], [0.9783, 0.9346, 0.0419, 0.0839], [0.7414, 0.5634, 0.0522, 0.0568], [0.6868, 0.5293, 0.057, 0.0458], [0.6833, 0.4861, 0.0476, 0.0669], [0.6017, 0.4747, 0.1098, 0.103], [0.5377, 0.5583, 0.0945, 0.0872], [0.4496, 0.4388, 0.1051, 0.0982], [0.4352, 0.6966, 0.0658, 0.0669], [0.3756, 0.5601, 0.0922, 0.0925], [0.3301, 0.6497, 0.074, 0.0762], [0.3483, 0.7135, 0.02, 0.0216], [0.7637, 0.5828, 0.0419, 0.0375]]\n",
            "Processing IMG_1172.jpg: [[0.354, 0.5107, 0.1925, 0.1479], [0.1568, 0.52, 0.1273, 0.0943], [0.2376, 0.4327, 0.073, 0.064], [0.2822, 0.568, 0.1048, 0.0833], [0.2966, 0.6714, 0.1693, 0.1316], [0.0753, 0.6254, 0.1304, 0.099], [0.1075, 0.7159, 0.1343, 0.1042], [0.302, 0.7567, 0.1335, 0.0798], [0.3983, 0.808, 0.177, 0.1264], [0.3063, 0.8761, 0.1312, 0.1042], [0.4216, 0.5669, 0.1118, 0.0926], [0.3719, 0.4228, 0.104, 0.0559], [0.4689, 0.3584, 0.1071, 0.0798], [0.4631, 0.497, 0.0613, 0.0705], [0.6704, 0.4309, 0.1126, 0.0815], [0.5268, 0.4094, 0.0784, 0.0582], [0.6762, 0.4804, 0.0854, 0.0524], [0.7345, 0.5375, 0.1475, 0.1071], [0.7019, 0.5756, 0.1196, 0.0868], [0.7549, 0.8441, 0.0938, 0.0623], [0.4201, 0.9864, 0.1259, 0.0268]]\n",
            "Processing IMG_20191215_111219.jpg: [[0.5893, 0.3548, 0.29, 0.1778], [0.642, 0.4878, 0.2941, 0.1991], [0.3166, 0.7954, 0.0995, 0.0631], [0.3445, 0.8631, 0.1572, 0.1258]]\n",
            "Processing IMG_1045.jpg: [[0.9697, 0.4399, 0.059, 0.0868], [0.8998, 0.4047, 0.1584, 0.0978], [0.6168, 0.3555, 0.3874, 0.2871], [0.481, 0.5046, 0.3905, 0.2626]]\n",
            "Processing IMG_1008.jpg: [[0.2403, 0.1028, 0.1778, 0.1299], [0.511, 0.5376, 0.229, 0.1629], [0.4863, 0.4683, 0.1984, 0.0779]]\n",
            "Processing IMG_20191215_111905.jpg: [[0.2387, 0.8715, 0.0885, 0.0677], [0.0713, 0.8883, 0.1101, 0.0873], [0.5121, 0.8569, 0.0984, 0.0734], [0.5121, 0.9209, 0.0274, 0.0231], [0.4379, 0.7228, 0.113, 0.0847], [0.3869, 0.7392, 0.0623, 0.0625], [0.5884, 0.725, 0.124, 0.0987], [0.564, 0.7721, 0.046, 0.0279], [0.2035, 0.728, 0.0588, 0.055], [0.159, 0.7721, 0.0419, 0.0367], [0.3174, 0.6868, 0.1071, 0.0869], [0.1945, 0.661, 0.0978, 0.0712], [0.4295, 0.6547, 0.1031, 0.0734], [0.3302, 0.5894, 0.0967, 0.0721], [0.1898, 0.5817, 0.106, 0.083], [0.03, 0.5191, 0.046, 0.0319], [0.6152, 0.661, 0.1066, 0.0817], [0.5861, 0.609, 0.0868, 0.0424], [0.6088, 0.5702, 0.1194, 0.0895], [0.6566, 0.5311, 0.0728, 0.0524], [0.7075, 0.6123, 0.1095, 0.0804], [0.6635, 0.4638, 0.0879, 0.062], [0.6187, 0.4863, 0.0693, 0.0563], [0.5532, 0.4774, 0.064, 0.0533], [0.8225, 0.3902, 0.0949, 0.0747], [0.6271, 0.4134, 0.0687, 0.0616], [0.5257, 0.4186, 0.0757, 0.0585], [0.5605, 0.4006, 0.0634, 0.0535]]\n",
            "Processing IMG_1068.jpg: [[0.5569, 0.3739, 0.156, 0.119], [0.5094, 0.4881, 0.1251, 0.099], [0.492, 0.4466, 0.1019, 0.0518], [0.514, 0.6389, 0.1282, 0.0937], [0.5299, 0.5886, 0.1031, 0.0634], [0.4042, 0.623, 0.1121, 0.0773], [0.0454, 0.5123, 0.0779, 0.0916]]\n",
            "Processing IMG_20191215_111458.jpg: [[0.1039, 0.1063, 0.138, 0.1087], [0.2217, 0.3826, 0.1096, 0.0723], [0.2209, 0.4457, 0.0988, 0.058], [0.575, 0.4538, 0.2314, 0.18], [0.4175, 0.5412, 0.2193, 0.1846], [0.3098, 0.6356, 0.0881, 0.0669], [0.451, 0.6335, 0.1677, 0.0896]]\n",
            "Processing IMG_20191215_111941.jpg: [[0.1855, 0.0513, 0.1066, 0.0799], [0.0734, 0.0273, 0.1467, 0.0546], [0.5782, 0.5097, 0.1386, 0.0978], [0.3305, 0.5164, 0.1415, 0.1053], [0.4583, 0.4856, 0.12, 0.0865], [0.4463, 0.5704, 0.0751, 0.0786], [0.5153, 0.5933, 0.1223, 0.0974], [0.3651, 0.5854, 0.12, 0.0904], [0.6884, 0.3357, 0.0339, 0.0281], [0.7798, 0.3854, 0.0431, 0.0317], [0.6719, 0.3565, 0.0326, 0.0294]]\n",
            "Processing IMG_20191215_112635.jpg: [[0.1776, 0.3479, 0.2912, 0.2153], [0.543, 0.4586, 0.1997, 0.1965], [0.2609, 0.5267, 0.2527, 0.1887], [0.4792, 0.6143, 0.2457, 0.1874], [0.7055, 0.6064, 0.2265, 0.1367], [0.3045, 0.6481, 0.1304, 0.0926], [0.2885, 0.6813, 0.1112, 0.0707], [0.343, 0.7713, 0.0194, 0.0228], [0.3366, 0.8127, 0.0251, 0.0205], [0.4203, 0.8624, 0.0744, 0.0591]]\n",
            "Processing IMG_20191215_112617.jpg: [[0.4277, 0.4367, 0.2207, 0.1695], [0.7491, 0.4911, 0.1101, 0.1184], [0.3074, 0.5376, 0.08, 0.0634], [0.3603, 0.5816, 0.0603, 0.0718], [0.4846, 0.5883, 0.2157, 0.1572], [0.6719, 0.6602, 0.2542, 0.1941], [0.5038, 0.7516, 0.2218, 0.1701], [0.0347, 0.8982, 0.0684, 0.0653], [0.0324, 0.958, 0.0628, 0.0627]]\n",
            "Processing IMG_1291.jpg: [[0.5893, 0.2387, 0.1848, 0.1374], [0.5349, 0.3605, 0.1661, 0.1269], [0.3707, 0.3165, 0.2011, 0.1462], [0.4173, 0.4463, 0.1871, 0.138], [0.5831, 0.4728, 0.1537, 0.1118], [0.4433, 0.5514, 0.1677, 0.1176], [0.5908, 0.5782, 0.1506, 0.1083], [0.4716, 0.6496, 0.1576, 0.1182], [0.651, 0.6752, 0.1499, 0.117], [0.5396, 0.755, 0.1568, 0.1194]]\n",
            "Processing IMG_20191215_111222.jpg: [[0.6079, 0.0218, 0.0675, 0.0437], [0.5162, 0.0867, 0.1904, 0.1725], [0.5605, 0.1871, 0.1543, 0.1463], [0.4749, 0.2463, 0.1357, 0.1127], [0.0625, 0.3277, 0.0937, 0.0676], [0.1109, 0.3471, 0.0962, 0.0722], [0.0332, 0.4403, 0.0653, 0.0573], [0.0114, 0.4774, 0.0228, 0.0296], [0.1651, 0.0321, 0.0851, 0.0627], [0.4218, 0.4046, 0.0486, 0.0421], [0.4091, 0.4331, 0.0446, 0.0285], [0.1767, 0.4876, 0.0911, 0.0608], [0.2266, 0.4998, 0.0674, 0.0524], [0.6912, 0.5157, 0.1539, 0.1018], [0.5433, 0.5345, 0.1661, 0.1189], [0.6451, 0.626, 0.163, 0.1151], [0.5704, 0.8376, 0.1727, 0.147], [0.4441, 0.8061, 0.1357, 0.1143], [0.4737, 0.9156, 0.1413, 0.1177], [0.35, 0.9192, 0.0837, 0.0717], [0.0097, 0.7055, 0.0194, 0.0327], [0.6798, 0.4316, 0.0784, 0.0541]]\n",
            "Error processing IMG_20191215_111222.jpg: Expected y_min for bbox [    0.57415 -4.9999e-05     0.64165     0.04365           2] to be in the range [0.0, 1.0], got -4.999898374080658e-05.\n",
            "Processing IMG_1125.jpg: [[0.8855, 0.5704, 0.1017, 0.0716], [0.9429, 0.6027, 0.066, 0.0454], [0.88, 0.7989, 0.0381, 0.021], [0.8051, 0.7512, 0.0932, 0.0699], [0.7325, 0.5619, 0.0706, 0.0664], [0.7108, 0.6784, 0.1064, 0.0839], [0.6394, 0.5683, 0.1483, 0.106], [0.6898, 0.2382, 0.1452, 0.1083], [0.5229, 0.3715, 0.1763, 0.1246], [0.474, 0.2318, 0.139, 0.099], [0.4534, 0.3252, 0.0839, 0.0693], [0.4057, 0.3907, 0.0815, 0.0606], [0.2985, 0.4239, 0.1219, 0.1025], [0.3082, 0.4862, 0.1025, 0.0571], [0.3187, 0.5482, 0.1141, 0.0844], [0.5132, 0.7634, 0.0808, 0.0641], [0.4026, 0.6787, 0.1219, 0.0961], [0.3556, 0.6417, 0.0963, 0.0664], [0.1405, 0.9381, 0.0838, 0.0664], [0.031, 0.9448, 0.0606, 0.0565], [0.0613, 0.9695, 0.0745, 0.0536]]\n",
            "Processing IMG_20191215_111506.jpg: [[0.4006, 0.0967, 0.2551, 0.1935], [0.3712, 0.5985, 0.2626, 0.1987], [0.6973, 0.4527, 0.0786, 0.0529], [0.7776, 0.7851, 0.1603, 0.1437], [0.1016, 0.9637, 0.1869, 0.0721], [0.4222, 0.9698, 0.1211, 0.059]]\n",
            "Error processing IMG_20191215_111506.jpg: Expected y_min for bbox [    0.27305 -5.0001e-05     0.52815     0.19345           2] to be in the range [0.0, 1.0], got -5.000084638595581e-05.\n",
            "Processing IMG_20191215_111907.jpg: [[0.5788, 0.0271, 0.1793, 0.0542], [0.2606, 0.1142, 0.0914, 0.0703], [0.2303, 0.155, 0.0984, 0.0882], [0.2603, 0.2247, 0.0862, 0.0659], [0.6289, 0.1592, 0.1479, 0.1114], [0.6813, 0.2326, 0.1922, 0.1524], [0.2184, 0.2754, 0.0955, 0.0729], [0.2553, 0.3162, 0.0809, 0.0585], [0.7631, 0.3304, 0.1334, 0.1044], [0.2108, 0.3529, 0.0897, 0.0646], [0.258, 0.3907, 0.0804, 0.0563], [0.7459, 0.4269, 0.1759, 0.121], [0.2367, 0.4317, 0.0763, 0.0572], [0.2769, 0.4474, 0.0623, 0.0458], [0.8927, 0.5088, 0.0326, 0.0227], [0.2766, 0.4874, 0.0571, 0.0402], [0.7684, 0.5007, 0.122, 0.071], [0.7643, 0.5697, 0.1018, 0.0676], [0.6886, 0.654, 0.1185, 0.0972], [0.6641, 0.6845, 0.1129, 0.0801], [0.7854, 0.675, 0.083, 0.0627], [0.9028, 0.6895, 0.0608, 0.0452], [0.8423, 0.7073, 0.0582, 0.0442], [0.7862, 0.7103, 0.0571, 0.0319], [0.9482, 0.6936, 0.0387, 0.0342], [0.7012, 0.7582, 0.067, 0.0497], [0.8322, 0.7679, 0.0693, 0.0517], [0.8548, 0.7957, 0.0685, 0.0488], [0.7954, 0.8275, 0.0379, 0.0439], [0.6773, 0.8378, 0.0628, 0.048], [0.903, 0.8912, 0.0486, 0.0508], [0.7707, 0.9222, 0.0858, 0.0721], [0.671, 0.8855, 0.0532, 0.0405], [0.6928, 0.9094, 0.067, 0.0569], [0.824, 0.9248, 0.0421, 0.0571], [0.7156, 0.9644, 0.0743, 0.0635], [0.9798, 0.888, 0.0391, 0.0554], [0.9721, 0.9136, 0.0551, 0.0531], [0.9361, 0.9258, 0.0352, 0.0373], [0.057, 0.9858, 0.0712, 0.0276], [0.1501, 0.9601, 0.0743, 0.0583], [0.679, 0.6179, 0.0995, 0.0489], [0.8318, 0.6384, 0.0364, 0.0293], [0.2864, 0.6022, 0.0325, 0.0185], [0.3008, 0.5581, 0.029, 0.0163], [0.2355, 0.5667, 0.0269, 0.0174], [0.2569, 0.5628, 0.0263, 0.0148]]\n",
            "Processing IMG_20191215_111110.jpg: [[0.7684, 0.2441, 0.2475, 0.1808], [0.2659, 0.4687, 0.1089, 0.0699], [0.1898, 0.5168, 0.1192, 0.0941], [0.2802, 0.5294, 0.0862, 0.0624], [0.2226, 0.5801, 0.0996, 0.0634], [0.6021, 0.7405, 0.1162, 0.0941], [0.5041, 0.7266, 0.0906, 0.0744], [0.4734, 0.7827, 0.1105, 0.0806], [0.5434, 0.815, 0.1165, 0.0974]]\n",
            "Processing IMG_20191215_111512.jpg: [[0.4644, 0.7311, 0.3162, 0.2603], [0.6548, 0.5479, 0.3267, 0.245], [0.3118, 0.4988, 0.3628, 0.2813]]\n",
            "Processing IMG_0999.jpg: [[0.5935, 0.4696, 0.3144, 0.2207], [0.3629, 0.5087, 0.2585, 0.1753], [0.1689, 0.52, 0.2213, 0.1561]]\n",
            "Processing IMG_20191215_112429.jpg: [[0.6216, 0.388, 0.1764, 0.1323], [0.4225, 0.414, 0.1881, 0.1406], [0.6618, 0.5182, 0.209, 0.1524], [0.4533, 0.5261, 0.1776, 0.107], [0.4586, 0.6237, 0.1904, 0.1476], [0.6344, 0.6082, 0.152, 0.1018], [0.474, 0.739, 0.1596, 0.1188], [0.5966, 0.7237, 0.131, 0.1092], [0.6577, 0.7964, 0.1671, 0.1297], [0.5776, 0.8573, 0.1398, 0.1232], [0.0553, 0.0804, 0.1095, 0.1249], [0.0553, 0.212, 0.1095, 0.1105]]\n",
            "Processing IMG_20191215_111259.jpg: [[0.5602, 0.0251, 0.106, 0.0502], [0.2644, 0.2304, 0.0687, 0.0598], [0.4597, 0.0229, 0.0902, 0.045], [0.4641, 0.2965, 0.3645, 0.2804], [0.1821, 0.6146, 0.0823, 0.0588], [0.0997, 0.6374, 0.0947, 0.072], [0.2307, 0.6752, 0.0564, 0.0466], [0.3908, 0.7192, 0.1167, 0.0978], [0.4896, 0.7036, 0.1224, 0.11], [0.5673, 0.6895, 0.1008, 0.0944], [0.448, 0.8049, 0.1563, 0.11]]\n",
            "Processing IMG_20191215_112616.jpg: [[0.4231, 0.2133, 0.1951, 0.1839], [0.2949, 0.2529, 0.2615, 0.2131], [0.0398, 0.4641, 0.0795, 0.0706], [0.262, 0.4838, 0.1879, 0.1268], [0.3927, 0.534, 0.1261, 0.0904], [0.2851, 0.5795, 0.158, 0.1177], [0.3793, 0.6038, 0.0618, 0.0646], [0.3061, 0.6541, 0.12, 0.0695], [0.0344, 0.7971, 0.0658, 0.0653], [0.5565, 0.5098, 0.157, 0.1219], [0.5534, 0.6811, 0.158, 0.1295], [0.7226, 0.84, 0.163, 0.1405], [0.6826, 0.9335, 0.1104, 0.0949], [0.5691, 0.8076, 0.0466, 0.0346], [0.5023, 0.8511, 0.0243, 0.022], [0.5496, 0.9261, 0.0268, 0.0254], [0.0437, 0.8832, 0.0591, 0.0445], [0.0556, 0.9228, 0.0492, 0.0365]]\n",
            "Processing IMG_20191215_111308.jpg: [[0.506, 0.3472, 0.4006, 0.3092], [0.6729, 0.5527, 0.4839, 0.3874], [0.2871, 0.5905, 0.396, 0.2821], [0.2807, 0.8748, 0.0827, 0.069], [0.315, 0.9335, 0.1677, 0.1315], [0.4493, 0.9357, 0.1345, 0.1149]]\n",
            "Processing IMG_20191215_112024.jpg: [[0.6097, 0.4555, 0.212, 0.1371], [0.3628, 0.3771, 0.1584, 0.1192], [0.3797, 0.5271, 0.1875, 0.1249], [0.29, 0.6304, 0.1526, 0.107], [0.0139, 0.5032, 0.0258, 0.0486], [0.0127, 0.5455, 0.0233, 0.0452], [0.0251, 0.5666, 0.0501, 0.0441], [0.0172, 0.6004, 0.0334, 0.038], [0.6425, 0.5876, 0.2016, 0.1477], [0.5629, 0.7094, 0.1721, 0.1411], [0.3814, 0.7298, 0.1574, 0.1155], [0.4852, 0.7973, 0.1654, 0.118]]\n",
            "Processing IMG_20191215_112020.jpg: [[0.9695, 0.2974, 0.0582, 0.0769], [0.9436, 0.399, 0.1112, 0.0756], [0.9425, 0.4839, 0.1135, 0.0769], [0.9288, 0.5507, 0.0978, 0.0576], [0.0242, 0.5038, 0.0413, 0.031], [0.0149, 0.5702, 0.0297, 0.0258], [0.1403, 0.9023, 0.0489, 0.0332], [0.5354, 0.7698, 0.0319, 0.0255], [0.5041, 0.7711, 0.0333, 0.025], [0.5493, 0.7235, 0.0346, 0.0232], [0.198, 0.763, 0.0324, 0.0243], [0.2279, 0.7666, 0.0365, 0.0262], [0.2203, 0.7413, 0.0324, 0.0228]]\n",
            "Processing IMG_20191215_110847.jpg: [[0.7803, 0.3129, 0.1887, 0.1463], [0.7157, 0.4182, 0.1258, 0.1227], [0.5931, 0.4501, 0.2207, 0.2022], [0.4839, 0.5375, 0.1154, 0.0895], [0.5072, 0.641, 0.1092, 0.1295], [0.4106, 0.6265, 0.1995, 0.1592], [0.3657, 0.5429, 0.1316, 0.1024], [0.109, 0.7747, 0.0876, 0.0654]]\n",
            "Processing IMG_20191215_112533.jpg: [[0.3255, 0.1924, 0.1398, 0.1088], [0.3226, 0.3107, 0.0815, 0.0887], [0.6242, 0.3634, 0.1514, 0.1205], [0.7119, 0.411, 0.1275, 0.0891], [0.5774, 0.468, 0.1462, 0.1192], [0.4906, 0.5057, 0.1601, 0.1214], [0.7523, 0.466, 0.1642, 0.1267], [0.7643, 0.5321, 0.0957, 0.0258], [0.8021, 0.5319, 0.0577, 0.0391], [0.8276, 0.5645, 0.0663, 0.0482], [0.5653, 0.6129, 0.1453, 0.1192], [0.6436, 0.7157, 0.1256, 0.0953], [0.5565, 0.7719, 0.0982, 0.0824]]\n",
            "Processing IMG_20191215_111931.jpg: [[0.4225, 0.7307, 0.1625, 0.1258], [0.4851, 0.758, 0.106, 0.1009], [0.5622, 0.6831, 0.1357, 0.0961], [0.7274, 0.4245, 0.0511, 0.038], [0.5957, 0.4443, 0.0432, 0.0393], [0.6138, 0.4734, 0.0449, 0.0301], [0.6602, 0.4699, 0.0524, 0.0363], [0.7897, 0.4328, 0.0471, 0.0307], [0.9396, 0.4138, 0.0405, 0.0251], [0.8698, 0.4164, 0.0401, 0.0264], [0.7523, 0.4098, 0.0462, 0.0317], [0.6369, 0.3174, 0.0374, 0.0277]]\n",
            "Processing IMG_20191215_111459.jpg: [[0.2932, 0.6501, 0.3418, 0.2468], [0.5354, 0.7798, 0.3546, 0.2389]]\n",
            "Processing IMG_1139.jpg: [[0.592, 0.7107, 0.1265, 0.0938], [0.5454, 0.6793, 0.1731, 0.0973], [0.5353, 0.564, 0.2415, 0.1706], [0.3439, 0.4519, 0.1739, 0.1386], [0.5105, 0.8499, 0.0815, 0.0693], [0.4841, 0.909, 0.0908, 0.0885], [0.5015, 0.973, 0.0885, 0.0524], [0.4223, 0.7957, 0.0792, 0.0541], [0.222, 0.3497, 0.0932, 0.06]]\n",
            "Processing IMG_20191215_111414.jpg: [[0.5378, 0.6311, 0.223, 0.1398], [0.4309, 0.6226, 0.0547, 0.1], [0.4388, 0.8753, 0.085, 0.0743], [0.3679, 0.8982, 0.1035, 0.0793], [0.4601, 0.9278, 0.074, 0.0631], [0.3586, 0.8475, 0.0806, 0.0571], [0.9152, 0.4494, 0.0894, 0.068]]\n",
            "Processing IMG_1058.jpg: [[0.5763, 0.5499, 0.3531, 0.2542], [0.2914, 0.4469, 0.3558, 0.2729]]\n",
            "Processing IMG_1075.jpg: [[0.705, 0.2347, 0.138, 0.1171], [0.2786, 0.4225, 0.0693, 0.0493], [0.2782, 0.3914, 0.0639, 0.033], [0.3026, 0.6223, 0.0577, 0.0453], [0.5947, 0.6299, 0.1261, 0.0872], [0.6413, 0.5843, 0.0204, 0.012], [0.476, 0.6139, 0.1247, 0.0832], [0.7281, 0.4631, 0.0608, 0.0326], [0.7186, 0.4928, 0.063, 0.0413]]\n",
            "Processing IMG_20191215_111654.jpg: [[0.4428, 0.2498, 0.1333, 0.1249], [0.3666, 0.3725, 0.2393, 0.1695], [0.5156, 0.49, 0.2009, 0.1581], [0.3625, 0.5509, 0.2137, 0.162], [0.4184, 0.6215, 0.1322, 0.0716], [0.5453, 0.7112, 0.1578, 0.1367]]\n",
            "Processing IMG_1251.jpg: [[0.2729, 0.1188, 0.1825, 0.1386], [0.3272, 0.3203, 0.1995, 0.1467], [0.5567, 0.2612, 0.1957, 0.1566], [0.6021, 0.5442, 0.1669, 0.124], [0.4091, 0.4886, 0.1677, 0.1223], [0.4274, 0.6589, 0.1576, 0.1217], [0.636, 0.7895, 0.0822, 0.0669], [0.6014, 0.8619, 0.0939, 0.0718], [0.4663, 0.7765, 0.135, 0.1132], [0.5107, 0.8681, 0.0839, 0.0683], [0.5195, 0.9288, 0.0663, 0.055], [0.3417, 0.8342, 0.0977, 0.0756], [0.2354, 0.8067, 0.1052, 0.0806], [0.1725, 0.7481, 0.0941, 0.0806], [0.2893, 0.745, 0.0915, 0.0663], [0.2815, 0.8893, 0.083, 0.0626], [0.3126, 0.9675, 0.0795, 0.0646], [0.3983, 0.9797, 0.0546, 0.0396]]\n",
            "Processing IMG_1234.jpg: [[0.9627, 0.2926, 0.0745, 0.223], [0.9585, 0.8435, 0.0644, 0.0751], [0.8762, 0.8362, 0.1266, 0.099], [0.4748, 0.2606, 0.1172, 0.152], [0.5668, 0.3797, 0.2034, 0.1619], [0.3478, 0.3267, 0.2003, 0.1339], [0.3008, 0.4827, 0.2415, 0.1875], [0.5109, 0.541, 0.2283, 0.1817], [0.4565, 0.7037, 0.205, 0.1532], [0.2985, 0.6423, 0.1871, 0.1386], [0.6033, 0.679, 0.1537, 0.1304], [0.5404, 0.8082, 0.1553, 0.1106], [0.3183, 0.7966, 0.1693, 0.1328]]\n",
            "Processing IMG_1220.jpg: [[0.8082, 0.3657, 0.236, 0.1689], [0.5866, 0.2501, 0.1949, 0.1764], [0.4014, 0.2804, 0.2655, 0.216], [0.3202, 0.4696, 0.2616, 0.2079], [0.4534, 0.5931, 0.3649, 0.2789], [0.3443, 0.7273, 0.3098, 0.2003]]\n",
            "Processing IMG_20191215_110728.jpg: [[0.9157, 0.0852, 0.1671, 0.1607], [0.6833, 0.076, 0.2009, 0.152], [0.8735, 0.1459, 0.1363, 0.1179], [0.6737, 0.1627, 0.1747, 0.1114], [0.3709, 0.3597, 0.0978, 0.0834], [0.6583, 0.614, 0.2894, 0.2227], [0.4254, 0.5499, 0.3034, 0.2026]]\n",
            "Processing IMG_20191215_112515.jpg: [[0.4099, 0.0151, 0.1444, 0.0301], [0.5966, 0.1675, 0.2009, 0.1533], [0.3791, 0.24, 0.1956, 0.1481], [0.52, 0.3479, 0.1549, 0.1236], [0.5223, 0.4605, 0.1386, 0.1114], [0.3829, 0.421, 0.1531, 0.1162], [0.1438, 0.6009, 0.1002, 0.0751], [0.0702, 0.6278, 0.1124, 0.0738], [0.0387, 0.68, 0.0775, 0.0882], [0.1165, 0.7562, 0.12, 0.0834], [0.4161, 0.6728, 0.1403, 0.1096], [0.5392, 0.7171, 0.1095, 0.0856], [0.4536, 0.8023, 0.1048, 0.0874]]\n",
            "Error processing IMG_20191215_112515.jpg: Expected x_min for bbox [-5.0001e-05      0.6359     0.07745      0.7241           3] to be in the range [0.0, 1.0], got -5.000084638595581e-05.\n",
            "Processing IMG_20191215_112612.jpg: [[0.9221, 0.2061, 0.1543, 0.1336], [0.7186, 0.3393, 0.2073, 0.152], [0.7634, 0.4843, 0.1398, 0.1005], [0.6621, 0.5632, 0.1165, 0.0922], [0.8004, 0.5979, 0.1054, 0.0777], [0.8516, 0.6881, 0.1706, 0.1271], [0.5942, 0.9879, 0.0763, 0.0236], [0.5919, 0.8191, 0.1112, 0.0974], [0.847, 0.827, 0.159, 0.1184], [0.7663, 0.849, 0.1071, 0.0943], [0.5736, 0.7152, 0.0792, 0.031], [0.5771, 0.7363, 0.0361, 0.0157], [0.5771, 0.6448, 0.1747, 0.1253], [0.5794, 0.5315, 0.1456, 0.1118], [0.4635, 0.576, 0.0915, 0.0408], [0.4614, 0.6405, 0.0475, 0.0382], [0.4173, 0.6375, 0.0582, 0.031], [0.4187, 0.605, 0.0731, 0.0534], [0.4376, 0.5423, 0.1631, 0.0692], [0.358, 0.5381, 0.0613, 0.0609], [0.4508, 0.4649, 0.2225, 0.1625], [0.5353, 0.4059, 0.0666, 0.0411], [0.3561, 0.4187, 0.0475, 0.0448], [0.2437, 0.4652, 0.0547, 0.0408], [0.2977, 0.4905, 0.0548, 0.0396], [0.2525, 0.4995, 0.054, 0.0382], [0.2919, 0.5278, 0.0502, 0.0362], [0.0525, 0.3064, 0.0498, 0.0362], [0.0142, 0.3228, 0.0283, 0.0385], [0.0448, 0.3419, 0.0406, 0.0359], [0.0802, 0.3763, 0.0333, 0.0244], [0.0796, 0.3971, 0.0253, 0.0184], [0.0911, 0.4017, 0.036, 0.023]]\n",
            "Processing IMG_20191215_111316.jpg: [[0.2958, 0.4739, 0.2446, 0.1764], [0.2436, 0.9572, 0.1084, 0.0847], [0.5238, 0.6667, 0.198, 0.1568], [0.3398, 0.6317, 0.2066, 0.1637], [0.1152, 0.5474, 0.0663, 0.0444], [0.7479, 0.5334, 0.0972, 0.0612], [0.4927, 0.5374, 0.2107, 0.1549], [0.0276, 0.3568, 0.0552, 0.0725], [0.0676, 0.3627, 0.0623, 0.0456], [0.0281, 0.136, 0.0562, 0.0737], [0.618, 0.0418, 0.0734, 0.044], [0.6892, 0.034, 0.0648, 0.0285], [0.5724, 0.0401, 0.0349, 0.0399], [0.6266, 0.3296, 0.0907, 0.0634], [0.4405, 0.3226, 0.0524, 0.0403], [0.6748, 0.2995, 0.0682, 0.0475], [0.5224, 0.4351, 0.0568, 0.04]]\n",
            "Processing IMG_20191215_111418.jpg: [[0.3468, 0.4793, 0.2184, 0.1262], [0.4073, 0.6042, 0.3278, 0.2214], [0.1229, 0.723, 0.1071, 0.0869], [0.0405, 0.7232, 0.0809, 0.0707], [0.6755, 0.7189, 0.0827, 0.0629], [0.7014, 0.7789, 0.1077, 0.0843], [0.7838, 0.8176, 0.0804, 0.0664], [0.757, 0.7621, 0.0838, 0.0498]]\n",
            "Processing IMG_20191215_112554.jpg: [[0.9314, 0.1208, 0.1357, 0.19], [0.8132, 0.1961, 0.0751, 0.083], [0.7553, 0.2461, 0.2353, 0.1865], [0.704, 0.378, 0.2061, 0.1516], [0.5392, 0.4258, 0.1887, 0.166], [0.23, 0.4675, 0.0769, 0.1035], [0.4472, 0.5354, 0.1095, 0.0943], [0.2903, 0.6164, 0.2102, 0.155], [0.5998, 0.5387, 0.1561, 0.1166], [0.5442, 0.6082, 0.1205, 0.086], [0.5072, 0.6973, 0.1759, 0.1341], [0.3423, 0.7347, 0.161, 0.1287], [0.4489, 0.7472, 0.0987, 0.0832], [0.5719, 0.7421, 0.1048, 0.0828], [0.5033, 0.8273, 0.1367, 0.093], [0.48, 0.8978, 0.1752, 0.1481], [0.4823, 0.9718, 0.1352, 0.0555], [0.3433, 0.9428, 0.1114, 0.0968], [0.1834, 0.8054, 0.0712, 0.0537], [0.1283, 0.8476, 0.0882, 0.0582], [0.1571, 0.8683, 0.0546, 0.0417]]\n",
            "Processing IMG_20191215_111531.jpg: [[0.9291, 0.1024, 0.0821, 0.0825], [0.4915, 0.7726, 0.2341, 0.1843], [0.6379, 0.6156, 0.3104, 0.2328], [0.3604, 0.6151, 0.2609, 0.197]]\n",
            "Processing IMG_20191215_110842.jpg: [[0.4586, 0.2109, 0.2719, 0.2149], [0.7701, 0.2304, 0.3395, 0.2433], [0.3744, 0.3151, 0.0862, 0.1009], [0.6178, 0.3446, 0.2085, 0.1502], [0.4993, 0.7245, 0.2871, 0.1948], [0.2318, 0.7828, 0.2748, 0.1978], [0.3817, 0.8034, 0.11, 0.0895], [0.9474, 0.7617, 0.1013, 0.0507], [0.8406, 0.7112, 0.1077, 0.0459]]\n",
            "Processing IMG_20191215_111314.jpg: [[0.2874, 0.3786, 0.209, 0.1459], [0.1764, 0.3472, 0.1037, 0.0987], [0.5252, 0.8051, 0.1234, 0.0983], [0.4359, 0.8599, 0.1112, 0.0917], [0.8691, 0.5335, 0.1392, 0.1009], [0.7302, 0.5341, 0.1561, 0.1066], [0.6973, 0.5911, 0.1974, 0.1786], [0.7719, 0.3629, 0.0879, 0.0498], [0.6708, 0.3551, 0.0547, 0.0524]]\n",
            "Processing IMG_20191215_111912.jpg: [[0.1545, 0.0151, 0.0754, 0.0301], [0.1664, 0.0698, 0.0762, 0.0615], [0.1773, 0.1073, 0.0666, 0.0342], [0.1966, 0.1374, 0.0616, 0.0497], [0.1662, 0.1742, 0.0513, 0.0422], [0.1547, 0.1812, 0.0482, 0.035], [0.1342, 0.1979, 0.044, 0.0356], [0.4397, 0.0187, 0.0563, 0.0373], [0.3643, 0.0695, 0.0601, 0.0528], [0.3978, 0.1176, 0.0567, 0.048], [0.3645, 0.1107, 0.0345, 0.0319], [0.3888, 0.1378, 0.0448, 0.0327], [0.4482, 0.1202, 0.0632, 0.048], [0.3724, 0.1485, 0.0303, 0.0281], [0.4244, 0.1721, 0.0525, 0.0434], [0.3913, 0.179, 0.039, 0.0388], [0.3626, 0.1954, 0.0467, 0.0422], [0.626, 0.3478, 0.1363, 0.1051], [0.595, 0.4536, 0.1049, 0.0818], [0.4298, 0.4826, 0.1061, 0.0744], [0.5043, 0.5061, 0.0873, 0.0388], [0.4032, 0.5539, 0.0957, 0.0741], [0.5221, 0.5442, 0.0923, 0.0689], [0.4928, 0.5603, 0.108, 0.081], [0.6348, 0.5406, 0.0858, 0.0652], [0.5659, 0.5821, 0.0544, 0.0454], [0.4522, 0.6026, 0.072, 0.0543], [0.4966, 0.6132, 0.0413, 0.0359], [0.5399, 0.6148, 0.0789, 0.0643], [0.6434, 0.602, 0.0777, 0.0583], [0.5938, 0.6391, 0.072, 0.0606], [0.4394, 0.6582, 0.1007, 0.0683], [0.309, 0.6656, 0.1141, 0.0787], [0.2829, 0.7143, 0.0934, 0.0583], [0.1593, 0.7343, 0.0383, 0.0304], [0.1254, 0.7377, 0.0379, 0.0327], [0.0911, 0.7226, 0.0483, 0.033], [0.4047, 0.7453, 0.0919, 0.0726], [0.3193, 0.7768, 0.0773, 0.0689], [0.4943, 0.8414, 0.0804, 0.066], [0.5984, 0.9318, 0.062, 0.0534], [0.5334, 0.9307, 0.0567, 0.0517], [0.1608, 0.4392, 0.0446, 0.0345], [0.0939, 0.4561, 0.0493, 0.0352], [0.2437, 0.507, 0.0353, 0.0267], [0.2061, 0.483, 0.0373, 0.0272], [0.145, 0.5391, 0.0423, 0.0295], [0.174, 0.5719, 0.0428, 0.0287], [0.0722, 0.5321, 0.0443, 0.0271], [0.076, 0.5045, 0.0472, 0.0276], [0.0514, 0.567, 0.0414, 0.0267], [0.1006, 0.4804, 0.0437, 0.0276], [0.0164, 0.5067, 0.0316, 0.0306], [0.188, 0.542, 0.0356, 0.0248], [0.0647, 0.4798, 0.0402, 0.0302], [0.0822, 0.5792, 0.0411, 0.0172], [0.0827, 0.5529, 0.0437, 0.0276], [0.7488, 0.6321, 0.0298, 0.0235], [0.1906, 0.5135, 0.037, 0.0262], [0.1671, 0.4905, 0.0376, 0.0317], [0.1382, 0.49, 0.035, 0.0284], [0.1303, 0.5743, 0.0411, 0.0195]]\n",
            "Processing IMG_20191215_111926.jpg: [[0.5238, 0.4232, 0.124, 0.0943], [0.536, 0.4708, 0.1066, 0.0428], [0.5503, 0.5071, 0.078, 0.0524], [0.591, 0.5442, 0.1118, 0.083], [0.5011, 0.5343, 0.0623, 0.045], [0.6097, 0.5778, 0.0897, 0.0507], [0.3791, 0.6317, 0.1106, 0.093], [0.3322, 0.7143, 0.138, 0.114], [0.3826, 0.744, 0.1025, 0.0895], [0.5151, 0.7309, 0.0972, 0.0581], [0.5255, 0.7787, 0.1077, 0.083], [0.5366, 0.8615, 0.1194, 0.0869], [0.336, 0.9482, 0.1293, 0.1031], [0.6507, 0.9198, 0.1392, 0.1153]]\n",
            "Processing IMG_1050.jpg: [[0.5392, 0.5672, 0.4371, 0.2644], [0.2279, 0.5334, 0.2415, 0.2201]]\n",
            "Processing IMG_1070.jpg: [[0.663, 0.3881, 0.2982, 0.2731], [0.559, 0.552, 0.2733, 0.1898], [0.3769, 0.4344, 0.3905, 0.2865], [0.0881, 0.9445, 0.1747, 0.1083], [0.3109, 0.3395, 0.2399, 0.1223]]\n",
            "Processing IMG_1002.jpg: [[0.4996, 0.5846, 0.4309, 0.3028], [0.4138, 0.4402, 0.2811, 0.1677], [0.184, 0.7486, 0.2236, 0.1916], [0.1452, 0.9166, 0.2888, 0.1654]]\n",
            "Processing IMG_20191215_112740.jpg: [[0.5389, 0.38, 0.1275, 0.1232], [0.437, 0.4907, 0.1473, 0.1271], [0.5046, 0.4559, 0.1101, 0.097], [0.4854, 0.5459, 0.1136, 0.0821], [0.377, 0.5789, 0.1357, 0.1149], [0.4239, 0.6254, 0.1095, 0.0952], [0.2871, 0.6385, 0.12, 0.1188], [0.3683, 0.697, 0.1066, 0.0952], [0.7016, 0.8096, 0.033, 0.0406], [0.686, 0.8409, 0.0335, 0.038], [0.7472, 0.8447, 0.0379, 0.0211], [0.7122, 0.82, 0.033, 0.037], [0.8022, 0.8398, 0.0352, 0.0403], [0.8078, 0.8736, 0.0357, 0.034], [0.778, 0.8893, 0.0352, 0.0317], [0.0181, 0.5001, 0.0361, 0.0485], [0.0198, 0.5335, 0.0396, 0.0314], [0.0495, 0.4939, 0.063, 0.0466], [0.0458, 0.5284, 0.0282, 0.0396], [0.1422, 0.0618, 0.0476, 0.0436], [0.1246, 0.0961, 0.0475, 0.035], [0.7732, 0.5464, 0.0511, 0.0446], [0.8249, 0.4963, 0.0559, 0.0462], [0.3853, 0.1174, 0.0308, 0.0367], [0.3573, 0.1446, 0.0321, 0.0317], [0.3985, 0.1433, 0.0299, 0.033], [0.1882, 0.1565, 0.0401, 0.039], [0.3727, 0.1669, 0.0286, 0.0301], [0.7599, 0.5806, 0.0361, 0.0336]]\n",
            "Processing IMG_20191215_112611.jpg: [[0.8767, 0.0393, 0.2451, 0.0777], [0.8283, 0.0642, 0.2277, 0.1284], [0.6583, 0.1935, 0.1997, 0.1747], [0.9087, 0.3843, 0.1811, 0.1668], [0.7005, 0.5492, 0.1747, 0.1271], [0.8109, 0.6509, 0.1811, 0.1201], [0.4522, 0.618, 0.1368, 0.1039], [0.3028, 0.6278, 0.1572, 0.1157], [0.2987, 0.7064, 0.1165, 0.0659], [0.9666, 0.8975, 0.0652, 0.0673]]\n",
            "Processing IMG_20191215_111919.jpg: [[0.3727, 0.4297, 0.12, 0.09], [0.1668, 0.4389, 0.1473, 0.0961], [0.2553, 0.5536, 0.1217, 0.0843], [0.5439, 0.7117, 0.0885, 0.0598], [0.3252, 0.602, 0.0972, 0.0738], [0.3998, 0.6114, 0.053, 0.0428], [0.4382, 0.5739, 0.074, 0.0542], [0.4507, 0.5033, 0.0384, 0.0275], [0.9638, 0.6289, 0.0713, 0.0598], [0.6268, 0.7085, 0.0806, 0.0545], [0.588, 0.7389, 0.0418, 0.036], [0.5317, 0.7587, 0.0797, 0.0525], [0.7567, 0.6641, 0.048, 0.037], [0.7481, 0.7153, 0.096, 0.0779], [0.8276, 0.7202, 0.0638, 0.0495], [0.7787, 0.7914, 0.0665, 0.0545], [0.9392, 0.7704, 0.1171, 0.0892]]\n",
            "Processing IMG_1096.jpg: [[0.5752, 0.3118, 0.0888, 0.0596], [0.6311, 0.2374, 0.1163, 0.1045], [0.5405, 0.1533, 0.111, 0.0995], [0.4833, 0.3233, 0.1163, 0.0979], [0.5132, 0.2492, 0.1203, 0.0922], [0.3754, 0.3589, 0.0888, 0.0633], [0.3752, 0.2713, 0.1523, 0.1172], [0.4595, 0.6657, 0.1709, 0.1502], [0.3419, 0.6567, 0.1105, 0.0762], [0.3075, 0.7539, 0.1793, 0.1215]]\n",
            "Processing IMG_20191215_111457.jpg: [[0.6845, 0.2524, 0.3302, 0.2699], [0.4254, 0.4479, 0.3756, 0.3175], [0.0312, 0.2775, 0.0623, 0.1087], [0.0611, 0.3481, 0.1223, 0.0891], [0.0492, 0.4173, 0.0984, 0.0878], [0.1593, 0.5068, 0.2032, 0.1515], [0.5311, 0.5913, 0.1153, 0.0839], [0.5759, 0.6826, 0.1363, 0.1223], [0.0463, 0.4817, 0.0611, 0.0515]]\n",
            "Error processing IMG_20191215_111457.jpg: Expected x_min for bbox [-5.0001e-05     0.30355     0.12225     0.39265           0] to be in the range [0.0, 1.0], got -5.000084638595581e-05.\n",
            "Processing IMG_20191215_111400.jpg: [[0.5126, 0.6454, 0.2162, 0.1712], [0.5555, 0.4796, 0.2132, 0.1514], [0.3936, 0.5743, 0.2569, 0.213]]\n",
            "Processing IMG_20191215_112455.jpg: [[0.1255, 0.4049, 0.251, 0.1773], [0.3663, 0.3385, 0.1887, 0.1406], [0.3532, 0.4863, 0.2172, 0.1585], [0.6024, 0.4629, 0.2347, 0.1695], [0.5171, 0.5937, 0.2516, 0.1489]]\n",
            "Processing IMG_20191215_112529.jpg: [[0.5005, 0.4632, 0.2545, 0.2005], [0.4062, 0.504, 0.1683, 0.1467], [0.2222, 0.4363, 0.2871, 0.2131], [0.6074, 0.5223, 0.1444, 0.1555], [0.2655, 0.585, 0.1281, 0.1009], [0.1893, 0.6365, 0.2364, 0.1664]]\n",
            "Processing IMG_20191215_110702.jpg: [[0.358, 0.1633, 0.1641, 0.1337], [0.498, 0.211, 0.1585, 0.1287], [0.5665, 0.3897, 0.1132, 0.0759], [0.4958, 0.4263, 0.0687, 0.0555], [0.5387, 0.4777, 0.1801, 0.1304], [0.3846, 0.4448, 0.1924, 0.1387], [0.7069, 0.9045, 0.1405, 0.1189], [0.7885, 0.83, 0.1551, 0.1266]]\n",
            "Processing IMG_1217.jpg: [[0.9884, 0.0835, 0.0232, 0.0252], [0.9577, 0.067, 0.0405, 0.0316], [0.9537, 0.0842, 0.0293, 0.0168], [0.9842, 0.1662, 0.0316, 0.062], [0.9803, 0.1961, 0.0394, 0.0512], [0.8579, 0.0492, 0.0826, 0.0793], [0.8695, 0.1345, 0.0664, 0.0733], [0.7763, 0.1413, 0.1409, 0.1036], [0.686, 0.2064, 0.1054, 0.0932], [0.6908, 0.2911, 0.0872, 0.0866], [0.736, 0.305, 0.1204, 0.0889], [0.824, 0.3628, 0.1135, 0.0869], [0.7186, 0.3801, 0.1204, 0.0747], [0.9247, 0.4969, 0.1505, 0.1028], [0.8745, 0.4385, 0.1289, 0.0947], [0.7064, 0.4416, 0.1216, 0.0756], [0.4607, 0.4705, 0.1467, 0.1112], [0.4131, 0.5453, 0.1386, 0.0947], [0.3278, 0.4618, 0.1432, 0.1077], [0.2928, 0.566, 0.1328, 0.0967], [0.2027, 0.4584, 0.1193, 0.0895], [0.1577, 0.5857, 0.1482, 0.106], [0.2726, 0.73, 0.1301, 0.101], [0.1635, 0.7972, 0.1382, 0.0981], [0.1199, 0.721, 0.1374, 0.1005], [0.0502, 0.8244, 0.1, 0.0843], [0.354, 0.9748, 0.0884, 0.0498], [0.5383, 0.6343, 0.1042, 0.0874], [0.5997, 0.6899, 0.0903, 0.0649], [0.7145, 0.509, 0.1177, 0.0944], [0.6622, 0.5936, 0.1158, 0.0831], [0.6947, 0.6715, 0.1204, 0.0825], [0.9077, 0.6005, 0.1421, 0.0938], [0.7871, 0.589, 0.1293, 0.0866], [0.7875, 0.6689, 0.1147, 0.0819], [0.9064, 0.7771, 0.0652, 0.0562], [0.8807, 0.8234, 0.0803, 0.0457], [0.8784, 0.8413, 0.0718, 0.0544], [0.8, 0.8431, 0.0656, 0.0527], [0.929, 0.8765, 0.0811, 0.0634], [0.9176, 0.9341, 0.0868, 0.0669], [0.7805, 0.874, 0.0652, 0.0556], [0.8361, 0.8966, 0.076, 0.0596], [0.8684, 0.9746, 0.0718, 0.0501], [0.8414, 0.969, 0.0641, 0.0515], [0.773, 0.9327, 0.0594, 0.0512], [0.7811, 0.9907, 0.0401, 0.018], [0.9776, 0.2899, 0.0409, 0.0339], [0.9865, 0.3256, 0.027, 0.0298], [0.9529, 0.3552, 0.0363, 0.0272], [0.9741, 0.4246, 0.0402, 0.0362]]\n",
            "Processing IMG_20191215_111917.jpg: [[0.4166, 0.1817, 0.2091, 0.1799], [0.3855, 0.3784, 0.2224, 0.1821], [0.5771, 0.4232, 0.1363, 0.1066], [0.8749, 0.5095, 0.1007, 0.0843], [0.651, 0.5051, 0.1363, 0.1114], [0.4728, 0.5551, 0.1689, 0.124], [0.6534, 0.6191, 0.1235, 0.0948], [0.7783, 0.6892, 0.0996, 0.0847], [0.4714, 0.6972, 0.0833, 0.0607], [0.5086, 0.6529, 0.117, 0.0926], [0.2719, 0.649, 0.2108, 0.1406], [0.0713, 0.5667, 0.074, 0.0528], [0.1176, 0.6579, 0.0687, 0.0528], [0.1665, 0.7791, 0.177, 0.1345], [0.8208, 0.7339, 0.0844, 0.0686], [0.168, 0.8883, 0.1648, 0.1188], [0.3337, 0.9067, 0.1165, 0.1118], [0.886, 0.5927, 0.0856, 0.0594], [0.2967, 0.4046, 0.1019, 0.1166], [0.1296, 0.7204, 0.0612, 0.045], [0.0303, 0.7348, 0.0594, 0.0494]]\n",
            "Processing IMG_1254.jpg: [[0.9515, 0.0291, 0.0939, 0.0582], [0.8063, 0.4737, 0.1514, 0.0658], [0.4456, 0.7759, 0.1708, 0.124], [0.4565, 0.6193, 0.2127, 0.1683], [0.3354, 0.8001, 0.1304, 0.1072], [0.3338, 0.6152, 0.0838, 0.1194], [0.3622, 0.4437, 0.1747, 0.1444], [0.4895, 0.3998, 0.2337, 0.1823], [0.3676, 0.2786, 0.2057, 0.1729]]\n",
            "Processing IMG_1115.jpg: [[0.5312, 0.0506, 0.057, 0.0484], [0.9745, 0.1534, 0.0511, 0.0947], [0.975, 0.3404, 0.0499, 0.0669], [0.9075, 0.3089, 0.0981, 0.0683], [0.9539, 0.2954, 0.0734, 0.0546], [0.8767, 0.1898, 0.054, 0.0396], [0.8594, 0.236, 0.0981, 0.0713], [0.8133, 0.2129, 0.0798, 0.0638], [0.9369, 0.2457, 0.0851, 0.059], [0.8688, 0.2904, 0.0722, 0.0542], [0.7531, 0.2818, 0.0699, 0.052], [0.8204, 0.3373, 0.061, 0.0467], [0.7103, 0.3443, 0.0522, 0.0414], [0.725, 0.3996, 0.0217, 0.0172], [0.7047, 0.3809, 0.0188, 0.0159], [0.8022, 0.406, 0.0587, 0.0476], [0.9416, 0.387, 0.0839, 0.0599], [0.9789, 0.4465, 0.0411, 0.0475], [0.9145, 0.4383, 0.0226, 0.0163], [0.8198, 0.4481, 0.0293, 0.02], [0.8819, 0.6797, 0.1003, 0.0743], [0.526, 0.4168, 0.1036, 0.0892], [0.5702, 0.577, 0.1297, 0.0957], [0.5002, 0.5389, 0.0633, 0.0486], [0.4106, 0.4464, 0.1332, 0.0988], [0.3504, 0.3984, 0.0311, 0.0203], [0.3486, 0.4815, 0.0511, 0.0448], [0.3131, 0.4313, 0.0434, 0.0287], [0.3644, 0.5255, 0.0745, 0.0494], [0.381, 0.5904, 0.0924, 0.0689], [0.3374, 0.5653, 0.0817, 0.0639], [0.32, 0.608, 0.0653, 0.0521], [0.2753, 0.6578, 0.073, 0.0574], [0.2324, 0.5979, 0.0699, 0.0517], [0.1597, 0.5364, 0.0592, 0.0352], [0.2291, 0.6459, 0.0572, 0.0452], [0.3522, 0.6867, 0.0807, 0.0655], [0.32, 0.7089, 0.0694, 0.054], [0.3555, 0.7726, 0.0638, 0.0482], [0.2963, 0.7704, 0.0526, 0.0429], [0.259, 0.7841, 0.0464, 0.0329], [0.4627, 0.6281, 0.0618, 0.0501], [0.5097, 0.6649, 0.0434, 0.031], [0.418, 0.675, 0.0684, 0.0467], [0.4313, 0.7041, 0.0602, 0.0482], [0.6982, 0.1286, 0.0459, 0.0344], [0.4091, 0.5525, 0.0669, 0.0498]]\n",
            "Error processing IMG_1115.jpg: Expected x_max for bbox [    0.94895     0.10605           1     0.20075           5] to be in the range [0.0, 1.0], got 1.0000499486923218.\n",
            "Processing IMG_20191215_111751.jpg: [[0.6536, 0.2535, 0.1275, 0.1192], [0.4915, 0.2981, 0.2248, 0.1664], [0.725, 0.3594, 0.1689, 0.1153], [0.6306, 0.4127, 0.1922, 0.1494], [0.474, 0.4328, 0.1293, 0.0943], [0.4822, 0.77, 0.2376, 0.1738], [0.1223, 0.8073, 0.12, 0.1314], [0.3275, 0.8676, 0.1648, 0.1489], [0.2449, 0.903, 0.1811, 0.1603]]\n",
            "Processing IMG_1176.jpg: [[0.1054, 0.2598, 0.0517, 0.0403], [0.014, 0.2689, 0.0272, 0.0363], [0.0632, 0.307, 0.045, 0.0305], [0.0256, 0.3749, 0.047, 0.0368], [0.1568, 0.3158, 0.0436, 0.033], [0.1914, 0.3433, 0.0188, 0.0164], [0.1644, 0.3435, 0.0373, 0.0279], [0.1242, 0.3613, 0.0322, 0.0237], [0.043, 0.3976, 0.0443, 0.031], [0.0227, 0.4182, 0.0426, 0.0307], [0.0538, 0.433, 0.0342, 0.0232], [0.0314, 0.4677, 0.0399, 0.0257], [0.7595, 0.652, 0.0672, 0.0469], [0.7323, 0.5495, 0.0629, 0.0376], [0.7114, 0.6427, 0.0452, 0.0405], [0.7225, 0.6885, 0.0548, 0.0423], [0.6846, 0.6937, 0.0448, 0.0388], [0.7433, 0.7288, 0.0455, 0.0264], [0.7205, 0.7613, 0.0486, 0.0263], [0.6748, 0.7543, 0.0405, 0.0327], [0.8188, 0.7757, 0.0428, 0.0206], [0.8996, 0.9411, 0.0347, 0.0385], [0.8724, 0.9357, 0.0506, 0.0417], [0.8361, 0.9125, 0.0452, 0.0376], [0.8182, 0.8891, 0.044, 0.0266], [0.7966, 0.9128, 0.044, 0.0376], [0.796, 0.9804, 0.0467, 0.0385], [0.5113, 0.8284, 0.0455, 0.035], [0.5325, 0.8031, 0.0486, 0.0411], [0.5219, 0.7687, 0.0529, 0.0475], [0.4632, 0.8326, 0.0567, 0.044], [0.4532, 0.864, 0.0498, 0.0408], [0.2766, 0.804, 0.0336, 0.0289], [0.2714, 0.7517, 0.0326, 0.0267], [0.2775, 0.7649, 0.0292, 0.0229], [0.2503, 0.8246, 0.0373, 0.0284], [0.2244, 0.7661, 0.0332, 0.0247], [0.2588, 0.7083, 0.0369, 0.0259], [0.3361, 0.774, 0.0342, 0.0249], [0.31, 0.7777, 0.0326, 0.0262], [0.2449, 0.8057, 0.0312, 0.0199]]\n",
            "Processing IMG_20191215_111215.jpg: [[0.5829, 0.0882, 0.1875, 0.1389], [0.6248, 0.1819, 0.1991, 0.1725], [0.594, 0.2273, 0.2003, 0.1428], [0.4115, 0.6213, 0.0735, 0.0525], [0.3238, 0.8086, 0.1405, 0.0974], [0.4665, 0.8434, 0.1334, 0.1129], [0.3637, 0.8877, 0.2325, 0.1777]]\n",
            "Processing IMG_20191215_110629.jpg: [[0.3386, 0.4101, 0.1555, 0.1092], [0.4341, 0.4822, 0.2556, 0.1764], [0.6391, 0.5933, 0.2917, 0.3035], [0.4219, 0.6379, 0.1718, 0.1367]]\n",
            "Processing IMG_20191215_110654.jpg: [[0.4749, 0.1919, 0.2347, 0.1769], [0.5948, 0.2789, 0.2533, 0.1559], [0.4296, 0.8131, 0.2, 0.1656], [0.3681, 0.7453, 0.1722, 0.1356], [0.5626, 0.7533, 0.2036, 0.1576]]\n",
            "Processing IMG_20191215_110734.jpg: [[0.2512, 0.2265, 0.1408, 0.1356], [0.4084, 0.3129, 0.2091, 0.1542], [0.5461, 0.3866, 0.1261, 0.0904], [0.1929, 0.6866, 0.1023, 0.0775], [0.0891, 0.6785, 0.1215, 0.087], [0.7117, 0.8385, 0.1554, 0.139], [0.7818, 0.8116, 0.2238, 0.1686]]\n",
            "Processing IMG_20191215_111509.jpg: [[0.3936, 0.575, 0.2422, 0.19], [0.5337, 0.6044, 0.1345, 0.0524], [0.3194, 0.7726, 0.2149, 0.2262], [0.5579, 0.7673, 0.3657, 0.3136], [0.8336, 0.6817, 0.3313, 0.2673], [0.755, 0.8329, 0.0984, 0.0891]]\n",
            "Processing IMG_0985.jpg: [[0.832, 0.4307, 0.0741, 0.0596], [0.7743, 0.4541, 0.0786, 0.0526], [0.6723, 0.5514, 0.2103, 0.1815], [0.4425, 0.5452, 0.2726, 0.2221], [0.3177, 0.3957, 0.2343, 0.2002], [0.3169, 0.5667, 0.0909, 0.1294]]\n",
            "Processing IMG_20191215_111216.jpg: [[0.75, 0.2251, 0.0943, 0.0773], [0.1112, 0.266, 0.1106, 0.0681], [0.0408, 0.281, 0.0804, 0.0668], [0.49, 0.3538, 0.3278, 0.2385], [0.7043, 0.2697, 0.0705, 0.0467], [0.6874, 0.4677, 0.2312, 0.1616], [0.0172, 0.4966, 0.0345, 0.0296], [0.1179, 0.4965, 0.072, 0.0517], [0.1662, 0.4941, 0.0391, 0.0336], [0.3628, 0.7677, 0.1252, 0.1031]]\n",
            "Error processing IMG_20191215_111216.jpg: Expected x_min for bbox [-4.9999e-05      0.4818     0.03445      0.5114           0] to be in the range [0.0, 1.0], got -4.999898374080658e-05.\n",
            "Processing IMG_20191215_111336.jpg: [[0.5878, 0.5116, 0.2382, 0.1821], [0.4743, 0.6014, 0.3115, 0.2577], [0.5814, 0.7261, 0.2824, 0.2197]]\n",
            "Processing IMG_20191215_112831.jpg: [[0.7017, 0.2673, 0.1316, 0.1144], [0.6108, 0.2361, 0.1223, 0.0965], [0.6161, 0.3276, 0.1118, 0.0952], [0.7491, 0.35, 0.1275, 0.1], [0.5913, 0.3745, 0.1159, 0.1044], [0.7512, 0.4485, 0.1211, 0.0943], [0.6091, 0.4771, 0.1083, 0.086], [0.736, 0.5348, 0.1025, 0.0817], [0.3372, 0.3942, 0.1003, 0.0782], [0.1912, 0.4056, 0.1241, 0.0965], [0.3737, 0.4599, 0.0942, 0.0691], [0.2641, 0.4679, 0.0998, 0.0813], [0.3469, 0.5085, 0.1023, 0.082], [0.0444, 0.3768, 0.033, 0.0205], [0.0564, 0.3935, 0.029, 0.0195], [0.8943, 0.3184, 0.0393, 0.031], [0.8865, 0.2999, 0.035, 0.024], [0.8393, 0.3322, 0.03, 0.0282], [0.8338, 0.3537, 0.0323, 0.0242], [0.8971, 0.3412, 0.037, 0.0242], [0.6294, 0.8107, 0.0689, 0.0647], [0.5702, 0.8117, 0.0516, 0.0322], [0.5895, 0.7946, 0.0443, 0.0335], [0.666, 0.9188, 0.0856, 0.0677], [0.6571, 0.9497, 0.0743, 0.0587], [0.7168, 0.9864, 0.0881, 0.0264], [0.3165, 0.2415, 0.0302, 0.023], [0.3323, 0.2544, 0.0276, 0.0207], [0.3481, 0.2682, 0.023, 0.0185], [0.3006, 0.2556, 0.0253, 0.0152]]\n",
            "Processing IMG_20191215_110913.jpg: [[0.5209, 0.2264, 0.2056, 0.1498], [0.6688, 0.2459, 0.0914, 0.0655], [0.7349, 0.3452, 0.092, 0.0729], [0.3651, 0.8323, 0.0506, 0.0406], [0.3603, 0.7647, 0.117, 0.0915], [0.2671, 0.7757, 0.123, 0.1136], [0.2995, 0.8719, 0.1514, 0.1101]]\n",
            "Processing IMG_1292.jpg: [[0.4706, 0.3668, 0.1052, 0.0743], [0.4923, 0.4334, 0.0883, 0.0674], [0.4183, 0.4353, 0.0802, 0.0643], [0.3861, 0.3829, 0.0904, 0.0712], [0.551, 0.3446, 0.0536, 0.0345], [0.512, 0.2378, 0.05, 0.0398], [0.5344, 0.3792, 0.047, 0.0356], [0.3432, 0.4483, 0.0832, 0.0582], [0.3378, 0.4864, 0.083, 0.0463], [0.4144, 0.4909, 0.0757, 0.0541], [0.3633, 0.5295, 0.0475, 0.0509], [0.3195, 0.52, 0.0533, 0.0481], [0.3947, 0.5381, 0.0764, 0.0582], [0.298, 0.5661, 0.0459, 0.0483], [0.3401, 0.5793, 0.0745, 0.0533], [0.4675, 0.5292, 0.0822, 0.0625], [0.5206, 0.4855, 0.0795, 0.0567], [0.5877, 0.5036, 0.0679, 0.0524], [0.5906, 0.5495, 0.0683, 0.0469], [0.5302, 0.5621, 0.0733, 0.0576], [0.6862, 0.4699, 0.0718, 0.0504], [0.6837, 0.5178, 0.0768, 0.0507], [0.7375, 0.5174, 0.0386, 0.0411], [0.7211, 0.5525, 0.0521, 0.0379], [0.6815, 0.5417, 0.0687, 0.0307], [0.58, 0.6436, 0.0448, 0.0394], [0.5804, 0.6769, 0.0579, 0.0417], [0.5775, 0.7157, 0.0544, 0.0405], [0.5401, 0.7442, 0.056, 0.0431], [0.5333, 0.7157, 0.0386, 0.0295], [0.74, 0.8695, 0.0529, 0.0426], [0.6887, 0.8554, 0.0374, 0.0362], [0.6819, 0.8403, 0.0471, 0.0344]]\n",
            "Processing IMG_1238.jpg: [[0.7597, 0.3322, 0.2617, 0.2032], [0.5819, 0.1965, 0.2415, 0.1823], [0.4891, 0.3718, 0.2671, 0.1869], [0.446, 0.274, 0.1467, 0.0844], [0.6196, 0.5238, 0.2422, 0.1706], [0.5105, 0.5535, 0.1343, 0.1229], [0.4375, 0.4586, 0.198, 0.1205], [0.4037, 0.6635, 0.1429, 0.1019], [0.3532, 0.5948, 0.1801, 0.1264]]\n",
            "Processing IMG_20191215_111556.jpg: [[0.7433, 0.3059, 0.1007, 0.0782], [0.6356, 0.6261, 0.1497, 0.1795], [0.4461, 0.6494, 0.2923, 0.235]]\n",
            "Processing IMG_1138.jpg: [[0.4565, 0.2787, 0.1647, 0.1362], [0.3795, 0.2917, 0.0837, 0.1003], [0.548, 0.3266, 0.0722, 0.0476], [0.5642, 0.4253, 0.1276, 0.1023], [0.6054, 0.5821, 0.0533, 0.0339], [0.6631, 0.5069, 0.1094, 0.084], [0.5959, 0.6537, 0.0682, 0.0557], [0.653, 0.6745, 0.077, 0.0608], [0.6412, 0.7355, 0.0911, 0.0704], [0.6655, 0.8011, 0.0803, 0.0689], [0.5713, 0.2567, 0.0783, 0.0618]]\n",
            "Processing IMG_1221.jpg: [[0.5978, 0.1246, 0.1661, 0.1339], [0.6265, 0.2417, 0.2034, 0.1712], [0.5637, 0.2897, 0.1289, 0.1124], [0.6467, 0.3922, 0.1801, 0.138], [0.6382, 0.6184, 0.1708, 0.127], [0.3998, 0.7066, 0.1661, 0.1109], [0.2941, 0.6527, 0.1614, 0.1225], [0.5314, 0.6481, 0.1377, 0.1053], [0.5476, 0.7507, 0.1175, 0.0937], [0.6034, 0.8568, 0.133, 0.1104]]\n",
            "Processing IMG_20191215_111311.jpg: [[0.6607, 0.7864, 0.0808, 0.0652], [0.3829, 0.8309, 0.1623, 0.1238], [0.3063, 0.7758, 0.111, 0.1071], [0.3965, 0.762, 0.08, 0.0451], [0.4242, 0.8531, 0.1172, 0.0976], [0.5078, 0.4123, 0.1794, 0.1546], [0.6522, 0.5215, 0.2236, 0.1459]]\n",
            "Processing IMG_1003.jpg: [[0.5456, 0.1466, 0.1656, 0.1955], [0.7065, 0.1653, 0.2325, 0.1942], [0.3363, 0.5916, 0.327, 0.2699], [0.5127, 0.461, 0.2689, 0.199], [0.5072, 0.7901, 0.2918, 0.1871], [0.57, 0.6327, 0.2061, 0.1603]]\n",
            "Processing IMG_20191215_111405.jpg: [[0.6682, 0.1972, 0.4525, 0.3944], [0.9378, 0.2771, 0.1229, 0.4206], [0.4474, 0.6069, 0.1423, 0.1056], [0.4527, 0.7062, 0.1317, 0.0991]]\n",
            "Processing IMG_20191215_112317.jpg: [[0.5357, 0.4385, 0.1677, 0.1389], [0.3852, 0.4963, 0.1939, 0.1481], [0.4097, 0.5909, 0.131, 0.0812], [0.5695, 0.6477, 0.1386, 0.1214], [0.3887, 0.6852, 0.1322, 0.1092], [0.4137, 0.7558, 0.1007, 0.0913], [0.5809, 0.7599, 0.1275, 0.1074], [0.7355, 0.768, 0.1258, 0.1], [0.5345, 0.8306, 0.0258, 0.0205], [0.6152, 0.8674, 0.079, 0.0668], [0.6114, 0.8999, 0.0349, 0.0254], [0.6319, 0.9266, 0.0354, 0.0251], [0.5757, 0.9365, 0.0851, 0.0775], [0.0187, 0.9002, 0.0374, 0.0938], [0.0442, 0.8796, 0.0867, 0.0842], [0.0903, 0.9063, 0.0669, 0.0657], [0.0332, 0.9329, 0.063, 0.0495], [0.0832, 0.9775, 0.0907, 0.0442], [0.0909, 0.7741, 0.114, 0.0826], [0.0678, 0.8181, 0.0837, 0.0426], [0.0632, 0.6993, 0.1114, 0.0902]]\n",
            "Processing IMG_20191215_110550.jpg: [[0.6906, 0.2385, 0.276, 0.2253], [0.888, 0.2695, 0.1479, 0.1223], [0.6158, 0.378, 0.2766, 0.2005], [0.7389, 0.4195, 0.1165, 0.1105], [0.4568, 0.3444, 0.0577, 0.0712], [0.4184, 0.8916, 0.159, 0.1341]]\n",
            "Processing IMG_1182.jpg: [[0.9074, 0.0462, 0.0672, 0.0553], [0.896, 0.1239, 0.0637, 0.0463], [0.9155, 0.1846, 0.0525, 0.0391], [0.9892, 0.1307, 0.0216, 0.0454], [0.3038, 0.0511, 0.0822, 0.0709], [0.0537, 0.0598, 0.1069, 0.0912], [0.6819, 0.3512, 0.0664, 0.0509], [0.6379, 0.3593, 0.0486, 0.0359], [0.5648, 0.3269, 0.0413, 0.0295], [0.553, 0.3955, 0.0324, 0.0266], [0.758, 0.4502, 0.0463, 0.0423], [0.6294, 0.4519, 0.0471, 0.0336], [0.5349, 0.4599, 0.0973, 0.0715], [0.4017, 0.4179, 0.0857, 0.0622], [0.4007, 0.4862, 0.0938, 0.0721], [0.3608, 0.4558, 0.0556, 0.0501], [0.2774, 0.5486, 0.0795, 0.0591], [0.2351, 0.5464, 0.0529, 0.0541], [0.377, 0.5534, 0.0973, 0.0709], [0.271, 0.5941, 0.0683, 0.0434], [0.2515, 0.641, 0.0533, 0.0423], [0.3918, 0.5922, 0.0822, 0.0541], [0.4106, 0.6212, 0.0641, 0.0408], [0.403, 0.6533, 0.0336, 0.0258], [0.3299, 0.657, 0.0734, 0.0593], [0.332, 0.6919, 0.0668, 0.0347], [0.5022, 0.4955, 0.0784, 0.0599], [0.5408, 0.6278, 0.0977, 0.0756], [0.5042, 0.5683, 0.0807, 0.062], [0.4912, 0.6372, 0.0448, 0.0475], [0.4889, 0.6925, 0.0888, 0.066], [0.5179, 0.7322, 0.0741, 0.0527], [0.5671, 0.5421, 0.0691, 0.057], [0.6368, 0.5615, 0.0811, 0.0651], [0.6323, 0.6246, 0.076, 0.0611], [0.6732, 0.677, 0.0598, 0.0501], [0.6682, 0.5835, 0.0714, 0.0576], [0.6335, 0.5026, 0.0614, 0.0515], [0.7211, 0.4842, 0.0398, 0.0287]]\n",
            "Processing IMG_20191215_110929.jpg: [[0.7221, 0.29, 0.3366, 0.2271], [0.5273, 0.2474, 0.1881, 0.1751], [0.4228, 0.7184, 0.1619, 0.1153], [0.4431, 0.8298, 0.1654, 0.1354], [0.3584, 0.8252, 0.0809, 0.1105]]\n",
            "Processing IMG_20191215_111410.jpg: [[0.9413, 0.1518, 0.1054, 0.0808], [0.2255, 0.0438, 0.0873, 0.0778], [0.1537, 0.0729, 0.1122, 0.081], [0.1518, 0.2221, 0.0486, 0.0417], [0.0946, 0.207, 0.0819, 0.0524], [0.2211, 0.3576, 0.0859, 0.0599], [0.1688, 0.4114, 0.0486, 0.0363], [0.4913, 0.755, 0.0706, 0.053], [0.6302, 0.5225, 0.1164, 0.079], [0.6821, 0.5643, 0.1168, 0.081], [0.6572, 0.6352, 0.1129, 0.0695], [0.5651, 0.6652, 0.1064, 0.0864], [0.4763, 0.6649, 0.098, 0.0749], [0.5833, 0.5867, 0.103, 0.0793], [0.4895, 0.5964, 0.0877, 0.0741]]\n",
            "Processing IMG_1287.jpg: [[0.6005, 0.4207, 0.2088, 0.1566], [0.3269, 0.3535, 0.2391, 0.1805], [0.2348, 0.513, 0.2197, 0.1677], [0.3637, 0.6007, 0.1887, 0.1357], [0.5439, 0.5616, 0.1825, 0.138], [0.6669, 0.6679, 0.1817, 0.1444], [0.5532, 0.7666, 0.153, 0.1392], [0.401, 0.7363, 0.1669, 0.152]]\n",
            "Processing IMG_20191215_110943.jpg: [[0.6251, 0.0834, 0.1136, 0.0952], [0.5768, 0.067, 0.0914, 0.0956], [0.6906, 0.0328, 0.0687, 0.0585], [0.5084, 0.3064, 0.1304, 0.1114], [0.6117, 0.3743, 0.1438, 0.1066], [0.6499, 0.4136, 0.0943, 0.069], [0.3733, 0.8778, 0.1258, 0.1013]]\n",
            "Processing IMG_20191215_112844.jpg: [[0.38, 0.3559, 0.145, 0.1232], [0.3037, 0.3749, 0.0996, 0.0948], [0.4525, 0.3457, 0.078, 0.0921], [0.4661, 0.4295, 0.0996, 0.0852], [0.6394, 0.4153, 0.0571, 0.0568], [0.5241, 0.4795, 0.0815, 0.0707], [0.6566, 0.5084, 0.0856, 0.0725], [0.6044, 0.545, 0.0536, 0.0681], [0.5022, 0.5413, 0.0949, 0.0939], [0.6831, 0.5713, 0.0769, 0.0646], [0.2606, 0.4981, 0.1229, 0.1149], [0.5523, 0.6047, 0.0798, 0.0878], [0.6467, 0.614, 0.0309, 0.0376], [0.3919, 0.587, 0.1013, 0.1048], [0.435, 0.6018, 0.0431, 0.0664], [0.239, 0.5942, 0.1101, 0.1053], [0.6207, 0.6123, 0.0699, 0.0594], [0.7544, 0.6538, 0.0507, 0.0437], [0.7043, 0.6269, 0.0413, 0.0572], [0.4391, 0.6486, 0.0757, 0.0786], [0.2824, 0.6582, 0.0862, 0.0821], [0.2597, 0.6785, 0.0652, 0.0581], [0.2131, 0.7147, 0.0687, 0.0694], [0.7052, 0.6898, 0.0734, 0.0808], [0.6065, 0.728, 0.0739, 0.083], [0.5619, 0.689, 0.0524, 0.0598], [0.5544, 0.7167, 0.0419, 0.055], [0.5369, 0.7204, 0.0547, 0.0642], [0.4321, 0.7173, 0.0629, 0.0651], [0.3858, 0.7774, 0.0483, 0.0568], [0.366, 0.8091, 0.039, 0.0406], [0.3826, 0.8313, 0.0419, 0.038], [0.7049, 0.7409, 0.0728, 0.0546], [0.6082, 0.7798, 0.046, 0.0467], [0.7069, 0.7774, 0.0652, 0.0524], [0.6237, 0.8154, 0.0641, 0.0463], [0.6301, 0.8451, 0.0594, 0.0411]]\n",
            "Processing IMG_20191215_112641.jpg: [[0.0379, 0.3784, 0.0757, 0.1018], [0.4487, 0.2882, 0.2556, 0.1992], [0.3139, 0.3439, 0.191, 0.1524], [0.1814, 0.4295, 0.1531, 0.1053], [0.5998, 0.4125, 0.1735, 0.1437], [0.1858, 0.5009, 0.0932, 0.048], [0.7005, 0.4525, 0.1269, 0.0978], [0.7622, 0.5337, 0.1363, 0.0935], [0.4903, 0.5156, 0.2038, 0.1498], [0.61, 0.5658, 0.1322, 0.0991], [0.7817, 0.63, 0.0705, 0.0721], [0.0478, 0.5464, 0.0547, 0.0332], [0.1767, 0.5531, 0.0926, 0.0555], [0.2393, 0.571, 0.0955, 0.0642], [0.3252, 0.5003, 0.1485, 0.121], [0.428, 0.5961, 0.1642, 0.1135], [0.7206, 0.6396, 0.1252, 0.1009], [0.635, 0.642, 0.0972, 0.0847], [0.6862, 0.5335, 0.0809, 0.0782], [0.6842, 0.7278, 0.064, 0.0738], [0.7366, 0.742, 0.1293, 0.0961], [0.7157, 0.8224, 0.1176, 0.0874], [0.2217, 0.8467, 0.0859, 0.0667], [0.1719, 0.8896, 0.0973, 0.074], [0.0678, 0.9471, 0.1118, 0.0898], [0.1704, 0.9767, 0.0916, 0.0459]]\n",
            "Processing IMG_20191215_111933.jpg: [[0.6519, 0.9337, 0.1496, 0.117], [0.5689, 0.8252, 0.1805, 0.1419], [0.2291, 0.8042, 0.0809, 0.0624], [0.3506, 0.7313, 0.1037, 0.0808], [0.4897, 0.6979, 0.0524, 0.0437], [0.5803, 0.7304, 0.1194, 0.0843], [0.4315, 0.6464, 0.0967, 0.069], [0.6402, 0.6394, 0.1566, 0.1223], [0.573, 0.5595, 0.1642, 0.1275], [0.4795, 0.5459, 0.0553, 0.0699], [0.5104, 0.4736, 0.131, 0.1009], [0.7212, 0.4843, 0.1729, 0.1197], [0.7471, 0.352, 0.1328, 0.1039], [0.3247, 0.4362, 0.0647, 0.0509], [0.1515, 0.4278, 0.0511, 0.0347], [0.2032, 0.4531, 0.0321, 0.0251], [0.2325, 0.4125, 0.0264, 0.0172], [0.1649, 0.4595, 0.0436, 0.0367], [0.149, 0.4861, 0.0216, 0.0172], [0.1244, 0.4527, 0.0506, 0.035], [0.0251, 0.5588, 0.0458, 0.0363], [0.0788, 0.4916, 0.0458, 0.032], [0.0599, 0.424, 0.0458, 0.0297], [0.0755, 0.3953, 0.0515, 0.0337], [0.0295, 0.3997, 0.0493, 0.036]]\n",
            "Processing IMG_20191215_110502.jpg: [[0.5759, 0.2861, 0.1933, 0.2585], [0.7305, 0.4263, 0.1881, 0.2345], [0.6993, 0.1246, 0.0563, 0.099], [0.703, 0.1932, 0.0482, 0.0505], [0.281, 0.5285, 0.0659, 0.0937], [0.3106, 0.5152, 0.0653, 0.0919], [0.2078, 0.5356, 0.0872, 0.115], [0.2868, 0.6031, 0.0709, 0.0866], [0.2106, 0.6357, 0.0916, 0.1065]]\n",
            "Processing IMG_20191215_112805.jpg: [[0.9148, 0.0127, 0.0873, 0.0244], [0.8683, 0.0468, 0.0826, 0.0718], [0.8391, 0.1093, 0.0678, 0.0612], [0.743, 0.1004, 0.0747, 0.0623], [0.8217, 0.1654, 0.0735, 0.0517], [0.7116, 0.164, 0.0594, 0.0592], [0.7916, 0.2181, 0.054, 0.052], [0.7344, 0.2155, 0.059, 0.0543], [0.764, 0.2584, 0.0463, 0.0494], [0.7309, 0.2668, 0.0437, 0.0482], [0.7173, 0.6388, 0.0356, 0.033], [0.5477, 0.3729, 0.165, 0.1789], [0.752, 0.5241, 0.0276, 0.0304], [0.7169, 0.5393, 0.0257, 0.0259], [0.6813, 0.5835, 0.028, 0.0195], [0.5912, 0.8006, 0.0942, 0.0643], [0.5163, 0.787, 0.0701, 0.0738], [0.46, 0.7506, 0.093, 0.0936], [0.4529, 0.6866, 0.1164, 0.1258], [0.5623, 0.5331, 0.1497, 0.1381], [0.6071, 0.6036, 0.1375, 0.0655], [0.3976, 0.5944, 0.126, 0.124], [0.3768, 0.492, 0.1371, 0.1421]]\n",
            "Processing IMG_20191215_112810.jpg: [[0.38, 0.2852, 0.1252, 0.1153], [0.5841, 0.3278, 0.1444, 0.1428], [0.5241, 0.3747, 0.0652, 0.0524], [0.3634, 0.4162, 0.17, 0.1537], [0.5121, 0.3931, 0.0868, 0.0839], [0.5695, 0.4771, 0.2562, 0.1638], [0.5197, 0.6274, 0.2009, 0.1428], [0.6624, 0.6036, 0.1112, 0.1048], [0.5739, 0.7549, 0.1764, 0.1254], [0.5517, 0.8538, 0.1368, 0.097], [0.559, 0.9316, 0.1106, 0.0777], [0.5794, 0.9798, 0.0967, 0.0397], [0.7439, 0.9462, 0.1007, 0.0913]]\n",
            "Processing IMG_20191215_111435.jpg: [[0.725, 0.2275, 0.1281, 0.124], [0.0798, 0.2396, 0.0876, 0.0623], [0.6319, 0.33, 0.2086, 0.142], [0.0134, 0.4227, 0.026, 0.031], [0.31, 0.3628, 0.103, 0.0769], [0.2437, 0.3994, 0.1413, 0.1159], [0.3355, 0.4338, 0.1021, 0.069], [0.5311, 0.8197, 0.1202, 0.1134], [0.4258, 0.7735, 0.1179, 0.0916], [0.4405, 0.8625, 0.1083, 0.0887], [0.3817, 0.9394, 0.0643, 0.0566], [0.1215, 0.7431, 0.0573, 0.043], [0.0794, 0.7683, 0.0589, 0.0444], [0.1225, 0.7798, 0.0533, 0.0359], [0.0959, 0.5722, 0.0932, 0.0612], [0.0619, 0.6387, 0.0346, 0.0295], [0.026, 0.6361, 0.0413, 0.0277]]\n",
            "Processing IMG_20191215_111211.jpg: [[0.1223, 0.0659, 0.0745, 0.1004], [0.7803, 0.0445, 0.0769, 0.0585], [0.3884, 0.3308, 0.1526, 0.0948], [0.421, 0.3865, 0.1665, 0.1197], [0.7625, 0.4167, 0.1729, 0.1284], [0.7136, 0.4791, 0.1706, 0.1293], [0.1747, 0.4256, 0.0932, 0.0913], [0.0629, 0.423, 0.1258, 0.0852], [0.7692, 0.5335, 0.1467, 0.1088], [0.3593, 0.5697, 0.1656, 0.1147], [0.2152, 0.5998, 0.1256, 0.112], [0.12, 0.626, 0.0628, 0.0437], [0.2899, 0.6274, 0.1372, 0.0957], [0.3457, 0.9686, 0.0873, 0.0615], [0.3565, 0.91, 0.075, 0.0597]]\n",
            "Processing IMG_20191215_111254.jpg: [[0.6542, 0.187, 0.1215, 0.0976], [0.1869, 0.4311, 0.0533, 0.0419], [0.015, 0.467, 0.0299, 0.074], [0.0685, 0.4204, 0.1361, 0.0852], [0.3809, 0.5109, 0.0731, 0.031], [0.3914, 0.5523, 0.1189, 0.0908], [0.6074, 0.5389, 0.1343, 0.1103], [0.3362, 0.6101, 0.1043, 0.0849], [0.4824, 0.6189, 0.1907, 0.1275], [0.0784, 0.7368, 0.0784, 0.0627], [0.0282, 0.7513, 0.0555, 0.07], [0.3811, 0.8877, 0.1044, 0.0839], [0.35, 0.921, 0.1048, 0.0845]]\n",
            "Processing IMG_1057.jpg: [[0.5862, 0.5479, 0.2717, 0.2015], [0.3513, 0.4493, 0.3269, 0.2545]]\n",
            "Processing IMG_1259.jpg: [[0.9476, 0.6108, 0.0924, 0.0815], [0.8816, 0.3191, 0.1312, 0.0908], [0.7527, 0.4985, 0.1203, 0.0734], [0.7853, 0.5759, 0.0675, 0.0489], [0.5431, 0.2833, 0.1343, 0.0891], [0.5516, 0.4434, 0.0644, 0.0879], [0.5268, 0.5631, 0.1095, 0.0792], [0.4359, 0.4385, 0.1188, 0.092], [0.3719, 0.5008, 0.1196, 0.0839], [0.347, 0.5826, 0.1118, 0.0914], [0.3428, 0.7407, 0.0862, 0.0827], [0.2352, 0.9346, 0.0637, 0.0617], [0.1444, 0.9241, 0.0683, 0.0652]]\n",
            "Processing IMG_1183.jpg: [[0.0891, 0.0352, 0.138, 0.0696], [0.3111, 0.1585, 0.0922, 0.0713], [0.5195, 0.0621, 0.0358, 0.0264], [0.3422, 0.5693, 0.0679, 0.0475], [0.4377, 0.6555, 0.0658, 0.0505], [0.4405, 0.6191, 0.0633, 0.0352], [0.5227, 0.5967, 0.049, 0.0417], [0.5508, 0.6836, 0.0878, 0.0724], [0.4857, 0.594, 0.0332, 0.0302], [0.5173, 0.663, 0.0669, 0.0578], [0.4933, 0.64, 0.0505, 0.041], [0.5896, 0.7062, 0.0664, 0.0456], [0.6751, 0.3291, 0.0556, 0.041], [0.6707, 0.2981, 0.047, 0.0356], [0.7065, 0.4036, 0.0848, 0.0597], [0.5944, 0.4233, 0.074, 0.0563], [0.6516, 0.4528, 0.0618, 0.0517], [0.6955, 0.4997, 0.0628, 0.0498], [0.9244, 0.0785, 0.0858, 0.0659], [0.965, 0.1916, 0.0679, 0.0548], [0.9158, 0.179, 0.0572, 0.0486], [0.9857, 0.1384, 0.0276, 0.057], [0.8982, 0.3268, 0.0495, 0.0371], [0.8545, 0.3664, 0.047, 0.0314], [0.8195, 0.345, 0.0434, 0.0337], [0.807, 0.2747, 0.047, 0.0302], [0.6672, 0.1053, 0.0357, 0.0322], [0.7795, 0.1093, 0.049, 0.0341], [0.6725, 0.197, 0.0322, 0.0287], [0.8836, 0.3503, 0.0408, 0.0268], [0.1, 0.1524, 0.0405, 0.0304], [0.1588, 0.1737, 0.0419, 0.0273], [0.0172, 0.8327, 0.0337, 0.0413], [0.0409, 0.955, 0.059, 0.0469], [0.0427, 0.8002, 0.0466, 0.0356]]\n",
            "Processing IMG_1133.jpg: [[0.9347, 0.2949, 0.0603, 0.0414], [0.892, 0.3228, 0.0512, 0.0399], [0.8614, 0.2825, 0.0623, 0.0422], [0.7148, 0.3382, 0.0562, 0.0377], [0.76, 0.2651, 0.0623, 0.0437], [0.8328, 0.2147, 0.0793, 0.0557], [0.8021, 0.1593, 0.0823, 0.0595], [0.6982, 0.1732, 0.0653, 0.0572], [0.3045, 0.7856, 0.0894, 0.0708], [0.3728, 0.7322, 0.0713, 0.0527], [0.6505, 0.8489, 0.0823, 0.0678], [0.6826, 0.7589, 0.0542, 0.0399], [0.5732, 0.7476, 0.0723, 0.0655], [0.4948, 0.7397, 0.1065, 0.0828], [0.2744, 0.4305, 0.1095, 0.0791], [0.2146, 0.5054, 0.1265, 0.0919], [0.425, 0.6715, 0.0894, 0.0701], [0.4526, 0.5627, 0.0964, 0.0618], [0.4813, 0.6128, 0.1215, 0.0972], [0.3281, 0.6146, 0.1265, 0.0934]]\n",
            "Processing IMG_20191215_111410_1.jpg: [[0.5299, 0.6826, 0.1922, 0.1502], [0.3948, 0.7706, 0.1922, 0.1629], [0.8717, 0.6422, 0.1106, 0.0642], [0.8548, 0.6953, 0.0827, 0.0577], [0.9419, 0.7073, 0.1101, 0.0825]]\n",
            "Processing IMG_1092.jpg: [[0.4553, 0.2807, 0.0386, 0.0385], [0.3945, 0.2526, 0.1154, 0.0924], [0.458, 0.6605, 0.1073, 0.0958], [0.5572, 0.64, 0.1104, 0.1172]]\n",
            "Processing IMG_1065.jpg: [[0.6483, 0.0192, 0.1599, 0.0373], [0.55, 0.4066, 0.1239, 0.1008], [0.5057, 0.4978, 0.1115, 0.0788], [0.4525, 0.4377, 0.1298, 0.0995], [0.452, 0.5297, 0.1063, 0.0872], [0.4429, 0.6092, 0.1374, 0.092], [0.5638, 0.5629, 0.1421, 0.1114], [0.0906, 0.8789, 0.0752, 0.0546], [0.0354, 0.8885, 0.0681, 0.0634], [0.5107, 0.8399, 0.1121, 0.1105], [0.1135, 0.3863, 0.0743, 0.0516]]\n",
            "Processing IMG_20191215_112626.jpg: [[0.384, 0.2186, 0.1916, 0.1524], [0.6531, 0.4439, 0.1881, 0.1044], [0.4126, 0.4592, 0.1916, 0.1358], [0.4626, 0.6038, 0.1555, 0.114], [0.6306, 0.6621, 0.1549, 0.1162], [0.4517, 0.7375, 0.1337, 0.1056], [0.2375, 0.6354, 0.0861, 0.0676], [0.2853, 0.6933, 0.0906, 0.068], [0.3317, 0.6393, 0.0648, 0.0604], [0.3661, 0.7183, 0.0771, 0.0608], [0.3132, 0.7565, 0.0666, 0.0514], [0.0295, 0.771, 0.0582, 0.0442], [0.3344, 0.794, 0.0594, 0.0505], [0.345, 0.8398, 0.0582, 0.0468], [0.4685, 0.817, 0.1114, 0.0867], [0.6136, 0.8171, 0.0662, 0.0554], [0.5732, 0.8504, 0.0735, 0.0589], [0.4977, 0.873, 0.0674, 0.0517], [0.0536, 0.8085, 0.0567, 0.0422], [0.0181, 0.7506, 0.0356, 0.0225]]\n",
            "Processing IMG_1099.jpg: [[0.533, 0.5561, 0.347, 0.269], [0.4635, 0.3567, 0.295, 0.2149]]\n",
            "Processing IMG_20191215_112546.jpg: [[0.5733, 0.09, 0.2067, 0.1791], [0.3901, 0.1847, 0.1631, 0.145], [0.0215, 0.1081, 0.0419, 0.0799], [0.0247, 0.1981, 0.0483, 0.0668], [0.2539, 0.2533, 0.1607, 0.1267], [0.0373, 0.2557, 0.0734, 0.059], [0.0405, 0.2972, 0.0728, 0.045], [0.6004, 0.3182, 0.1735, 0.1349], [0.3756, 0.3404, 0.1537, 0.1149], [0.4554, 0.3979, 0.1432, 0.1171], [0.2516, 0.383, 0.1386, 0.1109], [0.2306, 0.4387, 0.0955, 0.0563], [0.5785, 0.4354, 0.1543, 0.1109], [0.0961, 0.4079, 0.078, 0.055], [0.0207, 0.3819, 0.0402, 0.0537], [0.0119, 0.4282, 0.0239, 0.0389], [0.0556, 0.4629, 0.0728, 0.0533], [0.1301, 0.4747, 0.0553, 0.0419], [0.2501, 0.499, 0.1019, 0.0904], [0.334, 0.5212, 0.138, 0.107], [0.4405, 0.4948, 0.1229, 0.1005], [0.0661, 0.5051, 0.0448, 0.0328], [0.0195, 0.5566, 0.039, 0.0328], [0.2725, 0.5603, 0.0769, 0.0384], [0.4169, 0.6088, 0.1071, 0.0952], [0.3328, 0.6245, 0.1031, 0.0847], [0.5436, 0.5843, 0.1264, 0.097], [0.2486, 0.6411, 0.0757, 0.0611], [0.5282, 0.6778, 0.1095, 0.0873], [0.4193, 0.7464, 0.0967, 0.0795], [0.5273, 0.7929, 0.0716, 0.0642], [0.5698, 0.9416, 0.0588, 0.0524]]\n",
            "Error processing IMG_20191215_112546.jpg: Expected x_min for bbox [     -5e-05     0.40875     0.02385     0.44765           5] to be in the range [0.0, 1.0], got -4.9999915063381195e-05.\n",
            "Processing IMG_20191215_112313.jpg: [[0.9064, 0.0133, 0.1042, 0.0258], [0.9364, 0.0282, 0.0652, 0.0502], [0.9693, 0.043, 0.0588, 0.086], [0.8842, 0.0869, 0.0926, 0.0751], [0.8851, 0.1651, 0.0687, 0.048], [0.9832, 0.164, 0.032, 0.0275], [0.9384, 0.2118, 0.039, 0.028], [0.8834, 0.2282, 0.0478, 0.0319], [0.9879, 0.2088, 0.0227, 0.0306], [0.9835, 0.2568, 0.0291, 0.0271], [0.548, 0.3016, 0.1351, 0.107], [0.4452, 0.3407, 0.1194, 0.0996], [0.6446, 0.3671, 0.12, 0.0878], [0.5116, 0.4088, 0.1415, 0.1127], [0.4539, 0.4389, 0.06, 0.069], [0.6041, 0.452, 0.0879, 0.0734], [0.5305, 0.5175, 0.1433, 0.1057], [0.3564, 0.7192, 0.1149, 0.0905], [0.4652, 0.779, 0.1096, 0.1037], [0.3346, 0.8106, 0.1171, 0.0928], [0.3749, 0.8591, 0.0938, 0.0816], [0.3767, 0.9113, 0.0797, 0.0419], [0.3639, 0.9483, 0.1043, 0.0882], [0.4375, 0.9706, 0.0815, 0.0581]]\n",
            "Processing IMG_1159.jpg: [[0.882, 0.4274, 0.1568, 0.1165], [0.7931, 0.472, 0.1763, 0.124], [0.8137, 0.1729, 0.0714, 0.0547], [0.7201, 0.0836, 0.0831, 0.0576], [0.6064, 0.0687, 0.0699, 0.0606], [0.7135, 0.0434, 0.0978, 0.0868], [0.8199, 0.0938, 0.0932, 0.0629], [0.8288, 0.0367, 0.0971, 0.0722], [0.8525, 0.5171, 0.0668, 0.0606], [0.8831, 0.5188, 0.0815, 0.071], [0.7349, 0.5587, 0.1856, 0.1299], [0.684, 0.6414, 0.1087, 0.0472], [0.6976, 0.693, 0.1328, 0.099], [0.6417, 0.4836, 0.1002, 0.0588], [0.5986, 0.4335, 0.1584, 0.1031], [0.5555, 0.3887, 0.1157, 0.0809], [0.5008, 0.492, 0.1724, 0.1258], [0.4779, 0.6764, 0.1592, 0.1217], [0.3001, 0.5782, 0.2011, 0.1397], [0.255, 0.4752, 0.1856, 0.1153], [0.1591, 0.3479, 0.1491, 0.1101], [0.1758, 0.5424, 0.0815, 0.0972], [0.1848, 0.442, 0.0978, 0.078], [0.8269, 0.5739, 0.0404, 0.0553]]\n",
            "Processing IMG_1147.jpg: [[0.3467, 0.6561, 0.24, 0.1778], [0.3517, 0.5265, 0.1878, 0.1085], [0.2221, 0.6742, 0.1275, 0.1371], [0.4742, 0.4742, 0.0954, 0.0655], [0.1518, 0.7788, 0.1577, 0.107], [0.2965, 0.8613, 0.1075, 0.0776], [0.4049, 0.7374, 0.0713, 0.0437], [0.4285, 0.8327, 0.1326, 0.1047], [0.5008, 0.9174, 0.0884, 0.0648], [0.0459, 0.7314, 0.0904, 0.1296], [0.6113, 0.8033, 0.1185, 0.049], [0.6113, 0.7325, 0.1808, 0.1363]]\n",
            "Processing IMG_20191215_112511.jpg: [[0.5678, 0.5215, 0.1898, 0.1389], [0.4228, 0.6759, 0.1619, 0.1821], [0.479, 0.6728, 0.1951, 0.1393], [0.5663, 0.6929, 0.1508, 0.1446], [0.5675, 0.8101, 0.1508, 0.1118], [0.4501, 0.851, 0.1793, 0.1489], [0.0613, 0.7612, 0.0547, 0.0361], [0.0456, 0.8059, 0.0537, 0.041], [0.0228, 0.8131, 0.0446, 0.0418], [0.0223, 0.7761, 0.0415, 0.0315], [0.7794, 0.0693, 0.0832, 0.067], [0.7539, 0.1386, 0.0585, 0.0416]]\n",
            "Processing IMG_20191215_111403.jpg: [[0.4903, 0.8756, 0.0955, 0.0585], [0.7328, 0.8163, 0.3337, 0.2638], [0.5203, 0.697, 0.3698, 0.3127], [0.3299, 0.6097, 0.216, 0.1502], [0.3762, 0.49, 0.2073, 0.1398]]\n",
            "Processing IMG_20191215_111748.jpg: [[0.6167, 0.4867, 0.1712, 0.1245], [0.3802, 0.5817, 0.2551, 0.1887], [0.5701, 0.6234, 0.1246, 0.0817], [0.5619, 0.6702, 0.1712, 0.0991]]\n",
            "Processing IMG_1185.jpg: [[0.9557, 0.6207, 0.0885, 0.1176], [0.934, 0.4565, 0.1258, 0.099], [0.8998, 0.6554, 0.0978, 0.0705], [0.9305, 0.2609, 0.125, 0.0873], [0.7061, 0.1272, 0.0831, 0.0798], [0.5784, 0.1499, 0.1258, 0.1322], [0.6615, 0.5887, 0.2469, 0.1922], [0.5563, 0.5174, 0.1203, 0.0938], [0.422, 0.4472, 0.2275, 0.1759], [0.4289, 0.5727, 0.1654, 0.1194], [0.5345, 0.7218, 0.1235, 0.1019], [0.2236, 0.4979, 0.1879, 0.1374], [0.2065, 0.2947, 0.1693, 0.1351], [0.2632, 0.0777, 0.1584, 0.1089], [0.4398, 0.1622, 0.1234, 0.1007]]\n",
            "Processing IMG_1228.jpg: [[0.8389, 0.0664, 0.3222, 0.1328], [0.771, 0.1232, 0.3478, 0.2452], [0.9189, 0.1968, 0.1219, 0.0862], [0.8839, 0.3357, 0.1017, 0.0774], [0.6009, 0.0667, 0.1242, 0.1205], [0.4685, 0.1729, 0.2601, 0.2131], [0.321, 0.2949, 0.3082, 0.2288], [0.5501, 0.3459, 0.2477, 0.1945], [0.3851, 0.5721, 0.2345, 0.1718], [0.5844, 0.6826, 0.1398, 0.1114], [0.4784, 0.7302, 0.1776, 0.1367], [0.4926, 0.8074, 0.1357, 0.0825], [0.7948, 0.2463, 0.0972, 0.0532]]\n",
            "Processing IMG_20191215_111157.jpg: [[0.5701, 0.4284, 0.2283, 0.1782], [0.3852, 0.4304, 0.0903, 0.0555], [0.4318, 0.502, 0.1823, 0.114], [0.4921, 0.9733, 0.1887, 0.0528], [0.9215, 0.8923, 0.1543, 0.1389], [0.9527, 0.9416, 0.0932, 0.1162]]\n",
            "Processing IMG_20191215_111236.jpg: [[0.3494, 0.3754, 0.4111, 0.2712], [0.5538, 0.5723, 0.1735, 0.2293], [0.442, 0.5828, 0.3075, 0.2118], [0.6999, 0.6841, 0.2818, 0.2118]]\n",
            "Processing IMG_20191215_110716.jpg: [[0.5276, 0.0247, 0.1095, 0.0493], [0.695, 0.0509, 0.2451, 0.1018], [0.9701, 0.2404, 0.0582, 0.0459], [0.4944, 0.5459, 0.1712, 0.1205], [0.5707, 0.6671, 0.2294, 0.1725], [0.3814, 0.6265, 0.2364, 0.1734]]\n",
            "Processing IMG_20191215_111537.jpg: [[0.4466, 0.6016, 0.2539, 0.1804], [0.5689, 0.5913, 0.0815, 0.1153]]\n",
            "Processing IMG_20191215_111307.jpg: [[0.5878, 0.6175, 0.2615, 0.1913], [0.2967, 0.5861, 0.3418, 0.2507]]\n",
            "Processing IMG_1171.jpg: [[0.5043, 0.3942, 0.1297, 0.1013], [0.4095, 0.9532, 0.1064, 0.0908], [0.3633, 0.9102, 0.0978, 0.0769], [0.3047, 0.9591, 0.1095, 0.0792]]\n",
            "Processing IMG_20191215_111722.jpg: [[0.6449, 0.2243, 0.3476, 0.224], [0.3685, 0.6253, 0.1471, 0.1278], [0.5193, 0.7992, 0.2497, 0.177], [0.336, 0.8044, 0.1418, 0.1321]]\n",
            "Processing IMG_1073.jpg: [[0.4026, 0.4222, 0.2725, 0.205], [0.9654, 0.4836, 0.0675, 0.1124], [0.561, 0.0846, 0.2297, 0.1616], [0.358, 0.0816, 0.1598, 0.1593]]\n",
            "Processing IMG_20191215_111047.jpg: [[0.3465, 0.0194, 0.0745, 0.0389], [0.2376, 0.6381, 0.2248, 0.1834], [0.1133, 0.5861, 0.2265, 0.1904], [0.3485, 0.5291, 0.2009, 0.1245], [0.5005, 0.6333, 0.322, 0.1992], [0.7133, 0.7684, 0.2178, 0.1708], [0.2017, 0.9235, 0.1312, 0.1086]]\n",
            "Error processing IMG_20191215_111047.jpg: Expected y_min for bbox [    0.30925 -4.9999e-05     0.38375     0.03885           2] to be in the range [0.0, 1.0], got -4.999898374080658e-05.\n",
            "Processing IMG_20191215_111454.jpg: [[0.0518, 0.1987, 0.0373, 0.0262], [0.1339, 0.9545, 0.0804, 0.0729], [0.0719, 0.9661, 0.0693, 0.0655], [0.0588, 0.6365, 0.0594, 0.0424], [0.0445, 0.6765, 0.0611, 0.0437], [0.5942, 0.5439, 0.1566, 0.1288], [0.4277, 0.5678, 0.1112, 0.1013], [0.4609, 0.6232, 0.0309, 0.0358], [0.5596, 0.6302, 0.0955, 0.0769]]\n",
            "Processing IMG_20191215_112909.jpg: [[0.4463, 0.5097, 0.1648, 0.1485], [0.6193, 0.5435, 0.159, 0.1341], [0.5605, 0.6326, 0.0914, 0.0834], [0.5963, 0.6693, 0.1013, 0.0808]]\n",
            "Processing IMG_1120.jpg: [[0.5838, 0.4673, 0.0901, 0.0751], [0.3711, 0.5311, 0.1025, 0.071], [0.3812, 0.5878, 0.073, 0.0495], [0.3921, 0.2955, 0.045, 0.0495], [0.5241, 0.619, 0.0606, 0.0501], [0.3699, 0.428, 0.0691, 0.0617], [0.7453, 0.6962, 0.0808, 0.0507], [0.342, 0.4111, 0.0613, 0.0454], [0.7372, 0.7372, 0.0349, 0.0279], [0.0834, 0.1619, 0.0412, 0.0349], [0.2174, 0.3322, 0.0388, 0.032]]\n",
            "Processing IMG_20191215_112320.jpg: [[0.4935, 0.0194, 0.1299, 0.038], [0.3444, 0.0526, 0.1403, 0.1044], [0.7061, 0.0871, 0.1497, 0.1367], [0.7491, 0.0904, 0.1054, 0.0874], [0.8662, 0.1317, 0.1706, 0.1358], [0.8321, 0.1642, 0.0676, 0.0542], [0.6062, 0.1885, 0.1165, 0.1009], [0.8257, 0.0493, 0.0419, 0.0341], [0.4766, 0.1716, 0.1275, 0.0978], [0.3508, 0.1937, 0.1147, 0.0869], [0.458, 0.278, 0.0973, 0.0721], [0.5779, 0.3758, 0.0763, 0.0528], [0.6216, 0.3933, 0.0611, 0.0459], [0.5771, 0.4276, 0.0582, 0.0428], [0.7011, 0.4199, 0.1095, 0.0843], [0.5957, 0.5114, 0.1048, 0.0801], [0.2959, 0.4882, 0.1083, 0.0783], [0.31, 0.6093, 0.0898, 0.0799], [0.2389, 0.5982, 0.1228, 0.0935], [0.2631, 0.7055, 0.1061, 0.0796], [0.3767, 0.7779, 0.085, 0.0664], [0.4524, 0.7769, 0.0771, 0.0525], [0.4368, 0.8155, 0.0757, 0.0426], [0.7835, 0.7488, 0.1184, 0.0888], [0.6651, 0.7747, 0.1211, 0.0865], [0.7609, 0.8191, 0.1092, 0.0783], [0.4443, 0.8537, 0.0537, 0.0482], [0.3793, 0.8558, 0.0788, 0.0637], [0.3828, 0.9156, 0.0471, 0.0446], [0.6983, 0.8325, 0.0722, 0.0634], [0.6977, 0.8923, 0.0894, 0.0542], [0.6162, 0.9126, 0.0665, 0.0651], [0.5955, 0.9709, 0.1, 0.0575], [0.6783, 0.9384, 0.1387, 0.11]]\n",
            "Processing IMG_1021.jpg: [[0.4584, 0.4658, 0.3369, 0.2485], [0.2368, 0.5623, 0.2757, 0.1742]]\n",
            "Processing IMG_1230.jpg: [[0.9752, 0.8347, 0.0497, 0.0844], [0.5189, 0.477, 0.118, 0.0848], [0.5127, 0.5559, 0.1092, 0.0823], [0.4364, 0.5927, 0.0916, 0.0687], [0.334, 0.0335, 0.0886, 0.0669], [0.3064, 0.0579, 0.071, 0.0577], [0.3886, 0.2036, 0.0593, 0.0401], [0.3222, 0.1873, 0.0593, 0.026], [0.3601, 0.2382, 0.0481, 0.0308], [0.3457, 0.2157, 0.0487, 0.0308], [0.1122, 0.3229, 0.0524, 0.0393]]\n",
            "Error processing IMG_1230.jpg: Expected x_max for bbox [    0.95035      0.7925           1      0.8769           5] to be in the range [0.0, 1.0], got 1.0000499486923218.\n",
            "Processing IMG_20191215_110454.jpg: [[0.4581, 0.2264, 0.0577, 0.0472], [0.7063, 0.2082, 0.1858, 0.1298], [0.5843, 0.2447, 0.1057, 0.1268], [0.4954, 0.32, 0.199, 0.1611], [0.6933, 0.3299, 0.1995, 0.1387], [0.8053, 0.2566, 0.1523, 0.142], [0.9079, 0.2348, 0.1832, 0.1413], [0.0944, 0.9238, 0.0831, 0.0637], [0.1566, 0.9465, 0.0819, 0.0655], [0.3243, 0.8379, 0.1899, 0.1579], [0.4265, 0.7485, 0.1417, 0.1146], [0.7824, 0.7321, 0.1673, 0.1156]]\n",
            "Processing IMG_1056.jpg: [[0.6739, 0.6172, 0.1615, 0.1316], [0.5943, 0.686, 0.1467, 0.1106], [0.1219, 0.6094, 0.1009, 0.074], [0.5083, 0.5282, 0.0969, 0.0762], [0.4344, 0.5715, 0.1098, 0.0793], [0.4687, 0.625, 0.1597, 0.1026], [0.6372, 0.9566, 0.1021, 0.0859], [0.5342, 0.9379, 0.0699, 0.1057]]\n",
            "Processing IMG_20191215_112858.jpg: [[0.4143, 0.3129, 0.1322, 0.1227], [0.1779, 0.3151, 0.1368, 0.121], [0.2504, 0.397, 0.1176, 0.1083], [0.4548, 0.4184, 0.1048, 0.097], [0.8436, 0.2444, 0.0396, 0.0324], [0.8157, 0.2566, 0.0357, 0.033], [0.8742, 0.2554, 0.0339, 0.0327], [0.7871, 0.2673, 0.0268, 0.0235], [0.6974, 0.4037, 0.0925, 0.0935], [0.5678, 0.4433, 0.0832, 0.0842], [0.7173, 0.4782, 0.0775, 0.0793], [0.3291, 0.4176, 0.0321, 0.0367], [0.3538, 0.4476, 0.0321, 0.0281], [0.4364, 0.4907, 0.0335, 0.0264], [0.3756, 0.4853, 0.0344, 0.0307], [0.4016, 0.5201, 0.0317, 0.0304], [0.4681, 0.5228, 0.0176, 0.0198], [0.4544, 0.5527, 0.0176, 0.0175], [0.2732, 0.5129, 0.0744, 0.0594], [0.3859, 0.5865, 0.0189, 0.0119], [0.2869, 0.5746, 0.07, 0.0647], [0.2312, 0.6078, 0.0572, 0.0552], [0.3179, 0.6385, 0.0326, 0.0301], [0.2816, 0.6397, 0.0445, 0.0324], [0.5614, 0.7257, 0.0449, 0.0439], [0.5594, 0.7699, 0.0436, 0.0419], [0.5552, 0.8028, 0.037, 0.0297], [0.6189, 0.7533, 0.0445, 0.0377], [0.6285, 0.7077, 0.0445, 0.0403], [0.6587, 0.7229, 0.044, 0.0482], [0.7038, 0.715, 0.0436, 0.0429], [0.7415, 0.7719, 0.0414, 0.0327], [0.8685, 0.8776, 0.077, 0.069], [0.9178, 0.2173, 0.0286, 0.0317], [0.4593, 0.9268, 0.0326, 0.025], [0.4709, 0.8554, 0.0314, 0.0264], [0.4089, 0.9577, 0.0253, 0.0235], [0.3783, 0.9795, 0.0291, 0.0189], [0.381, 0.9891, 0.0375, 0.021], [0.4558, 0.9894, 0.0295, 0.0204], [0.367, 0.9817, 0.0272, 0.0278], [0.0473, 0.8524, 0.0313, 0.0242], [0.0772, 0.8864, 0.034, 0.0245], [0.1305, 0.9188, 0.028, 0.0187], [0.0539, 0.9557, 0.032, 0.0257], [0.1114, 0.9187, 0.0203, 0.018], [0.1154, 0.9353, 0.0223, 0.0162], [0.5931, 0.8464, 0.036, 0.0353], [0.6231, 0.8593, 0.0325, 0.0319], [0.7547, 0.8124, 0.0314, 0.0195]]\n",
            "Processing IMG_20191215_111232.jpg: [[0.6402, 0.0459, 0.1834, 0.0917], [0.6225, 0.1131, 0.1689, 0.0996], [0.6516, 0.1692, 0.184, 0.1559], [0.6729, 0.2443, 0.1229, 0.107], [0.2603, 0.3782, 0.1037, 0.0777], [0.1593, 0.4114, 0.0937, 0.0708], [0.2536, 0.4258, 0.0972, 0.055], [0.3016, 0.5239, 0.0827, 0.0616], [0.2405, 0.5466, 0.1386, 0.093], [0.5686, 0.5313, 0.216, 0.1489], [0.7716, 0.5071, 0.2015, 0.1581], [0.0318, 0.6524, 0.062, 0.0517], [0.0195, 0.689, 0.0383, 0.0365], [0.0571, 0.6965, 0.0819, 0.0514], [0.0708, 0.7224, 0.0628, 0.0445], [0.2573, 0.7522, 0.0666, 0.0497], [0.4277, 0.8665, 0.1187, 0.0945], [0.4891, 0.9031, 0.1068, 0.089]]\n",
            "Processing IMG_1272.jpg: [[0.2927, 0.2213, 0.1848, 0.1432], [0.2251, 0.2906, 0.1165, 0.1083], [0.2752, 0.3855, 0.1669, 0.1188], [0.6176, 0.2661, 0.1592, 0.1363], [0.7647, 0.4207, 0.1522, 0.124], [0.5419, 0.426, 0.1537, 0.1159], [0.3998, 0.4498, 0.1491, 0.1007], [0.1114, 0.3529, 0.1421, 0.1153], [0.0594, 0.4999, 0.1157, 0.1066], [0.2457, 0.5273, 0.1405, 0.1066], [0.3882, 0.6376, 0.1304, 0.099], [0.6017, 0.5517, 0.1134, 0.0938], [0.5532, 0.5858, 0.1483, 0.1199], [0.3967, 0.8246, 0.1087, 0.0815], [0.6033, 0.6772, 0.1134, 0.092], [0.6269, 0.7523, 0.1017, 0.085], [0.6029, 0.8589, 0.0924, 0.0792], [0.486, 0.8039, 0.0947, 0.0693], [0.7449, 0.6772, 0.1064, 0.0839], [0.7845, 0.801, 0.0831, 0.0763], [0.875, 0.6775, 0.118, 0.0903]]\n",
            "Processing IMG_20191215_111202.jpg: [[0.4013, 0.703, 0.1072, 0.0798], [0.4577, 0.6121, 0.2117, 0.1582], [0.6704, 0.5966, 0.2236, 0.1697], [0.3567, 0.5762, 0.0586, 0.0422], [0.3674, 0.4663, 0.2569, 0.1688], [0.0266, 0.178, 0.0532, 0.0603], [0.0976, 0.3142, 0.1355, 0.0781], [0.0442, 0.3443, 0.0839, 0.0655], [0.0909, 0.3921, 0.0609, 0.0342], [0.1212, 0.4183, 0.0448, 0.0313], [0.1907, 0.2689, 0.0988, 0.0755], [0.9164, 0.0482, 0.1648, 0.0965]]\n",
            "Error processing IMG_20191215_111202.jpg: Expected y_min for bbox [      0.834 -5.0001e-05      0.9988     0.09645           2] to be in the range [0.0, 1.0], got -5.000084638595581e-05.\n",
            "Processing IMG_20191215_111954.jpg: [[0.0713, 0.0616, 0.0833, 0.0681], [0.472, 0.2954, 0.1625, 0.1253], [0.5369, 0.357, 0.1398, 0.0974], [0.6004, 0.421, 0.0815, 0.062], [0.6324, 0.4852, 0.113, 0.0821], [0.5273, 0.5243, 0.131, 0.0974], [0.0609, 0.8298, 0.1217, 0.1066]]\n",
            "Processing IMG_1076.jpg: [[0.7092, 0.3864, 0.2026, 0.1427], [0.5396, 0.2519, 0.3168, 0.2452], [0.5537, 0.5365, 0.1674, 0.116], [0.5416, 0.6459, 0.1972, 0.1504], [0.4103, 0.7451, 0.2167, 0.1514], [0.339, 0.5945, 0.2377, 0.1843], [0.2681, 0.9385, 0.1283, 0.1139], [0.3022, 0.8236, 0.1182, 0.0937]]\n",
            "Processing IMG_0990.jpg: [[0.4349, 0.5355, 0.3443, 0.2314]]\n",
            "Processing IMG_1091.jpg: [[0.4928, 0.6087, 0.1397, 0.1334], [0.6284, 0.6851, 0.2184, 0.1638]]\n",
            "Processing IMG_1205.jpg: [[0.3078, 0.451, 0.2322, 0.1578], [0.4258, 0.435, 0.1219, 0.1304], [0.3109, 0.6266, 0.1871, 0.1188], [0.3661, 0.7433, 0.1514, 0.1229], [0.4371, 0.693, 0.0901, 0.0908], [0.4934, 0.5908, 0.1405, 0.0868], [0.5198, 0.6403, 0.1685, 0.1287], [0.6351, 0.6778, 0.1382, 0.113], [0.6448, 0.5453, 0.1157, 0.0949], [0.7209, 0.4973, 0.1731, 0.12], [0.6848, 0.3724, 0.1817, 0.1462]]\n",
            "Processing IMG_1117.jpg: [[0.9649, 0.053, 0.0402, 0.0336], [0.9205, 0.0305, 0.0494, 0.0397], [0.8801, 0.1171, 0.0382, 0.0316], [0.8141, 0.0567, 0.0506, 0.0295], [0.8147, 0.0787, 0.0533, 0.0428], [0.8037, 0.0245, 0.0621, 0.0484], [0.7501, 0.0177, 0.056, 0.0347], [0.7049, 0.0252, 0.0598, 0.0492], [0.741, 0.16, 0.0394, 0.0304], [0.6945, 0.1893, 0.022, 0.0185], [0.6509, 0.0243, 0.049, 0.0428], [0.6568, 0.0605, 0.0525, 0.0463], [0.6497, 0.1322, 0.0228, 0.0194], [0.6261, 0.1362, 0.0189, 0.0136], [0.5935, 0.0858, 0.0309, 0.031], [0.6458, 0.1899, 0.0166, 0.0133], [0.1788, 0.3115, 0.0807, 0.0573], [0.3525, 0.3271, 0.0336, 0.0249], [0.4399, 0.3881, 0.0293, 0.0206], [0.4071, 0.4172, 0.0602, 0.0463], [0.3691, 0.4185, 0.0328, 0.031], [0.309, 0.3775, 0.0741, 0.0527], [0.1957, 0.4435, 0.0568, 0.0388], [0.1216, 0.4984, 0.0537, 0.0391], [0.2731, 0.4606, 0.0664, 0.0463], [0.4171, 0.5052, 0.0633, 0.0469], [0.359, 0.5003, 0.0537, 0.0429], [0.5812, 0.4848, 0.0957, 0.0686], [0.6462, 0.5491, 0.0382, 0.0304], [0.6155, 0.585, 0.0471, 0.0373], [0.5426, 0.5437, 0.0425, 0.0301], [0.543, 0.5932, 0.0564, 0.0469], [0.502, 0.5689, 0.0455, 0.0417], [0.4521, 0.5677, 0.0699, 0.0463], [0.4673, 0.6032, 0.0787, 0.0565], [0.3739, 0.5483, 0.0718, 0.0515], [0.2511, 0.5066, 0.0556, 0.0399], [0.2328, 0.537, 0.0436, 0.0318], [0.292, 0.5537, 0.0463, 0.0281], [0.239, 0.5598, 0.0498, 0.0368], [0.5503, 0.6931, 0.0633, 0.0481], [0.4422, 0.6809, 0.0517, 0.0411], [0.4652, 0.7315, 0.0359, 0.0287], [0.4011, 0.6518, 0.0799, 0.0599], [0.3341, 0.5893, 0.0401, 0.0206], [0.3254, 0.6103, 0.0652, 0.0452], [0.2594, 0.6181, 0.0529, 0.0394], [0.2365, 0.6012, 0.0564, 0.0391], [0.2108, 0.5777, 0.0521, 0.0449], [0.1392, 0.5805, 0.0409, 0.0226], [0.162, 0.5949, 0.054, 0.0342], [0.1587, 0.6248, 0.0568, 0.0423], [0.1125, 0.6009, 0.0479, 0.0391], [0.1131, 0.6308, 0.0452, 0.0313], [0.1797, 0.6625, 0.0486, 0.0356], [0.0676, 0.6362, 0.0506, 0.0374], [0.084, 0.6568, 0.0432, 0.0281], [0.0952, 0.6835, 0.0332, 0.0214], [0.0566, 0.6883, 0.0509, 0.0339], [0.0139, 0.6969, 0.0274, 0.0388], [0.1043, 0.7231, 0.0228, 0.0177], [0.1992, 0.6942, 0.029, 0.0243], [0.1168, 0.7474, 0.0286, 0.0211], [0.1741, 0.7205, 0.0367, 0.0263], [0.1461, 0.7603, 0.0286, 0.0203], [0.072, 0.7605, 0.0386, 0.0284], [0.0238, 0.774, 0.0463, 0.0333], [0.1678, 0.7937, 0.0154, 0.0154], [0.3142, 0.6683, 0.0429, 0.0344], [0.2801, 0.6835, 0.0456, 0.0342], [0.2712, 0.7587, 0.0409, 0.0269], [0.3716, 0.7178, 0.0594, 0.046], [0.3752, 0.7475, 0.0452, 0.029]]\n",
            "Processing IMG_20191215_112542.jpg: [[0.4993, 0.2568, 0.1799, 0.1529], [0.8091, 0.4896, 0.1438, 0.1039], [0.617, 0.4356, 0.1473, 0.1079], [0.3747, 0.4446, 0.1788, 0.1389], [0.3864, 0.5547, 0.1287, 0.097], [0.529, 0.5756, 0.1334, 0.1004], [0.037, 0.6033, 0.074, 0.0852], [0.0699, 0.6084, 0.0594, 0.069], [0.09, 0.67, 0.1019, 0.0725], [0.0437, 0.7385, 0.0862, 0.0734], [0.094, 0.732, 0.0402, 0.0577], [0.3835, 0.6529, 0.1275, 0.0961], [0.2393, 0.6566, 0.1141, 0.0878], [0.2181, 0.7158, 0.0705, 0.0463], [0.3252, 0.7287, 0.0903, 0.0738], [0.437, 0.7313, 0.1322, 0.1026], [0.6216, 0.6951, 0.117, 0.0834], [0.7148, 0.7296, 0.0938, 0.0738], [0.5564, 0.7684, 0.0914, 0.0712], [0.6525, 0.7966, 0.039, 0.0341]]\n",
            "Processing IMG_20191215_111448.jpg: [[0.1374, 0.6085, 0.1048, 0.0717], [0.4636, 0.589, 0.2025, 0.1516], [0.625, 0.6649, 0.1845, 0.1516], [0.4678, 0.7267, 0.173, 0.1311], [0.5578, 0.3492, 0.0521, 0.0285]]\n",
            "Processing IMG_20191215_111055.jpg: [[0.8548, 0.2114, 0.1898, 0.117], [0.7355, 0.238, 0.0932, 0.0638], [0.6734, 0.1703, 0.1974, 0.159], [0.0795, 0.4337, 0.1497, 0.1258], [0.2463, 0.4937, 0.1631, 0.1026], [0.3683, 0.5861, 0.1264, 0.1153], [0.4691, 0.5537, 0.0886, 0.0494], [0.4884, 0.6355, 0.1717, 0.1287], [0.5256, 0.6766, 0.1479, 0.1128], [0.171, 0.7924, 0.1029, 0.0737], [0.17, 0.8464, 0.0529, 0.0427], [0.2154, 0.8403, 0.0859, 0.0604]]\n",
            "Processing IMG_1188.jpg: [[0.4534, 0.4005, 0.1033, 0.0903], [0.2949, 0.3707, 0.0986, 0.0731], [0.1989, 0.3282, 0.1051, 0.0779], [0.255, 0.4945, 0.101, 0.074], [0.4226, 0.3379, 0.0851, 0.0445], [0.3119, 0.4399, 0.0634, 0.0476], [0.3695, 0.5108, 0.0939, 0.0784], [0.2984, 0.5519, 0.0716, 0.055], [0.5435, 0.2734, 0.1204, 0.1004], [0.6874, 0.3597, 0.1145, 0.081], [0.715, 0.2677, 0.1098, 0.0599], [0.7373, 0.2105, 0.0769, 0.0643], [0.6927, 0.4126, 0.0792, 0.0449], [0.7273, 0.4385, 0.0499, 0.0396], [0.5829, 0.3868, 0.084, 0.0639], [0.5747, 0.4729, 0.1286, 0.0977], [0.368, 0.3205, 0.0757, 0.0511], [0.4843, 0.5081, 0.0898, 0.0643], [0.4951, 0.5871, 0.0834, 0.0568], [0.8339, 0.3998, 0.0657, 0.0458], [0.3536, 0.5984, 0.081, 0.0282], [0.4728, 0.6464, 0.0951, 0.0696], [0.5283, 0.7129, 0.0581, 0.0475], [0.3833, 0.7305, 0.0546, 0.0467], [0.3064, 0.7325, 0.0922, 0.0832], [0.2943, 0.7956, 0.0611, 0.0564], [0.4769, 0.8639, 0.0928, 0.0854], [0.7214, 0.7516, 0.0605, 0.0449], [0.7493, 0.8331, 0.0881, 0.0766], [0.8186, 0.6805, 0.1033, 0.0806]]\n",
            "Processing IMG_1062.jpg: [[0.4697, 0.6519, 0.2454, 0.1695], [0.4258, 0.566, 0.1623, 0.1153], [0.618, 0.718, 0.0683, 0.0466]]\n",
            "Processing IMG_20191215_112010.jpg: [[0.3653, 0.4319, 0.1631, 0.1298], [0.5839, 0.4536, 0.1838, 0.1347], [0.6499, 0.4806, 0.0884, 0.0813], [0.3159, 0.5656, 0.1003, 0.079], [0.4671, 0.6019, 0.1126, 0.0839], [0.4361, 0.5802, 0.098, 0.0784], [0.6388, 0.6264, 0.1191, 0.0916], [0.6371, 0.1839, 0.0628, 0.0543], [0.5642, 0.6457, 0.0463, 0.0319]]\n",
            "Processing IMG_20191215_111006.jpg: [[0.6312, 0.1087, 0.0315, 0.09], [0.5864, 0.1297, 0.0734, 0.0655], [0.805, 0.3655, 0.1112, 0.0865], [0.5881, 0.3433, 0.2446, 0.152], [0.5715, 0.468, 0.2405, 0.162], [0.33, 0.6507, 0.1325, 0.1166], [0.4328, 0.7093, 0.1673, 0.138], [0.5237, 0.8066, 0.1722, 0.1192], [0.5995, 0.7904, 0.0727, 0.0829]]\n",
            "Processing IMG_1052.jpg: [[0.2713, 0.9286, 0.2029, 0.1425], [0.3492, 0.4441, 0.1225, 0.0826], [0.3945, 0.558, 0.1891, 0.1631], [0.5603, 0.5577, 0.1549, 0.1125]]\n",
            "Processing IMG_20191215_110556.jpg: [[0.3716, 0.196, 0.1365, 0.2002], [0.2291, 0.1278, 0.0912, 0.1305], [0.3, 0.2322, 0.1132, 0.1616], [0.413, 0.303, 0.1135, 0.1345], [0.266, 0.5487, 0.1532, 0.1731], [0.161, 0.6599, 0.1535, 0.1984], [0.0653, 0.6051, 0.0719, 0.0817], [0.2679, 0.6992, 0.1049, 0.1385], [0.2324, 0.8054, 0.0463, 0.056], [0.8606, 0.7684, 0.1152, 0.1394], [0.802, 0.714, 0.0939, 0.178], [0.7151, 0.6685, 0.0879, 0.1332], [0.7704, 0.5778, 0.1145, 0.1345], [0.6504, 0.5409, 0.0483, 0.0573], [0.0492, 0.6723, 0.0355, 0.0624], [0.527, 0.9889, 0.0555, 0.0214]]\n",
            "Processing IMG_20191215_110950.jpg: [[0.7951, 0.0921, 0.2754, 0.1843], [0.8263, 0.2527, 0.1071, 0.1271], [0.9029, 0.2527, 0.1299, 0.1245], [0.4519, 0.4763, 0.1759, 0.1], [0.6758, 0.4902, 0.1904, 0.1018], [0.6173, 0.6304, 0.3983, 0.2625], [0.3922, 0.5957, 0.1555, 0.1476]]\n",
            "Error processing IMG_20191215_110950.jpg: Expected y_min for bbox [     0.6574 -5.0001e-05      0.9328     0.18425           0] to be in the range [0.0, 1.0], got -5.000084638595581e-05.\n",
            "Processing IMG_1239.jpg: [[0.6813, 0.1989, 0.2182, 0.1555], [0.4988, 0.2725, 0.1638, 0.1083], [0.3319, 0.1546, 0.1592, 0.152], [0.3657, 0.269, 0.1211, 0.0862], [0.2508, 0.3182, 0.1661, 0.1159], [0.3698, 0.403, 0.1486, 0.1819], [0.4806, 0.421, 0.1731, 0.1489], [0.2797, 0.4776, 0.1572, 0.116], [0.5607, 0.4989, 0.1486, 0.111], [0.4425, 0.5582, 0.1613, 0.1233], [0.3838, 0.5378, 0.0939, 0.09], [0.5316, 0.6245, 0.1322, 0.1026], [0.4925, 0.7081, 0.1011, 0.0839], [0.3874, 0.662, 0.1286, 0.1011]]\n",
            "Processing IMG_1227.jpg: [[0.8192, 0.1475, 0.1644, 0.1321], [0.6988, 0.21, 0.0904, 0.1048], [0.5905, 0.1909, 0.219, 0.173], [0.7834, 0.3655, 0.1444, 0.1074], [0.6777, 0.3991, 0.0892, 0.0876], [0.5855, 0.3994, 0.1421, 0.1066], [0.5045, 0.3696, 0.1303, 0.1035], [0.4828, 0.3032, 0.0881, 0.0621], [0.4523, 0.483, 0.1644, 0.1189], [0.2767, 0.4553, 0.1714, 0.1268], [0.5286, 0.5292, 0.1151, 0.0863], [0.4361, 0.5772, 0.1168, 0.096], [0.3425, 0.548, 0.108, 0.0788], [0.4185, 0.6613, 0.1039, 0.0775], [0.2835, 0.681, 0.0426, 0.035], [0.1821, 0.6041, 0.1141, 0.0836], [0.2023, 0.6687, 0.1234, 0.0929], [0.1592, 0.7268, 0.0817, 0.0546], [0.0991, 0.6699, 0.1203, 0.0952], [0.1372, 0.7801, 0.1141, 0.0806], [0.2671, 0.8277, 0.0808, 0.0633], [0.1918, 0.8545, 0.0954, 0.0743], [0.2116, 0.8956, 0.0799, 0.0593], [0.4238, 0.8159, 0.0657, 0.0543], [0.5743, 0.7748, 0.1012, 0.0839], [0.5561, 0.6825, 0.1216, 0.0926], [0.7658, 0.4774, 0.1256, 0.0852], [0.6602, 0.528, 0.099, 0.0693], [0.6389, 0.559, 0.0457, 0.034], [0.7299, 0.5945, 0.0768, 0.0509], [0.6771, 0.6203, 0.0555, 0.042], [0.6287, 0.6066, 0.02, 0.016], [0.4724, 0.4205, 0.0804, 0.0439]]\n",
            "Processing IMG_1124.jpg: [[0.9592, 0.0303, 0.0815, 0.0606], [0.985, 0.1634, 0.0299, 0.0484], [0.9475, 0.1488, 0.044, 0.0326], [0.8952, 0.0953, 0.0581, 0.0586], [0.8485, 0.098, 0.0716, 0.0577], [0.8846, 0.2142, 0.037, 0.0251], [0.9442, 0.2897, 0.0294, 0.0194], [0.784, 0.1332, 0.0411, 0.0339], [0.7429, 0.0603, 0.0669, 0.0564], [0.6566, 0.1068, 0.0657, 0.055], [0.5929, 0.074, 0.0429, 0.0405], [0.8747, 0.2842, 0.0205, 0.0145], [0.6698, 0.2899, 0.0675, 0.0533], [0.5873, 0.2457, 0.0787, 0.0669], [0.6166, 0.3331, 0.0716, 0.0541], [0.54, 0.306, 0.084, 0.0643], [0.4837, 0.2752, 0.0922, 0.0766], [0.4411, 0.2043, 0.0798, 0.0634], [0.5356, 0.3729, 0.047, 0.037], [0.5048, 0.3714, 0.0464, 0.033], [0.304, 0.2105, 0.0746, 0.0616], [0.2993, 0.2935, 0.0781, 0.0586], [0.3319, 0.3327, 0.0881, 0.0639], [0.2835, 0.3626, 0.0499, 0.0295], [0.2576, 0.3205, 0.0605, 0.0431], [0.4455, 0.3829, 0.0992, 0.0656], [0.4602, 0.4619, 0.0945, 0.0696], [0.3519, 0.4192, 0.0939, 0.0634], [0.4352, 0.5389, 0.0751, 0.0537], [0.4983, 0.4685, 0.0464, 0.0493], [0.3492, 0.4868, 0.0804, 0.055], [0.3542, 0.5418, 0.0728, 0.0542], [0.314, 0.6189, 0.0875, 0.0735], [0.4713, 0.6693, 0.0945, 0.0793], [0.4097, 0.732, 0.111, 0.0885], [0.326, 0.658, 0.0657, 0.0277], [0.2814, 0.7435, 0.0986, 0.0762], [0.4511, 0.7578, 0.0869, 0.0713], [0.3886, 0.7945, 0.0687, 0.0524], [0.304, 0.8122, 0.0851, 0.0674], [0.439, 0.6351, 0.0581, 0.0533], [0.6058, 0.5858, 0.0898, 0.0674], [0.6002, 0.5044, 0.0857, 0.0691], [0.7443, 0.5191, 0.0804, 0.0608]]\n",
            "Processing IMG_20191215_112504.jpg: [[0.3821, 0.2138, 0.2679, 0.2051], [0.6431, 0.3651, 0.2025, 0.147], [0.4157, 0.5214, 0.1761, 0.1367], [0.5933, 0.5345, 0.159, 0.1192], [0.437, 0.6527, 0.1554, 0.1219], [0.5896, 0.7186, 0.1444, 0.1116], [0.3521, 0.6539, 0.0532, 0.0752], [0.268, 0.7215, 0.1103, 0.0853], [0.3739, 0.7751, 0.1039, 0.0844], [0.3328, 0.8303, 0.0969, 0.0799], [0.2372, 0.8239, 0.0889, 0.0707], [0.2931, 0.8999, 0.0896, 0.0739], [0.5131, 0.8238, 0.1498, 0.1224], [0.4438, 0.8288, 0.038, 0.0794], [0.5613, 0.8745, 0.0966, 0.0744], [0.0348, 0.3076, 0.0696, 0.0684], [0.0369, 0.5308, 0.0739, 0.0577], [0.0335, 0.5961, 0.0662, 0.0494], [0.0224, 0.3892, 0.044, 0.0658], [0.0536, 0.5508, 0.051, 0.0328], [0.024, 0.2422, 0.0479, 0.0554]]\n",
            "Error processing IMG_20191215_112504.jpg: Expected x_min for bbox [-5.0001e-05     0.50195     0.07385     0.55965           5] to be in the range [0.0, 1.0], got -5.000084638595581e-05.\n",
            "Processing IMG_1054.jpg: [[0.6588, 0.4356, 0.3936, 0.2434], [0.6126, 0.292, 0.2484, 0.1334], [0.7228, 0.9238, 0.1134, 0.1287], [0.4507, 0.4527, 0.1312, 0.1555]]\n",
            "Processing IMG_20191215_111500.jpg: [[0.5593, 0.9396, 0.1392, 0.1201], [0.58, 0.7097, 0.1863, 0.1223], [0.5302, 0.582, 0.1846, 0.1463]]\n",
            "Processing IMG_1298.jpg: [[0.2632, 0.8093, 0.101, 0.0793], [0.1805, 0.7772, 0.0923, 0.0689], [0.2977, 0.7032, 0.119, 0.0959], [0.2065, 0.6978, 0.1025, 0.0752], [0.3592, 0.6184, 0.1247, 0.0995], [0.2411, 0.6003, 0.115, 0.0792], [0.2811, 0.5101, 0.1221, 0.0806], [0.2622, 0.4182, 0.1261, 0.0966], [0.412, 0.4363, 0.1123, 0.0922], [0.495, 0.4914, 0.1114, 0.0872], [0.5084, 0.2968, 0.1247, 0.1055], [0.5823, 0.3689, 0.1207, 0.0919], [0.5694, 0.5622, 0.1039, 0.0849], [0.6631, 0.4505, 0.1128, 0.0812], [0.6553, 0.6069, 0.0999, 0.0819], [0.7119, 0.5157, 0.1065, 0.0786], [0.755, 0.5915, 0.0959, 0.0789]]\n",
            "Processing IMG_20191215_112401.jpg: [[0.8478, 0.2236, 0.2911, 0.1922], [0.559, 0.2588, 0.2772, 0.2101], [0.7698, 0.3859, 0.2131, 0.1568], [0.3194, 0.3922, 0.1054, 0.0917], [0.2245, 0.3966, 0.1182, 0.09], [0.5494, 0.4841, 0.1974, 0.1402], [0.7509, 0.5839, 0.1939, 0.1371], [0.6757, 0.7414, 0.092, 0.072], [0.5277, 0.7168, 0.1123, 0.0816], [0.483, 0.6661, 0.1497, 0.1083], [0.3699, 0.652, 0.074, 0.0565], [0.3941, 0.5743, 0.0669, 0.0627], [0.3201, 0.5999, 0.0977, 0.0776], [0.3817, 0.4807, 0.0933, 0.0737], [0.242, 0.4909, 0.1273, 0.0928], [0.0277, 0.4382, 0.0546, 0.0561], [0.0343, 0.3809, 0.0687, 0.0538]]\n",
            "Error processing IMG_20191215_112401.jpg: Expected x_min for bbox [-5.0001e-05       0.354     0.06865      0.4078           3] to be in the range [0.0, 1.0], got -5.000084638595581e-05.\n",
            "Processing IMG_1017.jpg: [[0.6937, 0.1181, 0.0664, 0.0525], [0.6521, 0.0787, 0.071, 0.0632], [0.6819, 0.1576, 0.0562, 0.0417], [0.6141, 0.5471, 0.1511, 0.1064], [0.5311, 0.5736, 0.1639, 0.1164], [0.478, 0.6205, 0.073, 0.0601]]\n",
            "Processing IMG_20191215_110935.jpg: [[0.2664, 0.5853, 0.1066, 0.1256], [0.4769, 0.5072, 0.2113, 0.2571], [0.4645, 0.3305, 0.1021, 0.1127], [0.3972, 0.4441, 0.1303, 0.2389], [0.5739, 0.4518, 0.1369, 0.2084], [0.6713, 0.4362, 0.1123, 0.1479], [0.649, 0.6056, 0.1673, 0.1908]]\n",
            "Processing IMG_20191215_111918.jpg: [[0.4809, 0.4093, 0.1875, 0.1395], [0.348, 0.7163, 0.2079, 0.1491], [0.5958, 0.6118, 0.1522, 0.1141], [0.4192, 0.7985, 0.1559, 0.1158], [0.5789, 0.7248, 0.1228, 0.1006]]\n",
            "Processing IMG_20191215_112543.jpg: [[0.596, 0.3335, 0.1601, 0.1288], [0.4405, 0.3396, 0.1927, 0.1489], [0.6536, 0.4769, 0.1857, 0.1345], [0.4889, 0.5472, 0.1846, 0.1433], [0.3826, 0.5468, 0.0885, 0.1127], [0.6839, 0.5889, 0.1345, 0.1035], [0.6074, 0.6752, 0.1374, 0.1066], [0.5081, 0.6496, 0.1322, 0.0974], [0.4324, 0.682, 0.1031, 0.0729], [0.4589, 0.7625, 0.1048, 0.0821], [0.3744, 0.7966, 0.0792, 0.0612], [0.3776, 0.7451, 0.0716, 0.055]]\n",
            "Processing IMG_20191215_112607.jpg: [[0.5139, 0.1836, 0.2265, 0.183], [0.7567, 0.2527, 0.1893, 0.1489], [0.5284, 0.4651, 0.2137, 0.1607], [0.7328, 0.533, 0.1601, 0.1166], [0.513, 0.606, 0.1619, 0.1201], [0.2452, 0.7014, 0.1409, 0.1083], [0.5366, 0.7165, 0.138, 0.1053], [0.7756, 0.9189, 0.1421, 0.1354], [0.7427, 0.9859, 0.1007, 0.0275], [0.3965, 0.7494, 0.1106, 0.0873], [0.4079, 0.8169, 0.0775, 0.0555], [0.3398, 0.8645, 0.1159, 0.0956], [0.2958, 0.7896, 0.1269, 0.1013], [0.1642, 0.4996, 0.0722, 0.0489], [0.2325, 0.5842, 0.0423, 0.039], [0.1948, 0.6023, 0.0418, 0.0344], [0.0856, 0.4575, 0.055, 0.0419], [0.1002, 0.4963, 0.0498, 0.0324], [0.0676, 0.5117, 0.048, 0.0367], [0.0988, 0.5398, 0.0542, 0.034], [0.0454, 0.5413, 0.0493, 0.033], [0.0605, 0.4143, 0.0594, 0.0446], [0.1094, 0.4352, 0.055, 0.037], [0.1334, 0.7528, 0.041, 0.0307]]\n",
            "Processing IMG_20191215_112904.jpg: [[0.9835, 0.6044, 0.0314, 0.0734], [0.2396, 0.2524, 0.1462, 0.1275], [0.3826, 0.3889, 0.1328, 0.0965], [0.3048, 0.4418, 0.1194, 0.0895], [0.4801, 0.4387, 0.1042, 0.0869], [0.4143, 0.4671, 0.1077, 0.0686], [0.5826, 0.4345, 0.1287, 0.0943], [0.1313, 0.4741, 0.1392, 0.107], [0.3931, 0.5217, 0.099, 0.079], [0.5424, 0.5217, 0.1054, 0.0703], [0.787, 0.5234, 0.0996, 0.0799], [0.8004, 0.566, 0.046, 0.0428], [0.566, 0.5865, 0.1106, 0.0882], [0.674, 0.6348, 0.1054, 0.0904], [0.5963, 0.6684, 0.0908, 0.0825], [0.552, 0.7405, 0.0745, 0.0686], [0.3977, 0.6071, 0.092, 0.0786], [0.4586, 0.666, 0.0984, 0.083], [0.3072, 0.5874, 0.1019, 0.0873], [0.2818, 0.6492, 0.1223, 0.093], [0.1004, 0.67, 0.1264, 0.0873]]\n",
            "Processing IMG_1043.jpg: [[0.5978, 0.4755, 0.2219, 0.1726], [0.3844, 0.564, 0.2753, 0.258], [0.3636, 0.4132, 0.1937, 0.1237]]\n",
            "Processing IMG_1242.jpg: [[0.7248, 0.1686, 0.3346, 0.2463], [0.5598, 0.4824, 0.2065, 0.1741], [0.4701, 0.3715, 0.479, 0.3703], [0.3707, 0.6868, 0.2166, 0.1776], [0.3754, 0.8301, 0.1514, 0.1252], [0.4107, 0.9201, 0.1382, 0.1071], [0.6137, 0.8234, 0.1405, 0.1619]]\n",
            "Processing IMG_1093.jpg: [[0.855, 0.1383, 0.1327, 0.096], [0.6987, 0.5816, 0.0645, 0.0544], [0.6721, 0.6068, 0.049, 0.029], [0.6242, 0.5797, 0.0946, 0.0721], [0.5007, 0.4932, 0.0745, 0.0599], [0.4401, 0.492, 0.0503, 0.0345], [0.3173, 0.4647, 0.0671, 0.0483], [0.2656, 0.4338, 0.0591, 0.0337], [0.317, 0.2467, 0.0391, 0.0263], [0.3205, 0.2797, 0.0321, 0.0366]]\n",
            "Processing IMG_20191215_110817.jpg: [[0.0399, 0.0673, 0.0798, 0.1197], [0.5896, 0.4887, 0.2056, 0.1581], [0.6076, 0.682, 0.2696, 0.2468], [0.4018, 0.7176, 0.1817, 0.1668]]\n",
            "Processing IMG_20191215_111649.jpg: [[0.3139, 0.6676, 0.1924, 0.1458], [0.7643, 0.6967, 0.117, 0.0855]]\n",
            "Processing IMG_1167.jpg: [[0.453, 0.4498, 0.2663, 0.1916], [0.3928, 0.3543, 0.191, 0.131], [0.6005, 0.656, 0.2275, 0.166], [0.5586, 0.5966, 0.1281, 0.0775], [0.5877, 0.7654, 0.1801, 0.1054]]\n",
            "Processing IMG_1153.jpg: [[0.3909, 0.6423, 0.1669, 0.12], [0.6887, 0.7241, 0.1522, 0.1205], [0.5085, 0.8621, 0.1444, 0.1322], [0.5384, 0.7119, 0.1281, 0.1019], [0.3835, 0.5104, 0.1211, 0.0844], [0.2248, 0.5136, 0.125, 0.0815], [0.3086, 0.5299, 0.0862, 0.071]]\n",
            "Processing IMG_20191215_111644.jpg: [[0.644, 0.4418, 0.2225, 0.1611], [0.4586, 0.4444, 0.1543, 0.1192], [0.5494, 0.5208, 0.1345, 0.0983], [0.1383, 0.4704, 0.1753, 0.1267], [0.26, 0.5254, 0.1811, 0.076], [0.8874, 0.968, 0.1759, 0.0633], [0.4763, 0.7525, 0.1013, 0.0795]]\n",
            "Processing IMG_20191215_111437.jpg: [[0.0285, 0.2913, 0.0555, 0.0497], [0.0092, 0.3205, 0.0184, 0.0551], [0.5351, 0.5096, 0.1313, 0.0962], [0.0657, 0.5829, 0.0517, 0.0391], [0.0232, 0.5924, 0.0463, 0.0379], [0.3942, 0.7116, 0.0777, 0.0551], [0.3517, 0.7565, 0.0785, 0.0606], [0.4221, 0.7552, 0.0632, 0.0517], [0.8437, 0.8579, 0.0747, 0.0629], [0.6283, 0.2518, 0.0943, 0.0564], [0.6602, 0.227, 0.077, 0.0571], [0.3142, 0.2236, 0.0709, 0.0476]]\n",
            "Processing IMG_1127.jpg: [[0.7224, 0.6469, 0.1949, 0.1549], [0.6001, 0.5908, 0.2345, 0.1846], [0.6448, 0.4169, 0.2182, 0.1758], [0.4798, 0.3983, 0.1289, 0.1118], [0.58, 0.2612, 0.1708, 0.145], [0.7461, 0.3144, 0.1724, 0.1328], [0.8335, 0.3939, 0.0955, 0.0798]]\n",
            "Processing IMG_20191215_112356.jpg: [[0.5535, 0.1699, 0.2044, 0.1764], [0.5774, 0.0502, 0.0553, 0.041], [0.6368, 0.0282, 0.0553, 0.0459], [0.062, 0.2625, 0.0635, 0.0437], [0.0245, 0.3256, 0.0489, 0.0389], [0.0708, 0.3358, 0.0472, 0.0341], [0.0154, 0.1435, 0.0309, 0.052], [0.0114, 0.219, 0.0215, 0.0424], [0.529, 0.3348, 0.152, 0.155], [0.6213, 0.3638, 0.2318, 0.1817], [0.6475, 0.5132, 0.1945, 0.1406], [0.2914, 0.7156, 0.1566, 0.1227], [0.414, 0.7667, 0.1561, 0.1175], [0.511, 0.675, 0.1159, 0.1], [0.6312, 0.6745, 0.1619, 0.1192], [0.5418, 0.7529, 0.1101, 0.0865], [0.6079, 0.8486, 0.1188, 0.1005]]\n",
            "Error processing IMG_20191215_112356.jpg: Expected x_min for bbox [     -5e-05      0.1175     0.03085      0.1695           5] to be in the range [0.0, 1.0], got -4.9999915063381195e-05.\n",
            "Processing IMG_20191215_111742.jpg: [[0.1461, 0.21, 0.0967, 0.0744], [0.0658, 0.2277, 0.1013, 0.068], [0.1058, 0.2655, 0.0982, 0.063], [0.9441, 0.1466, 0.0511, 0.0706], [0.8459, 0.2298, 0.0856, 0.0562], [0.521, 0.2846, 0.2552, 0.1888], [0.7621, 0.3283, 0.2147, 0.1561], [0.1687, 0.6768, 0.0938, 0.0488], [0.5538, 0.5785, 0.1497, 0.1123], [0.5868, 0.6148, 0.1168, 0.0804], [0.2715, 0.5437, 0.1463, 0.0956], [0.3249, 0.5749, 0.1099, 0.0856], [0.1516, 0.5452, 0.062, 0.0411], [0.1085, 0.5506, 0.0471, 0.0347], [0.1057, 0.4484, 0.0398, 0.033], [0.2868, 0.0426, 0.1322, 0.0834]]\n",
            "Processing IMG_20191215_110926.jpg: [[0.3932, 0.7132, 0.241, 0.1791], [0.174, 0.9033, 0.107, 0.0836], [0.6956, 0.7096, 0.2704, 0.1774], [0.5164, 0.5644, 0.2478, 0.2113], [0.4267, 0.3864, 0.3457, 0.2486], [0.7615, 0.5118, 0.3359, 0.261]]\n",
            "Processing IMG_20191215_111250.jpg: [[0.6566, 0.3051, 0.1124, 0.0825], [0.6659, 0.3745, 0.1089, 0.0729], [0.7675, 0.3981, 0.064, 0.045], [0.72, 0.4343, 0.0693, 0.0493], [0.4222, 0.4418, 0.0734, 0.0633], [0.3395, 0.4391, 0.1293, 0.0974], [0.2449, 0.4461, 0.0355, 0.0432], [0.4091, 0.4981, 0.1077, 0.0642], [0.7558, 0.471, 0.0326, 0.0214], [0.5366, 0.7453, 0.1182, 0.0921], [0.6225, 0.8123, 0.1828, 0.1301], [0.534, 0.8398, 0.1246, 0.1074], [0.2609, 0.8438, 0.1153, 0.0777], [0.3599, 0.9038, 0.1165, 0.1105], [0.2419, 0.9294, 0.166, 0.1398]]\n",
            "Processing IMG_1278.jpg: [[0.5679, 0.5238, 0.3222, 0.2358], [0.6091, 0.6711, 0.2352, 0.1788], [0.7391, 0.7311, 0.1724, 0.1415], [0.3944, 0.414, 0.1848, 0.1397], [0.2407, 0.3794, 0.2143, 0.1753]]\n",
            "Processing IMG_20191215_111520.jpg: [[0.4241, 0.0503, 0.113, 0.0734], [0.4154, 0.1203, 0.0851, 0.0802], [0.5363, 0.5421, 0.1928, 0.1316], [0.6523, 0.5011, 0.0964, 0.0802], [0.7129, 0.5669, 0.0926, 0.0943], [0.6523, 0.5887, 0.1311, 0.0949]]\n",
            "Processing IMG_1250.jpg: [[0.7088, 0.4149, 0.2718, 0.1997], [0.4324, 0.1223, 0.3013, 0.2446], [0.2717, 0.5389, 0.2485, 0.1823], [0.5186, 0.6444, 0.1949, 0.1554], [0.267, 0.6508, 0.1873, 0.0995], [0.4308, 0.7534, 0.1274, 0.1013], [0.2802, 0.7857, 0.1362, 0.107]]\n",
            "Processing IMG_20191215_111007.jpg: [[0.5611, 0.673, 0.2021, 0.1424], [0.3721, 0.6959, 0.2015, 0.1524], [0.4874, 0.6036, 0.2422, 0.1415]]\n",
            "Processing IMG_20191215_111154.jpg: [[0.0376, 0.6411, 0.0751, 0.1275], [0.4311, 0.7433, 0.2431, 0.2043], [0.5768, 0.6567, 0.1964, 0.1621]]\n",
            "Processing IMG_20191215_111517_1.jpg: [[0.6461, 0.6241, 0.2032, 0.1581], [0.4897, 0.575, 0.1712, 0.1236], [0.2469, 0.4684, 0.0463, 0.0305], [0.2337, 0.4399, 0.0646, 0.0482], [0.2086, 0.3656, 0.0543, 0.0405], [0.2357, 0.3366, 0.0639, 0.0464], [0.1775, 0.2547, 0.0792, 0.0759], [0.129, 0.2747, 0.0683, 0.0524], [0.9141, 0.3892, 0.1347, 0.0756], [0.9429, 0.4326, 0.0841, 0.0581], [0.6999, 0.0633, 0.0804, 0.0611], [0.709, 0.1061, 0.0786, 0.0594], [0.0753, 0.16, 0.0432, 0.032], [0.0471, 0.058, 0.0555, 0.0413], [0.0432, 0.1729, 0.0528, 0.036], [0.2065, 0.0305, 0.0555, 0.0492]]\n",
            "Processing IMG_20191215_111939.jpg: [[0.5156, 0.4981, 0.1054, 0.0834], [0.3383, 0.5715, 0.1118, 0.0948], [0.5442, 0.7333, 0.1438, 0.1188], [0.4193, 0.6012, 0.1083, 0.0817], [0.617, 0.6481, 0.1205, 0.097], [0.4976, 0.7853, 0.0903, 0.0524], [0.4303, 0.7208, 0.1188, 0.1], [0.4647, 0.6695, 0.0874, 0.0533], [0.3345, 0.6479, 0.0996, 0.0651], [0.308, 0.7234, 0.1234, 0.1035], [0.6682, 0.678, 0.0774, 0.0633], [0.3628, 0.8167, 0.1118, 0.0812], [0.2993, 0.8191, 0.0606, 0.0677], [0.5424, 0.6641, 0.0577, 0.0319], [0.5395, 0.5619, 0.0751, 0.0572], [0.4955, 0.559, 0.0559, 0.0603]]\n",
            "Processing IMG_1260.jpg: [[0.3232, 0.1347, 0.0857, 0.0678], [0.34, 0.2489, 0.0722, 0.0552], [0.2442, 0.2382, 0.0844, 0.0511], [0.1834, 0.3896, 0.1452, 0.1301], [0.3009, 0.4917, 0.1249, 0.1033], [0.2162, 0.4593, 0.1242, 0.0891], [0.4055, 0.4362, 0.133, 0.119], [0.5372, 0.4276, 0.1209, 0.0947], [0.2793, 0.2825, 0.0763, 0.0587], [0.4595, 0.5198, 0.1276, 0.0967], [0.5686, 0.5134, 0.1053, 0.0901], [0.6871, 0.539, 0.0992, 0.0795], [0.7451, 0.6157, 0.1033, 0.0901], [0.6425, 0.5891, 0.1074, 0.0937], [0.6874, 0.6476, 0.0392, 0.0699], [0.5713, 0.5998, 0.0689, 0.0886], [0.6304, 0.6795, 0.1114, 0.1013], [0.4747, 0.6084, 0.1067, 0.0906], [0.4653, 0.6909, 0.1067, 0.1018], [0.5993, 0.8241, 0.1114, 0.0987], [0.4886, 0.8195, 0.1168, 0.0998]]\n",
            "Processing IMG_1199.jpg: [[0.2714, 0.5288, 0.1702, 0.1242], [0.5659, 0.492, 0.1485, 0.1184], [0.4203, 0.6655, 0.1591, 0.1114], [0.6428, 0.6178, 0.1274, 0.1013], [0.6827, 0.7014, 0.1063, 0.0801], [0.5151, 0.749, 0.1233, 0.0942]]\n",
            "Processing IMG_20191215_112828.jpg: [[0.4848, 0.3306, 0.1392, 0.1179], [0.4583, 0.4466, 0.1304, 0.0983], [0.6181, 0.4826, 0.1613, 0.1336], [0.5602, 0.5568, 0.1374, 0.1048], [0.4615, 0.5348, 0.1054, 0.0852], [0.4088, 0.5929, 0.0885, 0.0878], [0.4932, 0.6302, 0.1246, 0.1013], [0.4434, 0.6623, 0.0996, 0.0773], [0.0317, 0.8798, 0.0635, 0.0948], [0.0498, 0.9516, 0.0996, 0.0926], [0.1427, 0.9824, 0.0524, 0.0345], [0.1776, 0.9827, 0.0687, 0.0341]]\n",
            "Error processing IMG_20191215_112828.jpg: Expected x_min for bbox [-5.0001e-05      0.8324     0.06345      0.9272           4] to be in the range [0.0, 1.0], got -5.000084638595581e-05.\n",
            "Processing IMG_20191215_111357.jpg: [[0.5183, 0.6138, 0.1712, 0.1271], [0.3852, 0.6938, 0.1741, 0.1376], [0.5334, 0.7606, 0.2434, 0.1638], [0.2635, 0.9586, 0.1403, 0.0821], [0.3648, 0.9835, 0.0728, 0.0323]]\n",
            "Processing IMG_20191215_111406.jpg: [[0.5345, 0.6289, 0.1625, 0.1231], [0.5962, 0.7472, 0.1767, 0.1394], [0.4608, 0.7107, 0.1236, 0.0938]]\n",
            "Processing IMG_20191215_110815.jpg: [[0.0708, 0.7193, 0.1135, 0.076], [0.4778, 0.7344, 0.1939, 0.1428], [0.4461, 0.5996, 0.1922, 0.1467]]\n",
            "Processing IMG_20191215_110626.jpg: [[0.6143, 0.7215, 0.0489, 0.0376], [0.5159, 0.7558, 0.2434, 0.2171], [0.391, 0.8468, 0.0437, 0.0288], [0.488, 0.6562, 0.1479, 0.0756], [0.4114, 0.3795, 0.1031, 0.0795], [0.0303, 0.2616, 0.0512, 0.021], [0.4714, 0.3063, 0.0594, 0.04], [0.4128, 0.2944, 0.0683, 0.0433], [0.3666, 0.2145, 0.122, 0.1073], [0.5163, 0.247, 0.1537, 0.1063], [0.6332, 0.2705, 0.125, 0.0931], [0.6704, 0.1858, 0.1176, 0.0954], [0.7309, 0.2327, 0.0942, 0.0717]]\n",
            "Processing IMG_1200.jpg: [[0.308, 0.3365, 0.1647, 0.119], [0.5021, 0.3658, 0.1208, 0.0967], [0.3978, 0.4375, 0.1607, 0.1104], [0.575, 0.4565, 0.1276, 0.0977], [0.5085, 0.5456, 0.1377, 0.0937], [0.6543, 0.5317, 0.1188, 0.0881], [0.6742, 0.6312, 0.1006, 0.0785], [0.5713, 0.6259, 0.1256, 0.0952]]\n",
            "Processing IMG_1166.jpg: [[0.299, 0.2987, 0.225, 0.174], [0.5762, 0.2109, 0.1788, 0.1416], [0.5179, 0.4286, 0.1587, 0.1235], [0.3321, 0.5525, 0.1848, 0.1379], [0.4868, 0.5578, 0.1386, 0.1137], [0.4451, 0.6485, 0.1276, 0.0994], [0.4426, 0.7389, 0.0703, 0.0798], [0.3447, 0.7762, 0.1396, 0.0821], [0.3381, 0.7005, 0.1788, 0.1311]]\n",
            "Processing IMG_20191215_111230.jpg: [[0.4295, 0.0686, 0.0821, 0.0786], [0.7899, 0.2625, 0.3383, 0.221], [0.6362, 0.2867, 0.145, 0.1865], [0.0236, 0.7005, 0.0472, 0.0716], [0.3939, 0.7606, 0.131, 0.1018], [0.3736, 0.8615, 0.1497, 0.1157], [0.479, 0.8125, 0.1124, 0.0939]]\n",
            "Processing IMG_20191215_111736.jpg: [[0.4088, 0.554, 0.1456, 0.1288], [0.4402, 0.6084, 0.1374, 0.0891], [0.5153, 0.5084, 0.1502, 0.1101]]\n",
            "Processing IMG_20191215_111213.jpg: [[0.5558, 0.2644, 0.2684, 0.1882], [0.7544, 0.2795, 0.1753, 0.1564], [0.9355, 0.1946, 0.0844, 0.0529], [0.4897, 0.7366, 0.1386, 0.1385], [0.3785, 0.777, 0.2131, 0.1668], [0.1368, 0.9639, 0.1013, 0.0708], [0.9582, 0.5178, 0.0809, 0.0694], [0.9046, 0.5005, 0.0693, 0.055], [0.9, 0.544, 0.0693, 0.0441]]\n",
            "Processing IMG_20191215_111126.jpg: [[0.285, 0.9128, 0.0799, 0.0622], [0.2435, 0.8567, 0.0882, 0.0779], [0.3271, 0.858, 0.0809, 0.0704], [0.4461, 0.7842, 0.1312, 0.1156], [0.3769, 0.7979, 0.0839, 0.0911], [0.5116, 0.6959, 0.1115, 0.0899], [0.4093, 0.6967, 0.0942, 0.0784], [0.3874, 0.732, 0.0636, 0.0417], [0.0298, 0.8245, 0.0523, 0.0395], [0.1122, 0.6778, 0.0959, 0.0782], [0.0361, 0.6415, 0.0722, 0.0544], [0.0554, 0.6794, 0.0403, 0.0531], [0.3241, 0.3969, 0.0532, 0.0517], [0.4629, 0.5034, 0.1013, 0.0741], [0.4857, 0.4508, 0.0872, 0.0782], [0.5583, 0.4177, 0.0929, 0.061], [0.6007, 0.2233, 0.106, 0.0849], [0.5567, 0.1458, 0.1291, 0.1136], [0.6297, 0.1562, 0.0741, 0.0771], [0.4947, 0.0729, 0.0773, 0.0844]]\n",
            "Processing IMG_20191215_110724.jpg: [[0.6339, 0.4649, 0.29, 0.2068], [0.3254, 0.5285, 0.345, 0.2559], [0.513, 0.7536, 0.125, 0.1051], [0.4324, 0.8053, 0.1326, 0.1136]]\n",
            "Processing IMG_20191215_112551.jpg: [[0.3922, 0.164, 0.1601, 0.1271], [0.7305, 0.2452, 0.1706, 0.1262], [0.6996, 0.3245, 0.1112, 0.0734], [0.327, 0.2758, 0.1357, 0.1079], [0.6644, 0.4024, 0.1328, 0.1009], [0.5162, 0.3642, 0.1427, 0.1092], [0.3383, 0.3721, 0.1432, 0.1153], [0.9454, 0.4396, 0.0984, 0.0686], [0.9483, 0.4826, 0.0821, 0.0332], [0.633, 0.4531, 0.1013, 0.0633], [0.3695, 0.4433, 0.11, 0.0716], [0.2271, 0.4361, 0.1817, 0.1341], [0.391, 0.5269, 0.1252, 0.0991], [0.2355, 0.5448, 0.1578, 0.1053], [0.5494, 0.5359, 0.1124, 0.0882], [0.9361, 0.561, 0.0798, 0.0546], [0.5573, 0.6151, 0.0699, 0.0738], [0.4763, 0.6125, 0.1234, 0.093], [0.9294, 0.6005, 0.0745, 0.0428], [0.9448, 0.6376, 0.0681, 0.0437], [0.9765, 0.6837, 0.0454, 0.0371], [0.9573, 0.6894, 0.0408, 0.031], [0.4129, 0.6763, 0.0221, 0.0214], [0.4778, 0.7007, 0.0541, 0.0432], [0.2213, 0.7012, 0.1351, 0.1009], [0.2507, 0.7501, 0.0879, 0.0598], [0.2891, 0.7907, 0.1066, 0.0764], [0.3171, 0.8106, 0.0844, 0.0664], [0.2722, 0.8405, 0.0542, 0.0398]]\n",
            "Processing IMG_20191215_112836.jpg: [[0.38, 0.4688, 0.2009, 0.1227], [0.2946, 0.5047, 0.1386, 0.0939], [0.3407, 0.5555, 0.1083, 0.0577], [0.186, 0.6254, 0.1729, 0.1293], [0.2853, 0.6496, 0.1363, 0.107], [0.3963, 0.6767, 0.1869, 0.128], [0.4324, 0.7676, 0.1671, 0.1149], [0.5445, 0.7824, 0.1432, 0.1122], [0.4111, 0.9383, 0.1852, 0.1227], [0.5363, 0.9364, 0.1165, 0.1153], [0.5337, 0.5628, 0.0469, 0.0487], [0.5019, 0.6007, 0.0516, 0.0341]]\n",
            "Processing IMG_20191215_111442.jpg: [[0.4315, 0.58, 0.2853, 0.186], [0.2137, 0.6036, 0.0547, 0.0393], [0.1791, 0.6195, 0.0565, 0.045], [0.1709, 0.6374, 0.0716, 0.0406]]\n",
            "Processing IMG_1157.jpg: [[0.7461, 0.6167, 0.1351, 0.1095], [0.7119, 0.7544, 0.1677, 0.1252], [0.6762, 0.6996, 0.1133, 0.0705], [0.6277, 0.7751, 0.0722, 0.0745], [0.6269, 0.8732, 0.1359, 0.1147], [0.663, 0.9267, 0.0808, 0.0658], [0.5489, 0.4673, 0.1211, 0.0949], [0.4491, 0.3249, 0.1126, 0.092], [0.4293, 0.4394, 0.0901, 0.0739], [0.3556, 0.2818, 0.0776, 0.0617]]\n",
            "Processing IMG_1105.jpg: [[0.4771, 0.596, 0.3284, 0.2626], [0.3206, 0.52, 0.2252, 0.1432]]\n",
            "Processing IMG_20191215_112527.jpg: [[0.3681, 0.7366, 0.1762, 0.1341], [0.4484, 0.5917, 0.202, 0.1663], [0.2253, 0.5712, 0.2552, 0.1808]]\n",
            "Processing IMG_1218.jpg: [[0.0788, 0.5139, 0.1545, 0.1392], [0.057, 0.6079, 0.111, 0.0757], [0.5233, 0.1194, 0.163, 0.1176], [0.4472, 0.1826, 0.1398, 0.1089], [0.4518, 0.2696, 0.1351, 0.0687], [0.1518, 0.7049, 0.125, 0.1031], [0.4464, 0.3191, 0.1429, 0.1048], [0.3187, 0.6566, 0.1359, 0.1042], [0.229, 0.8216, 0.1491, 0.106], [0.3699, 0.7969, 0.1436, 0.1124], [0.4157, 0.6897, 0.1545, 0.1124], [0.3897, 0.564, 0.1273, 0.1089], [0.4441, 0.4035, 0.1273, 0.0885], [0.406, 0.476, 0.1413, 0.0926], [0.5633, 0.3835, 0.1234, 0.1007], [0.58, 0.4862, 0.1444, 0.0967], [0.5978, 0.5803, 0.1646, 0.1217], [0.5256, 0.7253, 0.1615, 0.1205], [0.5714, 0.1773, 0.0668, 0.0402], [0.5768, 0.1971, 0.073, 0.0344], [0.6265, 0.1555, 0.0637, 0.0699], [0.6887, 0.1066, 0.0839, 0.0862], [0.6739, 0.0282, 0.0869, 0.0565], [0.8684, 0.1211, 0.0753, 0.0664], [0.8096, 0.1694, 0.0847, 0.0762], [0.8063, 0.2081, 0.074, 0.0364], [0.6113, 0.8628, 0.0689, 0.054], [0.6253, 0.84, 0.0776, 0.0498], [0.6569, 0.7905, 0.0684, 0.057], [0.7812, 0.5893, 0.0444, 0.0498], [0.7052, 0.5691, 0.0567, 0.0448], [0.658, 0.898, 0.0786, 0.0647], [0.6393, 0.9536, 0.0842, 0.0647], [0.5382, 0.8573, 0.0659, 0.0544], [0.5661, 0.9132, 0.0735, 0.059], [0.5745, 0.9794, 0.0955, 0.0398], [0.4966, 0.9472, 0.0592, 0.0528], [0.2394, 0.7494, 0.1087, 0.0506]]\n",
            "Error processing IMG_1218.jpg: Expected y_min for bbox [    0.63045 -4.9999e-05     0.71735     0.05645           5] to be in the range [0.0, 1.0], got -4.999898374080658e-05.\n",
            "Processing IMG_20191215_111334.jpg: [[0.3299, 0.5223, 0.4676, 0.3232], [0.5255, 0.6575, 0.2952, 0.2092], [0.8053, 0.0352, 0.0967, 0.0703], [0.8851, 0.231, 0.085, 0.0541], [0.8607, 0.2952, 0.0932, 0.0664], [0.8598, 0.0703, 0.0728, 0.069]]\n",
            "Processing IMG_20191215_112343.jpg: [[0.6915, 0.0843, 0.2591, 0.1677], [0.8048, 0.2337, 0.1665, 0.1319], [0.4158, 0.3889, 0.1596, 0.162], [0.6507, 0.4431, 0.1462, 0.107], [0.5835, 0.5014, 0.1199, 0.0742], [0.3797, 0.5385, 0.1072, 0.062], [0.5395, 0.5811, 0.2254, 0.169], [0.3977, 0.6025, 0.1526, 0.1288], [0.3179, 0.6252, 0.0466, 0.0502], [0.5363, 0.6966, 0.1118, 0.0777], [0.4519, 0.6686, 0.0967, 0.0507], [0.3439, 0.7012, 0.0565, 0.0397], [0.1037, 0.7073, 0.2073, 0.1699], [0.5305, 0.7876, 0.1898, 0.1498], [0.9809, 0.7475, 0.0367, 0.0948], [0.9701, 0.7748, 0.0582, 0.0978], [0.1313, 0.9281, 0.1229, 0.1092], [0.0355, 0.9538, 0.0699, 0.0917]]\n",
            "Processing IMG_1267.jpg: [[0.9309, 0.2603, 0.1382, 0.1095], [0.6793, 0.2155, 0.1677, 0.1409], [0.6766, 0.4332, 0.1685, 0.1398], [0.4744, 0.2993, 0.1646, 0.1491], [0.4022, 0.5264, 0.1568, 0.1363], [0.2857, 0.4772, 0.1102, 0.1194], [0.2162, 0.4461, 0.0908, 0.0815], [0.3692, 0.4065, 0.1825, 0.1537], [0.1405, 0.6056, 0.1429, 0.1072], [0.118, 0.5453, 0.0901, 0.0612], [0.3265, 0.5931, 0.1219, 0.0984], [0.1976, 0.6376, 0.1172, 0.0908], [0.387, 0.6769, 0.1095, 0.0949], [0.2795, 0.7061, 0.104, 0.0926], [0.389, 0.7806, 0.104, 0.0961]]\n",
            "Processing IMG_1094.jpg: [[0.5233, 0.605, 0.4441, 0.396]]\n",
            "Processing IMG_20191215_111608.jpg: [[0.4111, 0.713, 0.5381, 0.3856], [0.2157, 0.4319, 0.4315, 0.3275], [0.7576, 0.483, 0.4833, 0.3826]]\n",
            "Error processing IMG_20191215_111608.jpg: Expected x_min for bbox [-4.9993e-05     0.26815     0.43145     0.59565           2] to be in the range [0.0, 1.0], got -4.999339580535889e-05.\n",
            "Processing IMG_1136.jpg: [[0.4672, 0.3459, 0.1614, 0.1264], [0.4185, 0.2483, 0.138, 0.1065], [0.5145, 0.402, 0.1233, 0.0678], [0.6111, 0.4799, 0.1532, 0.1198], [0.4016, 0.596, 0.0666, 0.0493], [0.2769, 0.6048, 0.0639, 0.0463], [0.3486, 0.6342, 0.059, 0.0426], [0.2644, 0.6517, 0.0595, 0.0443], [0.2924, 0.5172, 0.0515, 0.0343], [0.3472, 0.4879, 0.0484, 0.041], [0.4435, 0.6742, 0.0404, 0.0313], [0.3916, 0.6459, 0.0475, 0.0333], [0.3246, 0.6649, 0.0493, 0.022], [0.691, 0.6442, 0.1429, 0.1039], [0.6533, 0.6015, 0.1048, 0.0709], [0.6318, 0.6817, 0.0937, 0.0722], [0.5856, 0.7411, 0.0733, 0.0519], [0.7072, 0.7679, 0.1176, 0.0842], [0.6795, 0.8257, 0.0764, 0.0586], [0.6038, 0.819, 0.0901, 0.0633], [0.778, 0.312, 0.0506, 0.0366], [0.9221, 0.5142, 0.0528, 0.0423], [0.917, 0.5547, 0.0559, 0.038], [0.9529, 0.4719, 0.0666, 0.0436], [0.9101, 0.4416, 0.0617, 0.0403], [0.9763, 0.5126, 0.0475, 0.0403], [0.8167, 0.5052, 0.055, 0.0443], [0.832, 0.5407, 0.0519, 0.0393], [0.8255, 0.5722, 0.0471, 0.0316], [0.7927, 0.4441, 0.055, 0.0406], [0.7612, 0.3714, 0.0444, 0.0296], [0.6999, 0.3634, 0.0444, 0.033], [0.7174, 0.3855, 0.0404, 0.028], [0.8182, 0.3559, 0.051, 0.0366], [0.6695, 0.3416, 0.0377, 0.0286], [0.7556, 0.4005, 0.0431, 0.03], [0.8357, 0.3872, 0.0453, 0.032], [0.8917, 0.6541, 0.0453, 0.0316], [0.8338, 0.4142, 0.0413, 0.026], [0.7203, 0.4093, 0.0373, 0.0223], [0.6868, 0.3885, 0.0386, 0.032], [0.9092, 0.4107, 0.0546, 0.0336], [0.3508, 0.5653, 0.0413, 0.03], [0.3161, 0.6096, 0.0377, 0.034]]\n",
            "Error processing IMG_1136.jpg: Expected x_max for bbox [    0.95255     0.49245           1     0.53275           5] to be in the range [0.0, 1.0], got 1.0000499486923218.\n",
            "Processing IMG_1141.jpg: [[0.8831, 0.4332, 0.2337, 0.1654], [0.8397, 0.6397, 0.2259, 0.152], [0.7566, 0.778, 0.17, 0.1421], [0.6813, 0.3348, 0.1809, 0.1316], [0.6188, 0.4431, 0.1662, 0.1141], [0.6172, 0.545, 0.1739, 0.1304], [0.5726, 0.6784, 0.1638, 0.1165], [0.5408, 0.5541, 0.1033, 0.1101], [0.5175, 0.6446, 0.1095, 0.0967], [0.4363, 0.686, 0.0994, 0.0699], [0.3859, 0.6315, 0.1211, 0.0809], [0.4212, 0.4711, 0.1266, 0.085], [0.4565, 0.3992, 0.1258, 0.1019], [0.3932, 0.5165, 0.1297, 0.092], [0.2849, 0.5241, 0.1134, 0.0897], [0.2077, 0.5654, 0.111, 0.0769], [0.2092, 0.3724, 0.1266, 0.0996], [0.1479, 0.4417, 0.1079, 0.0821], [0.1351, 0.5276, 0.1056, 0.0629]]\n",
            "Processing IMG_1004.jpg: [[0.1595, 0.5503, 0.2089, 0.1537], [0.3715, 0.4976, 0.2415, 0.1753], [0.4973, 0.4918, 0.1141, 0.1485], [0.6879, 0.4982, 0.2888, 0.2463], [0.5431, 0.6504, 0.2197, 0.1502], [0.5229, 0.7474, 0.1685, 0.1112], [0.373, 0.847, 0.1638, 0.1299], [0.3711, 0.7518, 0.1506, 0.092]]\n",
            "Processing IMG_20191215_111856.jpg: [[0.1112, 0.0354, 0.1386, 0.0707], [0.0667, 0.0976, 0.1333, 0.1122], [0.3377, 0.1286, 0.1316, 0.1079], [0.0472, 0.2002, 0.0943, 0.0834], [0.2268, 0.2284, 0.1345, 0.1083], [0.1165, 0.2834, 0.0943, 0.0734], [0.4423, 0.2885, 0.1147, 0.093], [0.6114, 0.2754, 0.1223, 0.0921], [0.5599, 0.3634, 0.0996, 0.0751], [0.4067, 0.4016, 0.0926, 0.0694], [0.5223, 0.4201, 0.0897, 0.0681], [0.3936, 0.4514, 0.085, 0.0563], [0.4874, 0.4784, 0.0734, 0.052], [0.4178, 0.502, 0.06, 0.0467], [0.046, 0.7455, 0.0419, 0.0332], [0.4979, 0.8713, 0.0804, 0.0681], [0.4339, 0.7686, 0.063, 0.0512], [0.4071, 0.7952, 0.0489, 0.037], [0.3758, 0.8158, 0.0603, 0.0466], [0.3657, 0.8598, 0.055, 0.0492], [0.4432, 0.9121, 0.0682, 0.0568], [0.4031, 0.9587, 0.0577, 0.0456], [0.448, 0.9755, 0.0709, 0.0482], [0.4846, 0.7812, 0.0321, 0.0281], [0.5154, 0.749, 0.0454, 0.035], [0.5713, 0.7858, 0.0586, 0.0472], [0.5405, 0.836, 0.0462, 0.0406], [0.6627, 0.9096, 0.0696, 0.0551], [0.69, 0.8178, 0.0634, 0.0512], [0.6323, 0.7192, 0.0564, 0.0443], [0.559, 0.741, 0.0559, 0.0409]]\n",
            "Processing IMG_1135.jpg: [[0.447, 0.0554, 0.0534, 0.0473], [0.4433, 0.1003, 0.046, 0.039], [0.3914, 0.1006, 0.0544, 0.0446], [0.3579, 0.0588, 0.0597, 0.0486], [0.2159, 0.0254, 0.0645, 0.0503], [0.2234, 0.0637, 0.0641, 0.0463], [0.2315, 0.0059, 0.0426, 0.0118], [0.4589, 0.5796, 0.0463, 0.0365], [0.4389, 0.5715, 0.0413, 0.0358], [0.4881, 0.5985, 0.045, 0.0345], [0.4704, 0.5621, 0.0311, 0.0248], [0.4867, 0.4781, 0.0298, 0.0222], [0.4993, 0.4939, 0.028, 0.0205], [0.4819, 0.4229, 0.0364, 0.0265], [0.5192, 0.4007, 0.0294, 0.021], [0.5452, 0.3942, 0.0342, 0.025], [0.7175, 0.2164, 0.036, 0.0263], [0.6346, 0.235, 0.0348, 0.028], [0.6968, 0.2379, 0.0327, 0.0253], [0.645, 0.2943, 0.0322, 0.0263], [0.6254, 0.2544, 0.0325, 0.0257], [0.6194, 0.2838, 0.0267, 0.0221], [0.6348, 0.3219, 0.033, 0.0259], [0.6626, 0.3267, 0.0307, 0.024], [0.6664, 0.268, 0.0282, 0.0221], [0.6845, 0.288, 0.0311, 0.0245], [0.6672, 0.2835, 0.018, 0.0128], [0.704, 0.2588, 0.0221, 0.0196], [0.6885, 0.2612, 0.0246, 0.0219], [0.8282, 0.0867, 0.0257, 0.0189], [0.8084, 0.0839, 0.0248, 0.0213], [0.8048, 0.0671, 0.0238, 0.0194], [0.8474, 0.0633, 0.023, 0.0207], [0.8544, 0.0326, 0.0228, 0.0206], [0.7946, 0.0161, 0.0196, 0.0166], [0.8631, 0.0732, 0.0198, 0.0151], [0.8998, 0.0538, 0.0188, 0.0158], [0.8856, 0.203, 0.0203, 0.0154], [0.8825, 0.2178, 0.0175, 0.0148], [0.874, 0.2223, 0.0186, 0.0148], [0.9288, 0.2471, 0.018, 0.014], [0.9019, 0.2497, 0.0192, 0.0141]]\n",
            "Processing IMG_20191215_111103.jpg: [[0.5054, 0.6149, 0.2586, 0.1948], [0.4089, 0.5068, 0.1929, 0.1477], [0.2739, 0.6238, 0.2198, 0.1705], [0.0175, 0.7385, 0.0339, 0.0771], [0.0486, 0.8224, 0.0962, 0.1128]]\n",
            "Processing IMG_1284.jpg: [[0.7904, 0.6519, 0.1072, 0.1112], [0.736, 0.7689, 0.1056, 0.1054], [0.5547, 0.7098, 0.1141, 0.1165], [0.5695, 0.7558, 0.0862, 0.0839], [0.5505, 0.4801, 0.205, 0.2009], [0.3843, 0.5704, 0.1615, 0.1613], [0.3668, 0.4082, 0.2104, 0.1747], [0.2182, 0.589, 0.1506, 0.1147], [0.177, 0.5162, 0.2283, 0.1904], [0.0671, 0.3989, 0.1328, 0.1642], [0.0524, 0.5043, 0.1033, 0.1165]]\n",
            "Processing IMG_20191215_111416.jpg: [[0.3732, 0.6121, 0.2614, 0.1576], [0.403, 0.546, 0.2742, 0.1983], [0.5642, 0.5929, 0.1552, 0.1339]]\n",
            "Processing IMG_20191215_112316.jpg: [[0.7036, 0.0274, 0.1902, 0.0542], [0.6624, 0.196, 0.1766, 0.1469], [0.6706, 0.2853, 0.1338, 0.0654], [0.4914, 0.37, 0.1189, 0.0941], [0.6259, 0.3897, 0.1299, 0.101], [0.7065, 0.4134, 0.1281, 0.0905], [0.5176, 0.4835, 0.1475, 0.1043], [0.6781, 0.4742, 0.1453, 0.0707], [0.3983, 0.5239, 0.1343, 0.1067], [0.5786, 0.5637, 0.1198, 0.0918], [0.6765, 0.5077, 0.1361, 0.0842], [0.6523, 0.5957, 0.114, 0.0826], [0.4975, 0.607, 0.1347, 0.1011], [0.564, 0.6322, 0.0696, 0.0499], [0.433, 0.6182, 0.0859, 0.0938], [0.5264, 0.7029, 0.1184, 0.0974], [0.4502, 0.7188, 0.0911, 0.0822], [0.3346, 0.7688, 0.0925, 0.0733], [0.4237, 0.7782, 0.0877, 0.0689], [0.5148, 0.8043, 0.1244, 0.093], [0.4275, 0.848, 0.1045, 0.0838], [0.3561, 0.8296, 0.0942, 0.0787], [0.2899, 0.864, 0.057, 0.0465], [0.2485, 0.9009, 0.0617, 0.0521], [0.0449, 0.8153, 0.0504, 0.0365], [0.0373, 0.8567, 0.0376, 0.0345], [0.0136, 0.8569, 0.0266, 0.0371], [0.0208, 0.729, 0.0417, 0.0423], [0.0285, 0.7511, 0.0437, 0.036], [0.0127, 0.7468, 0.0255, 0.0428], [0.0138, 0.6807, 0.0275, 0.0551], [0.0085, 0.8081, 0.0171, 0.0358], [0.1453, 0.1044, 0.0573, 0.0512], [0.1827, 0.1655, 0.0481, 0.0378], [0.1919, 0.1168, 0.0492, 0.0447], [0.1844, 0.2037, 0.0313, 0.023], [0.3062, 0.1936, 0.0443, 0.0354], [0.3505, 0.1855, 0.0484, 0.0363], [0.1386, 0.029, 0.0582, 0.0505], [0.0871, 0.0217, 0.0501, 0.0434], [0.3484, 0.2352, 0.0385, 0.0222], [0.1494, 0.1853, 0.0226, 0.0167]]\n",
            "Error processing IMG_20191215_112316.jpg: Expected x_min for bbox [-5.0001e-05     0.70785     0.04165     0.75015           4] to be in the range [0.0, 1.0], got -5.000084638595581e-05.\n",
            "Processing IMG_1102.jpg: [[0.5586, 0.5127, 0.3502, 0.2312], [0.3859, 0.5838, 0.264, 0.2021], [0.3692, 0.2842, 0.2182, 0.1957]]\n",
            "Processing IMG_1060.jpg: [[0.4037, 0.26, 0.1599, 0.1019], [0.5672, 0.5156, 0.2912, 0.2114], [0.111, 0.1499, 0.073, 0.0635]]\n",
            "Processing IMG_20191215_110901.jpg: [[0.3182, 0.5745, 0.2556, 0.1935], [0.4673, 0.72, 0.258, 0.1996], [0.7571, 0.2969, 0.0693, 0.0528]]\n",
            "Processing IMG_20191215_112500.jpg: [[0.9649, 0.4806, 0.0687, 0.0913], [0.4859, 0.3352, 0.2615, 0.1917], [0.6947, 0.464, 0.2982, 0.2214], [0.4548, 0.523, 0.1968, 0.1498], [0.6341, 0.6317, 0.2015, 0.155], [0.5229, 0.8084, 0.163, 0.1301], [0.3904, 0.8757, 0.1264, 0.0969]]\n",
            "Processing IMG_20191215_111419_1.jpg: [[0.7622, 0.1245, 0.1584, 0.1275], [0.6295, 0.1057, 0.1514, 0.1232], [0.6752, 0.1819, 0.0437, 0.0642], [0.5567, 0.207, 0.0827, 0.0681], [0.4906, 0.4968, 0.1718, 0.1288], [0.5471, 0.6003, 0.1776, 0.107], [0.2937, 0.2773, 0.0546, 0.0372], [0.2883, 0.3018, 0.0533, 0.0252], [0.3381, 0.2928, 0.0523, 0.0382]]\n",
            "Processing IMG_20191215_112604.jpg: [[0.7203, 0.2212, 0.1887, 0.1437], [0.5328, 0.3225, 0.163, 0.1367], [0.5672, 0.4439, 0.1724, 0.1271], [0.7448, 0.5175, 0.1502, 0.1127], [0.5975, 0.5258, 0.1386, 0.0943], [0.3881, 0.5418, 0.1031, 0.079], [0.3197, 0.5916, 0.0827, 0.059], [0.4848, 0.628, 0.1322, 0.0935], [0.3633, 0.6887, 0.0766, 0.0624], [0.4641, 0.7181, 0.1427, 0.1133], [0.3289, 0.7912, 0.0608, 0.0594], [0.3936, 0.763, 0.1295, 0.1073], [0.5284, 0.7779, 0.1242, 0.0934], [0.4447, 0.8596, 0.1215, 0.103], [0.3604, 0.8773, 0.0638, 0.0565], [0.398, 0.9321, 0.0608, 0.0492], [0.548, 0.8814, 0.1096, 0.0885]]\n",
            "Processing IMG_20191215_111533.jpg: [[0.7355, 0.0262, 0.1281, 0.0524], [0.5899, 0.0443, 0.0652, 0.0887], [0.9259, 0.014, 0.1456, 0.0279], [0.5891, 0.1946, 0.0562, 0.0475], [0.6598, 0.1979, 0.0436, 0.0494], [0.4208, 0.6289, 0.236, 0.1557], [0.2818, 0.6693, 0.1078, 0.052], [0.1975, 0.5812, 0.1691, 0.1439], [0.5243, 0.7075, 0.0896, 0.0592], [0.6732, 0.9114, 0.3114, 0.1762], [0.8818, 0.9649, 0.1648, 0.0687]]\n",
            "Error processing IMG_20191215_111533.jpg: Expected y_min for bbox [     0.5573 -4.9997e-05      0.6225     0.08865           2] to be in the range [0.0, 1.0], got -4.999712109565735e-05.\n",
            "Processing IMG_20191215_111430.jpg: [[0.1992, 0.2296, 0.1099, 0.109], [0.2367, 0.2677, 0.1514, 0.1177], [0.3149, 0.2869, 0.1114, 0.112], [0.7309, 0.3171, 0.1767, 0.1337], [0.5927, 0.3517, 0.1656, 0.1185], [0.4984, 0.6811, 0.1612, 0.1219], [0.6369, 0.672, 0.1202, 0.0951], [0.5704, 0.7488, 0.1105, 0.0882], [0.4863, 0.8877, 0.0955, 0.0806], [0.5372, 0.9189, 0.0819, 0.0703], [0.2439, 0.632, 0.0436, 0.0614], [0.251, 0.6846, 0.0779, 0.0652], [0.2963, 0.6859, 0.0373, 0.0395], [0.2604, 0.714, 0.0759, 0.0387], [0.0912, 0.5963, 0.0466, 0.0235], [0.1257, 0.6075, 0.0303, 0.022], [0.0931, 0.6126, 0.0396, 0.0192], [0.1102, 0.5787, 0.0226, 0.0297], [0.0761, 0.4865, 0.0476, 0.0412], [0.029, 0.347, 0.0473, 0.0322], [0.0688, 0.335, 0.0563, 0.0267]]\n",
            "Processing IMG_20191215_111740.jpg: [[0.3523, 0.5149, 0.2422, 0.1284], [0.3634, 0.3911, 0.2795, 0.2031], [0.5916, 0.4409, 0.2446, 0.176], [0.5477, 0.5789, 0.2358, 0.1542]]\n",
            "Processing IMG_20191215_111329.jpg: [[0.9716, 0.1758, 0.0553, 0.0965], [0.8519, 0.5202, 0.0932, 0.0611], [0.6502, 0.5522, 0.3185, 0.2197], [0.3782, 0.5178, 0.251, 0.1943], [0.7074, 0.8003, 0.1, 0.0763], [0.7756, 0.9347, 0.1167, 0.0829], [0.8104, 0.8456, 0.1202, 0.0921], [0.6655, 0.8664, 0.114, 0.0875], [0.5369, 0.143, 0.0675, 0.0677]]\n",
            "Processing IMG_20191215_110838.jpg: [[0.0916, 0.4438, 0.0484, 0.0669], [0.1391, 0.4459, 0.0608, 0.0734], [0.4998, 0.4127, 0.1338, 0.1855], [0.4104, 0.4814, 0.1823, 0.229], [0.2306, 0.7862, 0.0616, 0.0666], [0.2103, 0.7527, 0.0543, 0.0697]]\n",
            "Processing IMG_20191215_112643.jpg: [[0.6094, 0.2033, 0.2533, 0.2136], [0.2419, 0.3533, 0.3022, 0.2192], [0.3421, 0.5444, 0.2207, 0.1664], [0.5363, 0.5127, 0.177, 0.1371], [0.4686, 0.6598, 0.1838, 0.1409], [0.5502, 0.7622, 0.0481, 0.0349], [0.6266, 0.8473, 0.1048, 0.0843], [0.5362, 0.8454, 0.0972, 0.0866], [0.6459, 0.7865, 0.0886, 0.0699], [0.9406, 0.6158, 0.0491, 0.033], [0.9608, 0.6289, 0.0289, 0.0342], [0.9304, 0.6488, 0.0522, 0.0217], [0.4818, 0.7396, 0.042, 0.0247]]\n",
            "Processing IMG_20191215_111116.jpg: [[0.442, 0.2848, 0.1374, 0.1267], [0.522, 0.328, 0.1846, 0.1371], [0.1919, 0.5426, 0.1834, 0.1157], [0.2475, 0.6265, 0.2061, 0.1446], [0.1665, 0.6638, 0.0652, 0.0699], [0.2492, 0.732, 0.1607, 0.0943], [0.7906, 0.7016, 0.1202, 0.0829], [0.7254, 0.729, 0.1008, 0.0769], [0.8075, 0.7858, 0.1189, 0.0908], [0.7164, 0.8084, 0.1118, 0.0885]]\n",
            "Processing IMG_20191215_111737.jpg: [[0.9002, 0.5143, 0.198, 0.1297], [0.2728, 0.6529, 0.2545, 0.2131], [0.4312, 0.5867, 0.1951, 0.155]]\n",
            "Processing IMG_20191215_112738.jpg: [[0.6761, 0.335, 0.1759, 0.166], [0.6341, 0.442, 0.1433, 0.1284], [0.5113, 0.4667, 0.1922, 0.1751], [0.5896, 0.5479, 0.1625, 0.1306], [0.4315, 0.5898, 0.1817, 0.1568], [0.5057, 0.6575, 0.1438, 0.1349], [0.3133, 0.6638, 0.1526, 0.1564], [0.4286, 0.7518, 0.1421, 0.1253], [0.8975, 0.9195, 0.0467, 0.054], [0.9093, 0.9343, 0.0437, 0.0411], [0.8758, 0.956, 0.041, 0.0471], [0.9543, 0.9672, 0.0494, 0.0287], [0.0218, 0.8903, 0.0437, 0.0824], [0.0312, 0.787, 0.0624, 0.0795], [0.0151, 0.3996, 0.0302, 0.0313], [0.0067, 0.4129, 0.0126, 0.023], [0.1116, 0.463, 0.0502, 0.0365], [0.1087, 0.484, 0.0406, 0.0284], [0.0883, 0.4922, 0.0486, 0.0339], [0.0798, 0.5099, 0.0433, 0.0261], [0.0551, 0.5327, 0.0398, 0.0287], [0.0808, 0.5279, 0.0368, 0.0204], [0.067, 0.5502, 0.036, 0.0224], [0.1995, 0.5216, 0.059, 0.0474], [0.1482, 0.5258, 0.0651, 0.0511], [0.1914, 0.5562, 0.0322, 0.0419], [0.1539, 0.5575, 0.0582, 0.0405], [0.1185, 0.5759, 0.0509, 0.048], [0.1591, 0.5839, 0.0348, 0.029], [0.1309, 0.6027, 0.0498, 0.0368], [0.9744, 0.6453, 0.0493, 0.039], [0.9799, 0.6005, 0.0392, 0.0604], [0.3216, 0.096, 0.0446, 0.0427], [0.1824, 0.1005, 0.0406, 0.0422], [0.1518, 0.1634, 0.0306, 0.0242], [0.3556, 0.1462, 0.0413, 0.0402], [0.121, 0.2102, 0.0316, 0.0325], [0.2177, 0.1774, 0.032, 0.0432], [0.272, 0.1611, 0.0406, 0.0335], [0.177, 0.2146, 0.033, 0.0257], [0.1488, 0.222, 0.028, 0.029], [0.2614, 0.1896, 0.03, 0.0422], [0.3213, 0.1886, 0.0373, 0.0397], [0.3607, 0.1863, 0.0409, 0.0375], [0.1984, 0.2004, 0.036, 0.0287], [0.3227, 0.2158, 0.0302, 0.0306], [0.5639, 0.1482, 0.0327, 0.0362], [0.5351, 0.177, 0.032, 0.0327], [0.6082, 0.1605, 0.0383, 0.0355], [0.5773, 0.1761, 0.0312, 0.0319], [0.6319, 0.1307, 0.0312, 0.0321], [0.5498, 0.2013, 0.0302, 0.0298], [0.5267, 0.2078, 0.0227, 0.0232], [0.2015, 0.1777, 0.029, 0.0419], [0.7041, 0.1638, 0.0255, 0.025], [0.0597, 0.8145, 0.0367, 0.0279], [0.0711, 0.835, 0.035, 0.0285], [0.0556, 0.8397, 0.0257, 0.0266]]\n",
            "Error processing IMG_20191215_112738.jpg: Expected x_min for bbox [-4.9999e-05      0.8491     0.04365      0.9315           5] to be in the range [0.0, 1.0], got -4.999898374080658e-05.\n",
            "Processing IMG_1098.jpg: [[0.9169, 0.3978, 0.1603, 0.1105], [0.6551, 0.2226, 0.0945, 0.0709], [0.5458, 0.4341, 0.1139, 0.0871], [0.4227, 0.4338, 0.134, 0.0987], [0.4104, 0.6066, 0.0683, 0.049], [0.3652, 0.6144, 0.0625, 0.0528], [0.067, 0.3011, 0.0855, 0.0642], [0.0615, 0.2536, 0.0698, 0.0484]]\n",
            "Processing IMG_20191215_111942.jpg: [[0.38, 0.5143, 0.1042, 0.0939], [0.2615, 0.5215, 0.1409, 0.1057], [0.4507, 0.4771, 0.1444, 0.0991], [0.3273, 0.633, 0.1106, 0.0895], [0.216, 0.6287, 0.1537, 0.1157], [0.697, 0.6138, 0.1514, 0.1096], [0.6036, 0.632, 0.1042, 0.0812], [0.3666, 0.6673, 0.0507, 0.055], [0.3011, 0.7075, 0.113, 0.0786], [0.2475, 0.7147, 0.0606, 0.0624], [0.5954, 0.6785, 0.0961, 0.0528], [0.7084, 0.7038, 0.1194, 0.0843], [0.3439, 0.564, 0.11, 0.0616], [0.0536, 0.1345, 0.0629, 0.0472], [0.0288, 0.1812, 0.0576, 0.0445], [0.0873, 0.1753, 0.0547, 0.038], [0.0626, 0.2131, 0.0483, 0.0376], [0.0358, 0.3302, 0.0378, 0.028]]\n",
            "Processing IMG_1233.jpg: [[0.2161, 0.0507, 0.1292, 0.0999], [0.1492, 0.0569, 0.0944, 0.0946], [0.609, 0.1332, 0.1832, 0.159], [0.4584, 0.1856, 0.1744, 0.1413], [0.5752, 0.312, 0.2002, 0.159], [0.6028, 0.4872, 0.1885, 0.144], [0.4349, 0.4084, 0.2178, 0.1598], [0.4138, 0.5902, 0.1767, 0.1334], [0.5206, 0.7644, 0.1168, 0.1039], [0.4053, 0.7789, 0.1609, 0.1294]]\n",
            "Processing IMG_20191215_111422.jpg: [[0.198, 0.8739, 0.1817, 0.1397], [0.377, 0.3522, 0.2137, 0.1463], [0.0784, 0.2657, 0.0431, 0.032], [0.0306, 0.2637, 0.0559, 0.038], [0.0561, 0.352, 0.0559, 0.0443], [0.0203, 0.3913, 0.0379, 0.0383], [0.0619, 0.3821, 0.0374, 0.0231], [0.288, 0.4737, 0.2149, 0.1661], [0.5293, 0.5006, 0.0484, 0.0343], [0.151, 0.4463, 0.0793, 0.0697], [0.0973, 0.4326, 0.0527, 0.0406], [0.0722, 0.4508, 0.0593, 0.0408], [0.1048, 0.5026, 0.0492, 0.0376], [0.0633, 0.4061, 0.0194, 0.018], [0.0067, 0.2899, 0.0133, 0.0417], [0.0611, 0.5652, 0.0614, 0.0274], [0.055, 0.5968, 0.0851, 0.0593], [0.1531, 0.6182, 0.0492, 0.0439], [0.1718, 0.6738, 0.0483, 0.0374], [0.2653, 0.579, 0.075, 0.0475], [0.2571, 0.6156, 0.0764, 0.0508], [0.8344, 0.6392, 0.0735, 0.0512], [0.8171, 0.6765, 0.0767, 0.0484], [0.8949, 0.6725, 0.077, 0.0482]]\n",
            "Processing IMG_20191215_110506.jpg: [[0.6033, 0.5127, 0.1351, 0.1354], [0.58, 0.654, 0.2259, 0.197], [0.4341, 0.697, 0.1415, 0.1232], [0.2836, 0.6427, 0.2329, 0.1944]]\n",
            "Processing IMG_20191215_111059.jpg: [[0.4839, 0.2496, 0.0885, 0.0703], [0.4372, 0.2763, 0.0765, 0.0657], [0.0886, 0.3462, 0.0567, 0.052], [0.1248, 0.3801, 0.0704, 0.0479], [0.1787, 0.3653, 0.0608, 0.0433], [0.4682, 0.4287, 0.276, 0.1987], [0.3331, 0.5937, 0.3494, 0.2599], [0.5692, 0.6108, 0.2265, 0.2048], [0.9419, 0.23, 0.0958, 0.0924]]\n",
            "Processing IMG_1083.jpg: [[0.7283, 0.6138, 0.2764, 0.2015], [0.5109, 0.6341, 0.2205, 0.1793], [0.3063, 0.5843, 0.2228, 0.1601]]\n",
            "Processing IMG_20191215_110638.jpg: [[0.541, 0.5619, 0.2865, 0.1961], [0.5089, 0.7064, 0.2434, 0.1559], [0.357, 0.6612, 0.1619, 0.1345]]\n",
            "Processing IMG_20191215_112548.jpg: [[0.6578, 0.1255, 0.1259, 0.1044], [0.7879, 0.208, 0.2021, 0.1559], [0.6671, 0.353, 0.1356, 0.0984], [0.599, 0.4055, 0.1951, 0.1473], [0.7961, 0.4168, 0.1981, 0.1466], [0.5429, 0.5115, 0.1259, 0.1129], [0.6488, 0.5398, 0.1845, 0.1417], [0.6552, 0.6383, 0.1444, 0.0931], [0.5321, 0.6402, 0.0726, 0.0783], [0.5867, 0.661, 0.1229, 0.102], [0.5354, 0.6946, 0.0898, 0.0644], [0.671, 0.69, 0.0784, 0.0353], [0.5764, 0.7361, 0.0793, 0.0509], [0.6878, 0.7478, 0.0792, 0.069], [0.6299, 0.7708, 0.1079, 0.0885], [0.6424, 0.8314, 0.0696, 0.0466], [0.3401, 0.8456, 0.0462, 0.0472], [0.304, 0.8385, 0.0683, 0.0548], [0.3236, 0.7716, 0.0801, 0.0624], [0.2387, 0.6679, 0.1224, 0.0948], [0.2908, 0.6529, 0.0559, 0.0627], [0.2886, 0.7079, 0.0859, 0.0604], [0.2417, 0.5441, 0.1383, 0.0961], [0.3054, 0.5523, 0.0885, 0.0862], [0.1893, 0.4934, 0.1286, 0.0905]]\n",
            "Processing IMG_1036.jpg: [[0.6817, 0.4813, 0.3509, 0.2766], [0.3998, 0.5302, 0.2733, 0.2184]]\n",
            "Processing IMG_1271.jpg: [[0.7352, 0.5273, 0.3168, 0.1811], [0.6126, 0.4137, 0.2376, 0.1648], [0.7333, 0.2329, 0.184, 0.1351], [0.5625, 0.3098, 0.1933, 0.1514], [0.8276, 0.6769, 0.2655, 0.2172], [0.5718, 0.7768, 0.2322, 0.1619], [0.4682, 0.5351, 0.1553, 0.1491], [0.3808, 0.4035, 0.1405, 0.12], [0.2737, 0.479, 0.1374, 0.1101], [0.3214, 0.5785, 0.1693, 0.131], [0.217, 0.5788, 0.1001, 0.1106], [0.3459, 0.6865, 0.184, 0.1432], [0.4158, 0.7553, 0.1467, 0.1095], [0.5726, 0.6825, 0.1529, 0.0908]]\n",
            "Processing IMG_1071.jpg: [[0.538, 0.6161, 0.3261, 0.262]]\n",
            "Processing IMG_20191215_112838.jpg: [[0.3532, 0.2354, 0.1543, 0.1031], [0.4889, 0.3878, 0.1229, 0.0786], [0.479, 0.4651, 0.1392, 0.1188], [0.4292, 0.5125, 0.0955, 0.0834], [0.559, 0.5662, 0.1106, 0.1105], [0.46, 0.5813, 0.1095, 0.097], [0.492, 0.6186, 0.0594, 0.0432], [0.6123, 0.6407, 0.1112, 0.0996], [0.2087, 0.5753, 0.044, 0.0396], [0.2323, 0.581, 0.033, 0.0347]]\n",
            "Processing IMG_20191215_112853.jpg: [[0.191, 0.1096, 0.1572, 0.1354], [0.6132, 0.1705, 0.0536, 0.0529], [0.6047, 0.2022, 0.0437, 0.0533], [0.2743, 0.2295, 0.1584, 0.1096], [0.1735, 0.2548, 0.1234, 0.1131], [0.2559, 0.3422, 0.1566, 0.1184], [0.1488, 0.3282, 0.1007, 0.0913], [0.3121, 0.3645, 0.1002, 0.1052], [0.1246, 0.4051, 0.1095, 0.093], [0.2667, 0.4448, 0.0908, 0.0913], [0.1872, 0.5328, 0.1136, 0.0996], [0.3191, 0.5254, 0.1409, 0.1249], [0.3951, 0.5582, 0.0891, 0.1039], [0.4749, 0.3193, 0.1566, 0.1485], [0.4271, 0.4463, 0.1368, 0.131], [0.5835, 0.4453, 0.1549, 0.1376], [0.4868, 0.542, 0.1141, 0.1101], [0.5614, 0.5922, 0.106, 0.1039], [0.6871, 0.5387, 0.1351, 0.1192], [0.709, 0.6354, 0.1287, 0.1005], [0.6714, 0.6885, 0.0862, 0.059], [0.6941, 0.744, 0.064, 0.0616], [0.2347, 0.5957, 0.0501, 0.104], [0.068, 0.2262, 0.0321, 0.031], [0.0418, 0.2284, 0.0273, 0.0267], [0.0878, 0.1488, 0.0445, 0.0413], [0.1202, 0.1828, 0.0396, 0.0314], [0.0989, 0.2156, 0.0321, 0.0377], [0.0313, 0.2178, 0.0247, 0.0254]]\n",
            "Processing IMG_20191215_111441.jpg: [[0.1173, 0.0562, 0.0782, 0.0664], [0.1831, 0.0863, 0.0715, 0.0623], [0.0213, 0.1434, 0.0352, 0.0304], [0.0131, 0.2061, 0.0241, 0.0317], [0.0427, 0.2331, 0.0341, 0.0213], [0.1422, 0.2464, 0.0545, 0.0512], [0.1174, 0.2377, 0.0462, 0.0437], [0.253, 0.2187, 0.069, 0.0545], [0.2134, 0.2528, 0.0591, 0.0475], [0.0732, 0.3076, 0.0428, 0.0274], [0.0711, 0.3301, 0.0441, 0.0299], [0.0467, 0.3292, 0.0304, 0.0282], [0.1319, 0.3564, 0.0295, 0.0194], [0.2761, 0.3525, 0.0569, 0.042], [0.2657, 0.3881, 0.0651, 0.0505], [0.3156, 0.3876, 0.056, 0.0405], [0.4305, 0.4217, 0.1281, 0.0888], [0.401, 0.4942, 0.1204, 0.0798], [0.3092, 0.5031, 0.1053, 0.0741], [0.7034, 0.5448, 0.1526, 0.1073], [0.5769, 0.5808, 0.1543, 0.1146], [0.3759, 0.6146, 0.0495, 0.0337], [0.5433, 0.6564, 0.09, 0.0673]]\n",
            "Processing IMG_20191215_111121.jpg: [[0.2443, 0.3693, 0.1156, 0.0787], [0.0229, 0.7047, 0.0452, 0.0376], [0.0604, 0.6825, 0.0489, 0.0343], [0.2807, 0.6024, 0.119, 0.0914], [0.2545, 0.6503, 0.0903, 0.0634], [0.2797, 0.7949, 0.0776, 0.0582], [0.4173, 0.7978, 0.1688, 0.1307], [0.567, 0.8022, 0.1421, 0.1144], [0.4893, 0.8995, 0.1604, 0.134], [0.3363, 0.935, 0.0663, 0.0504], [0.8521, 0.1692, 0.201, 0.1502], [0.6842, 0.2882, 0.1101, 0.1409], [0.5733, 0.3009, 0.0424, 0.0936], [0.7836, 0.3021, 0.0732, 0.045], [0.317, 0.5969, 0.0757, 0.0921], [0.0449, 0.4573, 0.0633, 0.0417], [0.0586, 0.4312, 0.0426, 0.0375]]\n",
            "Processing IMG_1270.jpg: [[0.2497, 0.28, 0.1456, 0.111], [0.361, 0.3917, 0.1309, 0.0964], [0.5221, 0.4388, 0.1186, 0.0929], [0.6639, 0.4586, 0.1297, 0.0929], [0.6542, 0.3622, 0.1456, 0.1061], [0.3806, 0.4898, 0.0763, 0.0868], [0.2371, 0.3906, 0.1262, 0.0986], [0.1822, 0.4762, 0.108, 0.0947], [0.1279, 0.5579, 0.0828, 0.0784], [0.3175, 0.4945, 0.1203, 0.1066], [0.1948, 0.6012, 0.0605, 0.0709], [0.2612, 0.5953, 0.1074, 0.1092], [0.3618, 0.5834, 0.0975, 0.0863], [0.3604, 0.6997, 0.0851, 0.0713], [0.4467, 0.5997, 0.1145, 0.0925], [0.5007, 0.5046, 0.1168, 0.0872], [0.5077, 0.5563, 0.1039, 0.0674], [0.6169, 0.5616, 0.1086, 0.0867], [0.5917, 0.6649, 0.0981, 0.1004], [0.5248, 0.6314, 0.0828, 0.0687], [0.4916, 0.6851, 0.0975, 0.096], [0.4446, 0.6895, 0.0481, 0.0863], [0.7854, 0.4447, 0.0675, 0.0423], [0.8832, 0.4082, 0.1526, 0.1162], [0.8089, 0.5451, 0.138, 0.1048], [0.8978, 0.5656, 0.081, 0.0621], [0.872, 0.6281, 0.1315, 0.1105], [0.899, 0.6893, 0.0951, 0.0814]]\n",
            "Processing IMG_20191215_111746.jpg: [[0.2304, 0.4553, 0.0992, 0.0813], [0.1937, 0.5138, 0.0775, 0.0547], [0.2919, 0.5974, 0.1078, 0.1071], [0.4441, 0.5909, 0.0942, 0.0691], [0.3755, 0.6629, 0.1696, 0.1227], [0.5464, 0.6363, 0.1033, 0.09], [0.595, 0.8121, 0.0516, 0.0589]]\n",
            "Processing IMG_1198.jpg: [[0.3746, 0.4207, 0.1638, 0.1194], [0.6339, 0.4711, 0.1607, 0.1095], [0.6262, 0.5881, 0.1561, 0.1118], [0.5858, 0.7017, 0.1203, 0.1013], [0.3905, 0.5957, 0.1599, 0.1083], [0.4511, 0.7043, 0.1429, 0.1077]]\n",
            "Processing IMG_20191215_111613.jpg: [[0.0271, 0.7086, 0.0541, 0.107], [0.4126, 0.4225, 0.1101, 0.1105], [0.6563, 0.4765, 0.1945, 0.1293], [0.4691, 0.3127, 0.159, 0.1179], [0.518, 0.4125, 0.166, 0.1428], [0.6481, 0.3472, 0.1898, 0.1371]]\n",
            "Processing IMG_20191215_112918.jpg: [[0.7174, 0.2343, 0.1549, 0.162], [0.4236, 0.3756, 0.1834, 0.1747], [0.6117, 0.4184, 0.1415, 0.1363], [0.3875, 0.5341, 0.1613, 0.1563], [0.5762, 0.5985, 0.124, 0.1201], [0.4198, 0.6485, 0.1351, 0.1232], [0.5733, 0.7045, 0.0961, 0.1005], [0.4909, 0.766, 0.0967, 0.1092], [0.4225, 0.7162, 0.1077, 0.0803], [0.5168, 0.9263, 0.0565, 0.0419], [0.6009, 0.9573, 0.0524, 0.0419], [0.5081, 0.9654, 0.0541, 0.0406], [0.5605, 0.9807, 0.0542, 0.038]]\n",
            "Processing IMG_20191215_111547.jpg: [[0.3696, 0.5066, 0.2329, 0.1744], [0.454, 0.6403, 0.1788, 0.1711], [0.867, 0.6882, 0.0749, 0.0495], [0.8337, 0.413, 0.0938, 0.075], [0.7584, 0.406, 0.1, 0.0723], [0.778, 0.4618, 0.0872, 0.067]]\n",
            "Processing IMG_1014.jpg: [[0.4238, 0.363, 0.1732, 0.1017], [0.4068, 0.4667, 0.2436, 0.1612], [0.2741, 0.4209, 0.1297, 0.118], [0.2391, 0.8706, 0.1021, 0.0832], [0.1592, 0.9202, 0.1172, 0.0919]]\n",
            "Processing IMG_20191215_112352.jpg: [[0.2495, 0.0572, 0.1904, 0.1144], [0.0801, 0.0694, 0.1322, 0.131], [0.6598, 0.0729, 0.1537, 0.1459], [0.5238, 0.176, 0.0996, 0.0952], [0.4347, 0.2409, 0.1718, 0.1376], [0.6464, 0.2197, 0.1922, 0.145], [0.6877, 0.3511, 0.163, 0.1424], [0.4953, 0.4533, 0.1252, 0.0839], [0.5692, 0.4996, 0.1788, 0.1371], [0.6458, 0.521, 0.1281, 0.1118], [0.7194, 0.5623, 0.0786, 0.0659], [0.6915, 0.6106, 0.0635, 0.062], [0.5995, 0.6149, 0.1497, 0.0996], [0.7713, 0.6479, 0.0903, 0.0817], [0.6938, 0.6575, 0.1229, 0.0825], [0.5484, 0.6883, 0.1357, 0.1022], [0.4296, 0.6513, 0.1443, 0.1215], [0.3312, 0.724, 0.1397, 0.106], [0.3122, 0.7935, 0.1038, 0.0627], [0.4155, 0.7666, 0.1139, 0.0824], [0.3947, 0.8121, 0.0876, 0.0513], [0.6089, 0.7605, 0.1149, 0.0915], [0.5519, 0.7939, 0.0516, 0.0437], [0.5762, 0.814, 0.0467, 0.0284], [0.661, 0.7524, 0.0517, 0.0683], [0.6802, 0.8362, 0.0815, 0.0735], [0.6796, 0.742, 0.0306, 0.0356], [0.7051, 0.7908, 0.0578, 0.0477], [0.7309, 0.7241, 0.0812, 0.0635], [0.775, 0.7699, 0.1011, 0.0781], [0.7746, 0.802, 0.0919, 0.0362], [0.8218, 0.9823, 0.0668, 0.0346], [0.6344, 0.427, 0.026, 0.0322], [0.6905, 0.4521, 0.021, 0.0388], [0.444, 0.4161, 0.0364, 0.0253]]\n",
            "Error processing IMG_20191215_112352.jpg: Expected y_min for bbox [    0.58295 -5.0001e-05     0.73665     0.14585           5] to be in the range [0.0, 1.0], got -5.000084638595581e-05.\n",
            "Processing IMG_20191215_110747.jpg: [[0.0672, 0.5935, 0.1344, 0.1578], [0.434, 0.669, 0.0896, 0.1163], [0.7893, 0.5222, 0.129, 0.1532], [0.7254, 0.4472, 0.0969, 0.1419], [0.8294, 0.4275, 0.1065, 0.1358], [0.5693, 0.0535, 0.0772, 0.107], [0.4561, 0.1487, 0.1179, 0.1145], [0.4491, 0.2197, 0.1192, 0.1678], [0.5345, 0.2477, 0.0896, 0.1065]]\n",
            "Processing IMG_1225.jpg: [[0.724, 0.2099, 0.3238, 0.2696], [0.406, 0.3008, 0.2997, 0.23], [0.4328, 0.4807, 0.2089, 0.1462], [0.3827, 0.665, 0.2531, 0.2224], [0.3591, 0.8231, 0.2042, 0.152], [0.3253, 0.8941, 0.132, 0.0716]]\n",
            "Processing IMG_20191215_110649.jpg: [[0.4673, 0.5665, 0.2347, 0.1712], [0.2644, 0.637, 0.2411, 0.1847], [0.4763, 0.723, 0.2131, 0.1376]]\n",
            "Processing IMG_20191215_112031.jpg: [[0.5191, 0.3544, 0.1485, 0.1105], [0.5057, 0.4512, 0.131, 0.0935], [0.3153, 0.5243, 0.1531, 0.107], [0.534, 0.5601, 0.1374, 0.0991], [0.3409, 0.6549, 0.1508, 0.1035], [0.1651, 0.7621, 0.0507, 0.0358], [0.1869, 0.7885, 0.0396, 0.0293], [0.2373, 0.7713, 0.039, 0.0332], [0.2553, 0.8112, 0.046, 0.0398], [0.3424, 0.8001, 0.0326, 0.0262], [0.3607, 0.7929, 0.025, 0.0214], [0.4015, 0.7182, 0.1019, 0.0747], [0.5025, 0.7018, 0.1025, 0.0821], [0.5552, 0.6331, 0.124, 0.0878]]\n",
            "Processing IMG_20191215_111017.jpg: [[0.6254, 0.4099, 0.2085, 0.1664], [0.7034, 0.5113, 0.1875, 0.1168], [0.5581, 0.6823, 0.0515, 0.0416], [0.2869, 0.8225, 0.1801, 0.1483], [0.0643, 0.8645, 0.0732, 0.0534], [0.1259, 0.8325, 0.0626, 0.0499], [0.107, 0.8795, 0.0689, 0.0499], [0.0756, 0.9391, 0.0932, 0.0719], [0.7836, 0.3089, 0.0289, 0.0209]]\n",
            "Processing IMG_20191215_112407.jpg: [[0.587, 0.2031, 0.1526, 0.1223], [0.6682, 0.1002, 0.067, 0.0729], [0.7561, 0.1094, 0.074, 0.0686], [0.8927, 0.1535, 0.0734, 0.052], [0.8822, 0.231, 0.0687, 0.0472], [0.9433, 0.2369, 0.0617, 0.0467], [0.7375, 0.3171, 0.159, 0.1179], [0.5829, 0.3516, 0.1165, 0.0978], [0.6429, 0.4756, 0.0675, 0.0463], [0.5447, 0.5064, 0.0751, 0.0581], [0.6336, 0.5942, 0.0792, 0.0563], [0.5098, 0.7595, 0.1764, 0.1284], [0.4146, 0.8285, 0.2131, 0.1677], [0.2038, 0.6392, 0.1805, 0.1384], [0.3112, 0.789, 0.0646, 0.0598], [0.3159, 0.8505, 0.0891, 0.1105]]\n",
            "Processing IMG_1168.jpg: [[0.4443, 0.3875, 0.1121, 0.0775], [0.4138, 0.4681, 0.0675, 0.0652], [0.3284, 0.4903, 0.1057, 0.0814], [0.6742, 0.5585, 0.1162, 0.0973], [0.5477, 0.6193, 0.091, 0.0788], [0.6137, 0.7098, 0.0963, 0.0801], [0.5532, 0.7395, 0.0822, 0.0612], [0.5978, 0.8106, 0.0869, 0.0766], [0.511, 0.8093, 0.0798, 0.0652]]\n",
            "Processing IMG_1126.jpg: [[0.1605, 0.6719, 0.1386, 0.0978], [0.1446, 0.601, 0.1374, 0.0845], [0.1012, 0.5312, 0.1162, 0.0762], [0.2209, 0.4518, 0.1174, 0.0881], [0.2976, 0.509, 0.1274, 0.0907], [0.4176, 0.4205, 0.1491, 0.1066], [0.3378, 0.5759, 0.135, 0.1048], [0.2981, 0.642, 0.0945, 0.0652], [0.2682, 0.6875, 0.0922, 0.0586], [0.233, 0.5795, 0.0992, 0.0845], [0.3351, 0.736, 0.1051, 0.0841], [0.442, 0.5713, 0.0863, 0.0797], [0.3924, 0.642, 0.0798, 0.0687], [0.4746, 0.6367, 0.0775, 0.0713], [0.4978, 0.4667, 0.1168, 0.0881], [0.5403, 0.5552, 0.0916, 0.0713], [0.5538, 0.6316, 0.108, 0.085], [0.6457, 0.7038, 0.1016, 0.0779], [0.5347, 0.7241, 0.0793, 0.063], [0.5506, 0.7699, 0.0581, 0.0436], [0.7496, 0.7137, 0.0652, 0.0467], [0.6856, 0.6114, 0.0828, 0.0647], [0.6422, 0.4903, 0.0804, 0.0577], [0.6498, 0.4126, 0.0487, 0.0361], [0.707, 0.3005, 0.0669, 0.048], [0.6563, 0.336, 0.0851, 0.0669], [0.6642, 0.2327, 0.0716, 0.0454], [0.5876, 0.2514, 0.1051, 0.081], [0.5893, 0.2992, 0.0887, 0.0533]]\n",
            "Processing IMG_20191215_111733.jpg: [[0.3683, 0.3573, 0.1008, 0.07], [0.4363, 0.3865, 0.0749, 0.0393], [0.4632, 0.4542, 0.1805, 0.1364], [0.5334, 0.4724, 0.1, 0.102], [0.3941, 0.6639, 0.0581, 0.0466], [0.2789, 0.9375, 0.129, 0.0905], [0.4082, 0.9697, 0.1691, 0.0598], [0.4284, 0.197, 0.0511, 0.038]]\n",
            "Processing IMG_20191215_111256.jpg: [[0.6219, 0.3614, 0.2842, 0.1751], [0.4746, 0.4594, 0.2679, 0.1922], [0.839, 0.4767, 0.1096, 0.0677], [0.922, 0.4542, 0.0916, 0.0756], [0.8038, 0.2551, 0.0885, 0.0585], [0.7397, 0.2378, 0.052, 0.041], [0.8714, 0.2452, 0.059, 0.0485], [0.7507, 0.2718, 0.0458, 0.0376], [0.5057, 0.8309, 0.1167, 0.0997], [0.4176, 0.8624, 0.1396, 0.1186], [0.0476, 0.588, 0.0693, 0.0559], [0.0814, 0.6043, 0.0802, 0.0574], [0.0954, 0.6105, 0.0643, 0.0459], [0.0296, 0.631, 0.0593, 0.0574], [0.0431, 0.4265, 0.0862, 0.0769], [0.0256, 0.4934, 0.0513, 0.0315], [0.0822, 0.506, 0.0373, 0.0312], [0.3659, 0.3408, 0.0405, 0.0332], [0.3671, 0.3723, 0.0434, 0.0297], [0.4004, 0.355, 0.0382, 0.0426]]\n",
            "Error processing IMG_20191215_111256.jpg: Expected x_min for bbox [-5.0001e-05      0.6023     0.05925      0.6597           1] to be in the range [0.0, 1.0], got -5.000084638595581e-05.\n",
            "Processing IMG_20191215_111610.jpg: [[0.3439, 0.5793, 0.2952, 0.2328], [0.5651, 0.5267, 0.2032, 0.1686], [0.543, 0.68, 0.2102, 0.1415]]\n",
            "Processing IMG_20191215_111928.jpg: [[0.1933, 0.7133, 0.0423, 0.0312], [0.2151, 0.7368, 0.0366, 0.0312], [0.2607, 0.708, 0.0599, 0.0507], [0.3233, 0.7078, 0.0659, 0.0572], [0.3576, 0.6665, 0.0759, 0.0574], [0.2434, 0.666, 0.0779, 0.0499], [0.2577, 0.6143, 0.0872, 0.0599], [0.3919, 0.598, 0.0826, 0.0589], [0.2793, 0.5468, 0.0899, 0.0669], [0.4085, 0.5144, 0.0826, 0.0614], [0.6998, 0.8375, 0.0992, 0.0799], [0.7807, 0.7878, 0.1152, 0.0939], [0.6389, 0.7731, 0.1019, 0.0829], [0.7801, 0.729, 0.0499, 0.0292], [0.6023, 0.6881, 0.1026, 0.0737], [0.7736, 0.6545, 0.1515, 0.1238], [0.5825, 0.5954, 0.1348, 0.0991], [0.5107, 0.5637, 0.0852, 0.0672], [0.8437, 0.5537, 0.1498, 0.1061], [0.8853, 0.4111, 0.2284, 0.1536], [0.568, 0.4563, 0.1758, 0.1206], [0.6614, 0.2792, 0.1768, 0.1493], [0.2659, 0.2837, 0.0449, 0.0306], [0.2594, 0.2494, 0.0423, 0.0363], [0.275, 0.2056, 0.0382, 0.0417], [0.2623, 0.1931, 0.0533, 0.0423], [0.2749, 0.1552, 0.0489, 0.0491], [0.241, 0.1095, 0.0628, 0.0497], [0.359, 0.1766, 0.0475, 0.0454], [0.3758, 0.2377, 0.0475, 0.0337], [0.3429, 0.2627, 0.0408, 0.0291], [0.3872, 0.2688, 0.042, 0.0304], [0.396, 0.2981, 0.0249, 0.0213], [0.3778, 0.3116, 0.0324, 0.0256], [0.3382, 0.2207, 0.0434, 0.0384], [0.2785, 0.2499, 0.0162, 0.0256], [0.542, 0.6265, 0.074, 0.0575], [0.8203, 0.5173, 0.192, 0.0915], [0.7358, 0.4894, 0.1321, 0.0978], [0.322, 0.3156, 0.026, 0.0298], [0.228, 0.4979, 0.0275, 0.0217], [0.2648, 0.4778, 0.0235, 0.0211], [0.3422, 0.468, 0.0237, 0.0189], [0.8525, 0.6606, 0.0408, 0.0537], [0.9305, 0.5073, 0.0606, 0.0703]]\n",
            "Processing IMG_1012.jpg: [[0.3386, 0.3727, 0.0955, 0.0953], [0.284, 0.121, 0.1496, 0.134], [0.3317, 0.2334, 0.1205, 0.1114], [0.2645, 0.2329, 0.0759, 0.0917], [0.2477, 0.3476, 0.2239, 0.1491], [0.1699, 0.4055, 0.1532, 0.0953]]\n",
            "Processing IMG_20191215_112424.jpg: [[0.9387, 0.1996, 0.1211, 0.1686], [0.8135, 0.2112, 0.1572, 0.1323], [0.6044, 0.2136, 0.0943, 0.0437], [0.635, 0.3227, 0.265, 0.2061], [0.564, 0.4156, 0.145, 0.0991], [0.7558, 0.4228, 0.1258, 0.0978], [0.8933, 0.4313, 0.1724, 0.1219], [0.6309, 0.4909, 0.159, 0.1153], [0.8528, 0.5359, 0.1392, 0.0978], [0.7369, 0.547, 0.1019, 0.0773], [0.7922, 0.6258, 0.0786, 0.0585], [0.7384, 0.6289, 0.0501, 0.0428], [0.5889, 0.7933, 0.095, 0.0669], [0.5701, 0.7307, 0.121, 0.091], [0.4497, 0.794, 0.0616, 0.0488], [0.4462, 0.687, 0.0992, 0.0732], [0.578, 0.5697, 0.1068, 0.0993], [0.4623, 0.5819, 0.175, 0.1335], [0.2805, 0.548, 0.1773, 0.1335], [0.3689, 0.5756, 0.0662, 0.0795], [0.1958, 0.598, 0.1099, 0.0824], [0.2424, 0.6662, 0.1049, 0.0844], [0.2738, 0.6398, 0.0888, 0.0678], [0.3251, 0.6784, 0.0406, 0.0353], [0.3605, 0.6984, 0.0701, 0.0546], [0.2919, 0.7221, 0.0823, 0.06], [0.312, 0.7458, 0.0651, 0.0442], [0.0364, 0.5481, 0.0728, 0.0577], [0.0437, 0.599, 0.0804, 0.0537], [0.4199, 0.3996, 0.0804, 0.0576], [0.4667, 0.433, 0.06, 0.0476], [0.6932, 0.61, 0.0182, 0.0151]]\n",
            "Processing IMG_1193.jpg: [[0.5458, 0.5322, 0.2857, 0.2061]]\n",
            "Processing IMG_1195.jpg: [[0.623, 0.377, 0.1452, 0.0949], [0.4658, 0.2574, 0.1444, 0.1025], [0.2694, 0.4079, 0.1258, 0.0972], [0.5675, 0.4921, 0.1087, 0.0641], [0.4879, 0.5724, 0.1002, 0.0815], [0.3839, 0.4673, 0.0986, 0.067], [0.3393, 0.5063, 0.1103, 0.074], [0.2865, 0.5922, 0.1366, 0.1025], [0.2147, 0.6775, 0.1126, 0.0938], [0.144, 0.7154, 0.0986, 0.074]]\n",
            "Processing IMG_20191215_111417.jpg: [[0.0321, 0.1796, 0.0643, 0.0436], [0.0711, 0.2188, 0.0409, 0.0261], [0.2607, 0.1844, 0.1752, 0.1318], [0.2776, 0.2757, 0.1713, 0.1083], [0.3751, 0.2492, 0.1162, 0.0783], [0.4388, 0.3013, 0.1299, 0.0888], [0.2025, 0.8205, 0.1259, 0.1126], [0.7992, 0.7642, 0.2325, 0.1737], [0.577, 0.7399, 0.2127, 0.1529], [0.6807, 0.8492, 0.221, 0.145], [0.0107, 0.76, 0.0214, 0.037]]\n",
            "Error processing IMG_20191215_111417.jpg: Expected x_min for bbox [-5.0001e-05      0.1578     0.06425      0.2014           2] to be in the range [0.0, 1.0], got -5.000084638595581e-05.\n",
            "Processing IMG_20191215_111657.jpg: [[0.4874, 0.5121, 0.3016, 0.231], [0.4868, 0.6872, 0.2224, 0.1446], [0.235, 0.6739, 0.3278, 0.2481]]\n",
            "Processing IMG_20191215_112553.jpg: [[0.0894, 0.0371, 0.1788, 0.0742], [0.189, 0.062, 0.145, 0.097], [0.3165, 0.0718, 0.1124, 0.0712], [0.2894, 0.1288, 0.1712, 0.1441], [0.3054, 0.2496, 0.1322, 0.0983], [0.1735, 0.2898, 0.1118, 0.0843], [0.2687, 0.3358, 0.0926, 0.0707], [0.4696, 0.5702, 0.131, 0.0939], [0.3171, 0.6112, 0.2044, 0.1489], [0.6397, 0.6285, 0.1299, 0.1109], [0.6341, 0.699, 0.0606, 0.0415], [0.4955, 0.6817, 0.1887, 0.1572], [0.4912, 0.8401, 0.23, 0.1812]]\n",
            "Processing IMG_20191215_112310.jpg: [[0.5806, 0.0729, 0.2504, 0.145], [0.2419, 0.2428, 0.2452, 0.1965], [0.2775, 0.5184, 0.3115, 0.2271], [0.5203, 0.6139, 0.1926, 0.1586], [0.2935, 0.7052, 0.1836, 0.1344], [0.463, 0.7404, 0.1554, 0.1195], [0.5, 0.8248, 0.1334, 0.108], [0.3536, 0.8357, 0.162, 0.1298], [0.3851, 0.9278, 0.1158, 0.0968], [0.4954, 0.9004, 0.111, 0.0783], [0.1004, 0.9588, 0.1198, 0.0816], [0.0487, 0.9136, 0.0955, 0.1245], [0.0749, 0.7871, 0.1488, 0.1119], [0.1206, 0.8353, 0.133, 0.0994], [0.1629, 0.8845, 0.1074, 0.0829], [0.0194, 0.6696, 0.0379, 0.0816], [0.7701, 0.6861, 0.0784, 0.0558], [0.7168, 0.7219, 0.0907, 0.066]]\n",
            "Processing IMG_20191215_110904.jpg: [[0.5593, 0.2939, 0.2626, 0.2096], [0.3599, 0.3304, 0.1933, 0.1577], [0.4005, 0.7278, 0.1493, 0.1209], [0.5198, 0.7894, 0.1572, 0.1113]]\n",
            "Processing IMG_20191215_111548.jpg: [[0.2024, 0.0734, 0.4, 0.1467], [0.3532, 0.426, 0.2684, 0.1882], [0.4926, 0.613, 0.318, 0.2249], [0.8205, 0.6348, 0.3575, 0.2494], [0.9078, 0.5276, 0.1817, 0.1074], [0.545, 0.7794, 0.1106, 0.0686], [0.4405, 0.8438, 0.0833, 0.0908], [0.6954, 0.5171, 0.1748, 0.0909]]\n",
            "Processing IMG_20191215_111241.jpg: [[0.3254, 0.2526, 0.0643, 0.0456], [0.2118, 0.2546, 0.0757, 0.066], [0.1594, 0.2766, 0.0731, 0.0538], [0.2065, 0.3032, 0.0599, 0.0442], [0.2284, 0.4392, 0.0594, 0.0416], [0.1943, 0.4704, 0.0655, 0.0546], [0.2795, 0.4727, 0.0789, 0.0551], [0.3107, 0.4293, 0.0662, 0.0471], [0.1951, 0.5732, 0.0509, 0.0333], [0.1995, 0.5999, 0.0505, 0.0322], [0.5881, 0.5917, 0.0743, 0.0525], [0.6071, 0.63, 0.0494, 0.0333], [0.5473, 0.6381, 0.0915, 0.0741], [0.612, 0.685, 0.0877, 0.0841], [0.93, 0.8379, 0.0927, 0.0695], [0.966, 0.8945, 0.0674, 0.0569], [0.877, 0.2882, 0.1246, 0.0935], [0.6882, 0.1569, 0.0525, 0.0457], [0.6748, 0.219, 0.0256, 0.0181], [0.6522, 0.1813, 0.0578, 0.0474], [0.0109, 0.4587, 0.0218, 0.025]]\n",
            "Processing IMG_1186.jpg: [[0.9616, 0.1156, 0.0769, 0.1275], [0.9736, 0.4164, 0.0528, 0.0873], [0.8676, 0.2364, 0.0877, 0.0652], [0.8036, 0.3683, 0.104, 0.0763], [0.6452, 0.5995, 0.2888, 0.2172], [0.4876, 0.3968, 0.1941, 0.1357], [0.2772, 0.7532, 0.1491, 0.1205], [0.1067, 0.4233, 0.212, 0.1689], [0.184, 0.5232, 0.1475, 0.1042], [0.0838, 0.5712, 0.1662, 0.1409], [0.0796, 0.973, 0.1576, 0.0524], [0.0656, 0.863, 0.1126, 0.1036], [0.4371, 0.525, 0.0978, 0.0774]]\n",
            "Error processing IMG_1186.jpg: Expected x_max for bbox [    0.92315     0.05185           1     0.17935           5] to be in the range [0.0, 1.0], got 1.0000499486923218.\n",
            "Processing IMG_20191215_111650.jpg: [[0.718, 0.2332, 0.1432, 0.0777], [0.7777, 0.3199, 0.1124, 0.1018], [0.5912, 0.5769, 0.1079, 0.0722], [0.3998, 0.6597, 0.1443, 0.1124]]\n",
            "Processing IMG_20191215_110853.jpg: [[0.2429, 0.5483, 0.3262, 0.2333], [0.4681, 0.6392, 0.3111, 0.2457], [0.7088, 0.5957, 0.241, 0.1644], [0.2569, 0.9646, 0.2275, 0.0695]]\n",
            "Processing IMG_20191215_110831.jpg: [[0.3638, 0.4553, 0.2064, 0.1525], [0.5442, 0.4706, 0.1891, 0.1356], [0.4116, 0.7084, 0.1469, 0.1096]]\n",
            "Processing IMG_1197.jpg: [[0.6234, 0.5203, 0.1615, 0.1171], [0.4441, 0.5471, 0.146, 0.1031], [0.6289, 0.6405, 0.1444, 0.1095], [0.4825, 0.6452, 0.1079, 0.0757], [0.5605, 0.7072, 0.1087, 0.0798]]\n",
            "Processing IMG_20191215_111228.jpg: [[0.6688, 0.1679, 0.3139, 0.2188], [0.7582, 0.3727, 0.3436, 0.2136], [0.2946, 0.3205, 0.1482, 0.0678], [0.2701, 0.403, 0.2378, 0.1789], [0.4351, 0.4059, 0.1262, 0.1157], [0.3299, 0.4986, 0.1919, 0.1157], [0.3845, 0.7059, 0.1071, 0.0851], [0.2468, 0.6742, 0.1074, 0.0699], [0.1875, 0.7291, 0.1091, 0.0786], [0.2464, 0.6491, 0.1088, 0.0519]]\n",
            "Processing IMG_20191215_111108.jpg: [[0.3351, 0.4341, 0.3162, 0.2664], [0.5439, 0.4549, 0.1654, 0.1594], [0.9527, 0.6134, 0.0932, 0.1149], [0.1916, 0.6413, 0.1281, 0.0939], [0.0961, 0.6883, 0.1165, 0.0847]]\n",
            "Processing IMG_1151.jpg: [[0.6397, 0.5672, 0.3106, 0.2283], [0.4092, 0.6941, 0.2904, 0.2189], [0.3288, 0.4833, 0.2772, 0.212], [0.2962, 0.3206, 0.2368, 0.1788]]\n",
            "Processing IMG_20191215_110524.jpg: [[0.1761, 0.5016, 0.0784, 0.0495], [0.393, 0.5588, 0.1889, 0.1295], [0.3591, 0.6027, 0.1554, 0.0905], [0.3525, 0.4775, 0.0603, 0.0429], [0.4234, 0.4833, 0.0726, 0.0499], [0.8681, 0.6379, 0.0709, 0.0426], [0.9524, 0.585, 0.0942, 0.0512], [0.5596, 0.5337, 0.0632, 0.0508], [0.5119, 0.516, 0.0337, 0.0385], [0.8929, 0.5242, 0.0689, 0.0531]]\n",
            "Augmented data saved to /content/dataset_augmented/train/images and /content/dataset_augmented/train/labels.\n",
            "Processing IMG_20191215_111328.jpg: [[0.391, 0.6593, 0.3686, 0.3044], [0.3604, 0.8433, 0.1398, 0.1109], [0.5177, 0.4885, 0.2609, 0.1882], [0.6379, 0.659, 0.2615, 0.1983], [0.2085, 0.5747, 0.0731, 0.0623], [0.1539, 0.5624, 0.0727, 0.0548], [0.1226, 0.2475, 0.1202, 0.0882], [0.042, 0.2143, 0.0841, 0.0832], [0.1308, 0.1615, 0.1576, 0.1037], [0.081, 0.094, 0.0669, 0.0585], [0.1229, 0.3501, 0.0593, 0.0375], [0.0186, 0.3508, 0.036, 0.0374]]\n",
            "Error processing IMG_20191215_111328.jpg: Expected x_min for bbox [-5.0001e-05      0.1727     0.08405      0.2559           1] to be in the range [0.0, 1.0], got -5.000084638595581e-05.\n",
            "Processing IMG_1128.jpg: [[0.9554, 0.4635, 0.0877, 0.099], [0.9441, 0.58, 0.1118, 0.092], [0.9119, 0.6426, 0.1141, 0.0705], [0.972, 0.7113, 0.0559, 0.067], [0.2449, 0.3476, 0.1623, 0.1339], [0.3742, 0.4862, 0.1894, 0.1409], [0.2682, 0.4827, 0.0877, 0.1025], [0.3773, 0.5643, 0.1304, 0.0675], [0.441, 0.6373, 0.1693, 0.1275], [0.3734, 0.6979, 0.104, 0.074], [0.7259, 0.4527, 0.1584, 0.1112], [0.7127, 0.575, 0.1568, 0.1147], [0.5784, 0.4845, 0.1693, 0.1223]]\n",
            "Processing IMG_20191215_112843.jpg: [[0.4886, 0.5066, 0.1036, 0.1057], [0.5576, 0.5907, 0.1042, 0.1035], [0.4527, 0.6062, 0.1077, 0.1057], [0.3022, 0.5531, 0.1211, 0.1053], [0.3567, 0.6457, 0.1252, 0.1201], [0.5745, 0.6555, 0.0972, 0.0734], [0.6315, 0.6379, 0.053, 0.0546], [0.6365, 0.7003, 0.0839, 0.0756], [0.7017, 0.6499, 0.0594, 0.0454], [0.6806, 0.7178, 0.0318, 0.0365], [0.7016, 0.6876, 0.0425, 0.0479], [0.7269, 0.6686, 0.0333, 0.0273], [0.7541, 0.6552, 0.0486, 0.0462], [0.7545, 0.6138, 0.0678, 0.0428], [0.0421, 0.2596, 0.0467, 0.0494], [0.0197, 0.2986, 0.0387, 0.0597]]\n",
            "Processing IMG_1103.jpg: [[0.4142, 0.5841, 0.3315, 0.2399]]\n",
            "Processing IMG_20191215_111937.jpg: [[0.7378, 0.1024, 0.2085, 0.1681], [0.2874, 0.1815, 0.2277, 0.1734], [0.6056, 0.4007, 0.1724, 0.1411], [0.3188, 0.575, 0.1601, 0.1297], [0.2705, 0.6309, 0.1496, 0.1009], [0.4245, 0.6123, 0.1211, 0.0952], [0.2763, 0.7051, 0.1124, 0.0773], [0.4117, 0.6988, 0.1165, 0.0969], [0.5538, 0.6304, 0.1491, 0.114], [0.6868, 0.6007, 0.1357, 0.093], [0.7046, 0.6623, 0.1048, 0.0616], [0.635, 0.7069, 0.0972, 0.0799], [0.5669, 0.7291, 0.1112, 0.0895]]\n",
            "Processing IMG_1046.jpg: [[0.5298, 0.434, 0.1256, 0.0969], [0.6664, 0.5432, 0.0697, 0.0456]]\n",
            "Processing IMG_20191215_111502.jpg: [[0.6717, 0.5459, 0.223, 0.166], [0.4463, 0.5016, 0.2661, 0.2127], [0.4559, 0.6562, 0.1421, 0.1166], [0.3293, 0.6638, 0.131, 0.1031]]\n",
            "Processing IMG_1024.jpg: [[0.1758, 0.3567, 0.3455, 0.2533], [0.4872, 0.2661, 0.4791, 0.3948]]\n",
            "Processing IMG_1114.jpg: [[0.3839, 0.0122, 0.0926, 0.0243], [0.3756, 0.0434, 0.0799, 0.0608], [0.5184, 0.3939, 0.1293, 0.0935], [0.5464, 0.5556, 0.1197, 0.0811], [0.4937, 0.5053, 0.1339, 0.097], [0.3501, 0.5315, 0.1448, 0.11], [0.3584, 0.6405, 0.149, 0.1091], [0.3216, 0.7355, 0.1478, 0.119]]\n",
            "Processing IMG_1048.jpg: [[0.5622, 0.4775, 0.1843, 0.1398], [0.576, 0.5486, 0.1823, 0.1129], [0.3893, 0.4446, 0.1776, 0.1489], [0.3974, 0.5403, 0.1924, 0.1175], [0.6817, 0.8299, 0.0966, 0.0901]]\n",
            "Processing IMG_20191215_112445.jpg: [[0.5856, 0.3955, 0.2122, 0.1606], [0.4048, 0.4918, 0.2122, 0.1557], [0.3552, 0.6437, 0.2132, 0.1595], [0.5838, 0.5698, 0.2056, 0.1523], [0.5099, 0.7039, 0.1853, 0.1492], [0.6109, 0.7364, 0.0603, 0.063], [0.5762, 0.8069, 0.0743, 0.054], [0.4708, 0.7954, 0.103, 0.0683], [0.426, 0.791, 0.0525, 0.0698], [0.4641, 0.8671, 0.0904, 0.0704], [0.4794, 0.8188, 0.0789, 0.0382]]\n",
            "Processing IMG_1299.jpg: [[0.6363, 0.2676, 0.0505, 0.0337], [0.61, 0.5113, 0.0796, 0.0639], [0.6419, 0.5617, 0.074, 0.0597], [0.5002, 0.5806, 0.0827, 0.0708], [0.5298, 0.5849, 0.0562, 0.0655], [0.5541, 0.6124, 0.071, 0.0578], [0.6631, 0.6097, 0.0623, 0.0532], [0.6541, 0.6427, 0.0628, 0.0448], [0.5885, 0.6365, 0.0613, 0.0517], [0.6197, 0.6603, 0.0429, 0.0402]]\n",
            "Processing IMG_20191215_112519.jpg: [[0.5206, 0.0972, 0.2026, 0.1664], [0.3514, 0.2356, 0.2929, 0.2826], [0.4452, 0.3444, 0.1916, 0.1472], [0.3945, 0.5459, 0.2242, 0.1642], [0.6216, 0.6112, 0.1916, 0.1515], [0.4251, 0.7494, 0.1805, 0.1485], [0.4711, 0.8643, 0.1654, 0.1328]]\n",
            "Processing IMG_20191215_111341.jpg: [[0.5593, 0.2898, 0.1303, 0.1571], [0.4109, 0.3497, 0.2599, 0.1514], [0.3924, 0.4912, 0.2727, 0.1836], [0.6248, 0.7358, 0.2388, 0.1847], [0.2866, 0.779, 0.0444, 0.0362], [0.4504, 0.8353, 0.2441, 0.1328], [0.3085, 0.918, 0.1348, 0.0904]]\n",
            "Processing IMG_20191215_111318.jpg: [[0.1333, 0.3568, 0.0967, 0.0769], [0.1092, 0.3981, 0.0786, 0.0625], [0.2251, 0.516, 0.0879, 0.0598], [0.2117, 0.5566, 0.0809, 0.0625], [0.4906, 0.6173, 0.35, 0.2791], [0.6962, 0.6977, 0.1159, 0.1341], [0.5759, 0.8008, 0.2958, 0.1908], [0.0617, 0.0712, 0.1025, 0.076], [0.757, 0.4898, 0.078, 0.0581], [0.8117, 0.1155, 0.0524, 0.0563], [0.812, 0.4887, 0.0542, 0.0515]]\n",
            "Processing IMG_20191215_111957.jpg: [[0.3372, 0.1751, 0.0978, 0.0812], [0.1927, 0.2961, 0.1118, 0.0847], [0.4236, 0.3682, 0.0961, 0.0804], [0.9396, 0.3817, 0.1194, 0.0943], [0.4918, 0.483, 0.0693, 0.0358], [0.3759, 0.504, 0.06, 0.0533], [0.3115, 0.4774, 0.1491, 0.1083], [0.0341, 0.6195, 0.06, 0.0424], [0.5285, 0.5892, 0.1368, 0.0996], [0.3468, 0.6123, 0.0949, 0.0708], [0.4834, 0.683, 0.0678, 0.0497], [0.3999, 0.7292, 0.0555, 0.0462], [0.4639, 0.7604, 0.0647, 0.0494]]\n",
            "Processing IMG_20191215_110530.jpg: [[0.4501, 0.3212, 0.1339, 0.1218], [0.244, 0.2607, 0.1363, 0.0978], [0.7856, 0.3701, 0.0937, 0.0627], [0.3823, 0.3952, 0.1468, 0.0938], [0.2737, 0.3393, 0.1453, 0.1037], [0.5081, 0.5162, 0.052, 0.0337], [0.4901, 0.5335, 0.0449, 0.0393], [0.5865, 0.7031, 0.0916, 0.0614], [0.6142, 0.7764, 0.1524, 0.111]]\n",
            "Processing IMG_20191215_111916.jpg: [[0.1338, 0.2488, 0.0346, 0.0247], [0.0163, 0.3046, 0.0326, 0.039], [0.1002, 0.2884, 0.0506, 0.035], [0.0529, 0.3046, 0.046, 0.036], [0.0877, 0.3194, 0.0443, 0.032], [0.2381, 0.4477, 0.0333, 0.0215], [0.2474, 0.4334, 0.032, 0.0252], [0.2852, 0.4315, 0.0356, 0.0265], [0.3481, 0.4319, 0.037, 0.0242], [0.3321, 0.4191, 0.0316, 0.0237], [0.3539, 0.3388, 0.0413, 0.038], [0.4223, 0.3407, 0.0483, 0.0407], [0.38, 0.3639, 0.0463, 0.0377], [0.3829, 0.3885, 0.0466, 0.0275], [0.4658, 0.4598, 0.0519, 0.0362], [0.5282, 0.4736, 0.0429, 0.0347], [0.4778, 0.5156, 0.0859, 0.0609], [0.6163, 0.5565, 0.0846, 0.0537], [0.4769, 0.5752, 0.0749, 0.0547], [0.448, 0.6459, 0.0982, 0.0687], [0.4679, 0.6973, 0.0476, 0.0372], [0.5472, 0.6557, 0.0822, 0.0664], [0.5778, 0.6754, 0.0456, 0.0399], [0.6194, 0.621, 0.0722, 0.0484], [0.4912, 0.7358, 0.0656, 0.0487], [0.5454, 0.758, 0.0606, 0.0532], [0.5853, 0.7466, 0.0493, 0.0474], [0.6749, 0.7886, 0.0666, 0.0489], [0.7814, 0.8127, 0.0513, 0.0442], [0.7538, 0.8268, 0.0699, 0.0619], [0.8729, 0.3254, 0.0445, 0.0228], [0.8927, 0.3468, 0.0533, 0.0297]]\n",
            "Processing IMG_20191215_111143.jpg: [[0.8607, 0.2531, 0.1304, 0.0965], [0.4446, 0.5007, 0.1934, 0.128], [0.5337, 0.6333, 0.161, 0.1454], [0.3572, 0.6059, 0.2294, 0.2047], [0.1901, 0.8441, 0.1161, 0.0923], [0.2711, 0.8085, 0.0906, 0.0784], [0.2685, 0.8828, 0.1039, 0.0788]]\n",
            "Processing IMG_20191215_111944.jpg: [[0.9579, 0.1181, 0.0815, 0.1559], [0.8065, 0.098, 0.1887, 0.1542], [0.5142, 0.3441, 0.1071, 0.0769], [0.3575, 0.4055, 0.1071, 0.0764], [0.2518, 0.4315, 0.0961, 0.0699], [0.2912, 0.4546, 0.1246, 0.0943], [0.2024, 0.5258, 0.1636, 0.1031], [0.2495, 0.5804, 0.1764, 0.1389], [0.3995, 0.4992, 0.1374, 0.1057], [0.5311, 0.4948, 0.1269, 0.1031], [0.1028, 0.4968, 0.131, 0.0895], [0.1814, 0.6293, 0.1066, 0.0786], [0.3185, 0.6693, 0.1549, 0.1079], [0.428, 0.7149, 0.1363, 0.0908], [0.4236, 0.816, 0.1427, 0.1166], [0.5514, 0.7518, 0.1374, 0.1079], [0.6132, 0.7778, 0.1211, 0.0935], [0.764, 0.6881, 0.1106, 0.0808], [0.6897, 0.6619, 0.1054, 0.0843], [0.5488, 0.6322, 0.1264, 0.0965], [0.596, 0.5575, 0.1205, 0.0799], [0.5829, 0.8663, 0.1048, 0.1026], [0.4324, 0.4561, 0.0891, 0.0699], [0.5567, 0.4286, 0.0805, 0.0604], [0.481, 0.8595, 0.1095, 0.0769], [0.5002, 0.8979, 0.0769, 0.0576], [0.713, 0.8763, 0.0262, 0.0179]]\n",
            "Processing IMG_20191215_111508.jpg: [[0.0812, 0.1943, 0.1613, 0.1101], [0.0376, 0.3175, 0.0751, 0.1074], [0.4297, 0.499, 0.2562, 0.1961], [0.6327, 0.6223, 0.2801, 0.2149], [0.1039, 0.6355, 0.1515, 0.1106], [0.0465, 0.7254, 0.0929, 0.1093], [0.098, 0.7503, 0.0815, 0.0627], [0.5383, 0.7386, 0.1299, 0.1014], [0.6184, 0.7627, 0.0885, 0.075], [0.7496, 0.82, 0.1572, 0.1354], [0.5037, 0.8395, 0.1013, 0.1176], [0.6111, 0.8561, 0.1691, 0.1516]]\n",
            "Processing IMG_20191215_112531.jpg: [[0.9119, 0.0707, 0.1747, 0.1415], [0.0917, 0.3171, 0.1834, 0.1922], [0.2754, 0.4075, 0.2702, 0.1895], [0.0693, 0.1079, 0.0874, 0.0699], [0.0463, 0.1804, 0.0833, 0.0673], [0.1007, 0.1885, 0.0629, 0.0546], [0.5459, 0.4243, 0.1788, 0.1349], [0.3916, 0.4972, 0.1811, 0.135], [0.5477, 0.5551, 0.1776, 0.1328], [0.3992, 0.6298, 0.1857, 0.138], [0.5404, 0.6874, 0.1584, 0.1144]]\n",
            "Error processing IMG_20191215_112531.jpg: Expected y_min for bbox [    0.82455 -5.0001e-05     0.99925     0.14145           3] to be in the range [0.0, 1.0], got -5.000084638595581e-05.\n",
            "Processing IMG_1145.jpg: [[0.335, 0.3428, 0.0945, 0.0719], [0.3978, 0.2648, 0.0972, 0.0668], [0.4703, 0.4732, 0.1978, 0.1382], [0.5152, 0.5973, 0.1526, 0.1038], [0.6769, 0.5524, 0.1141, 0.079], [0.653, 0.6378, 0.108, 0.0754], [0.5112, 0.7016, 0.0891, 0.0805], [0.0963, 0.4003, 0.0637, 0.0472], [0.597, 0.7684, 0.0606, 0.0495], [0.2647, 0.4099, 0.0606, 0.0419]]\n",
            "Processing IMG_20191215_111816.jpg: [[0.575, 0.1977, 0.1544, 0.1272], [0.5342, 0.236, 0.1154, 0.1295], [0.4228, 0.2482, 0.0547, 0.0824], [0.7256, 0.6183, 0.0405, 0.0296], [0.4945, 0.7067, 0.1099, 0.0797], [0.3507, 0.7381, 0.1129, 0.1098], [0.4585, 0.7941, 0.1727, 0.1155], [0.5552, 0.8131, 0.041, 0.0684]]\n",
            "Processing IMG_20191215_112807.jpg: [[0.8402, 0.1015, 0.0708, 0.0411], [0.7311, 0.1516, 0.0578, 0.0402], [0.8146, 0.1466, 0.0594, 0.0543], [0.698, 0.2014, 0.0521, 0.0531], [0.7972, 0.1979, 0.0628, 0.0471], [0.7738, 0.2435, 0.0475, 0.0471], [0.7204, 0.246, 0.0494, 0.0497], [0.7508, 0.2804, 0.0398, 0.0474], [0.7185, 0.2892, 0.0371, 0.0454], [0.545, 0.4226, 0.1206, 0.137], [0.416, 0.5081, 0.1076, 0.1146], [0.5577, 0.5409, 0.1137, 0.1105], [0.7213, 0.6108, 0.0337, 0.0316], [0.5958, 0.5956, 0.108, 0.0505], [0.4334, 0.5857, 0.0973, 0.0979], [0.4761, 0.6586, 0.093, 0.1008], [0.4826, 0.7083, 0.0731, 0.0727], [0.5289, 0.7396, 0.0571, 0.0548], [0.5875, 0.7458, 0.0739, 0.0569], [0.7426, 0.7015, 0.0236, 0.0222], [0.7223, 0.7092, 0.021, 0.0195], [0.6747, 0.6203, 0.031, 0.029], [0.6993, 0.5314, 0.025, 0.023], [0.6884, 0.5588, 0.0276, 0.0185], [0.7233, 0.5181, 0.0258, 0.0248], [0.7546, 0.503, 0.0258, 0.0267], [0.8529, 0.457, 0.0226, 0.0193], [0.8581, 0.3123, 0.0249, 0.0204], [0.8437, 0.3096, 0.0199, 0.0219], [0.8257, 0.307, 0.0216, 0.023], [0.81, 0.3059, 0.0113, 0.0162], [0.7939, 0.3046, 0.0229, 0.026], [0.8719, 0.3172, 0.0143, 0.0212], [0.885, 0.3135, 0.0179, 0.0195], [0.8813, 0.0389, 0.0785, 0.0627], [0.793, 0.038, 0.0709, 0.0706]]\n",
            "Processing IMG_1244.jpg: [[0.6234, 0.4064, 0.1786, 0.12], [0.4685, 0.1584, 0.2011, 0.1689], [0.4965, 0.3107, 0.1716, 0.1392], [0.2566, 0.4915, 0.1685, 0.1258], [0.3703, 0.4236, 0.1491, 0.1089], [0.4371, 0.5252, 0.1615, 0.1199], [0.5093, 0.6149, 0.1972, 0.1479], [0.4453, 0.7087, 0.1498, 0.1176], [0.4323, 0.8214, 0.1491, 0.1158], [0.3841, 0.6499, 0.0916, 0.0784], [0.282, 0.7118, 0.175, 0.1325], [0.2048, 0.7096, 0.0734, 0.1088], [0.3084, 0.8102, 0.1139, 0.0916], [0.3301, 0.867, 0.0892, 0.0669], [0.2368, 0.8302, 0.1116, 0.0999]]\n",
            "Processing IMG_20191215_111732.jpg: [[0.6269, 0.0631, 0.152, 0.1262], [0.559, 0.1494, 0.1258, 0.0838], [0.4615, 0.2057, 0.1299, 0.0952], [0.3619, 0.1271, 0.1345, 0.1118], [0.5646, 0.5136, 0.1648, 0.124], [0.4822, 0.5752, 0.1037, 0.0594], [0.1173, 0.6437, 0.1147, 0.0917], [0.4425, 0.8365, 0.1013, 0.0773], [0.5403, 0.8687, 0.1057, 0.0908], [0.4652, 0.9232, 0.1079, 0.0697]]\n",
            "Processing IMG_1165.jpg: [[0.6378, 0.2952, 0.2321, 0.1922], [0.4235, 0.4408, 0.1731, 0.12], [0.314, 0.6391, 0.1794, 0.138], [0.3571, 0.5835, 0.1273, 0.0908], [0.5023, 0.6088, 0.1382, 0.1275], [0.467, 0.7122, 0.0505, 0.0792], [0.3855, 0.7241, 0.1561, 0.1299], [0.6133, 0.6397, 0.1661, 0.124], [0.564, 0.7593, 0.1312, 0.1106], [0.6836, 0.9104, 0.1654, 0.1427], [0.623, 0.948, 0.1281, 0.1025], [0.6817, 0.8269, 0.1242, 0.0687]]\n",
            "Processing IMG_20191215_112814.jpg: [[0.4219, 0.3378, 0.1532, 0.1201], [0.384, 0.4739, 0.159, 0.1127], [0.5876, 0.4289, 0.17, 0.1197], [0.6021, 0.5817, 0.1514, 0.1048], [0.3855, 0.6114, 0.1351, 0.0943], [0.5579, 0.7154, 0.1188, 0.0926], [0.391, 0.6951, 0.1147, 0.0817], [0.359, 0.7807, 0.0961, 0.0834], [0.4134, 0.8438, 0.0885, 0.0769], [0.5628, 0.8698, 0.0844, 0.0738], [0.4889, 0.8894, 0.0646, 0.0563], [0.2833, 0.9417, 0.0414, 0.0376], [0.2114, 0.9482, 0.0459, 0.0414], [0.2477, 0.9547, 0.0383, 0.0353], [0.8528, 0.4016, 0.067, 0.0572], [0.812, 0.4308, 0.0588, 0.059], [0.7733, 0.4562, 0.0512, 0.0424], [0.101, 0.2948, 0.0518, 0.048], [0.3267, 0.2341, 0.0396, 0.0323], [0.5258, 0.9652, 0.0629, 0.048]]\n",
            "Processing IMG_1268.jpg: [[0.519, 0.5223, 0.2415, 0.1502], [0.4883, 0.4265, 0.1599, 0.1136], [0.4744, 0.6673, 0.1661, 0.1258], [0.5854, 0.6848, 0.1398, 0.1095], [0.493, 0.7719, 0.1475, 0.1066], [0.5326, 0.6044, 0.1708, 0.078]]\n",
            "Processing IMG_20191215_112718.jpg: [[0.2836, 0.606, 0.1514, 0.114], [0.1258, 0.6396, 0.1479, 0.1052], [0.2489, 0.709, 0.138, 0.114], [0.375, 0.7117, 0.1235, 0.1096], [0.5005, 0.6968, 0.1368, 0.114], [0.6044, 0.7272, 0.0908, 0.0777], [0.6592, 0.6981, 0.1048, 0.0921], [0.5867, 0.6189, 0.1287, 0.0978], [0.6074, 0.5129, 0.1316, 0.1122], [0.6435, 0.3618, 0.1677, 0.1245], [0.7026, 0.535, 0.1135, 0.0751], [0.72, 0.6036, 0.1438, 0.1118], [0.9057, 0.684, 0.0463, 0.0414], [0.934, 0.732, 0.0524, 0.035], [0.9143, 0.7469, 0.0574, 0.0454], [0.9802, 0.7208, 0.0383, 0.0465], [0.9888, 0.7565, 0.0218, 0.0451], [0.9528, 0.7692, 0.0563, 0.0416], [0.976, 0.8204, 0.0475, 0.0471], [0.4085, 0.3103, 0.0398, 0.0376], [0.1941, 0.8501, 0.0322, 0.0307], [0.1701, 0.8555, 0.0327, 0.0295], [0.2099, 0.7857, 0.0237, 0.0215], [0.1911, 0.7858, 0.0226, 0.0217]]\n",
            "Processing IMG_1240.jpg: [[0.6118, 0.3776, 0.2454, 0.1927], [0.3428, 0.4714, 0.2834, 0.2044], [0.552, 0.6842, 0.2438, 0.1863], [0.4499, 0.6595, 0.1157, 0.1299], [0.3618, 0.8135, 0.2034, 0.1514]]\n",
            "Processing IMG_0993.jpg: [[0.7865, 0.5838, 0.1972, 0.1974], [0.6999, 0.4446, 0.1545, 0.138], [0.6495, 0.6076, 0.2306, 0.1718], [0.5718, 0.5121, 0.2523, 0.1112], [0.5015, 0.6534, 0.2547, 0.184], [0.2931, 0.6202, 0.2648, 0.1887]]\n",
            "Processing IMG_1116.jpg: [[0.1832, 0.6062, 0.1289, 0.0943], [0.3121, 0.603, 0.0668, 0.0553], [0.323, 0.4816, 0.1537, 0.1083], [0.3587, 0.5448, 0.1273, 0.0786], [0.3032, 0.426, 0.08, 0.0437], [0.4204, 0.3706, 0.0893, 0.0611], [0.4355, 0.4702, 0.1087, 0.0635], [0.0407, 0.8618, 0.0722, 0.0501], [0.0598, 0.7882, 0.0761, 0.0728], [0.4041, 0.6944, 0.0675, 0.0565], [0.4592, 0.6737, 0.1095, 0.0792], [0.5213, 0.5212, 0.0955, 0.0652], [0.5842, 0.3913, 0.0629, 0.0489], [0.7011, 0.4501, 0.1289, 0.092], [0.71, 0.5692, 0.0877, 0.053], [0.6766, 0.6263, 0.0505, 0.0425], [0.7372, 0.2082, 0.1716, 0.1392], [0.9503, 0.3916, 0.0978, 0.0786], [0.8979, 0.3415, 0.1421, 0.1066], [0.0772, 0.9637, 0.0707, 0.0489]]\n",
            "Processing IMG_1059.jpg: [[0.5361, 0.5913, 0.4589, 0.2754], [0.2438, 0.4749, 0.3401, 0.2999]]\n",
            "Processing IMG_1130.jpg: [[0.2131, 0.4554, 0.12, 0.0816], [0.2983, 0.5073, 0.1302, 0.0995], [0.1985, 0.5517, 0.1123, 0.0766], [0.1954, 0.6126, 0.0909, 0.0559], [0.283, 0.6599, 0.0822, 0.0532], [0.3312, 0.6185, 0.1021, 0.0685], [0.3838, 0.5672, 0.1133, 0.0808], [0.4173, 0.4616, 0.0934, 0.08], [0.4852, 0.5667, 0.0965, 0.0674], [0.5211, 0.4641, 0.1297, 0.0942], [0.4908, 0.3572, 0.0863, 0.0674], [0.917, 0.1128, 0.0832, 0.0609], [0.9107, 0.0884, 0.0694, 0.0421], [0.8139, 0.1122, 0.074, 0.0567], [0.7573, 0.103, 0.0546, 0.0513], [0.9819, 0.2043, 0.0362, 0.0417], [0.9423, 0.1865, 0.0572, 0.0498], [0.8859, 0.1976, 0.073, 0.0544], [0.8851, 0.2431, 0.0623, 0.0444], [0.8137, 0.1953, 0.0592, 0.0467], [0.8078, 0.2345, 0.0567, 0.041], [0.7585, 0.1813, 0.0664, 0.0524], [0.7547, 0.2305, 0.0454, 0.0329], [0.72, 0.1646, 0.0526, 0.0429], [0.7047, 0.2257, 0.0485, 0.0333], [0.8132, 0.2749, 0.0398, 0.0306], [0.945, 0.0188, 0.0807, 0.0376], [0.9851, 0.0359, 0.029, 0.0556]]\n",
            "Processing IMG_20191215_111523.jpg: [[0.3159, 0.6356, 0.3261, 0.2607], [0.5043, 0.5244, 0.1689, 0.1265], [0.6184, 0.5717, 0.1989, 0.1609], [0.9312, 0.8539, 0.1361, 0.1376], [0.1723, 0.9876, 0.0751, 0.0229], [0.2833, 0.9647, 0.157, 0.0696]]\n",
            "Processing IMG_20191215_111357_1.jpg: [[0.5413, 0.6977, 0.3558, 0.2826], [0.023, 0.7136, 0.0437, 0.0402], [0.0495, 0.7307, 0.0431, 0.0332], [0.5229, 0.9846, 0.0501, 0.0301]]\n",
            "Processing IMG_1155.jpg: [[0.5116, 0.4778, 0.1553, 0.117], [0.6704, 0.4618, 0.1793, 0.1339], [0.8008, 0.3808, 0.1467, 0.1083], [0.8245, 0.4711, 0.1258, 0.0908], [0.7298, 0.5334, 0.1025, 0.0722], [0.7904, 0.594, 0.1429, 0.1072], [0.7981, 0.6452, 0.1165, 0.0524], [0.6456, 0.6257, 0.1514, 0.1101], [0.67, 0.7314, 0.1382, 0.1095]]\n",
            "Processing IMG_20191215_110951.jpg: [[0.5354, 0.7082, 0.3313, 0.2179], [0.3441, 0.6874, 0.1351, 0.1371], [0.5651, 0.5874, 0.2056, 0.0847], [0.3939, 0.5835, 0.1508, 0.0935], [0.6365, 0.2642, 0.1875, 0.1572], [0.6765, 0.3866, 0.1276, 0.1048]]\n",
            "Processing IMG_1222.jpg: [[0.2958, 0.6493, 0.25, 0.1922], [0.3008, 0.3634, 0.1918, 0.1677], [0.0497, 0.7238, 0.0978, 0.0967], [0.9495, 0.4379, 0.0994, 0.0745], [0.8304, 0.4102, 0.0955, 0.0844], [0.5089, 0.6237, 0.1887, 0.1071], [0.8075, 0.5675, 0.1118, 0.0868]]\n",
            "Processing IMG_1223.jpg: [[0.349, 0.8572, 0.2166, 0.184], [0.4109, 0.7051, 0.1938, 0.1352], [0.3495, 0.6048, 0.2154, 0.1716], [0.4238, 0.4238, 0.1681, 0.0972], [0.415, 0.5076, 0.1857, 0.1534], [0.5301, 0.1679, 0.2998, 0.2547], [0.6098, 0.279, 0.1755, 0.1246], [0.7566, 0.1337, 0.133, 0.1408], [0.7856, 0.2628, 0.1357, 0.1235], [0.7191, 0.26, 0.1242, 0.0886], [0.8977, 0.1342, 0.2032, 0.1762], [0.9136, 0.2565, 0.1566, 0.0937], [0.5706, 0.4036, 0.1242, 0.0891], [0.7514, 0.3637, 0.0898, 0.0564], [0.7493, 0.4209, 0.0681, 0.0423]]\n",
            "Processing IMG_20191215_111242.jpg: [[0.0685, 0.1009, 0.0524, 0.0519], [0.0454, 0.1298, 0.0696, 0.0542], [0.2483, 0.2293, 0.1259, 0.0954], [0.3683, 0.4034, 0.0559, 0.0446], [0.0819, 0.1722, 0.0255, 0.0201], [0.1024, 0.5821, 0.0877, 0.0574], [0.0659, 0.6404, 0.1126, 0.0787], [0.1353, 0.6181, 0.0678, 0.0388], [0.1545, 0.6715, 0.1015, 0.0887], [0.8845, 0.739, 0.0574, 0.0462], [0.4987, 0.7349, 0.0792, 0.0619], [0.5409, 0.7742, 0.0576, 0.0477], [0.5826, 0.7698, 0.0566, 0.0494], [0.7038, 0.5079, 0.129, 0.0911], [0.6787, 0.5964, 0.0991, 0.0878]]\n",
            "Processing IMG_20191215_111013.jpg: [[0.3139, 0.1224, 0.1145, 0.1462], [0.2439, 0.16, 0.1101, 0.1391], [0.607, 0.2827, 0.0823, 0.098], [0.5843, 0.2316, 0.0361, 0.0393], [0.625, 0.0508, 0.0621, 0.0992], [0.5805, 0.0675, 0.0357, 0.0704], [0.2276, 0.3963, 0.0757, 0.0951], [0.2309, 0.4776, 0.0832, 0.1063], [0.2825, 0.4691, 0.0559, 0.0704], [0.2952, 0.5328, 0.0683, 0.0839], [0.7032, 0.8536, 0.1365, 0.175], [0.5988, 0.7967, 0.1127, 0.1632], [0.7727, 0.8322, 0.0793, 0.1708], [0.6999, 0.7482, 0.0999, 0.0781]]\n",
            "Processing IMG_1013.jpg: [[0.5183, 0.6158, 0.1121, 0.0762], [0.4837, 0.5777, 0.1063, 0.0722], [0.614, 0.3401, 0.1027, 0.0841]]\n",
            "Processing IMG_20191215_111857.jpg: [[0.7171, 0.1961, 0.1252, 0.097], [0.812, 0.2675, 0.0681, 0.0528], [0.7879, 0.34, 0.1514, 0.1026], [0.8088, 0.4131, 0.1083, 0.0777], [0.9145, 0.5309, 0.1066, 0.0633], [0.8982, 0.58, 0.0833, 0.0533], [0.639, 0.8171, 0.0679, 0.0573], [0.6451, 0.7685, 0.0537, 0.0414], [0.6537, 0.7028, 0.0719, 0.0543], [0.64, 0.732, 0.0537, 0.0384], [0.7276, 0.7039, 0.0597, 0.0368], [0.3854, 0.7788, 0.0479, 0.0391], [0.2242, 0.7636, 0.0724, 0.058], [0.237, 0.7924, 0.0651, 0.0474], [0.1978, 0.8282, 0.0547, 0.0482], [0.126, 0.8096, 0.0773, 0.0606], [0.1273, 0.8451, 0.0701, 0.0345], [0.2341, 0.6883, 0.0693, 0.062], [0.1466, 0.7314, 0.0827, 0.0683], [0.2236, 0.6507, 0.0628, 0.0379], [0.4009, 0.6921, 0.0628, 0.0511], [0.1107, 0.623, 0.0551, 0.0526], [0.2315, 0.589, 0.0724, 0.0615], [0.5092, 0.5603, 0.0727, 0.0534], [0.4518, 0.6069, 0.0766, 0.0589], [0.0402, 0.4814, 0.075, 0.0497], [0.0951, 0.5156, 0.0739, 0.0537], [0.1369, 0.5529, 0.0839, 0.0566], [0.3936, 0.4938, 0.049, 0.0382], [0.3455, 0.4625, 0.0502, 0.029], [0.5634, 0.4727, 0.0724, 0.0517], [0.5517, 0.4274, 0.0942, 0.0709], [0.7233, 0.2942, 0.0659, 0.0422], [0.6829, 0.3345, 0.0754, 0.0603], [0.6074, 0.3446, 0.0953, 0.0741], [0.5473, 0.3302, 0.0862, 0.0775], [0.5368, 0.3785, 0.0758, 0.0482], [0.2063, 0.1973, 0.0453, 0.0433], [0.3124, 0.2013, 0.0533, 0.0433]]\n",
            "Processing IMG_1246.jpg: [[0.6122, 0.1044, 0.2119, 0.184], [0.3883, 0.214, 0.1984, 0.1576], [0.6404, 0.3364, 0.1779, 0.1383], [0.6237, 0.4592, 0.1597, 0.1145], [0.2773, 0.3003, 0.1879, 0.1453], [0.4094, 0.3833, 0.1644, 0.1246], [0.4655, 0.4375, 0.1603, 0.1202], [0.2641, 0.4498, 0.1673, 0.1281], [0.1567, 0.3624, 0.1286, 0.0995], [0.1282, 0.5103, 0.1374, 0.0977], [0.2579, 0.583, 0.1362, 0.1092], [0.1666, 0.5601, 0.098, 0.0687], [0.1948, 0.6369, 0.1039, 0.0762], [0.3988, 0.5876, 0.1573, 0.1202], [0.459, 0.5449, 0.1462, 0.1044], [0.5976, 0.6197, 0.1344, 0.1052], [0.388, 0.7058, 0.1215, 0.1004], [0.4546, 0.6735, 0.1233, 0.1035], [0.2706, 0.7435, 0.1016, 0.0753], [0.4831, 0.8194, 0.1063, 0.0854], [0.5858, 0.721, 0.1168, 0.0929], [0.5961, 0.8423, 0.0751, 0.0643], [0.282, 0.6994, 0.0822, 0.048], [0.2562, 0.6545, 0.0658, 0.0445]]\n",
            "Processing IMG_0988.jpg: [[0.685, 0.2383, 0.1583, 0.1153], [0.5918, 0.1346, 0.1812, 0.1505], [0.5536, 0.2665, 0.1373, 0.131], [0.3203, 0.3442, 0.0791, 0.0628], [0.5852, 0.6819, 0.1465, 0.1049], [0.4392, 0.6302, 0.2149, 0.147], [0.4941, 0.7784, 0.2338, 0.1792]]\n",
            "Processing IMG_20191215_111404.jpg: [[0.4784, 0.4387, 0.1776, 0.1341], [0.3159, 0.4173, 0.159, 0.1201], [0.2262, 0.7665, 0.166, 0.1205], [0.2274, 0.8748, 0.1694, 0.1336], [0.3136, 0.8444, 0.1171, 0.1035], [0.2545, 0.9525, 0.1223, 0.0804], [0.2068, 0.2719, 0.1028, 0.0722], [0.0418, 0.0534, 0.0835, 0.0733], [0.0737, 0.0215, 0.0744, 0.0429], [0.9545, 0.2846, 0.0658, 0.046]]\n",
            "Processing IMG_20191215_112012.jpg: [[0.0486, 0.6721, 0.0961, 0.0463], [0.0498, 0.739, 0.0984, 0.1205], [0.1325, 0.7944, 0.145, 0.1109], [0.3785, 0.4498, 0.1013, 0.0734], [0.4565, 0.5097, 0.1258, 0.0952], [0.3535, 0.5339, 0.1095, 0.0834], [0.4522, 0.5946, 0.11, 0.0825], [0.3945, 0.6392, 0.1124, 0.0965], [0.3232, 0.6258, 0.085, 0.0725], [0.3354, 0.7031, 0.0722, 0.0673], [0.3808, 0.7291, 0.1025, 0.0887], [0.4961, 0.7171, 0.1514, 0.1074], [0.6269, 0.7892, 0.1473, 0.1074], [0.589, 0.4662, 0.1392, 0.0965], [0.6627, 0.4763, 0.0664, 0.0721], [0.7107, 0.4289, 0.0798, 0.0576], [0.048, 0.9776, 0.0961, 0.0432], [0.0615, 0.1704, 0.0327, 0.0252], [0.0106, 0.1814, 0.0206, 0.0315], [0.1429, 0.1597, 0.0206, 0.0241], [0.0764, 0.1685, 0.0324, 0.0265], [0.2262, 0.1695, 0.0316, 0.028], [0.2355, 0.1817, 0.0316, 0.023]]\n",
            "Error processing IMG_20191215_112012.jpg: Expected x_min for bbox [-5.0001e-05       0.956     0.09605      0.9992           5] to be in the range [0.0, 1.0], got -5.000084638595581e-05.\n",
            "Processing IMG_20191215_110941.jpg: [[0.3536, 0.8645, 0.1183, 0.0968], [0.4556, 0.2767, 0.219, 0.1898], [0.6262, 0.3577, 0.2186, 0.1548]]\n",
            "Processing IMG_1279.jpg: [[0.7228, 0.6697, 0.1304, 0.1269], [0.5423, 0.5858, 0.1126, 0.1188], [0.4192, 0.5768, 0.104, 0.1427], [0.3746, 0.4242, 0.0971, 0.0681], [0.3509, 0.5482, 0.2003, 0.2056], [0.116, 0.5121, 0.17, 0.1613], [0.1766, 0.6027, 0.0846, 0.0757], [0.0481, 0.4557, 0.0947, 0.2021]]\n",
            "Processing IMG_20191215_112622.jpg: [[0.6353, 0.7429, 0.191, 0.1476], [0.58, 0.663, 0.1444, 0.1022], [0.7538, 0.5702, 0.2067, 0.1542], [0.6234, 0.5516, 0.1333, 0.1223], [0.4781, 0.5492, 0.1852, 0.1245], [0.2513, 0.5916, 0.2067, 0.1533], [0.2743, 0.4398, 0.2143, 0.1511], [0.3025, 0.2994, 0.1275, 0.0965], [0.536, 0.4341, 0.1625, 0.1363], [0.649, 0.414, 0.1753, 0.1406], [0.3479, 0.3787, 0.0868, 0.0751]]\n",
            "Processing IMG_1179.jpg: [[0.8016, 0.2536, 0.2663, 0.1939], [0.658, 0.375, 0.2166, 0.1584], [0.6265, 0.529, 0.2034, 0.1508], [0.3618, 0.2475, 0.2127, 0.17], [0.33, 0.4102, 0.1972, 0.152], [0.2593, 0.5768, 0.2003, 0.1473], [0.5815, 0.7276, 0.1848, 0.1403], [0.5854, 0.8088, 0.1335, 0.0722], [0.4631, 0.8021, 0.1219, 0.1007], [0.33, 0.75, 0.1289, 0.0908]]\n",
            "Processing IMG_1084.jpg: [[0.3269, 0.5845, 0.1873, 0.1519], [0.4766, 0.536, 0.1703, 0.1524]]\n",
            "Processing IMG_20191215_112512.jpg: [[0.4667, 0.4481, 0.1764, 0.1319], [0.6065, 0.5793, 0.1939, 0.1332], [0.3479, 0.592, 0.1951, 0.1297], [0.527, 0.6566, 0.1176, 0.1166], [0.3319, 0.6772, 0.1502, 0.0904], [0.2139, 0.793, 0.0815, 0.0585], [0.1813, 0.8788, 0.078, 0.0684], [0.24, 0.8645, 0.083, 0.0657], [0.2177, 0.8427, 0.0608, 0.0501]]\n",
            "Processing IMG_20191215_111412.jpg: [[0.5113, 0.2016, 0.1642, 0.1262], [0.6365, 0.3055, 0.1642, 0.1297], [0.5017, 0.3153, 0.145, 0.1188], [0.594, 0.3763, 0.1456, 0.0563], [0.9564, 0.2828, 0.0856, 0.0808], [0.4673, 0.6079, 0.1322, 0.1066], [0.5753, 0.6678, 0.1363, 0.1013], [0.4772, 0.7204, 0.1566, 0.1219], [0.4022, 0.9701, 0.1237, 0.0591], [0.3245, 0.8903, 0.0467, 0.041], [0.0416, 0.7681, 0.048, 0.0343], [0.0764, 0.7755, 0.0524, 0.0433], [0.1059, 0.6426, 0.1096, 0.072], [0.151, 0.6265, 0.0687, 0.0522], [0.3633, 0.6213, 0.0898, 0.1146], [0.3602, 0.6854, 0.0502, 0.034], [0.1256, 0.5426, 0.0574, 0.037], [0.028, 0.5188, 0.0436, 0.0273], [0.1434, 0.5188, 0.0609, 0.0393], [0.8547, 0.7086, 0.0699, 0.0555]]\n",
            "Processing IMG_1173.jpg: [[0.6176, 0.2157, 0.1017, 0.0961], [0.4181, 0.258, 0.1468, 0.1071], [0.493, 0.3689, 0.1025, 0.0728], [0.4262, 0.5025, 0.2221, 0.17], [0.2504, 0.4926, 0.1607, 0.1281], [0.6494, 0.3642, 0.0598, 0.074], [0.5776, 0.5392, 0.1242, 0.1013], [0.5155, 0.6504, 0.2065, 0.1572], [0.6731, 0.7154, 0.1522, 0.1007], [0.9728, 0.7279, 0.0544, 0.0839], [0.8467, 0.6076, 0.1467, 0.0926], [0.9682, 0.9736, 0.0606, 0.0512], [0.7492, 0.8601, 0.1537, 0.1083], [0.5217, 0.8144, 0.1304, 0.0903], [0.4709, 0.9128, 0.1856, 0.1462], [0.3521, 0.9198, 0.0971, 0.0996]]\n",
            "Processing IMG_20191215_112517.jpg: [[0.3696, 0.1595, 0.0587, 0.0517], [0.3329, 0.2134, 0.0522, 0.041], [0.3641, 0.2383, 0.0506, 0.0437], [0.3476, 0.2814, 0.0451, 0.0403], [0.3129, 0.3606, 0.0547, 0.0414], [0.3231, 0.4523, 0.0496, 0.0349], [0.5033, 0.4054, 0.1195, 0.0953], [0.5345, 0.4926, 0.1139, 0.0866], [0.5046, 0.5546, 0.037, 0.0558], [0.4565, 0.5708, 0.0917, 0.0729], [0.5719, 0.5678, 0.119, 0.0858], [0.5193, 0.6213, 0.1038, 0.0798], [0.6692, 0.5716, 0.0916, 0.0797], [0.4466, 0.6726, 0.1165, 0.0949], [0.5102, 0.7026, 0.0734, 0.076], [0.3737, 0.6851, 0.0516, 0.0699], [0.4301, 0.7286, 0.0906, 0.049], [0.477, 0.7576, 0.077, 0.0501], [0.3937, 0.7728, 0.0896, 0.0676], [0.4459, 0.8036, 0.0592, 0.0448], [0.3729, 0.7377, 0.039, 0.0376], [0.3248, 0.4092, 0.0471, 0.0338], [0.313, 0.4867, 0.0425, 0.0281], [0.2929, 0.5134, 0.0429, 0.0281], [0.3212, 0.547, 0.0406, 0.0264], [0.2833, 0.5347, 0.0352, 0.0218], [0.246, 0.5443, 0.0302, 0.021], [0.35, 0.5404, 0.0314, 0.0264], [0.3509, 0.5637, 0.0264, 0.0189], [0.2743, 0.5628, 0.0272, 0.0184], [0.3861, 0.3065, 0.0279, 0.0213], [0.3496, 0.3308, 0.0309, 0.0197]]\n",
            "Processing IMG_1025.jpg: [[0.7092, 0.7946, 0.0799, 0.0616], [0.6369, 0.4999, 0.1385, 0.0969], [0.6786, 0.419, 0.135, 0.1055], [0.5392, 0.4222, 0.1572, 0.1199], [0.5265, 0.5994, 0.0722, 0.0605], [0.4907, 0.6397, 0.0892, 0.0651], [0.4493, 0.5854, 0.0954, 0.0782], [0.4175, 0.6423, 0.0641, 0.0512], [0.3768, 0.6052, 0.0907, 0.0819]]\n",
            "Processing IMG_20191215_112436.jpg: [[0.3215, 0.2926, 0.1934, 0.147], [0.4848, 0.2579, 0.1484, 0.1147], [0.4714, 0.3914, 0.1509, 0.1113], [0.3641, 0.3612, 0.1853, 0.1253], [0.2861, 0.4639, 0.1701, 0.1181], [0.6185, 0.4443, 0.1433, 0.1041], [0.5152, 0.5262, 0.1646, 0.1227], [0.6332, 0.5902, 0.1504, 0.1155], [0.5448, 0.675, 0.1347, 0.106], [0.4438, 0.7345, 0.1261, 0.0995], [0.1582, 0.5522, 0.1281, 0.0942], [0.3499, 0.7005, 0.0759, 0.0558]]\n",
            "Processing IMG_1055.jpg: [[0.3004, 0.0331, 0.0737, 0.0569], [0.4682, 0.9757, 0.0932, 0.0483], [0.4571, 0.9579, 0.1225, 0.0546], [0.565, 0.7185, 0.0737, 0.0586], [0.5199, 0.4922, 0.0679, 0.0722], [0.4708, 0.4696, 0.0959, 0.0729], [0.4333, 0.5502, 0.1247, 0.0856], [0.3383, 0.6201, 0.1389, 0.0902], [0.2999, 0.55, 0.1643, 0.1212]]\n",
            "Processing IMG_1134.jpg: [[0.2822, 0.12, 0.1126, 0.0652], [0.0528, 0.14, 0.104, 0.0541], [0.1467, 0.1395, 0.0978, 0.0646], [0.1506, 0.2644, 0.104, 0.0594], [0.2706, 0.3808, 0.1421, 0.1013], [0.4732, 0.3273, 0.1219, 0.0978], [0.3529, 0.3139, 0.1266, 0.0652], [0.3734, 0.3671, 0.1134, 0.1124], [0.3808, 0.4734, 0.1017, 0.0978], [0.3152, 0.4606, 0.1568, 0.1095], [0.4744, 0.4525, 0.0652, 0.0722], [0.4453, 0.5127, 0.1064, 0.0821], [0.5454, 0.3983, 0.1421, 0.1118], [0.5493, 0.3101, 0.0877, 0.0705], [0.5516, 0.4714, 0.1141, 0.0658], [0.6937, 0.327, 0.1887, 0.1497], [0.6817, 0.4437, 0.146, 0.099], [0.6087, 0.5305, 0.1304, 0.0943], [0.738, 0.5349, 0.1266, 0.1042], [0.8074, 0.518, 0.1413, 0.0926]]\n",
            "Processing IMG_20191215_111951.jpg: [[0.1284, 0.3813, 0.1916, 0.1336], [0.8679, 0.3203, 0.0681, 0.0485], [0.9815, 0.311, 0.0355, 0.0463], [0.865, 0.3721, 0.0518, 0.0428], [0.5526, 0.39, 0.0512, 0.0411], [0.414, 0.516, 0.1409, 0.1166], [0.5541, 0.4817, 0.1893, 0.131], [0.8671, 0.5446, 0.1817, 0.1363], [0.4356, 0.613, 0.1223, 0.0965], [0.2941, 0.6466, 0.1165, 0.0913], [0.2064, 0.7044, 0.1031, 0.0856], [0.1575, 0.7894, 0.0704, 0.0546], [0.3048, 0.806, 0.0949, 0.0756], [0.6219, 0.6167, 0.1456, 0.1022], [0.7008, 0.6793, 0.0972, 0.0616], [0.9177, 0.6584, 0.1444, 0.0965]]\n",
            "Processing IMG_20191215_112403.jpg: [[0.5913, 0.3677, 0.1322, 0.1223], [0.4772, 0.4044, 0.1764, 0.1371], [0.5724, 0.4922, 0.1514, 0.1153], [0.3666, 0.5501, 0.1636, 0.1201], [0.5535, 0.6173, 0.1287, 0.1017], [0.3185, 0.7062, 0.106, 0.0943]]\n",
            "Processing IMG_20191215_110645.jpg: [[0.5054, 0.4697, 0.2702, 0.1909], [0.407, 0.4219, 0.1456, 0.1537], [0.3922, 0.8315, 0.2801, 0.228], [0.5736, 0.7549, 0.1514, 0.1315]]\n",
            "Processing IMG_20191215_111511.jpg: [[0.6522, 0.6477, 0.2842, 0.1887], [0.4461, 0.4994, 0.3133, 0.2179]]\n",
            "Processing IMG_1152.jpg: [[0.6046, 0.5088, 0.1544, 0.114], [0.452, 0.4918, 0.138, 0.1004], [0.5755, 0.6167, 0.1362, 0.1061], [0.4616, 0.588, 0.1022, 0.0726], [0.5066, 0.6596, 0.1027, 0.074]]\n",
            "Processing IMG_1190.jpg: [[0.25, 0.623, 0.125, 0.0881], [0.216, 0.6946, 0.0722, 0.0603], [0.2303, 0.5792, 0.1186, 0.0612], [0.1828, 0.6578, 0.0705, 0.0484], [0.1476, 0.6266, 0.0881, 0.0696], [0.2104, 0.751, 0.0916, 0.0638], [0.0486, 0.5814, 0.0605, 0.0454], [0.0865, 0.6587, 0.0528, 0.0388], [0.3859, 0.8119, 0.0834, 0.0713], [0.4194, 0.6968, 0.1174, 0.0876], [0.5403, 0.7049, 0.1163, 0.0916], [0.4966, 0.5795, 0.1544, 0.1136], [0.3748, 0.572, 0.1209, 0.0933], [0.353, 0.4987, 0.1233, 0.0903], [0.4505, 0.4192, 0.1386, 0.1074], [0.299, 0.4432, 0.0916, 0.0665], [0.5218, 0.3978, 0.0945, 0.0885], [0.562, 0.4388, 0.0857, 0.0788], [0.6577, 0.4194, 0.135, 0.0982], [0.6052, 0.5636, 0.0746, 0.0564], [0.675, 0.5605, 0.0675, 0.0519], [0.6704, 0.4995, 0.0934, 0.0735], [0.8236, 0.5253, 0.0558, 0.044], [0.7164, 0.4463, 0.0294, 0.0304], [0.6163, 0.4934, 0.0605, 0.0586], [0.8929, 0.3743, 0.0652, 0.0467], [0.9178, 0.3254, 0.0704, 0.0467], [0.9803, 0.2792, 0.0393, 0.0652], [0.9733, 0.2607, 0.0522, 0.0387], [0.7616, 0.4047, 0.0517, 0.0282], [0.2503, 0.5332, 0.074, 0.0537], [0.0833, 0.4474, 0.0699, 0.0476], [0.1164, 0.507, 0.0399, 0.0295]]\n",
            "Processing IMG_1281.jpg: [[0.5532, 0.269, 0.128, 0.0969], [0.6739, 0.6594, 0.0687, 0.0683], [0.7913, 0.6208, 0.0499, 0.0396], [0.4992, 0.3956, 0.1562, 0.1264], [0.5186, 0.4647, 0.1151, 0.0876], [0.3915, 0.4273, 0.0922, 0.0691], [0.4038, 0.4909, 0.1227, 0.1039], [0.4875, 0.54, 0.0939, 0.0718], [0.3284, 0.5834, 0.0599, 0.059], [0.5535, 0.564, 0.1333, 0.0969], [0.4408, 0.607, 0.1063, 0.0911], [0.3392, 0.6418, 0.0393, 0.0374], [0.5606, 0.6609, 0.1192, 0.0916], [0.4787, 0.682, 0.0834, 0.0828], [0.5767, 0.7446, 0.0986, 0.0872], [0.5283, 0.7529, 0.0393, 0.0722], [0.5767, 0.8027, 0.0763, 0.0616]]\n",
            "Processing IMG_1097.jpg: [[0.4324, 0.6044, 0.3913, 0.2201], [0.3591, 0.4827, 0.1266, 0.0932], [0.2255, 0.4918, 0.229, 0.0984], [0.4934, 0.398, 0.2725, 0.2021]]\n",
            "Processing IMG_1035.jpg: [[0.8579, 0.9273, 0.1227, 0.1054], [0.3692, 0.4887, 0.1791, 0.1118], [0.4062, 0.5764, 0.1192, 0.074], [0.5024, 0.5403, 0.1427, 0.0986], [0.5653, 0.4606, 0.1074, 0.0872], [0.6411, 0.4937, 0.1552, 0.0984]]\n",
            "Processing IMG_1204.jpg: [[0.8696, 0.589, 0.1367, 0.1042], [0.7135, 0.506, 0.1273, 0.0839], [0.6859, 0.6388, 0.1033, 0.0874], [0.7236, 0.6563, 0.0668, 0.0594], [0.6533, 0.591, 0.1405, 0.0897], [0.5916, 0.6778, 0.1133, 0.0897], [0.6417, 0.4757, 0.1064, 0.0838], [0.6945, 0.5049, 0.1172, 0.0967], [0.6149, 0.3255, 0.1134, 0.0827], [0.6064, 0.3855, 0.0994, 0.071], [0.4503, 0.4204, 0.1677, 0.1293], [0.4029, 0.5611, 0.1491, 0.1077], [0.4371, 0.681, 0.1506, 0.1077], [0.373, 0.7681, 0.1172, 0.1002], [0.2449, 0.5637, 0.1933, 0.1328], [0.2744, 0.7564, 0.1126, 0.0955], [0.1708, 0.7579, 0.1258, 0.0984], [0.1273, 0.6801, 0.1786, 0.1258], [0.7387, 0.5823, 0.0706, 0.0722]]\n",
            "Processing IMG_0987.jpg: [[0.5691, 0.5628, 0.3696, 0.2766], [0.4883, 0.4181, 0.2702, 0.1537], [0.3047, 0.5526, 0.2042, 0.1828]]\n",
            "Processing IMG_20191215_111725.jpg: [[0.6382, 0.1657, 0.2469, 0.1987], [0.4251, 0.2103, 0.184, 0.1638], [0.5197, 0.2976, 0.1625, 0.1288], [0.4673, 0.3053, 0.1171, 0.1293], [0.6647, 0.5968, 0.1904, 0.1498], [0.474, 0.595, 0.2015, 0.1716], [0.4932, 0.7893, 0.1205, 0.0968], [0.3813, 0.8083, 0.1073, 0.0824], [0.4423, 0.8495, 0.0906, 0.0737]]\n",
            "Processing IMG_1095.jpg: [[0.5832, 0.7534, 0.1444, 0.1198], [0.5579, 0.6702, 0.2207, 0.125], [0.4496, 0.7214, 0.172, 0.1554]]\n",
            "Processing IMG_20191215_111041.jpg: [[0.3872, 0.0834, 0.0641, 0.062], [0.9794, 0.1122, 0.0384, 0.0856], [0.3971, 0.2404, 0.1467, 0.1227], [0.2265, 0.2533, 0.1991, 0.145], [0.2833, 0.5636, 0.1139, 0.0828], [0.1752, 0.5786, 0.1104, 0.0763], [0.2339, 0.6293, 0.1053, 0.079], [0.1828, 0.8081, 0.08, 0.0653], [0.9441, 0.8061, 0.0876, 0.0642], [0.396, 0.7461, 0.0841, 0.0695], [0.4327, 0.7949, 0.1119, 0.0912], [0.559, 0.8402, 0.0444, 0.0241], [0.5464, 0.8117, 0.0796, 0.0549], [0.4951, 0.7488, 0.108, 0.0899], [0.8155, 0.5364, 0.0781, 0.058], [0.6262, 0.5749, 0.0992, 0.0862], [0.7152, 0.6045, 0.1463, 0.1057], [0.8129, 0.5933, 0.0666, 0.0586], [0.8638, 0.6106, 0.134, 0.0853]]\n",
            "Processing IMG_1030.jpg: [[0.6029, 0.6682, 0.3176, 0.2556], [0.7748, 0.0515, 0.1972, 0.1031], [0.8016, 0.1261, 0.2228, 0.1776]]\n",
            "Error processing IMG_1030.jpg: Expected y_min for bbox [     0.6762 -5.0001e-05      0.8734     0.10305           1] to be in the range [0.0, 1.0], got -5.000084638595581e-05.\n",
            "Processing IMG_1040.jpg: [[0.7481, 0.4347, 0.2244, 0.2789], [0.59, 0.4478, 0.3509, 0.2981], [0.3734, 0.6071, 0.2516, 0.2172], [0.2143, 0.6784, 0.1925, 0.1526], [0.1483, 0.5279, 0.2873, 0.2044], [0.0916, 0.7206, 0.1724, 0.0891], [0.1129, 0.81, 0.2228, 0.1316]]\n",
            "Processing IMG_20191215_111152.jpg: [[0.5066, 0.1256, 0.177, 0.1411], [0.5692, 0.2179, 0.1275, 0.1048], [0.3581, 0.1478, 0.0897, 0.0808], [0.2865, 0.133, 0.1025, 0.0808], [0.2344, 0.5592, 0.131, 0.0974], [0.0253, 0.5654, 0.0495, 0.0493], [0.6455, 0.6577, 0.2265, 0.1642], [0.4428, 0.6798, 0.1928, 0.1437], [0.5721, 0.8003, 0.2149, 0.162], [0.3811, 0.816, 0.1869, 0.1515], [0.1473, 0.8384, 0.0689, 0.0487], [0.1651, 0.8175, 0.0666, 0.0395]]\n",
            "Processing IMG_20191215_112516.jpg: [[0.6263, 0.3444, 0.216, 0.1769], [0.4941, 0.4022, 0.265, 0.1878], [0.3671, 0.5254, 0.2545, 0.1922], [0.5829, 0.6892, 0.2422, 0.1817]]\n",
            "Processing IMG_20191215_111554.jpg: [[0.5165, 0.5232, 0.2714, 0.2114], [0.2891, 0.5623, 0.2137, 0.1699], [0.396, 0.7007, 0.262, 0.2537], [0.0775, 0.7459, 0.1514, 0.1188], [0.2405, 0.8281, 0.219, 0.1895], [0.0719, 0.8591, 0.0926, 0.0638]]\n",
            "Processing IMG_1122.jpg: [[0.5581, 0.4376, 0.1406, 0.0979], [0.5114, 0.3804, 0.1075, 0.0783], [0.3477, 0.4998, 0.0693, 0.0535], [0.4034, 0.4312, 0.0603, 0.0475], [0.4466, 0.4655, 0.0864, 0.0678], [0.3838, 0.5796, 0.0834, 0.0625], [0.3648, 0.6564, 0.0593, 0.0475], [0.427, 0.7171, 0.0793, 0.0663], [0.4973, 0.5902, 0.1075, 0.0836], [0.6123, 0.5951, 0.1225, 0.0889], [0.6636, 0.716, 0.1024, 0.0746], [0.7173, 0.7932, 0.0753, 0.0542], [0.9076, 0.7736, 0.0562, 0.0422], [0.8724, 0.6839, 0.0803, 0.0618], [0.9402, 0.5442, 0.0653, 0.0459], [0.8107, 0.586, 0.1035, 0.0798], [0.8268, 0.5201, 0.0814, 0.0595], [0.7113, 0.487, 0.1115, 0.0821], [0.6877, 0.3231, 0.0663, 0.0633], [0.6379, 0.406, 0.0894, 0.0753]]\n",
            "Processing IMG_20191215_111503.jpg: [[0.3542, 0.6971, 0.279, 0.2184], [0.6236, 0.6486, 0.2972, 0.24]]\n",
            "Processing IMG_1170.jpg: [[0.9659, 0.1929, 0.0669, 0.0995], [0.8547, 0.1365, 0.1286, 0.0801], [0.8559, 0.2965, 0.091, 0.0691], [0.8277, 0.3426, 0.0804, 0.0537], [0.8239, 0.2501, 0.1033, 0.0696], [0.8033, 0.3947, 0.0669, 0.0462], [0.9072, 0.3795, 0.1045, 0.0722], [0.9659, 0.4031, 0.0681, 0.055], [0.0906, 0.4456, 0.1585, 0.1286], [0.2221, 0.4493, 0.1374, 0.1272], [0.3404, 0.5211, 0.1438, 0.0753], [0.3592, 0.4588, 0.1591, 0.118], [0.4387, 0.4542, 0.0928, 0.1088], [0.4646, 0.5678, 0.1303, 0.0841], [0.6031, 0.5618, 0.1327, 0.0995], [0.6842, 0.6578, 0.1538, 0.1118], [0.6075, 0.6587, 0.0663, 0.0863], [0.6207, 0.7041, 0.0951, 0.044], [0.6997, 0.7681, 0.1227, 0.0876], [0.6172, 0.7501, 0.061, 0.0498], [0.6698, 0.8291, 0.0558, 0.0502], [0.1746, 0.2952, 0.074, 0.0594], [0.7922, 0.297, 0.054, 0.0445]]\n",
            "Processing IMG_1277.jpg: [[0.4123, 0.4181, 0.0752, 0.0691], [0.4602, 0.4091, 0.0628, 0.0643], [0.3527, 0.443, 0.0746, 0.0643], [0.3216, 0.3729, 0.0734, 0.0634], [0.2835, 0.4168, 0.0699, 0.063], [0.3933, 0.3507, 0.0875, 0.0674], [0.4731, 0.3492, 0.0769, 0.0616], [0.5165, 0.3373, 0.0746, 0.0687], [0.5817, 0.3408, 0.1133, 0.0775], [0.5482, 0.4154, 0.0722, 0.0621], [0.6662, 0.4892, 0.0804, 0.0643], [0.7147, 0.531, 0.0834, 0.0652], [0.6574, 0.5497, 0.0793, 0.0621], [0.5976, 0.551, 0.0675, 0.0568], [0.6381, 0.6032, 0.0746, 0.0608], [0.7261, 0.5946, 0.0875, 0.0638], [0.555, 0.8612, 0.0564, 0.0493], [0.5289, 0.9002, 0.0511, 0.0498], [0.5829, 0.5852, 0.0546, 0.0291], [0.5893, 0.5171, 0.0581, 0.0436], [0.4616, 0.4775, 0.0599, 0.0515]]\n",
            "Processing IMG_1029.jpg: [[0.6015, 0.0616, 0.1761, 0.1233], [0.476, 0.5234, 0.1138, 0.0996], [0.5012, 0.4386, 0.1368, 0.1038], [0.7035, 0.0194, 0.1104, 0.0387]]\n",
            "Error processing IMG_1029.jpg: Expected y_min for bbox [    0.51345 -5.0001e-05     0.68955     0.12325           2] to be in the range [0.0, 1.0], got -5.000084638595581e-05.\n",
            "Processing IMG_1184.jpg: [[0.2015, 0.2649, 0.2306, 0.1817], [0.1723, 0.1453, 0.1149, 0.0658], [0.0772, 0.1957, 0.153, 0.1421], [0.1036, 0.0463, 0.1514, 0.0914], [0.1292, 0.403, 0.1421, 0.1037], [0.0431, 0.3628, 0.0831, 0.092], [0.2822, 0.0684, 0.2228, 0.1357], [0.3008, 0.3983, 0.1933, 0.1537], [0.2919, 0.6301, 0.1615, 0.1747], [0.2022, 0.6347, 0.0784, 0.1188], [0.4503, 0.6044, 0.3292, 0.2364], [0.3233, 0.8656, 0.1654, 0.1368], [0.6661, 0.3441, 0.2438, 0.1817], [0.8338, 0.4685, 0.2283, 0.1683], [0.6343, 0.6568, 0.1475, 0.1141], [0.5963, 0.7884, 0.2454, 0.1887], [0.6859, 0.1319, 0.1669, 0.1368], [0.7488, 0.9512, 0.1778, 0.0961], [0.9503, 0.8516, 0.0994, 0.117], [0.9293, 0.7803, 0.1336, 0.0943], [0.6549, 0.8938, 0.0986, 0.0722], [0.9099, 0.7063, 0.0932, 0.0664], [0.658, 0.2271, 0.1188, 0.0675]]\n",
            "Processing IMG_1132.jpg: [[0.2954, 0.8219, 0.2259, 0.1846], [0.4914, 0.7084, 0.1615, 0.1205], [0.4487, 0.573, 0.1413, 0.1025], [0.3944, 0.7931, 0.1242, 0.1234], [0.7741, 0.1729, 0.222, 0.1712], [0.696, 0.2786, 0.1623, 0.1392], [0.7065, 0.3925, 0.1289, 0.1013], [0.913, 0.334, 0.1429, 0.0996], [0.8416, 0.4085, 0.146, 0.1077], [0.3878, 0.1144, 0.1064, 0.0612], [0.1362, 0.0838, 0.1623, 0.1514], [0.1929, 0.1753, 0.0675, 0.0652], [0.5528, 0.5753, 0.0761, 0.0594], [0.7791, 0.8577, 0.1172, 0.1071], [0.5935, 0.6784, 0.1157, 0.0885], [0.5893, 0.9297, 0.1537, 0.1205], [0.5256, 0.9806, 0.1444, 0.0373], [0.2418, 0.6423, 0.1809, 0.1328], [0.2434, 0.55, 0.0862, 0.0693], [0.2713, 0.7142, 0.1452, 0.0949], [0.3397, 0.9561, 0.1421, 0.0862]]\n",
            "Processing IMG_20191215_111133.jpg: [[0.0298, 0.2274, 0.0579, 0.0695], [0.3153, 0.2532, 0.073, 0.0957], [0.3816, 0.3173, 0.0932, 0.1336], [0.3327, 0.3341, 0.051, 0.0899], [0.4279, 0.2739, 0.0133, 0.0166], [0.1613, 0.4737, 0.056, 0.0671], [0.2129, 0.4971, 0.0532, 0.0619], [0.1727, 0.529, 0.0591, 0.0768], [0.1345, 0.5293, 0.0414, 0.0522], [0.1353, 0.5706, 0.0382, 0.0448], [0.2388, 0.609, 0.0545, 0.0695], [0.2771, 0.634, 0.0407, 0.0589], [0.499, 0.7972, 0.077, 0.1015], [0.5456, 0.7208, 0.0824, 0.1143], [0.4669, 0.6896, 0.0859, 0.1256], [0.7802, 0.4289, 0.1789, 0.2138], [0.6621, 0.5261, 0.1216, 0.1753], [0.7315, 0.5406, 0.0524, 0.0706], [0.6699, 0.415, 0.0805, 0.1313], [0.8711, 0.2851, 0.1494, 0.1895], [0.7401, 0.2544, 0.1173, 0.1683], [0.5958, 0.0488, 0.0483, 0.0852]]\n",
            "Processing IMG_20191215_110647.jpg: [[0.3866, 0.395, 0.283, 0.2165], [0.6892, 0.4422, 0.3403, 0.2427], [0.5843, 0.6211, 0.1863, 0.1356], [0.4552, 0.7083, 0.1428, 0.1268], [0.6076, 0.7517, 0.2137, 0.1492], [0.237, 0.9846, 0.0962, 0.03], [0.34, 0.9464, 0.1028, 0.0836], [0.3218, 0.1565, 0.0835, 0.063]]\n",
            "Processing IMG_20191215_110658.jpg: [[0.651, 0.3854, 0.1176, 0.093], [0.5724, 0.4536, 0.12, 0.1087], [0.4035, 0.5197, 0.2818, 0.2114], [0.2813, 0.438, 0.1642, 0.1171]]\n",
            "Processing IMG_20191215_112526.jpg: [[0.4385, 0.2446, 0.1223, 0.1057], [0.336, 0.4944, 0.0967, 0.0655], [0.4813, 0.5022, 0.1205, 0.083], [0.3401, 0.552, 0.0687, 0.0349], [0.3814, 0.6494, 0.1502, 0.1022], [0.58, 0.5959, 0.1712, 0.1297], [0.4778, 0.6138, 0.06, 0.0712], [0.5317, 0.6492, 0.0745, 0.0415], [0.4749, 0.6704, 0.0612, 0.0411], [0.2705, 0.5848, 0.0378, 0.0515], [0.1884, 0.6175, 0.0355, 0.0376]]\n",
            "Processing IMG_1175.jpg: [[0.4107, 0.3322, 0.1662, 0.131], [0.6665, 0.5302, 0.1794, 0.1205], [0.3998, 0.5386, 0.1366, 0.1048], [0.5819, 0.6714, 0.1452, 0.1036], [0.3676, 0.6979, 0.1266, 0.0926], [0.4418, 0.7614, 0.0776, 0.0623], [0.389, 0.741, 0.0947, 0.0448], [0.5609, 0.7698, 0.1265, 0.0932]]\n",
            "Processing IMG_20191215_111245.jpg: [[0.7349, 0.2614, 0.1561, 0.1149], [0.7666, 0.3269, 0.1415, 0.0825], [0.4472, 0.2965, 0.1817, 0.138], [0.3418, 0.3518, 0.1456, 0.107], [0.4283, 0.402, 0.1124, 0.0817], [0.3577, 0.5831, 0.1015, 0.0714], [0.3166, 0.6496, 0.1212, 0.0941], [0.427, 0.6369, 0.0955, 0.0772], [0.5575, 0.6068, 0.1155, 0.0839], [0.5077, 0.6783, 0.1092, 0.0792], [0.5478, 0.7174, 0.1542, 0.1079], [0.2646, 0.7256, 0.0549, 0.0223], [0.2205, 0.763, 0.0322, 0.0412], [0.2614, 0.7569, 0.0788, 0.061], [0.2772, 0.8046, 0.0735, 0.0591]]\n",
            "Processing IMG_20191215_111353.jpg: [[0.2902, 0.2832, 0.0845, 0.0703], [0.1966, 0.2853, 0.1052, 0.0806], [0.2475, 0.3322, 0.0713, 0.0581], [0.419, 0.516, 0.2004, 0.1727], [0.4128, 0.6075, 0.0876, 0.0307], [0.4218, 0.6468, 0.0705, 0.0525], [0.3509, 0.6289, 0.0731, 0.0624], [0.679, 0.5931, 0.3238, 0.2385], [0.4575, 0.3921, 0.122, 0.0847], [0.2312, 0.4968, 0.0503, 0.0352]]\n",
            "Processing IMG_0986.jpg: [[0.6572, 0.5622, 0.3082, 0.2417], [0.3331, 0.5814, 0.3773, 0.3045], [0.1735, 0.3165, 0.3455, 0.3104]]\n",
            "Processing IMG_20191215_111237.jpg: [[0.5348, 0.5129, 0.322, 0.2188], [0.4609, 0.7449, 0.2929, 0.2843]]\n",
            "Processing IMG_20191215_111532.jpg: [[0.5537, 0.5929, 0.2171, 0.1694], [0.387, 0.6628, 0.2747, 0.2173], [0.575, 0.7572, 0.2263, 0.1585]]\n",
            "Processing IMG_20191215_111011.jpg: [[0.3136, 0.1207, 0.1124, 0.1452], [0.2445, 0.157, 0.1122, 0.1353], [0.6193, 0.0539, 0.057, 0.0955], [0.5778, 0.0717, 0.0352, 0.0669], [0.578, 0.2369, 0.0341, 0.0419], [0.6009, 0.2844, 0.0793, 0.097], [0.223, 0.3893, 0.0747, 0.0924], [0.2265, 0.4692, 0.0831, 0.1062], [0.2743, 0.4794, 0.0586, 0.0909], [0.2902, 0.5271, 0.0666, 0.0832], [0.5835, 0.789, 0.108, 0.1578], [0.685, 0.8467, 0.1317, 0.169], [0.7146, 0.8071, 0.1581, 0.2032], [0.0157, 0.0784, 0.0309, 0.0406], [0.0188, 0.0639, 0.0298, 0.0315]]\n",
            "Processing IMG_1085.jpg: [[0.6413, 0.5861, 0.3478, 0.3174], [0.5047, 0.7585, 0.3075, 0.2568], [0.3397, 0.6525, 0.2477, 0.2265], [0.3303, 0.4356, 0.3113, 0.2434], [0.7329, 0.1686, 0.2252, 0.1683]]\n",
            "Processing IMG_1129.jpg: [[0.2295, 0.4978, 0.1157, 0.0797], [0.3178, 0.5521, 0.1315, 0.1013], [0.5377, 0.5055, 0.1297, 0.0916], [0.4344, 0.5013, 0.0945, 0.0797], [0.5042, 0.6083, 0.098, 0.0683], [0.4006, 0.6085, 0.1139, 0.0819], [0.3486, 0.6578, 0.1016, 0.0687], [0.2984, 0.6988, 0.0822, 0.0546], [0.2162, 0.5938, 0.1104, 0.0771], [0.2116, 0.6536, 0.0916, 0.0577], [0.5039, 0.3967, 0.0881, 0.0687], [0.9337, 0.0161, 0.0704, 0.0321], [0.9319, 0.0524, 0.074, 0.0555], [0.9093, 0.155, 0.0781, 0.059], [0.9055, 0.1275, 0.0704, 0.0454], [0.9366, 0.2199, 0.0564, 0.0427], [0.8846, 0.2342, 0.0687, 0.052], [0.8841, 0.2772, 0.0605, 0.0418], [0.8101, 0.1501, 0.0757, 0.052], [0.7564, 0.1391, 0.0564, 0.0449], [0.8136, 0.2285, 0.057, 0.0432], [0.8066, 0.2677, 0.0569, 0.0396], [0.8121, 0.306, 0.0399, 0.0238], [0.7572, 0.2147, 0.0652, 0.0524], [0.7197, 0.1962, 0.0499, 0.0365], [0.7561, 0.2615, 0.0429, 0.0317], [0.7062, 0.258, 0.0452, 0.0326]]\n",
            "Processing IMG_1137.jpg: [[0.2749, 0.7772, 0.0294, 0.0228], [0.2801, 0.7536, 0.0312, 0.024], [0.2947, 0.7456, 0.0274, 0.0187], [0.3153, 0.7637, 0.0302, 0.0232], [0.306, 0.7819, 0.0256, 0.0169], [0.2787, 0.6982, 0.0264, 0.0179], [0.3061, 0.6798, 0.0249, 0.0183], [0.316, 0.7268, 0.0233, 0.0156], [0.3311, 0.7362, 0.0287, 0.02], [0.3396, 0.7668, 0.0254, 0.0187], [0.3416, 0.7435, 0.0335, 0.0263], [0.3348, 0.6575, 0.0426, 0.0339], [0.3519, 0.7076, 0.0459, 0.0343], [0.3717, 0.699, 0.0439, 0.0354], [0.3689, 0.7789, 0.0216, 0.0156], [0.3969, 0.7396, 0.0442, 0.036], [0.3227, 0.701, 0.0195, 0.0146], [0.401, 0.7229, 0.0401, 0.0204], [0.4303, 0.7615, 0.0353, 0.0238], [0.4291, 0.784, 0.0419, 0.0322], [0.4456, 0.8212, 0.0378, 0.0282], [0.4173, 0.8142, 0.0289, 0.0209], [0.4457, 0.8431, 0.0264, 0.0198], [0.423, 0.8432, 0.0307, 0.0246], [0.4991, 0.2924, 0.0337, 0.0282], [0.5336, 0.336, 0.0348, 0.0278], [0.5839, 0.337, 0.0368, 0.0287], [0.5834, 0.3705, 0.0221, 0.0173], [0.5718, 0.416, 0.0279, 0.0223], [0.5497, 0.4359, 0.03, 0.0228], [0.5538, 0.4502, 0.0244, 0.0171], [0.5131, 0.4099, 0.0292, 0.0234], [0.5124, 0.4306, 0.0254, 0.0198], [0.5108, 0.4478, 0.0236, 0.0177], [0.5425, 0.4643, 0.0231, 0.0183], [0.5241, 0.4652, 0.0157, 0.0145], [0.5401, 0.5527, 0.0274, 0.0208], [0.5053, 0.5753, 0.0244, 0.0183], [0.4886, 0.5612, 0.0244, 0.0171], [0.476, 0.5749, 0.0246, 0.0168], [0.4792, 0.5879, 0.0198, 0.0131], [0.5669, 0.5755, 0.0282, 0.019], [0.5395, 0.5835, 0.0241, 0.015], [0.5395, 0.5977, 0.0251, 0.0168], [0.5223, 0.5992, 0.0173, 0.0131], [0.5807, 0.5897, 0.0259, 0.0168], [0.5629, 0.5893, 0.0157, 0.0128], [0.5844, 0.6027, 0.0221, 0.0148], [0.5072, 0.7, 0.0206, 0.0143], [0.493, 0.6982, 0.014, 0.0137], [0.5372, 0.6832, 0.0231, 0.0148], [0.4994, 0.6709, 0.0175, 0.0131], [0.5195, 0.6593, 0.0239, 0.0177], [0.5489, 0.6663, 0.0211, 0.0188], [0.5332, 0.6427, 0.0244, 0.0217], [0.5459, 0.6359, 0.0274, 0.023], [0.559, 0.6706, 0.0297, 0.0244], [0.5711, 0.6882, 0.0274, 0.0211], [0.5733, 0.7061, 0.0259, 0.0177], [0.6068, 0.6131, 0.0269, 0.019], [0.6053, 0.6324, 0.031, 0.0209], [0.6181, 0.6553, 0.0327, 0.0242], [0.6367, 0.6377, 0.019, 0.0202], [0.5891, 0.7664, 0.0183, 0.0149], [0.6099, 0.7488, 0.0223, 0.0181], [0.6093, 0.6974, 0.0277, 0.0211], [0.6091, 0.6749, 0.0269, 0.0234], [0.6374, 0.6746, 0.0302, 0.0228], [0.6435, 0.7324, 0.0231, 0.0177], [0.6371, 0.7074, 0.0213, 0.0168], [0.6584, 0.6331, 0.0305, 0.0225], [0.6896, 0.6536, 0.0294, 0.023], [0.6722, 0.6633, 0.0175, 0.015], [0.6615, 0.7226, 0.0231, 0.016], [0.6598, 0.6917, 0.0307, 0.0211], [0.6536, 0.7484, 0.0239, 0.0166], [0.6764, 0.7144, 0.0254, 0.0198], [0.7161, 0.6798, 0.0266, 0.0232], [0.6443, 0.7203, 0.0175, 0.0152], [0.7072, 0.7495, 0.0231, 0.0188], [0.7127, 0.7276, 0.0213, 0.0187], [0.701, 0.7323, 0.0208, 0.019], [0.6779, 0.745, 0.0203, 0.0154], [0.6902, 0.7589, 0.0221, 0.0166], [0.7185, 0.7615, 0.0198, 0.0158], [0.7355, 0.7445, 0.0122, 0.0088], [0.732, 0.7493, 0.0244, 0.0177], [0.7492, 0.7358, 0.0228, 0.0166], [0.6058, 0.5697, 0.0183, 0.0141], [0.7447, 0.3007, 0.0259, 0.0196], [0.7377, 0.3156, 0.0272, 0.0183], [0.7279, 0.3322, 0.0234, 0.0168], [0.7157, 0.3465, 0.0162, 0.012], [0.7006, 0.3505, 0.0206, 0.0139], [0.7121, 0.288, 0.0266, 0.0206], [0.7067, 0.3062, 0.0282, 0.0192], [0.6988, 0.3194, 0.0261, 0.0179], [0.6936, 0.3347, 0.0168, 0.0143], [0.7517, 0.6447, 0.0163, 0.0126], [0.7688, 0.6471, 0.0139, 0.0108], [0.7099, 0.5718, 0.0223, 0.0157], [0.7211, 0.5857, 0.017, 0.0141], [0.7144, 0.5551, 0.0203, 0.0154], [0.7068, 0.5486, 0.0192, 0.0152], [0.6942, 0.5573, 0.0161, 0.0111], [0.7471, 0.5798, 0.0207, 0.0161], [0.7473, 0.5967, 0.0216, 0.0146], [0.748, 0.6113, 0.0159, 0.0126], [0.7657, 0.5545, 0.0179, 0.0119], [0.7783, 0.5537, 0.0117, 0.0109], [0.7702, 0.5724, 0.0203, 0.0149], [0.7828, 0.5837, 0.0159, 0.0111], [0.7993, 0.5792, 0.0201, 0.0149], [0.7992, 0.5537, 0.0225, 0.0146], [0.8018, 0.5654, 0.0225, 0.0134], [0.7342, 0.5499, 0.0179, 0.0142], [0.8601, 0.5142, 0.0225, 0.0147], [0.8426, 0.4862, 0.0177, 0.0147], [0.8504, 0.5203, 0.0185, 0.0144], [0.8359, 0.5285, 0.0179, 0.0126], [0.8276, 0.5155, 0.019, 0.0134], [0.9105, 0.5069, 0.0183, 0.0122], [0.9197, 0.5165, 0.0185, 0.0121], [0.8959, 0.526, 0.0214, 0.0141], [0.9284, 0.5279, 0.017, 0.0139], [0.9147, 0.5413, 0.0179, 0.0122]]\n",
            "Processing IMG_20191215_111934.jpg: [[0.1983, 0.1321, 0.0448, 0.0319], [0.1572, 0.1398, 0.0349, 0.0288], [0.3013, 0.2959, 0.124, 0.0808], [0.276, 0.3544, 0.1537, 0.1079], [0.2731, 0.4324, 0.1339, 0.0769], [0.3043, 0.5075, 0.1194, 0.0804], [0.2984, 0.5474, 0.0902, 0.0371], [0.64, 0.6601, 0.0967, 0.0773], [0.8668, 0.5693, 0.053, 0.0354], [0.7125, 0.6276, 0.0425, 0.0515], [0.6207, 0.6339, 0.0676, 0.045], [0.8289, 0.6437, 0.1077, 0.0865], [0.5235, 0.6339, 0.0524, 0.0406], [0.5395, 0.6732, 0.0483, 0.0336], [0.4644, 0.7204, 0.0984, 0.0712], [0.4428, 0.9237, 0.1042, 0.0908]]\n",
            "Processing IMG_1252.jpg: [[0.1145, 0.1363, 0.0955, 0.0943], [0.21, 0.2152, 0.1188, 0.0844], [0.281, 0.2912, 0.1366, 0.1025], [0.1638, 0.3191, 0.0839, 0.0501], [0.0718, 0.311, 0.1126, 0.0839], [0.3905, 0.2437, 0.1522, 0.1322], [0.4654, 0.1732, 0.2399, 0.1997], [0.441, 0.4242, 0.191, 0.1531], [0.0332, 0.8466, 0.0648, 0.082], [0.0237, 0.7423, 0.0459, 0.076], [0.1648, 0.7145, 0.081, 0.0618], [0.0929, 0.7289, 0.0911, 0.0623], [0.0487, 0.8168, 0.0824, 0.0628], [0.3414, 0.382, 0.133, 0.1159], [0.3755, 0.497, 0.1593, 0.1139], [0.2938, 0.4615, 0.0729, 0.0521], [0.2607, 0.4274, 0.0689, 0.0456], [0.6189, 0.3772, 0.187, 0.1509], [0.7289, 0.4661, 0.1519, 0.1099], [0.7384, 0.5714, 0.1452, 0.1038], [0.5902, 0.5547, 0.1404, 0.1038], [0.7259, 0.6871, 0.108, 0.082], [0.6412, 0.6578, 0.1317, 0.1043], [0.5747, 0.6466, 0.0959, 0.0901], [0.682, 0.8054, 0.0635, 0.0501], [0.6125, 0.816, 0.0891, 0.0613], [0.5817, 0.756, 0.1316, 0.1033], [0.4889, 0.8104, 0.1188, 0.0957], [0.1709, 0.3866, 0.0378, 0.0329]]\n",
            "Processing IMG_20191215_111431.jpg: [[0.873, 0.7409, 0.1868, 0.1384], [0.9442, 0.8296, 0.1062, 0.1531], [0.6086, 0.8011, 0.0859, 0.0509], [0.6267, 0.7714, 0.1235, 0.0944], [0.5664, 0.718, 0.0889, 0.0791], [0.5141, 0.9675, 0.0535, 0.0525], [0.5472, 0.4327, 0.1183, 0.0746], [0.2418, 0.3135, 0.0572, 0.0373], [0.2821, 0.598, 0.0535, 0.0333], [0.2474, 0.5943, 0.0324, 0.0339], [0.2843, 0.5709, 0.049, 0.0322], [0.2478, 0.5228, 0.0362, 0.048], [0.2004, 0.5598, 0.0362, 0.0237], [0.1966, 0.5115, 0.0648, 0.0537], [0.252, 0.4969, 0.0505, 0.0322], [0.2388, 0.4587, 0.0708, 0.0565], [0.0987, 0.4813, 0.0271, 0.0192], [0.096, 0.4977, 0.0279, 0.0192], [0.0742, 0.494, 0.0294, 0.0209]]\n",
            "Processing IMG_1241.jpg: [[0.7895, 0.4344, 0.1297, 0.0964], [0.7907, 0.5026, 0.057, 0.0427], [0.7675, 0.5581, 0.061, 0.0462], [0.6331, 0.4412, 0.1515, 0.1198], [0.6621, 0.5277, 0.1156, 0.0815], [0.6783, 0.5695, 0.0681, 0.041], [0.4726, 0.2296, 0.1962, 0.1595], [0.1428, 0.1545, 0.0861, 0.0679], [0.0316, 0.0711, 0.0626, 0.1015], [0.0456, 0.295, 0.0675, 0.0539], [0.0209, 0.3471, 0.0404, 0.0509], [0.0465, 0.2435, 0.071, 0.0596], [0.175, 0.4929, 0.1878, 0.1242], [0.4962, 0.4586, 0.1358, 0.0982], [0.4031, 0.5182, 0.1292, 0.0982], [0.3236, 0.6044, 0.0718, 0.0539], [0.3043, 0.6489, 0.0614, 0.0446], [0.2568, 0.6304, 0.0866, 0.0629], [0.2676, 0.6747, 0.041, 0.0292], [0.2221, 0.6873, 0.0534, 0.0327], [0.1946, 0.6267, 0.0547, 0.0471], [0.7053, 0.6455, 0.0436, 0.0298], [0.6823, 0.608, 0.0471, 0.0359], [0.7827, 0.64, 0.027, 0.0182], [0.1211, 0.8251, 0.074, 0.066], [0.1041, 0.8756, 0.0458, 0.0427], [0.1185, 0.9088, 0.0569, 0.044], [0.0677, 0.9502, 0.0587, 0.0467], [0.1455, 0.8524, 0.0429, 0.052]]\n",
            "Processing IMG_1262.jpg: [[0.3323, 0.2755, 0.1607, 0.1175], [0.3252, 0.382, 0.1519, 0.1058], [0.3451, 0.516, 0.1175, 0.0952], [0.5287, 0.4347, 0.1188, 0.1018], [0.4384, 0.4093, 0.0317, 0.0291], [0.3767, 0.4371, 0.0419, 0.0402], [0.4111, 0.3714, 0.0414, 0.0521], [0.4252, 0.3993, 0.0664, 0.0528], [0.5472, 0.5686, 0.1072, 0.0973], [0.4249, 0.4535, 0.0403, 0.0425], [0.4525, 0.4275, 0.0373, 0.041], [0.4267, 0.6342, 0.0776, 0.0999], [0.6263, 0.6668, 0.0623, 0.0563], [0.5714, 0.7416, 0.0975, 0.0865], [0.5127, 0.7344, 0.0669, 0.0682], [0.4954, 0.8025, 0.0771, 0.0773], [0.6077, 0.8504, 0.072, 0.085], [0.626, 0.9735, 0.0546, 0.0524], [0.927, 0.3105, 0.0674, 0.0483], [0.9441, 0.3346, 0.0567, 0.0459], [0.9666, 0.3679, 0.0587, 0.0482], [0.9691, 0.4106, 0.0597, 0.0425], [0.9617, 0.4547, 0.0541, 0.0425], [0.9786, 0.4776, 0.0429, 0.0379], [0.9533, 0.4912, 0.0332, 0.0329], [0.685, 0.9493, 0.0546, 0.052]]\n",
            "Error processing IMG_1262.jpg: Expected x_max for bbox [    0.95715     0.45865      1.0001     0.49655           5] to be in the range [0.0, 1.0], got 1.0000500679016113.\n",
            "Processing IMG_0992.jpg: [[0.533, 0.4816, 0.2321, 0.1805]]\n",
            "Processing IMG_20191215_110851.jpg: [[0.474, 0.8624, 0.1396, 0.0941], [0.454, 0.9448, 0.1788, 0.1096], [0.5528, 0.4412, 0.166, 0.1228], [0.4139, 0.4424, 0.14, 0.1199], [0.3382, 0.3794, 0.0854, 0.0713], [0.9643, 0.4352, 0.0429, 0.0658]]\n",
            "Processing IMG_20191215_110835.jpg: [[0.4819, 0.4726, 0.1694, 0.1258], [0.4198, 0.6014, 0.1642, 0.1424], [0.5986, 0.5765, 0.205, 0.1738], [0.5247, 0.7047, 0.1887, 0.1192], [0.055, 0.9827, 0.1054, 0.0341], [0.4276, 0.5404, 0.1615, 0.0896]]\n",
            "Processing IMG_20191215_112621.jpg: [[0.4376, 0.3704, 0.2638, 0.2], [0.6449, 0.6555, 0.2533, 0.1948], [0.2859, 0.6354, 0.2015, 0.1476], [0.2996, 0.7084, 0.1497, 0.0743], [0.4364, 0.7813, 0.1683, 0.138], [0.2932, 0.8005, 0.1089, 0.0926], [0.3907, 0.8342, 0.0955, 0.0672]]\n",
            "Processing IMG_20191215_110719.jpg: [[0.5252, 0.4101, 0.2947, 0.1887], [0.2711, 0.4256, 0.2614, 0.1725], [0.3508, 0.5346, 0.2778, 0.173], [0.3234, 0.6829, 0.0771, 0.0561], [0.162, 0.688, 0.074, 0.0571], [0.3644, 0.6621, 0.0462, 0.0528], [0.1375, 0.9077, 0.0826, 0.0609]]\n",
            "Processing IMG_20191215_112348.jpg: [[0.9168, 0.147, 0.1648, 0.1961], [0.7529, 0.2985, 0.1933, 0.1507], [0.5619, 0.0915, 0.0699, 0.059], [0.5718, 0.1446, 0.071, 0.0594], [0.5153, 0.1563, 0.0676, 0.0533], [0.8464, 0.4206, 0.1555, 0.1162], [0.4545, 0.4625, 0.2533, 0.1904], [0.2344, 0.4131, 0.216, 0.1555], [0.205, 0.6149, 0.2108, 0.152], [0.4327, 0.6437, 0.1956, 0.1424]]\n",
            "Processing IMG_20191215_111753.jpg: [[0.3666, 0.5913, 0.3115, 0.2289], [0.5878, 0.7014, 0.2941, 0.2289]]\n",
            "Processing IMG_20191215_112711.jpg: [[0.0358, 0.0413, 0.0681, 0.0808], [0.0675, 0.1072, 0.1095, 0.1009], [0.0809, 0.1793, 0.1211, 0.1131], [0.1497, 0.1963, 0.085, 0.0956], [0.0559, 0.2682, 0.1083, 0.0978], [0.2035, 0.2791, 0.0868, 0.0908], [0.2038, 0.212, 0.0501, 0.0502], [0.2082, 0.3129, 0.0693, 0.0528], [0.5133, 0.2909, 0.0343, 0.0349], [0.4868, 0.3009, 0.0326, 0.0288], [0.4664, 0.2885, 0.021, 0.0293], [0.7112, 0.3037, 0.0356, 0.0325], [0.6959, 0.3228, 0.031, 0.0304], [0.7845, 0.3243, 0.036, 0.0301], [0.7326, 0.2854, 0.0402, 0.0339], [0.7286, 0.3162, 0.0345, 0.0281], [0.7713, 0.2879, 0.0394, 0.0405], [0.7571, 0.3053, 0.0295, 0.023], [0.8111, 0.2583, 0.0333, 0.0342], [0.8186, 0.2897, 0.0421, 0.0293], [0.8102, 0.2989, 0.0414, 0.0345], [0.8052, 0.3205, 0.0299, 0.027], [0.8314, 0.5013, 0.0952, 0.0555], [0.7497, 0.5254, 0.0977, 0.0733], [0.8294, 0.5632, 0.1033, 0.0866], [0.8957, 0.5438, 0.0648, 0.0456], [0.8864, 0.586, 0.0805, 0.0744], [0.956, 0.6221, 0.0841, 0.0706], [0.937, 0.6498, 0.0643, 0.0509], [0.7626, 0.6469, 0.0547, 0.0695], [0.7122, 0.5795, 0.1149, 0.0684], [0.6988, 0.6481, 0.1073, 0.1037], [0.6008, 0.6213, 0.1008, 0.098], [0.7456, 0.7172, 0.0998, 0.0763], [0.7897, 0.709, 0.0603, 0.0684], [0.8137, 0.7685, 0.081, 0.0748], [0.8375, 0.7514, 0.0618, 0.0649], [0.8416, 0.6131, 0.0405, 0.03], [0.6446, 0.7206, 0.0699, 0.0748], [0.5545, 0.7164, 0.1114, 0.0786], [0.5517, 0.6464, 0.1099, 0.098], [0.501, 0.6247, 0.0977, 0.101], [0.558, 0.7827, 0.0871, 0.079], [0.3547, 0.641, 0.0947, 0.0797], [0.4451, 0.6857, 0.1084, 0.0877], [0.4393, 0.7557, 0.0937, 0.079], [0.4851, 0.8275, 0.0841, 0.0896], [0.9004, 0.6215, 0.0352, 0.037], [0.8824, 0.6336, 0.0308, 0.0202], [0.8987, 0.6519, 0.0255, 0.0264], [0.8764, 0.6499, 0.026, 0.0251]]\n",
            "Processing IMG_1011.jpg: [[0.4938, 0.5567, 0.4488, 0.283]]\n",
            "Processing IMG_20191215_110751.jpg: [[0.5831, 0.6745, 0.1301, 0.0995], [0.4251, 0.6802, 0.1939, 0.1458], [0.3522, 0.5507, 0.1504, 0.1208], [0.4704, 0.5871, 0.1448, 0.1056]]\n",
            "Processing IMG_20191215_110705.jpg: [[0.6388, 0.5549, 0.3692, 0.2651], [0.3572, 0.6047, 0.2894, 0.2197]]\n",
            "Processing IMG_20191215_111626.jpg: [[0.4755, 0.419, 0.2288, 0.1725], [0.4475, 0.5522, 0.1496, 0.1201], [0.3246, 0.614, 0.1799, 0.1284], [0.4003, 0.7348, 0.2428, 0.1594]]\n",
            "Processing IMG_20191215_111559.jpg: [[0.3924, 0.578, 0.318, 0.2332], [0.6567, 0.6245, 0.2613, 0.2115]]\n",
            "Processing IMG_20191215_110708.jpg: [[0.4548, 0.7018, 0.396, 0.2909]]\n",
            "Processing IMG_1005.jpg: [[0.3426, 0.4264, 0.095, 0.0695], [0.4432, 0.4029, 0.1085, 0.079], [0.4957, 0.4069, 0.0706, 0.0738], [0.5806, 0.4063, 0.1208, 0.1091], [0.5156, 0.4732, 0.098, 0.064], [0.4217, 0.6006, 0.0865, 0.0599], [0.4189, 0.5604, 0.0845, 0.0489], [0.5001, 0.5546, 0.0849, 0.068], [0.1809, 0.6376, 0.0595, 0.0541], [0.0938, 0.6197, 0.0761, 0.0391], [0.056, 0.6366, 0.0598, 0.0307]]\n",
            "Processing IMG_20191215_111726.jpg: [[0.4431, 0.7804, 0.2283, 0.1887], [0.6804, 0.4981, 0.216, 0.1559], [0.497, 0.5789, 0.2801, 0.2005], [0.322, 0.9811, 0.0815, 0.0371], [0.5276, 0.7276, 0.2399, 0.1424]]\n",
            "Processing IMG_20191215_112614.jpg: [[0.4944, 0.485, 0.1479, 0.0991], [0.6033, 0.5121, 0.113, 0.0625], [0.4507, 0.5293, 0.0815, 0.0769], [0.5445, 0.5852, 0.1596, 0.1266], [0.5459, 0.7012, 0.152, 0.1166], [0.6111, 0.7717, 0.1217, 0.097], [0.6155, 0.6455, 0.0967, 0.0873], [0.1281, 0.5239, 0.0955, 0.066], [0.2256, 0.549, 0.0891, 0.0646], [0.1435, 0.573, 0.0821, 0.055], [0.2259, 0.6053, 0.0769, 0.0542]]\n",
            "Processing IMG_1149.jpg: [[0.1499, 0.203, 0.0845, 0.0643], [0.0266, 0.2442, 0.0517, 0.0691], [0.3847, 0.6814, 0.0787, 0.0656], [0.5582, 0.4991, 0.1192, 0.0894]]\n",
            "Processing IMG_1031.jpg: [[0.2862, 0.0777, 0.042, 0.034], [0.8481, 0.614, 0.0339, 0.0347], [0.8258, 0.6023, 0.0423, 0.031], [0.4792, 0.5848, 0.0467, 0.0408], [0.444, 0.6214, 0.0661, 0.0707], [0.3965, 0.5764, 0.0886, 0.0526], [0.3958, 0.6184, 0.0913, 0.0768]]\n",
            "Processing IMG_20191215_111910.jpg: [[0.3582, 0.9572, 0.0216, 0.0353], [0.2765, 0.8652, 0.0405, 0.037], [0.2098, 0.7942, 0.041, 0.037], [0.1781, 0.7442, 0.0471, 0.0353], [0.1717, 0.7886, 0.0387, 0.0284], [0.3826, 0.7919, 0.0352, 0.0284], [0.3454, 0.7942, 0.0383, 0.033], [0.2593, 0.7671, 0.0484, 0.0383], [0.2721, 0.7402, 0.052, 0.0426], [0.3245, 0.7714, 0.0449, 0.0317], [0.3177, 0.7374, 0.0489, 0.039], [0.3877, 0.76, 0.0462, 0.038], [0.3681, 0.713, 0.0414, 0.0423], [0.3978, 0.6937, 0.0894, 0.0743], [0.3203, 0.6907, 0.07, 0.0538], [0.6318, 0.6948, 0.0836, 0.0515], [0.3056, 0.6403, 0.1083, 0.0727], [0.4441, 0.6316, 0.1043, 0.0763], [0.3615, 0.5791, 0.1198, 0.0822], [0.6312, 0.6463, 0.092, 0.0746], [0.6679, 0.6015, 0.0845, 0.0552], [0.6869, 0.552, 0.0916, 0.071], [0.5953, 0.569, 0.111, 0.0779], [0.4879, 0.5667, 0.1083, 0.076], [0.6635, 0.4377, 0.1083, 0.0816], [0.4044, 0.498, 0.144, 0.0991], [0.4315, 0.3738, 0.0449, 0.0324], [0.4269, 0.4227, 0.0357, 0.0277], [0.5557, 0.4892, 0.0291, 0.0254], [0.4674, 0.3735, 0.033, 0.033], [0.607, 0.054, 0.0559, 0.034], [0.6675, 0.1146, 0.0493, 0.0462], [0.6206, 0.1374, 0.0401, 0.039], [0.6737, 0.1534, 0.0467, 0.038], [0.6173, 0.1932, 0.0511, 0.037], [0.6713, 0.2128, 0.0418, 0.0294], [0.6501, 0.245, 0.0418, 0.0304], [0.612, 0.23, 0.0299, 0.0334], [0.6343, 0.2777, 0.0348, 0.0291], [0.59, 0.2913, 0.0326, 0.0271], [0.6136, 0.303, 0.0269, 0.0221], [0.4769, 0.3202, 0.0291, 0.0314], [0.3492, 0.3362, 0.0352, 0.0271], [0.3892, 0.3966, 0.0335, 0.0251], [0.3432, 0.4069, 0.0313, 0.0258], [0.3963, 0.3621, 0.0343, 0.0267], [0.4227, 0.3484, 0.0352, 0.0291], [0.3835, 0.43, 0.0308, 0.0244], [0.6149, 0.4073, 0.0277, 0.0241], [0.5592, 0.4689, 0.0211, 0.0244], [0.583, 0.4234, 0.0185, 0.0277], [0.4828, 0.3411, 0.0198, 0.031], [0.6089, 0.4665, 0.0229, 0.0175]]\n",
            "Processing IMG_0983.jpg: [[0.6417, 0.5267, 0.1731, 0.145], [0.5419, 0.419, 0.1786, 0.1368], [0.4697, 0.5514, 0.2718, 0.1863], [0.3416, 0.4382, 0.2562, 0.1834]]\n",
            "Processing IMG_20191215_112556.jpg: [[0.1534, 0.0509, 0.1799, 0.1018], [0.1427, 0.1441, 0.1293, 0.097], [0.6772, 0.1035, 0.2655, 0.207], [0.1069, 0.2773, 0.0681, 0.0865], [0.0178, 0.2651, 0.0355, 0.069], [0.2888, 0.3249, 0.3494, 0.3075], [0.4635, 0.4217, 0.1572, 0.1402], [0.6344, 0.4658, 0.223, 0.1603], [0.0917, 0.4108, 0.1112, 0.0747], [0.1767, 0.4531, 0.0949, 0.066], [0.0198, 0.5119, 0.0396, 0.0568], [0.1034, 0.5348, 0.1147, 0.079], [0.2073, 0.5798, 0.106, 0.0738], [0.4181, 0.6184, 0.1852, 0.1424], [0.0926, 0.6558, 0.1071, 0.0852], [0.1249, 0.7206, 0.0879, 0.0708], [0.1983, 0.7042, 0.0996, 0.0703], [0.637, 0.7291, 0.1747, 0.128], [0.4609, 0.801, 0.1566, 0.1232]]\n",
            "Processing IMG_20191215_111352.jpg: [[0.9323, 0.1328, 0.071, 0.062], [0.6051, 0.4052, 0.1448, 0.1003], [0.7251, 0.4343, 0.1053, 0.0756], [0.6691, 0.4677, 0.1544, 0.1151], [0.5656, 0.5239, 0.2066, 0.1553], [0.4324, 0.6185, 0.1985, 0.1652], [0.5894, 0.6619, 0.1691, 0.1306], [0.8008, 0.8159, 0.1433, 0.1173], [0.0306, 0.8228, 0.0603, 0.1097], [0.3367, 0.7548, 0.0869, 0.064], [0.3454, 0.8259, 0.1011, 0.0798], [0.2745, 0.8045, 0.1241, 0.0876]]\n",
            "Processing IMG_20191215_112914.jpg: [[0.4309, 0.2902, 0.2224, 0.1585], [0.7637, 0.3007, 0.1741, 0.1419], [0.6228, 0.4003, 0.159, 0.121], [0.7995, 0.4407, 0.1561, 0.1083], [0.5293, 0.4568, 0.1759, 0.1214], [0.6041, 0.523, 0.1438, 0.1009], [0.5241, 0.5732, 0.1409, 0.114], [0.8246, 0.5354, 0.1386, 0.0961], [0.3083, 0.4546, 0.1601, 0.1153], [0.2466, 0.5881, 0.145, 0.1105], [0.1499, 0.6817, 0.1019, 0.0743], [0.3485, 0.7162, 0.1357, 0.1057], [0.2824, 0.7621, 0.1071, 0.083], [0.8612, 0.6287, 0.106, 0.0773], [0.7241, 0.6752, 0.1089, 0.09], [0.7771, 0.7451, 0.0961, 0.0812], [0.8508, 0.7119, 0.0664, 0.0542], [0.1919, 0.2889, 0.0681, 0.0642], [0.2498, 0.3053, 0.0606, 0.0585], [0.191, 0.3466, 0.0547, 0.0485]]\n",
            "Processing IMG_20191215_111601.jpg: [[0.946, 0.0611, 0.1054, 0.1223], [0.8944, 0.5531, 0.2096, 0.3053], [0.5294, 0.4778, 0.2952, 0.1975], [0.3066, 0.6181, 0.2547, 0.2153], [0.5195, 0.6526, 0.2258, 0.172]]\n",
            "Error processing IMG_20191215_111601.jpg: Expected y_min for bbox [     0.8933 -5.0001e-05      0.9987     0.12225           2] to be in the range [0.0, 1.0], got -5.000084638595581e-05.\n",
            "Processing IMG_1142.jpg: [[0.532, 0.4595, 0.1727, 0.116], [0.4366, 0.3344, 0.1265, 0.0889], [0.2945, 0.232, 0.1376, 0.1024], [0.2407, 0.2753, 0.0984, 0.0776], [0.8704, 0.4591, 0.1828, 0.1288], [0.9131, 0.6259, 0.1717, 0.125], [0.8343, 0.7461, 0.1567, 0.1213], [0.6801, 0.6998, 0.1416, 0.1145], [0.6304, 0.5826, 0.1506, 0.1047], [0.5204, 0.5156, 0.1235, 0.0445], [0.5471, 0.3623, 0.1245, 0.0919], [0.412, 0.4233, 0.1155, 0.0768], [0.3818, 0.505, 0.1034, 0.0716], [0.4521, 0.5856, 0.1115, 0.0851], [0.3884, 0.5796, 0.0542, 0.0655], [0.1072, 0.4267, 0.0743, 0.0655], [0.1579, 0.441, 0.1195, 0.0806], [0.1559, 0.3551, 0.0753, 0.0716], [0.2237, 0.3491, 0.1286, 0.0866]]\n",
            "Processing IMG_20191215_111407.jpg: [[0.0448, 0.8912, 0.0885, 0.114], [0.0757, 0.9597, 0.1502, 0.0799], [0.4728, 0.7887, 0.2912, 0.2402], [0.5372, 0.6752, 0.1904, 0.1756], [0.366, 0.5985, 0.2545, 0.176], [0.8297, 0.7893, 0.0846, 0.0619], [0.8031, 0.725, 0.0871, 0.0684], [0.3322, 0.3481, 0.1031, 0.0663], [0.5706, 0.2288, 0.0804, 0.0688], [0.6358, 0.2155, 0.0609, 0.0703]]\n",
            "Processing IMG_20191215_112417.jpg: [[0.5838, 0.0522, 0.1403, 0.1035], [0.9148, 0.0459, 0.1677, 0.0917], [0.8548, 0.1585, 0.1188, 0.09], [0.6723, 0.2179, 0.1077, 0.0742], [0.6455, 0.2507, 0.1473, 0.1127], [0.8566, 0.2891, 0.1316, 0.083], [0.7902, 0.2841, 0.0361, 0.0572], [0.6662, 0.3277, 0.1165, 0.0737], [0.5768, 0.3339, 0.0749, 0.0564], [0.584, 0.3259, 0.1179, 0.0999], [0.6764, 0.3952, 0.0583, 0.0797], [0.3977, 0.3078, 0.1615, 0.1361], [0.549, 0.4384, 0.1152, 0.0921], [0.4889, 0.4859, 0.1255, 0.1014], [0.3875, 0.5406, 0.1232, 0.0924], [0.4776, 0.5994, 0.1222, 0.0911], [0.3995, 0.6797, 0.1192, 0.0939], [0.2249, 0.6615, 0.1115, 0.0799], [0.2597, 0.729, 0.0946, 0.0757], [0.3151, 0.7951, 0.1009, 0.0819], [0.2544, 0.7876, 0.0713, 0.0609], [0.3063, 0.886, 0.0806, 0.0679], [0.7397, 0.3086, 0.0845, 0.0472]]\n",
            "Processing IMG_20191215_110517.jpg: [[0.5405, 0.5865, 0.3289, 0.2358]]\n",
            "Processing IMG_20191215_111225.jpg: [[0.7902, 0.0491, 0.2199, 0.0972], [0.5981, 0.0593, 0.229, 0.1164], [0.1409, 0.0443, 0.1717, 0.0887], [0.0836, 0.3938, 0.1506, 0.1028], [0.5318, 0.5048, 0.238, 0.1712], [0.3491, 0.5858, 0.2132, 0.1616], [0.5035, 0.635, 0.1333, 0.0994], [0.2135, 0.7166, 0.1273, 0.091], [0.1781, 0.6361, 0.1258, 0.0904], [0.1043, 0.6087, 0.0912, 0.0706], [0.0663, 0.6655, 0.1145, 0.0847], [0.1213, 0.7324, 0.0633, 0.0333], [0.0893, 0.7536, 0.0685, 0.0475]]\n",
            "Error processing IMG_20191215_111225.jpg: Expected y_min for bbox [    0.05505 -4.9997e-05     0.22675     0.08865           2] to be in the range [0.0, 1.0], got -4.999712109565735e-05.\n",
            "Processing IMG_20191215_110643.jpg: [[0.302, 0.7326, 0.2557, 0.1906], [0.5955, 0.6099, 0.2511, 0.1823]]\n",
            "Processing IMG_1079.jpg: [[0.6235, 0.4334, 0.2391, 0.164], [0.3938, 0.4163, 0.253, 0.2056], [0.5171, 0.6134, 0.1168, 0.0951]]\n",
            "Processing IMG_1224.jpg: [[0.3366, 0.2731, 0.3408, 0.2574], [0.3785, 0.4944, 0.2679, 0.2038], [0.519, 0.7014, 0.2881, 0.2335], [0.3249, 0.6373, 0.2073, 0.1578], [0.3862, 0.8758, 0.1949, 0.1584]]\n",
            "Processing IMG_1066.jpg: [[0.5838, 0.6903, 0.337, 0.2475], [0.3024, 0.8056, 0.3471, 0.2417], [0.3195, 0.6111, 0.2756, 0.1916], [0.531, 0.5052, 0.2888, 0.1881], [0.3369, 0.3797, 0.3416, 0.2411], [0.6126, 0.274, 0.3152, 0.2486]]\n",
            "Processing IMG_1243.jpg: [[0.8583, 0.5194, 0.2026, 0.1363], [0.6887, 0.3689, 0.2252, 0.1695], [0.7276, 0.6338, 0.1562, 0.1132], [0.557, 0.6763, 0.1274, 0.0995], [0.5556, 0.5088, 0.1268, 0.0947], [0.4702, 0.4795, 0.1204, 0.0933], [0.5054, 0.5854, 0.0781, 0.0779], [0.4517, 0.6017, 0.1256, 0.0938], [0.4376, 0.6702, 0.0986, 0.0652], [0.5319, 0.7449, 0.0643, 0.0517], [0.5079, 0.8058, 0.0582, 0.0417], [0.4857, 0.7656, 0.0842, 0.067], [0.1816, 0.8021, 0.0807, 0.0628], [0.1306, 0.7537, 0.0837, 0.067], [0.0872, 0.7845, 0.098, 0.0735], [0.8629, 0.9798, 0.0594, 0.0395], [0.8916, 0.939, 0.0614, 0.0309], [0.9132, 0.9742, 0.0574, 0.0476], [0.9456, 0.9714, 0.0452, 0.037]]\n",
            "Processing IMG_20191215_110651.jpg: [[0.4087, 0.9415, 0.2003, 0.1163], [0.5529, 0.9158, 0.16, 0.1665], [0.5967, 0.5025, 0.2079, 0.1551], [0.4194, 0.5666, 0.2079, 0.1516], [0.5973, 0.6345, 0.1953, 0.1169], [0.071, 0.9765, 0.0601, 0.0462], [0.1801, 0.9572, 0.1022, 0.0841], [0.0621, 0.8672, 0.1233, 0.109]]\n",
            "Processing IMG_20191215_111949.jpg: [[0.6312, 0.4221, 0.1467, 0.114], [0.26, 0.4411, 0.1287, 0.09], [0.4589, 0.4942, 0.1153, 0.0852], [0.0597, 0.4038, 0.1182, 0.0852], [0.6336, 0.5795, 0.1095, 0.0847], [0.4752, 0.5929, 0.092, 0.0729], [0.64, 0.7145, 0.0967, 0.0716], [0.4886, 0.7095, 0.0757, 0.0581], [0.6493, 0.7761, 0.0745, 0.0542], [0.1355, 0.7453, 0.0513, 0.0365], [0.201, 0.7926, 0.0528, 0.0396], [0.1447, 0.8496, 0.0551, 0.0416], [0.3815, 0.8674, 0.0379, 0.0342], [0.3804, 0.9274, 0.0402, 0.0376], [0.3679, 0.9158, 0.0322, 0.0304], [0.3729, 0.9659, 0.0413, 0.0393], [0.5477, 0.968, 0.0502, 0.0385], [0.506, 0.9789, 0.0417, 0.0402], [0.4847, 0.9311, 0.0413, 0.0382], [0.4315, 0.9547, 0.0421, 0.0365], [0.4066, 0.9848, 0.0375, 0.0296], [0.493, 0.903, 0.0402, 0.0353], [0.6164, 0.8364, 0.0306, 0.0261], [0.4663, 0.8956, 0.0299, 0.0322], [0.5816, 0.9257, 0.026, 0.0233], [0.5431, 0.8855, 0.0264, 0.021], [0.5167, 0.9215, 0.0364, 0.0264], [0.2248, 0.7937, 0.0283, 0.0299], [0.2254, 0.4731, 0.0907, 0.0545], [0.2012, 0.5096, 0.0748, 0.0469], [0.0482, 0.4605, 0.0903, 0.0558], [0.0275, 0.8375, 0.0533, 0.0423], [0.0819, 0.8702, 0.0511, 0.0383], [0.0786, 0.796, 0.0498, 0.0353], [0.1501, 0.8888, 0.044, 0.032], [0.0757, 0.9255, 0.044, 0.034], [0.5808, 0.965, 0.0253, 0.0251]]\n",
            "Processing IMG_20191215_111517.jpg: [[0.3546, 0.5551, 0.1863, 0.1817], [0.0527, 0.7197, 0.1042, 0.0926], [0.4822, 0.6071, 0.1712, 0.1607], [0.6845, 0.5889, 0.2847, 0.252]]\n",
            "Processing IMG_20191215_112457.jpg: [[0.5066, 0.3847, 0.2466, 0.1815], [0.6737, 0.5586, 0.277, 0.2111], [0.4279, 0.6164, 0.2218, 0.1679], [0.4215, 0.7886, 0.2142, 0.1827]]\n",
            "Processing IMG_20191215_111346.jpg: [[0.4493, 0.6575, 0.1275, 0.1096], [0.5453, 0.7189, 0.159, 0.1144]]\n",
            "Processing IMG_0991.jpg: [[0.8808, 0.7812, 0.1297, 0.138], [0.8117, 0.2597, 0.1436, 0.1013], [0.7853, 0.1441, 0.184, 0.1508], [0.5679, 0.5844, 0.3874, 0.2673], [0.387, 0.5282, 0.17, 0.1502], [0.4724, 0.3325, 0.3735, 0.3028]]\n",
            "Processing IMG_20191215_111813.jpg: [[0.4295, 0.2677, 0.1531, 0.1467], [0.4327, 0.3439, 0.1165, 0.0782], [0.6312, 0.2125, 0.1549, 0.1131], [0.642, 0.3186, 0.1368, 0.107], [0.5841, 0.3811, 0.0932, 0.0764], [0.49, 0.666, 0.06, 0.0428]]\n",
            "Processing IMG_1290.jpg: [[0.2942, 0.2539, 0.1724, 0.1363], [0.6285, 0.3465, 0.1467, 0.1036], [0.5613, 0.3491, 0.0947, 0.1007], [0.6223, 0.4347, 0.1126, 0.0938], [0.5644, 0.4461, 0.0652, 0.0862], [0.4324, 0.4356, 0.1304, 0.1013], [0.33, 0.5002, 0.1382, 0.1153], [0.415, 0.5858, 0.1157, 0.106], [0.4262, 0.6673, 0.1025, 0.092], [0.3051, 0.6746, 0.1118, 0.1042], [0.4445, 0.7445, 0.0955, 0.0774], [0.4313, 0.819, 0.0691, 0.0751], [0.3334, 0.7611, 0.0986, 0.0804], [0.3443, 0.831, 0.097, 0.085], [0.6472, 0.5315, 0.0869, 0.0766], [0.6689, 0.5817, 0.0716, 0.0616], [0.6219, 0.6325, 0.0658, 0.063], [0.5838, 0.6004, 0.0622, 0.0586], [0.6234, 0.6675, 0.0534, 0.0405]]\n",
            "Processing IMG_20191215_110820.jpg: [[0.4737, 0.3925, 0.1543, 0.2166], [0.2941, 0.5559, 0.1887, 0.2345], [0.4733, 0.6044, 0.1744, 0.2166], [0.1887, 0.5087, 0.048, 0.0511], [0.1409, 0.5871, 0.125, 0.162], [0.105, 0.5146, 0.0779, 0.1215], [0.8278, 0.5375, 0.0414, 0.0358], [0.9808, 0.5539, 0.0374, 0.0417]]\n",
            "Processing IMG_1131.jpg: [[0.1605, 0.2651, 0.1397, 0.103], [0.3378, 0.345, 0.1444, 0.1035], [0.1745, 0.3402, 0.1001, 0.0624], [0.3215, 0.4597, 0.1276, 0.0854], [0.3874, 0.5841, 0.1123, 0.0808], [0.1497, 0.4645, 0.0679, 0.0386], [0.1994, 0.5096, 0.0892, 0.0649], [0.2458, 0.5956, 0.0923, 0.0726], [0.2231, 0.6487, 0.079, 0.0576], [0.2365, 0.5622, 0.0666, 0.0363], [0.2872, 0.6947, 0.0683, 0.0495], [0.1193, 0.5635, 0.0297, 0.0252], [0.2062, 0.7051, 0.0251, 0.0252], [0.3528, 0.7417, 0.0336, 0.0347], [0.4252, 0.6618, 0.0533, 0.0429], [0.3747, 0.6238, 0.0564, 0.0275], [0.5167, 0.8293, 0.0687, 0.0559], [0.5155, 0.8904, 0.0494, 0.0553], [0.586, 0.9069, 0.0567, 0.0489], [0.1901, 0.9771, 0.0595, 0.0423], [0.2955, 0.5476, 0.0486, 0.0449], [0.266, 0.3998, 0.0652, 0.0504], [0.4829, 0.5239, 0.0483, 0.0344], [0.51, 0.6175, 0.039, 0.0307], [0.6333, 0.258, 0.051, 0.0382], [0.6352, 0.296, 0.0494, 0.0391], [0.673, 0.3984, 0.0564, 0.0399], [0.7026, 0.4263, 0.0521, 0.0385], [0.5811, 0.4102, 0.0423, 0.035], [0.5495, 0.4183, 0.0423, 0.0315], [0.599, 0.4853, 0.046, 0.0365], [0.7503, 0.4111, 0.0517, 0.0357], [0.7434, 0.4542, 0.0453, 0.0312], [0.7053, 0.3265, 0.0483, 0.0413], [0.6756, 0.3358, 0.0346, 0.0262], [0.736, 0.3352, 0.0386, 0.0315], [0.8671, 0.4258, 0.0658, 0.0466], [0.9156, 0.5119, 0.054, 0.0365], [0.9235, 0.4631, 0.0497, 0.038], [0.8842, 0.4991, 0.051, 0.0375], [0.2453, 0.5191, 0.0581, 0.0514], [0.2954, 0.6187, 0.0604, 0.0476], [0.2588, 0.7101, 0.0503, 0.0385], [0.9248, 0.572, 0.0502, 0.0333], [0.9585, 0.578, 0.0377, 0.026], [0.8269, 0.0117, 0.0293, 0.0233], [0.8762, 0.0747, 0.0231, 0.0157], [0.9401, 0.0524, 0.0266, 0.021], [0.951, 0.0243, 0.0253, 0.02], [0.9174, 0.3338, 0.0391, 0.0283], [0.8932, 0.3564, 0.0351, 0.0256], [0.8704, 0.3468, 0.0391, 0.029], [0.9836, 0.3541, 0.032, 0.0256], [0.6767, 0.297, 0.0344, 0.029]]\n",
            "Processing IMG_20191215_111454_1.jpg: [[0.4267, 0.5366, 0.1154, 0.0925], [0.5415, 0.5147, 0.1281, 0.0956], [0.5969, 0.654, 0.2418, 0.1954]]\n",
            "Processing IMG_20191215_111427.jpg: [[0.6362, 0.3861, 0.1962, 0.1537], [0.467, 0.4911, 0.2586, 0.2066], [0.3179, 0.4828, 0.1235, 0.1384], [0.4327, 0.6239, 0.2108, 0.1437], [0.5555, 0.6339, 0.085, 0.0869], [0.7724, 0.7837, 0.1694, 0.1507], [0.9265, 0.8512, 0.1444, 0.186], [0.8458, 0.8516, 0.0565, 0.0655], [0.5459, 0.7872, 0.0751, 0.0633]]\n",
            "Processing IMG_20191215_111631.jpg: [[0.7983, 0.0535, 0.4018, 0.1061], [0.3583, 0.7083, 0.282, 0.1914], [0.5231, 0.5748, 0.1894, 0.1493]]\n",
            "Processing IMG_1264.jpg: [[0.3765, 0.4629, 0.2096, 0.1316], [0.5873, 0.4594, 0.1824, 0.1176], [0.6265, 0.5395, 0.1413, 0.1031], [0.4771, 0.6184, 0.1421, 0.1141], [0.5112, 0.6842, 0.1265, 0.0827], [0.5528, 0.7055, 0.087, 0.0611], [0.6106, 0.7279, 0.0831, 0.0571], [0.6553, 0.6251, 0.0885, 0.0611]]\n",
            "Processing IMG_1161.jpg: [[0.5178, 0.8115, 0.2345, 0.1997], [0.488, 0.6435, 0.1762, 0.1048], [0.514, 0.5322, 0.2236, 0.1712]]\n",
            "Processing IMG_20191215_111619.jpg: [[0.7349, 0.1758, 0.1584, 0.1105], [0.6248, 0.2494, 0.0932, 0.0795], [0.4891, 0.2575, 0.1398, 0.1061], [0.5791, 0.319, 0.0681, 0.0729], [0.3974, 0.7632, 0.2521, 0.197]]\n",
            "Processing IMG_20191215_111729.jpg: [[0.5587, 0.1022, 0.2591, 0.1817], [0.3613, 0.114, 0.1671, 0.1301], [0.4117, 0.1727, 0.0873, 0.0651], [0.2985, 0.7155, 0.066, 0.0472], [0.411, 0.7478, 0.0832, 0.069], [0.3507, 0.7832, 0.0982, 0.0796], [0.4328, 0.8109, 0.0907, 0.071], [0.5125, 0.765, 0.1277, 0.1047], [0.6081, 0.7586, 0.0793, 0.0601], [0.4137, 0.8999, 0.1079, 0.0898]]\n",
            "Processing IMG_1255.jpg: [[0.6293, 0.7226, 0.2818, 0.2143], [0.3338, 0.5078, 0.2749, 0.2201], [0.4895, 0.1925, 0.2352, 0.1671]]\n",
            "Augmented data saved to /content/dataset_augmented/val/images and /content/dataset_augmented/val/labels.\n"
          ]
        }
      ]
    },
    {
      "cell_type": "markdown",
      "source": [
        "Create YAML Configuration\n"
      ],
      "metadata": {
        "id": "4CvZgIwxzaWT"
      }
    },
    {
      "cell_type": "code",
      "source": [
        "yaml_content = f\"\"\"\n",
        "train: {augmented_dir}/train/images\n",
        "val: {augmented_dir}/val/images\n",
        "\n",
        "nc: 6\n",
        "names: [\"b_fully_ripened\", \"b_half_ripened\", \"b_green\", \"l_fully_ripened\", \"l_half_ripened\", \"l_green\"]\n",
        "\"\"\"\n",
        "with open(\"tomato_ripeness_classifier.yaml\", \"w\") as yaml_file:\n",
        "    yaml_file.write(yaml_content)\n",
        "\n",
        "print(\"Dataset YAML file created.\")\n"
      ],
      "metadata": {
        "colab": {
          "base_uri": "https://localhost:8080/"
        },
        "id": "2sR0Nt1czb7C",
        "outputId": "6f048080-f294-4517-d7bb-cc5305921cce",
        "collapsed": true
      },
      "execution_count": null,
      "outputs": [
        {
          "output_type": "stream",
          "name": "stdout",
          "text": [
            "Dataset YAML file created.\n"
          ]
        }
      ]
    },
    {
      "cell_type": "markdown",
      "source": [
        "Train YOLOv8\n"
      ],
      "metadata": {
        "id": "ZqLF6qbszhq9"
      }
    },
    {
      "cell_type": "code",
      "source": [
        "yolo_model = YOLO('yolov8m.pt')  # Medium model for better accuracy\n",
        "yolo_model.train(data=\"tomato_ripeness_classifier.yaml\", epochs=50, imgsz=640)\n"
      ],
      "metadata": {
        "colab": {
          "base_uri": "https://localhost:8080/"
        },
        "id": "FzBjBuf8zkVv",
        "outputId": "9a5e39a1-1c74-4d08-ade9-a1fd54cec649",
        "collapsed": true
      },
      "execution_count": null,
      "outputs": [
        {
          "output_type": "stream",
          "name": "stdout",
          "text": [
            "Downloading https://github.com/ultralytics/assets/releases/download/v8.3.0/yolov8m.pt to 'yolov8m.pt'...\n"
          ]
        },
        {
          "output_type": "stream",
          "name": "stderr",
          "text": [
            "100%|██████████| 49.7M/49.7M [00:00<00:00, 338MB/s]\n"
          ]
        },
        {
          "output_type": "stream",
          "name": "stdout",
          "text": [
            "Ultralytics 8.3.55 🚀 Python-3.10.12 torch-2.5.1+cu121 CUDA:0 (Tesla T4, 15102MiB)\n",
            "\u001b[34m\u001b[1mengine/trainer: \u001b[0mtask=detect, mode=train, model=yolov8m.pt, data=tomato_ripeness_classifier.yaml, epochs=50, time=None, patience=100, batch=16, imgsz=640, save=True, save_period=-1, cache=False, device=None, workers=8, project=None, name=train, exist_ok=False, pretrained=True, optimizer=auto, verbose=True, seed=0, deterministic=True, single_cls=False, rect=False, cos_lr=False, close_mosaic=10, resume=False, amp=True, fraction=1.0, profile=False, freeze=None, multi_scale=False, overlap_mask=True, mask_ratio=4, dropout=0.0, val=True, split=val, save_json=False, save_hybrid=False, conf=None, iou=0.7, max_det=300, half=False, dnn=False, plots=True, source=None, vid_stride=1, stream_buffer=False, visualize=False, augment=False, agnostic_nms=False, classes=None, retina_masks=False, embed=None, show=False, save_frames=False, save_txt=False, save_conf=False, save_crop=False, show_labels=True, show_conf=True, show_boxes=True, line_width=None, format=torchscript, keras=False, optimize=False, int8=False, dynamic=False, simplify=True, opset=None, workspace=None, nms=False, lr0=0.01, lrf=0.01, momentum=0.937, weight_decay=0.0005, warmup_epochs=3.0, warmup_momentum=0.8, warmup_bias_lr=0.1, box=7.5, cls=0.5, dfl=1.5, pose=12.0, kobj=1.0, nbs=64, hsv_h=0.015, hsv_s=0.7, hsv_v=0.4, degrees=0.0, translate=0.1, scale=0.5, shear=0.0, perspective=0.0, flipud=0.0, fliplr=0.5, bgr=0.0, mosaic=1.0, mixup=0.0, copy_paste=0.0, copy_paste_mode=flip, auto_augment=randaugment, erasing=0.4, crop_fraction=1.0, cfg=None, tracker=botsort.yaml, save_dir=runs/detect/train\n",
            "Downloading https://ultralytics.com/assets/Arial.ttf to '/root/.config/Ultralytics/Arial.ttf'...\n"
          ]
        },
        {
          "output_type": "stream",
          "name": "stderr",
          "text": [
            "100%|██████████| 755k/755k [00:00<00:00, 81.0MB/s]\n"
          ]
        },
        {
          "output_type": "stream",
          "name": "stdout",
          "text": [
            "Overriding model.yaml nc=80 with nc=6\n",
            "\n",
            "                   from  n    params  module                                       arguments                     \n",
            "  0                  -1  1      1392  ultralytics.nn.modules.conv.Conv             [3, 48, 3, 2]                 \n",
            "  1                  -1  1     41664  ultralytics.nn.modules.conv.Conv             [48, 96, 3, 2]                \n",
            "  2                  -1  2    111360  ultralytics.nn.modules.block.C2f             [96, 96, 2, True]             \n",
            "  3                  -1  1    166272  ultralytics.nn.modules.conv.Conv             [96, 192, 3, 2]               \n",
            "  4                  -1  4    813312  ultralytics.nn.modules.block.C2f             [192, 192, 4, True]           \n",
            "  5                  -1  1    664320  ultralytics.nn.modules.conv.Conv             [192, 384, 3, 2]              \n",
            "  6                  -1  4   3248640  ultralytics.nn.modules.block.C2f             [384, 384, 4, True]           \n",
            "  7                  -1  1   1991808  ultralytics.nn.modules.conv.Conv             [384, 576, 3, 2]              \n",
            "  8                  -1  2   3985920  ultralytics.nn.modules.block.C2f             [576, 576, 2, True]           \n",
            "  9                  -1  1    831168  ultralytics.nn.modules.block.SPPF            [576, 576, 5]                 \n",
            " 10                  -1  1         0  torch.nn.modules.upsampling.Upsample         [None, 2, 'nearest']          \n",
            " 11             [-1, 6]  1         0  ultralytics.nn.modules.conv.Concat           [1]                           \n",
            " 12                  -1  2   1993728  ultralytics.nn.modules.block.C2f             [960, 384, 2]                 \n",
            " 13                  -1  1         0  torch.nn.modules.upsampling.Upsample         [None, 2, 'nearest']          \n",
            " 14             [-1, 4]  1         0  ultralytics.nn.modules.conv.Concat           [1]                           \n",
            " 15                  -1  2    517632  ultralytics.nn.modules.block.C2f             [576, 192, 2]                 \n",
            " 16                  -1  1    332160  ultralytics.nn.modules.conv.Conv             [192, 192, 3, 2]              \n",
            " 17            [-1, 12]  1         0  ultralytics.nn.modules.conv.Concat           [1]                           \n",
            " 18                  -1  2   1846272  ultralytics.nn.modules.block.C2f             [576, 384, 2]                 \n",
            " 19                  -1  1   1327872  ultralytics.nn.modules.conv.Conv             [384, 384, 3, 2]              \n",
            " 20             [-1, 9]  1         0  ultralytics.nn.modules.conv.Concat           [1]                           \n",
            " 21                  -1  2   4207104  ultralytics.nn.modules.block.C2f             [960, 576, 2]                 \n",
            " 22        [15, 18, 21]  1   3779170  ultralytics.nn.modules.head.Detect           [6, [192, 384, 576]]          \n",
            "Model summary: 295 layers, 25,859,794 parameters, 25,859,778 gradients, 79.1 GFLOPs\n",
            "\n",
            "Transferred 469/475 items from pretrained weights\n",
            "\u001b[34m\u001b[1mTensorBoard: \u001b[0mStart with 'tensorboard --logdir runs/detect/train', view at http://localhost:6006/\n",
            "Freezing layer 'model.22.dfl.conv.weight'\n",
            "\u001b[34m\u001b[1mAMP: \u001b[0mrunning Automatic Mixed Precision (AMP) checks...\n",
            "Downloading https://github.com/ultralytics/assets/releases/download/v8.3.0/yolo11n.pt to 'yolo11n.pt'...\n"
          ]
        },
        {
          "output_type": "stream",
          "name": "stderr",
          "text": [
            "100%|██████████| 5.35M/5.35M [00:00<00:00, 285MB/s]\n"
          ]
        },
        {
          "output_type": "stream",
          "name": "stdout",
          "text": [
            "\u001b[34m\u001b[1mAMP: \u001b[0mchecks passed ✅\n"
          ]
        },
        {
          "output_type": "stream",
          "name": "stderr",
          "text": [
            "\u001b[34m\u001b[1mtrain: \u001b[0mScanning /content/dataset_augmented/train/labels... 596 images, 0 backgrounds, 0 corrupt: 100%|██████████| 596/596 [00:00<00:00, 1420.88it/s]"
          ]
        },
        {
          "output_type": "stream",
          "name": "stdout",
          "text": [
            "\u001b[34m\u001b[1mtrain: \u001b[0mNew cache created: /content/dataset_augmented/train/labels.cache\n",
            "\u001b[34m\u001b[1malbumentations: \u001b[0mBlur(p=0.01, blur_limit=(3, 7)), MedianBlur(p=0.01, blur_limit=(3, 7)), ToGray(p=0.01, num_output_channels=3, method='weighted_average'), CLAHE(p=0.01, clip_limit=(1.0, 4.0), tile_grid_size=(8, 8))\n"
          ]
        },
        {
          "output_type": "stream",
          "name": "stderr",
          "text": [
            "\n",
            "\u001b[34m\u001b[1mval: \u001b[0mScanning /content/dataset_augmented/val/labels... 153 images, 0 backgrounds, 0 corrupt: 100%|██████████| 153/153 [00:00<00:00, 609.07it/s]"
          ]
        },
        {
          "output_type": "stream",
          "name": "stdout",
          "text": [
            "\u001b[34m\u001b[1mval: \u001b[0mNew cache created: /content/dataset_augmented/val/labels.cache\n"
          ]
        },
        {
          "output_type": "stream",
          "name": "stderr",
          "text": [
            "\n"
          ]
        },
        {
          "output_type": "stream",
          "name": "stdout",
          "text": [
            "Plotting labels to runs/detect/train/labels.jpg... \n",
            "\u001b[34m\u001b[1moptimizer:\u001b[0m 'optimizer=auto' found, ignoring 'lr0=0.01' and 'momentum=0.937' and determining best 'optimizer', 'lr0' and 'momentum' automatically... \n",
            "\u001b[34m\u001b[1moptimizer:\u001b[0m AdamW(lr=0.001, momentum=0.9) with parameter groups 77 weight(decay=0.0), 84 weight(decay=0.0005), 83 bias(decay=0.0)\n",
            "\u001b[34m\u001b[1mTensorBoard: \u001b[0mmodel graph visualization added ✅\n",
            "Image sizes 640 train, 640 val\n",
            "Using 2 dataloader workers\n",
            "Logging results to \u001b[1mruns/detect/train\u001b[0m\n",
            "Starting training for 50 epochs...\n",
            "\n",
            "      Epoch    GPU_mem   box_loss   cls_loss   dfl_loss  Instances       Size\n"
          ]
        },
        {
          "output_type": "stream",
          "name": "stderr",
          "text": [
            "       1/50      7.01G     0.8689      2.084      1.053         35        640: 100%|██████████| 38/38 [01:05<00:00,  1.73s/it]\n",
            "                 Class     Images  Instances      Box(P          R      mAP50  mAP50-95): 100%|██████████| 5/5 [00:12<00:00,  2.57s/it]"
          ]
        },
        {
          "output_type": "stream",
          "name": "stdout",
          "text": [
            "                   all        153       1899      0.526       0.56      0.512      0.418\n"
          ]
        },
        {
          "output_type": "stream",
          "name": "stderr",
          "text": [
            "\n"
          ]
        },
        {
          "output_type": "stream",
          "name": "stdout",
          "text": [
            "\n",
            "      Epoch    GPU_mem   box_loss   cls_loss   dfl_loss  Instances       Size\n"
          ]
        },
        {
          "output_type": "stream",
          "name": "stderr",
          "text": [
            "       2/50      6.92G     0.7493      1.118     0.9543         72        640: 100%|██████████| 38/38 [01:05<00:00,  1.72s/it]\n",
            "                 Class     Images  Instances      Box(P          R      mAP50  mAP50-95): 100%|██████████| 5/5 [00:10<00:00,  2.02s/it]"
          ]
        },
        {
          "output_type": "stream",
          "name": "stdout",
          "text": [
            "                   all        153       1899      0.579      0.586      0.563      0.455\n"
          ]
        },
        {
          "output_type": "stream",
          "name": "stderr",
          "text": [
            "\n"
          ]
        },
        {
          "output_type": "stream",
          "name": "stdout",
          "text": [
            "\n",
            "      Epoch    GPU_mem   box_loss   cls_loss   dfl_loss  Instances       Size\n"
          ]
        },
        {
          "output_type": "stream",
          "name": "stderr",
          "text": [
            "       3/50      6.75G     0.7671      1.047      0.952        141        640: 100%|██████████| 38/38 [01:03<00:00,  1.66s/it]\n",
            "                 Class     Images  Instances      Box(P          R      mAP50  mAP50-95): 100%|██████████| 5/5 [00:10<00:00,  2.11s/it]"
          ]
        },
        {
          "output_type": "stream",
          "name": "stdout",
          "text": [
            "                   all        153       1899      0.418      0.436      0.318      0.242\n"
          ]
        },
        {
          "output_type": "stream",
          "name": "stderr",
          "text": [
            "\n"
          ]
        },
        {
          "output_type": "stream",
          "name": "stdout",
          "text": [
            "\n",
            "      Epoch    GPU_mem   box_loss   cls_loss   dfl_loss  Instances       Size\n"
          ]
        },
        {
          "output_type": "stream",
          "name": "stderr",
          "text": [
            "       4/50      6.84G       0.77     0.9818     0.9599         55        640: 100%|██████████| 38/38 [01:05<00:00,  1.71s/it]\n",
            "                 Class     Images  Instances      Box(P          R      mAP50  mAP50-95): 100%|██████████| 5/5 [00:11<00:00,  2.21s/it]"
          ]
        },
        {
          "output_type": "stream",
          "name": "stdout",
          "text": [
            "                   all        153       1899        0.5      0.532      0.509      0.399\n"
          ]
        },
        {
          "output_type": "stream",
          "name": "stderr",
          "text": [
            "\n"
          ]
        },
        {
          "output_type": "stream",
          "name": "stdout",
          "text": [
            "\n",
            "      Epoch    GPU_mem   box_loss   cls_loss   dfl_loss  Instances       Size\n"
          ]
        },
        {
          "output_type": "stream",
          "name": "stderr",
          "text": [
            "       5/50      7.24G     0.7305     0.8937     0.9418         70        640: 100%|██████████| 38/38 [01:05<00:00,  1.72s/it]\n",
            "                 Class     Images  Instances      Box(P          R      mAP50  mAP50-95): 100%|██████████| 5/5 [00:10<00:00,  2.11s/it]"
          ]
        },
        {
          "output_type": "stream",
          "name": "stdout",
          "text": [
            "                   all        153       1899      0.619      0.599      0.617      0.495\n"
          ]
        },
        {
          "output_type": "stream",
          "name": "stderr",
          "text": [
            "\n"
          ]
        },
        {
          "output_type": "stream",
          "name": "stdout",
          "text": [
            "\n",
            "      Epoch    GPU_mem   box_loss   cls_loss   dfl_loss  Instances       Size\n"
          ]
        },
        {
          "output_type": "stream",
          "name": "stderr",
          "text": [
            "       6/50      7.26G      0.733     0.8587     0.9477         74        640: 100%|██████████| 38/38 [01:07<00:00,  1.78s/it]\n",
            "                 Class     Images  Instances      Box(P          R      mAP50  mAP50-95): 100%|██████████| 5/5 [00:08<00:00,  1.73s/it]"
          ]
        },
        {
          "output_type": "stream",
          "name": "stdout",
          "text": [
            "                   all        153       1899       0.68      0.686      0.705      0.564\n"
          ]
        },
        {
          "output_type": "stream",
          "name": "stderr",
          "text": [
            "\n"
          ]
        },
        {
          "output_type": "stream",
          "name": "stdout",
          "text": [
            "\n",
            "      Epoch    GPU_mem   box_loss   cls_loss   dfl_loss  Instances       Size\n"
          ]
        },
        {
          "output_type": "stream",
          "name": "stderr",
          "text": [
            "       7/50      6.92G     0.7212      0.845     0.9471         76        640: 100%|██████████| 38/38 [01:06<00:00,  1.74s/it]\n",
            "                 Class     Images  Instances      Box(P          R      mAP50  mAP50-95): 100%|██████████| 5/5 [00:07<00:00,  1.52s/it]"
          ]
        },
        {
          "output_type": "stream",
          "name": "stdout",
          "text": [
            "                   all        153       1899      0.608      0.703      0.684      0.561\n"
          ]
        },
        {
          "output_type": "stream",
          "name": "stderr",
          "text": [
            "\n"
          ]
        },
        {
          "output_type": "stream",
          "name": "stdout",
          "text": [
            "\n",
            "      Epoch    GPU_mem   box_loss   cls_loss   dfl_loss  Instances       Size\n"
          ]
        },
        {
          "output_type": "stream",
          "name": "stderr",
          "text": [
            "       8/50      6.73G     0.6619     0.7807     0.9329         33        640: 100%|██████████| 38/38 [01:07<00:00,  1.78s/it]\n",
            "                 Class     Images  Instances      Box(P          R      mAP50  mAP50-95): 100%|██████████| 5/5 [00:06<00:00,  1.36s/it]"
          ]
        },
        {
          "output_type": "stream",
          "name": "stdout",
          "text": [
            "                   all        153       1899      0.648      0.691      0.699       0.57\n"
          ]
        },
        {
          "output_type": "stream",
          "name": "stderr",
          "text": [
            "\n"
          ]
        },
        {
          "output_type": "stream",
          "name": "stdout",
          "text": [
            "\n",
            "      Epoch    GPU_mem   box_loss   cls_loss   dfl_loss  Instances       Size\n"
          ]
        },
        {
          "output_type": "stream",
          "name": "stderr",
          "text": [
            "       9/50       6.9G     0.6811     0.8257     0.9253        103        640: 100%|██████████| 38/38 [01:08<00:00,  1.79s/it]\n",
            "                 Class     Images  Instances      Box(P          R      mAP50  mAP50-95): 100%|██████████| 5/5 [00:06<00:00,  1.37s/it]"
          ]
        },
        {
          "output_type": "stream",
          "name": "stdout",
          "text": [
            "                   all        153       1899      0.599      0.536      0.573      0.479\n"
          ]
        },
        {
          "output_type": "stream",
          "name": "stderr",
          "text": [
            "\n"
          ]
        },
        {
          "output_type": "stream",
          "name": "stdout",
          "text": [
            "\n",
            "      Epoch    GPU_mem   box_loss   cls_loss   dfl_loss  Instances       Size\n"
          ]
        },
        {
          "output_type": "stream",
          "name": "stderr",
          "text": [
            "      10/50      6.66G      0.669     0.7716     0.9279         73        640: 100%|██████████| 38/38 [01:04<00:00,  1.69s/it]\n",
            "                 Class     Images  Instances      Box(P          R      mAP50  mAP50-95): 100%|██████████| 5/5 [00:08<00:00,  1.68s/it]"
          ]
        },
        {
          "output_type": "stream",
          "name": "stdout",
          "text": [
            "                   all        153       1899      0.708      0.687      0.736      0.605\n"
          ]
        },
        {
          "output_type": "stream",
          "name": "stderr",
          "text": [
            "\n"
          ]
        },
        {
          "output_type": "stream",
          "name": "stdout",
          "text": [
            "\n",
            "      Epoch    GPU_mem   box_loss   cls_loss   dfl_loss  Instances       Size\n"
          ]
        },
        {
          "output_type": "stream",
          "name": "stderr",
          "text": [
            "      11/50      6.72G     0.6673     0.7412     0.9267        105        640: 100%|██████████| 38/38 [01:00<00:00,  1.59s/it]\n",
            "                 Class     Images  Instances      Box(P          R      mAP50  mAP50-95): 100%|██████████| 5/5 [00:11<00:00,  2.30s/it]"
          ]
        },
        {
          "output_type": "stream",
          "name": "stdout",
          "text": [
            "                   all        153       1899      0.695      0.728      0.749      0.619\n"
          ]
        },
        {
          "output_type": "stream",
          "name": "stderr",
          "text": [
            "\n"
          ]
        },
        {
          "output_type": "stream",
          "name": "stdout",
          "text": [
            "\n",
            "      Epoch    GPU_mem   box_loss   cls_loss   dfl_loss  Instances       Size\n"
          ]
        },
        {
          "output_type": "stream",
          "name": "stderr",
          "text": [
            "      12/50      6.69G      0.656     0.7377     0.9224         47        640: 100%|██████████| 38/38 [01:05<00:00,  1.72s/it]\n",
            "                 Class     Images  Instances      Box(P          R      mAP50  mAP50-95): 100%|██████████| 5/5 [00:10<00:00,  2.09s/it]"
          ]
        },
        {
          "output_type": "stream",
          "name": "stdout",
          "text": [
            "                   all        153       1899       0.62      0.651      0.648      0.536\n"
          ]
        },
        {
          "output_type": "stream",
          "name": "stderr",
          "text": [
            "\n"
          ]
        },
        {
          "output_type": "stream",
          "name": "stdout",
          "text": [
            "\n",
            "      Epoch    GPU_mem   box_loss   cls_loss   dfl_loss  Instances       Size\n"
          ]
        },
        {
          "output_type": "stream",
          "name": "stderr",
          "text": [
            "      13/50      6.69G     0.6401     0.6804     0.9119         57        640: 100%|██████████| 38/38 [01:03<00:00,  1.68s/it]\n",
            "                 Class     Images  Instances      Box(P          R      mAP50  mAP50-95): 100%|██████████| 5/5 [00:10<00:00,  2.07s/it]"
          ]
        },
        {
          "output_type": "stream",
          "name": "stdout",
          "text": [
            "                   all        153       1899      0.666      0.749      0.743      0.618\n"
          ]
        },
        {
          "output_type": "stream",
          "name": "stderr",
          "text": [
            "\n"
          ]
        },
        {
          "output_type": "stream",
          "name": "stdout",
          "text": [
            "\n",
            "      Epoch    GPU_mem   box_loss   cls_loss   dfl_loss  Instances       Size\n"
          ]
        },
        {
          "output_type": "stream",
          "name": "stderr",
          "text": [
            "      14/50      6.89G     0.6397     0.6955     0.9167        105        640: 100%|██████████| 38/38 [01:09<00:00,  1.82s/it]\n",
            "                 Class     Images  Instances      Box(P          R      mAP50  mAP50-95): 100%|██████████| 5/5 [00:08<00:00,  1.73s/it]"
          ]
        },
        {
          "output_type": "stream",
          "name": "stdout",
          "text": [
            "                   all        153       1899      0.675      0.735      0.761      0.631\n"
          ]
        },
        {
          "output_type": "stream",
          "name": "stderr",
          "text": [
            "\n"
          ]
        },
        {
          "output_type": "stream",
          "name": "stdout",
          "text": [
            "\n",
            "      Epoch    GPU_mem   box_loss   cls_loss   dfl_loss  Instances       Size\n"
          ]
        },
        {
          "output_type": "stream",
          "name": "stderr",
          "text": [
            "      15/50      6.94G     0.6298     0.6884     0.9075         95        640: 100%|██████████| 38/38 [01:09<00:00,  1.84s/it]\n",
            "                 Class     Images  Instances      Box(P          R      mAP50  mAP50-95): 100%|██████████| 5/5 [00:07<00:00,  1.48s/it]"
          ]
        },
        {
          "output_type": "stream",
          "name": "stdout",
          "text": [
            "                   all        153       1899      0.664      0.706      0.719        0.6\n"
          ]
        },
        {
          "output_type": "stream",
          "name": "stderr",
          "text": [
            "\n"
          ]
        },
        {
          "output_type": "stream",
          "name": "stdout",
          "text": [
            "\n",
            "      Epoch    GPU_mem   box_loss   cls_loss   dfl_loss  Instances       Size\n"
          ]
        },
        {
          "output_type": "stream",
          "name": "stderr",
          "text": [
            "      16/50      6.79G     0.6253     0.6572      0.904        115        640: 100%|██████████| 38/38 [01:02<00:00,  1.65s/it]\n",
            "                 Class     Images  Instances      Box(P          R      mAP50  mAP50-95): 100%|██████████| 5/5 [00:09<00:00,  1.80s/it]"
          ]
        },
        {
          "output_type": "stream",
          "name": "stdout",
          "text": [
            "                   all        153       1899      0.643      0.773      0.772      0.646\n"
          ]
        },
        {
          "output_type": "stream",
          "name": "stderr",
          "text": [
            "\n"
          ]
        },
        {
          "output_type": "stream",
          "name": "stdout",
          "text": [
            "\n",
            "      Epoch    GPU_mem   box_loss   cls_loss   dfl_loss  Instances       Size\n"
          ]
        },
        {
          "output_type": "stream",
          "name": "stderr",
          "text": [
            "      17/50      6.81G     0.6169     0.6157     0.9003         61        640: 100%|██████████| 38/38 [01:05<00:00,  1.71s/it]\n",
            "                 Class     Images  Instances      Box(P          R      mAP50  mAP50-95): 100%|██████████| 5/5 [00:10<00:00,  2.04s/it]"
          ]
        },
        {
          "output_type": "stream",
          "name": "stdout",
          "text": [
            "                   all        153       1899       0.67      0.745      0.747       0.63\n"
          ]
        },
        {
          "output_type": "stream",
          "name": "stderr",
          "text": [
            "\n"
          ]
        },
        {
          "output_type": "stream",
          "name": "stdout",
          "text": [
            "\n",
            "      Epoch    GPU_mem   box_loss   cls_loss   dfl_loss  Instances       Size\n"
          ]
        },
        {
          "output_type": "stream",
          "name": "stderr",
          "text": [
            "      18/50      7.28G     0.6084     0.6238     0.8999         73        640: 100%|██████████| 38/38 [01:05<00:00,  1.72s/it]\n",
            "                 Class     Images  Instances      Box(P          R      mAP50  mAP50-95): 100%|██████████| 5/5 [00:10<00:00,  2.16s/it]"
          ]
        },
        {
          "output_type": "stream",
          "name": "stdout",
          "text": [
            "                   all        153       1899        0.7      0.768      0.788      0.668\n"
          ]
        },
        {
          "output_type": "stream",
          "name": "stderr",
          "text": [
            "\n"
          ]
        },
        {
          "output_type": "stream",
          "name": "stdout",
          "text": [
            "\n",
            "      Epoch    GPU_mem   box_loss   cls_loss   dfl_loss  Instances       Size\n"
          ]
        },
        {
          "output_type": "stream",
          "name": "stderr",
          "text": [
            "      19/50       6.9G     0.5963     0.6027     0.8966         54        640: 100%|██████████| 38/38 [01:02<00:00,  1.64s/it]\n",
            "                 Class     Images  Instances      Box(P          R      mAP50  mAP50-95): 100%|██████████| 5/5 [00:08<00:00,  1.71s/it]"
          ]
        },
        {
          "output_type": "stream",
          "name": "stdout",
          "text": [
            "                   all        153       1899      0.712      0.771      0.779      0.657\n"
          ]
        },
        {
          "output_type": "stream",
          "name": "stderr",
          "text": [
            "\n"
          ]
        },
        {
          "output_type": "stream",
          "name": "stdout",
          "text": [
            "\n",
            "      Epoch    GPU_mem   box_loss   cls_loss   dfl_loss  Instances       Size\n"
          ]
        },
        {
          "output_type": "stream",
          "name": "stderr",
          "text": [
            "      20/50      6.87G     0.5844     0.6083     0.8977         41        640: 100%|██████████| 38/38 [00:58<00:00,  1.55s/it]\n",
            "                 Class     Images  Instances      Box(P          R      mAP50  mAP50-95): 100%|██████████| 5/5 [00:06<00:00,  1.40s/it]"
          ]
        },
        {
          "output_type": "stream",
          "name": "stdout",
          "text": [
            "                   all        153       1899      0.687      0.739      0.757      0.645\n"
          ]
        },
        {
          "output_type": "stream",
          "name": "stderr",
          "text": [
            "\n"
          ]
        },
        {
          "output_type": "stream",
          "name": "stdout",
          "text": [
            "\n",
            "      Epoch    GPU_mem   box_loss   cls_loss   dfl_loss  Instances       Size\n"
          ]
        },
        {
          "output_type": "stream",
          "name": "stderr",
          "text": [
            "      21/50       6.9G     0.5803     0.6067     0.8894         87        640: 100%|██████████| 38/38 [01:05<00:00,  1.71s/it]\n",
            "                 Class     Images  Instances      Box(P          R      mAP50  mAP50-95): 100%|██████████| 5/5 [00:06<00:00,  1.35s/it]"
          ]
        },
        {
          "output_type": "stream",
          "name": "stdout",
          "text": [
            "                   all        153       1899      0.741       0.74      0.793      0.671\n"
          ]
        },
        {
          "output_type": "stream",
          "name": "stderr",
          "text": [
            "\n"
          ]
        },
        {
          "output_type": "stream",
          "name": "stdout",
          "text": [
            "\n",
            "      Epoch    GPU_mem   box_loss   cls_loss   dfl_loss  Instances       Size\n"
          ]
        },
        {
          "output_type": "stream",
          "name": "stderr",
          "text": [
            "      22/50      6.87G      0.594     0.6249     0.8976         40        640: 100%|██████████| 38/38 [01:08<00:00,  1.80s/it]\n",
            "                 Class     Images  Instances      Box(P          R      mAP50  mAP50-95): 100%|██████████| 5/5 [00:07<00:00,  1.41s/it]"
          ]
        },
        {
          "output_type": "stream",
          "name": "stdout",
          "text": [
            "                   all        153       1899      0.708      0.682      0.745      0.632\n"
          ]
        },
        {
          "output_type": "stream",
          "name": "stderr",
          "text": [
            "\n"
          ]
        },
        {
          "output_type": "stream",
          "name": "stdout",
          "text": [
            "\n",
            "      Epoch    GPU_mem   box_loss   cls_loss   dfl_loss  Instances       Size\n"
          ]
        },
        {
          "output_type": "stream",
          "name": "stderr",
          "text": [
            "      23/50      7.13G     0.5715     0.5864     0.8853         71        640: 100%|██████████| 38/38 [01:00<00:00,  1.58s/it]\n",
            "                 Class     Images  Instances      Box(P          R      mAP50  mAP50-95): 100%|██████████| 5/5 [00:10<00:00,  2.04s/it]"
          ]
        },
        {
          "output_type": "stream",
          "name": "stdout",
          "text": [
            "                   all        153       1899      0.679      0.723      0.741      0.635\n"
          ]
        },
        {
          "output_type": "stream",
          "name": "stderr",
          "text": [
            "\n"
          ]
        },
        {
          "output_type": "stream",
          "name": "stdout",
          "text": [
            "\n",
            "      Epoch    GPU_mem   box_loss   cls_loss   dfl_loss  Instances       Size\n"
          ]
        },
        {
          "output_type": "stream",
          "name": "stderr",
          "text": [
            "      24/50      7.03G     0.5755     0.5666     0.8901         51        640: 100%|██████████| 38/38 [00:59<00:00,  1.57s/it]\n",
            "                 Class     Images  Instances      Box(P          R      mAP50  mAP50-95): 100%|██████████| 5/5 [00:08<00:00,  1.79s/it]"
          ]
        },
        {
          "output_type": "stream",
          "name": "stdout",
          "text": [
            "                   all        153       1899      0.769      0.698      0.789       0.67\n"
          ]
        },
        {
          "output_type": "stream",
          "name": "stderr",
          "text": [
            "\n"
          ]
        },
        {
          "output_type": "stream",
          "name": "stdout",
          "text": [
            "\n",
            "      Epoch    GPU_mem   box_loss   cls_loss   dfl_loss  Instances       Size\n"
          ]
        },
        {
          "output_type": "stream",
          "name": "stderr",
          "text": [
            "      25/50      6.87G      0.548       0.54     0.8808         76        640: 100%|██████████| 38/38 [01:02<00:00,  1.64s/it]\n",
            "                 Class     Images  Instances      Box(P          R      mAP50  mAP50-95): 100%|██████████| 5/5 [00:08<00:00,  1.61s/it]"
          ]
        },
        {
          "output_type": "stream",
          "name": "stdout",
          "text": [
            "                   all        153       1899       0.76      0.757      0.805       0.69\n"
          ]
        },
        {
          "output_type": "stream",
          "name": "stderr",
          "text": [
            "\n"
          ]
        },
        {
          "output_type": "stream",
          "name": "stdout",
          "text": [
            "\n",
            "      Epoch    GPU_mem   box_loss   cls_loss   dfl_loss  Instances       Size\n"
          ]
        },
        {
          "output_type": "stream",
          "name": "stderr",
          "text": [
            "      26/50      7.01G     0.5521     0.5375     0.8762        130        640: 100%|██████████| 38/38 [01:05<00:00,  1.71s/it]\n",
            "                 Class     Images  Instances      Box(P          R      mAP50  mAP50-95): 100%|██████████| 5/5 [00:08<00:00,  1.61s/it]"
          ]
        },
        {
          "output_type": "stream",
          "name": "stdout",
          "text": [
            "                   all        153       1899      0.734      0.771      0.797      0.684\n"
          ]
        },
        {
          "output_type": "stream",
          "name": "stderr",
          "text": [
            "\n"
          ]
        },
        {
          "output_type": "stream",
          "name": "stdout",
          "text": [
            "\n",
            "      Epoch    GPU_mem   box_loss   cls_loss   dfl_loss  Instances       Size\n"
          ]
        },
        {
          "output_type": "stream",
          "name": "stderr",
          "text": [
            "      27/50      7.24G     0.5627     0.5436     0.8825         96        640: 100%|██████████| 38/38 [01:06<00:00,  1.74s/it]\n",
            "                 Class     Images  Instances      Box(P          R      mAP50  mAP50-95): 100%|██████████| 5/5 [00:08<00:00,  1.67s/it]"
          ]
        },
        {
          "output_type": "stream",
          "name": "stdout",
          "text": [
            "                   all        153       1899      0.743      0.638      0.732      0.621\n"
          ]
        },
        {
          "output_type": "stream",
          "name": "stderr",
          "text": [
            "\n"
          ]
        },
        {
          "output_type": "stream",
          "name": "stdout",
          "text": [
            "\n",
            "      Epoch    GPU_mem   box_loss   cls_loss   dfl_loss  Instances       Size\n"
          ]
        },
        {
          "output_type": "stream",
          "name": "stderr",
          "text": [
            "      28/50      6.81G     0.5553     0.5294     0.8829         67        640: 100%|██████████| 38/38 [01:04<00:00,  1.69s/it]\n",
            "                 Class     Images  Instances      Box(P          R      mAP50  mAP50-95): 100%|██████████| 5/5 [00:08<00:00,  1.60s/it]"
          ]
        },
        {
          "output_type": "stream",
          "name": "stdout",
          "text": [
            "                   all        153       1899      0.698      0.763      0.792      0.675\n"
          ]
        },
        {
          "output_type": "stream",
          "name": "stderr",
          "text": [
            "\n"
          ]
        },
        {
          "output_type": "stream",
          "name": "stdout",
          "text": [
            "\n",
            "      Epoch    GPU_mem   box_loss   cls_loss   dfl_loss  Instances       Size\n"
          ]
        },
        {
          "output_type": "stream",
          "name": "stderr",
          "text": [
            "      29/50      6.95G     0.5507     0.5274     0.8757         95        640: 100%|██████████| 38/38 [01:06<00:00,  1.74s/it]\n",
            "                 Class     Images  Instances      Box(P          R      mAP50  mAP50-95): 100%|██████████| 5/5 [00:08<00:00,  1.79s/it]"
          ]
        },
        {
          "output_type": "stream",
          "name": "stdout",
          "text": [
            "                   all        153       1899      0.787      0.709      0.806      0.686\n"
          ]
        },
        {
          "output_type": "stream",
          "name": "stderr",
          "text": [
            "\n"
          ]
        },
        {
          "output_type": "stream",
          "name": "stdout",
          "text": [
            "\n",
            "      Epoch    GPU_mem   box_loss   cls_loss   dfl_loss  Instances       Size\n"
          ]
        },
        {
          "output_type": "stream",
          "name": "stderr",
          "text": [
            "      30/50      6.71G     0.5443     0.5037     0.8756         77        640: 100%|██████████| 38/38 [01:06<00:00,  1.75s/it]\n",
            "                 Class     Images  Instances      Box(P          R      mAP50  mAP50-95): 100%|██████████| 5/5 [00:10<00:00,  2.11s/it]"
          ]
        },
        {
          "output_type": "stream",
          "name": "stdout",
          "text": [
            "                   all        153       1899      0.773      0.751      0.816      0.698\n"
          ]
        },
        {
          "output_type": "stream",
          "name": "stderr",
          "text": [
            "\n"
          ]
        },
        {
          "output_type": "stream",
          "name": "stdout",
          "text": [
            "\n",
            "      Epoch    GPU_mem   box_loss   cls_loss   dfl_loss  Instances       Size\n"
          ]
        },
        {
          "output_type": "stream",
          "name": "stderr",
          "text": [
            "      31/50      6.73G     0.5254     0.4712     0.8675         49        640: 100%|██████████| 38/38 [01:04<00:00,  1.69s/it]\n",
            "                 Class     Images  Instances      Box(P          R      mAP50  mAP50-95): 100%|██████████| 5/5 [00:10<00:00,  2.16s/it]"
          ]
        },
        {
          "output_type": "stream",
          "name": "stdout",
          "text": [
            "                   all        153       1899      0.747      0.758      0.805      0.689\n"
          ]
        },
        {
          "output_type": "stream",
          "name": "stderr",
          "text": [
            "\n"
          ]
        },
        {
          "output_type": "stream",
          "name": "stdout",
          "text": [
            "\n",
            "      Epoch    GPU_mem   box_loss   cls_loss   dfl_loss  Instances       Size\n"
          ]
        },
        {
          "output_type": "stream",
          "name": "stderr",
          "text": [
            "      32/50      7.01G      0.532     0.4698     0.8771         76        640: 100%|██████████| 38/38 [01:05<00:00,  1.71s/it]\n",
            "                 Class     Images  Instances      Box(P          R      mAP50  mAP50-95): 100%|██████████| 5/5 [00:10<00:00,  2.16s/it]"
          ]
        },
        {
          "output_type": "stream",
          "name": "stdout",
          "text": [
            "                   all        153       1899      0.761      0.741      0.806      0.695\n"
          ]
        },
        {
          "output_type": "stream",
          "name": "stderr",
          "text": [
            "\n"
          ]
        },
        {
          "output_type": "stream",
          "name": "stdout",
          "text": [
            "\n",
            "      Epoch    GPU_mem   box_loss   cls_loss   dfl_loss  Instances       Size\n"
          ]
        },
        {
          "output_type": "stream",
          "name": "stderr",
          "text": [
            "      33/50      6.87G     0.5279      0.468     0.8678         51        640: 100%|██████████| 38/38 [01:05<00:00,  1.73s/it]\n",
            "                 Class     Images  Instances      Box(P          R      mAP50  mAP50-95): 100%|██████████| 5/5 [00:09<00:00,  1.93s/it]"
          ]
        },
        {
          "output_type": "stream",
          "name": "stdout",
          "text": [
            "                   all        153       1899      0.746      0.764      0.812      0.702\n"
          ]
        },
        {
          "output_type": "stream",
          "name": "stderr",
          "text": [
            "\n"
          ]
        },
        {
          "output_type": "stream",
          "name": "stdout",
          "text": [
            "\n",
            "      Epoch    GPU_mem   box_loss   cls_loss   dfl_loss  Instances       Size\n"
          ]
        },
        {
          "output_type": "stream",
          "name": "stderr",
          "text": [
            "      34/50      6.99G     0.5277     0.4575     0.8678         63        640: 100%|██████████| 38/38 [01:06<00:00,  1.74s/it]\n",
            "                 Class     Images  Instances      Box(P          R      mAP50  mAP50-95): 100%|██████████| 5/5 [00:08<00:00,  1.78s/it]"
          ]
        },
        {
          "output_type": "stream",
          "name": "stdout",
          "text": [
            "                   all        153       1899      0.722      0.756      0.795       0.68\n"
          ]
        },
        {
          "output_type": "stream",
          "name": "stderr",
          "text": [
            "\n"
          ]
        },
        {
          "output_type": "stream",
          "name": "stdout",
          "text": [
            "\n",
            "      Epoch    GPU_mem   box_loss   cls_loss   dfl_loss  Instances       Size\n"
          ]
        },
        {
          "output_type": "stream",
          "name": "stderr",
          "text": [
            "      35/50      6.93G      0.515     0.4401     0.8607         67        640: 100%|██████████| 38/38 [01:04<00:00,  1.70s/it]\n",
            "                 Class     Images  Instances      Box(P          R      mAP50  mAP50-95): 100%|██████████| 5/5 [00:09<00:00,  1.96s/it]"
          ]
        },
        {
          "output_type": "stream",
          "name": "stdout",
          "text": [
            "                   all        153       1899      0.734      0.768      0.806      0.693\n"
          ]
        },
        {
          "output_type": "stream",
          "name": "stderr",
          "text": [
            "\n"
          ]
        },
        {
          "output_type": "stream",
          "name": "stdout",
          "text": [
            "\n",
            "      Epoch    GPU_mem   box_loss   cls_loss   dfl_loss  Instances       Size\n"
          ]
        },
        {
          "output_type": "stream",
          "name": "stderr",
          "text": [
            "      36/50      6.98G     0.5115     0.4431     0.8659        106        640: 100%|██████████| 38/38 [01:05<00:00,  1.72s/it]\n",
            "                 Class     Images  Instances      Box(P          R      mAP50  mAP50-95): 100%|██████████| 5/5 [00:09<00:00,  1.89s/it]"
          ]
        },
        {
          "output_type": "stream",
          "name": "stdout",
          "text": [
            "                   all        153       1899       0.78      0.743      0.812        0.7\n"
          ]
        },
        {
          "output_type": "stream",
          "name": "stderr",
          "text": [
            "\n"
          ]
        },
        {
          "output_type": "stream",
          "name": "stdout",
          "text": [
            "\n",
            "      Epoch    GPU_mem   box_loss   cls_loss   dfl_loss  Instances       Size\n"
          ]
        },
        {
          "output_type": "stream",
          "name": "stderr",
          "text": [
            "      37/50       6.9G     0.5069     0.4266     0.8637         79        640: 100%|██████████| 38/38 [01:09<00:00,  1.83s/it]\n",
            "                 Class     Images  Instances      Box(P          R      mAP50  mAP50-95): 100%|██████████| 5/5 [00:07<00:00,  1.45s/it]"
          ]
        },
        {
          "output_type": "stream",
          "name": "stdout",
          "text": [
            "                   all        153       1899      0.749      0.748      0.809      0.704\n"
          ]
        },
        {
          "output_type": "stream",
          "name": "stderr",
          "text": [
            "\n"
          ]
        },
        {
          "output_type": "stream",
          "name": "stdout",
          "text": [
            "\n",
            "      Epoch    GPU_mem   box_loss   cls_loss   dfl_loss  Instances       Size\n"
          ]
        },
        {
          "output_type": "stream",
          "name": "stderr",
          "text": [
            "      38/50      7.23G     0.5092     0.4305     0.8615        109        640: 100%|██████████| 38/38 [01:06<00:00,  1.74s/it]\n",
            "                 Class     Images  Instances      Box(P          R      mAP50  mAP50-95): 100%|██████████| 5/5 [00:07<00:00,  1.42s/it]"
          ]
        },
        {
          "output_type": "stream",
          "name": "stdout",
          "text": [
            "                   all        153       1899      0.735      0.755      0.803      0.696\n"
          ]
        },
        {
          "output_type": "stream",
          "name": "stderr",
          "text": [
            "\n"
          ]
        },
        {
          "output_type": "stream",
          "name": "stdout",
          "text": [
            "\n",
            "      Epoch    GPU_mem   box_loss   cls_loss   dfl_loss  Instances       Size\n"
          ]
        },
        {
          "output_type": "stream",
          "name": "stderr",
          "text": [
            "      39/50      6.67G     0.4998     0.4144     0.8578        106        640: 100%|██████████| 38/38 [01:06<00:00,  1.76s/it]\n",
            "                 Class     Images  Instances      Box(P          R      mAP50  mAP50-95): 100%|██████████| 5/5 [00:07<00:00,  1.58s/it]"
          ]
        },
        {
          "output_type": "stream",
          "name": "stdout",
          "text": [
            "                   all        153       1899      0.785      0.724      0.812      0.699\n"
          ]
        },
        {
          "output_type": "stream",
          "name": "stderr",
          "text": [
            "\n"
          ]
        },
        {
          "output_type": "stream",
          "name": "stdout",
          "text": [
            "\n",
            "      Epoch    GPU_mem   box_loss   cls_loss   dfl_loss  Instances       Size\n"
          ]
        },
        {
          "output_type": "stream",
          "name": "stderr",
          "text": [
            "      40/50      6.77G     0.4934     0.4005     0.8529        127        640: 100%|██████████| 38/38 [01:08<00:00,  1.79s/it]\n",
            "                 Class     Images  Instances      Box(P          R      mAP50  mAP50-95): 100%|██████████| 5/5 [00:06<00:00,  1.37s/it]"
          ]
        },
        {
          "output_type": "stream",
          "name": "stdout",
          "text": [
            "                   all        153       1899      0.743      0.785      0.816      0.707\n"
          ]
        },
        {
          "output_type": "stream",
          "name": "stderr",
          "text": [
            "\n"
          ]
        },
        {
          "output_type": "stream",
          "name": "stdout",
          "text": [
            "Closing dataloader mosaic\n",
            "\u001b[34m\u001b[1malbumentations: \u001b[0mBlur(p=0.01, blur_limit=(3, 7)), MedianBlur(p=0.01, blur_limit=(3, 7)), ToGray(p=0.01, num_output_channels=3, method='weighted_average'), CLAHE(p=0.01, clip_limit=(1.0, 4.0), tile_grid_size=(8, 8))\n",
            "\n",
            "      Epoch    GPU_mem   box_loss   cls_loss   dfl_loss  Instances       Size\n"
          ]
        },
        {
          "output_type": "stream",
          "name": "stderr",
          "text": [
            "      41/50      6.96G     0.4581      0.414     0.8335         19        640: 100%|██████████| 38/38 [01:15<00:00,  1.98s/it]\n",
            "                 Class     Images  Instances      Box(P          R      mAP50  mAP50-95): 100%|██████████| 5/5 [00:09<00:00,  1.97s/it]"
          ]
        },
        {
          "output_type": "stream",
          "name": "stdout",
          "text": [
            "                   all        153       1899      0.741      0.749      0.794      0.684\n"
          ]
        },
        {
          "output_type": "stream",
          "name": "stderr",
          "text": [
            "\n"
          ]
        },
        {
          "output_type": "stream",
          "name": "stdout",
          "text": [
            "\n",
            "      Epoch    GPU_mem   box_loss   cls_loss   dfl_loss  Instances       Size\n"
          ]
        },
        {
          "output_type": "stream",
          "name": "stderr",
          "text": [
            "      42/50      6.88G     0.4504     0.3559     0.8294         39        640: 100%|██████████| 38/38 [01:04<00:00,  1.70s/it]\n",
            "                 Class     Images  Instances      Box(P          R      mAP50  mAP50-95): 100%|██████████| 5/5 [00:11<00:00,  2.21s/it]"
          ]
        },
        {
          "output_type": "stream",
          "name": "stdout",
          "text": [
            "                   all        153       1899      0.798      0.746      0.811      0.703\n"
          ]
        },
        {
          "output_type": "stream",
          "name": "stderr",
          "text": [
            "\n"
          ]
        },
        {
          "output_type": "stream",
          "name": "stdout",
          "text": [
            "\n",
            "      Epoch    GPU_mem   box_loss   cls_loss   dfl_loss  Instances       Size\n"
          ]
        },
        {
          "output_type": "stream",
          "name": "stderr",
          "text": [
            "      43/50      6.92G     0.4544     0.3487     0.8302         55        640: 100%|██████████| 38/38 [01:03<00:00,  1.68s/it]\n",
            "                 Class     Images  Instances      Box(P          R      mAP50  mAP50-95): 100%|██████████| 5/5 [00:10<00:00,  2.08s/it]"
          ]
        },
        {
          "output_type": "stream",
          "name": "stdout",
          "text": [
            "                   all        153       1899       0.77      0.766      0.826      0.713\n"
          ]
        },
        {
          "output_type": "stream",
          "name": "stderr",
          "text": [
            "\n"
          ]
        },
        {
          "output_type": "stream",
          "name": "stdout",
          "text": [
            "\n",
            "      Epoch    GPU_mem   box_loss   cls_loss   dfl_loss  Instances       Size\n"
          ]
        },
        {
          "output_type": "stream",
          "name": "stderr",
          "text": [
            "      44/50      6.93G     0.4432      0.339     0.8264         86        640: 100%|██████████| 38/38 [00:56<00:00,  1.49s/it]\n",
            "                 Class     Images  Instances      Box(P          R      mAP50  mAP50-95): 100%|██████████| 5/5 [00:07<00:00,  1.53s/it]"
          ]
        },
        {
          "output_type": "stream",
          "name": "stdout",
          "text": [
            "                   all        153       1899      0.758      0.774      0.828      0.721\n"
          ]
        },
        {
          "output_type": "stream",
          "name": "stderr",
          "text": [
            "\n"
          ]
        },
        {
          "output_type": "stream",
          "name": "stdout",
          "text": [
            "\n",
            "      Epoch    GPU_mem   box_loss   cls_loss   dfl_loss  Instances       Size\n"
          ]
        },
        {
          "output_type": "stream",
          "name": "stderr",
          "text": [
            "      45/50      6.98G     0.4358     0.3259     0.8276         29        640: 100%|██████████| 38/38 [00:54<00:00,  1.44s/it]\n",
            "                 Class     Images  Instances      Box(P          R      mAP50  mAP50-95): 100%|██████████| 5/5 [00:07<00:00,  1.59s/it]"
          ]
        },
        {
          "output_type": "stream",
          "name": "stdout",
          "text": [
            "                   all        153       1899      0.791       0.75      0.812      0.701\n"
          ]
        },
        {
          "output_type": "stream",
          "name": "stderr",
          "text": [
            "\n"
          ]
        },
        {
          "output_type": "stream",
          "name": "stdout",
          "text": [
            "\n",
            "      Epoch    GPU_mem   box_loss   cls_loss   dfl_loss  Instances       Size\n"
          ]
        },
        {
          "output_type": "stream",
          "name": "stderr",
          "text": [
            "      46/50      6.92G     0.4383     0.3105     0.8252         74        640: 100%|██████████| 38/38 [01:00<00:00,  1.59s/it]\n",
            "                 Class     Images  Instances      Box(P          R      mAP50  mAP50-95): 100%|██████████| 5/5 [00:10<00:00,  2.15s/it]"
          ]
        },
        {
          "output_type": "stream",
          "name": "stdout",
          "text": [
            "                   all        153       1899      0.766      0.757      0.816      0.704\n"
          ]
        },
        {
          "output_type": "stream",
          "name": "stderr",
          "text": [
            "\n"
          ]
        },
        {
          "output_type": "stream",
          "name": "stdout",
          "text": [
            "\n",
            "      Epoch    GPU_mem   box_loss   cls_loss   dfl_loss  Instances       Size\n"
          ]
        },
        {
          "output_type": "stream",
          "name": "stderr",
          "text": [
            "      47/50      6.97G     0.4272     0.3025     0.8216         29        640: 100%|██████████| 38/38 [01:05<00:00,  1.71s/it]\n",
            "                 Class     Images  Instances      Box(P          R      mAP50  mAP50-95): 100%|██████████| 5/5 [00:09<00:00,  1.87s/it]"
          ]
        },
        {
          "output_type": "stream",
          "name": "stdout",
          "text": [
            "                   all        153       1899      0.749       0.79       0.82      0.708\n"
          ]
        },
        {
          "output_type": "stream",
          "name": "stderr",
          "text": [
            "\n"
          ]
        },
        {
          "output_type": "stream",
          "name": "stdout",
          "text": [
            "\n",
            "      Epoch    GPU_mem   box_loss   cls_loss   dfl_loss  Instances       Size\n"
          ]
        },
        {
          "output_type": "stream",
          "name": "stderr",
          "text": [
            "      48/50      6.87G     0.4292     0.2963     0.8227        100        640: 100%|██████████| 38/38 [01:04<00:00,  1.70s/it]\n",
            "                 Class     Images  Instances      Box(P          R      mAP50  mAP50-95): 100%|██████████| 5/5 [00:09<00:00,  1.83s/it]"
          ]
        },
        {
          "output_type": "stream",
          "name": "stdout",
          "text": [
            "                   all        153       1899      0.791      0.751      0.817      0.709\n"
          ]
        },
        {
          "output_type": "stream",
          "name": "stderr",
          "text": [
            "\n"
          ]
        },
        {
          "output_type": "stream",
          "name": "stdout",
          "text": [
            "\n",
            "      Epoch    GPU_mem   box_loss   cls_loss   dfl_loss  Instances       Size\n"
          ]
        },
        {
          "output_type": "stream",
          "name": "stderr",
          "text": [
            "      49/50      6.97G     0.4156     0.2933     0.8164         15        640: 100%|██████████| 38/38 [01:04<00:00,  1.70s/it]\n",
            "                 Class     Images  Instances      Box(P          R      mAP50  mAP50-95): 100%|██████████| 5/5 [00:11<00:00,  2.32s/it]"
          ]
        },
        {
          "output_type": "stream",
          "name": "stdout",
          "text": [
            "                   all        153       1899      0.776      0.761      0.817      0.708\n"
          ]
        },
        {
          "output_type": "stream",
          "name": "stderr",
          "text": [
            "\n"
          ]
        },
        {
          "output_type": "stream",
          "name": "stdout",
          "text": [
            "\n",
            "      Epoch    GPU_mem   box_loss   cls_loss   dfl_loss  Instances       Size\n"
          ]
        },
        {
          "output_type": "stream",
          "name": "stderr",
          "text": [
            "      50/50      6.93G     0.4197     0.2873     0.8224         37        640: 100%|██████████| 38/38 [01:09<00:00,  1.83s/it]\n",
            "                 Class     Images  Instances      Box(P          R      mAP50  mAP50-95): 100%|██████████| 5/5 [00:08<00:00,  1.73s/it]"
          ]
        },
        {
          "output_type": "stream",
          "name": "stdout",
          "text": [
            "                   all        153       1899      0.775      0.763      0.814      0.706\n"
          ]
        },
        {
          "output_type": "stream",
          "name": "stderr",
          "text": [
            "\n"
          ]
        },
        {
          "output_type": "stream",
          "name": "stdout",
          "text": [
            "\n",
            "50 epochs completed in 1.083 hours.\n",
            "Optimizer stripped from runs/detect/train/weights/last.pt, 52.0MB\n",
            "Optimizer stripped from runs/detect/train/weights/best.pt, 52.0MB\n",
            "\n",
            "Validating runs/detect/train/weights/best.pt...\n",
            "Ultralytics 8.3.55 🚀 Python-3.10.12 torch-2.5.1+cu121 CUDA:0 (Tesla T4, 15102MiB)\n",
            "Model summary (fused): 218 layers, 25,843,234 parameters, 0 gradients, 78.7 GFLOPs\n"
          ]
        },
        {
          "output_type": "stream",
          "name": "stderr",
          "text": [
            "                 Class     Images  Instances      Box(P          R      mAP50  mAP50-95): 100%|██████████| 5/5 [00:12<00:00,  2.53s/it]\n"
          ]
        },
        {
          "output_type": "stream",
          "name": "stdout",
          "text": [
            "                   all        153       1899      0.762      0.771      0.828      0.721\n",
            "       b_fully_ripened         38         68      0.729       0.75      0.772      0.687\n",
            "        b_half_ripened         47        103      0.715      0.757      0.807      0.713\n",
            "               b_green         67        367      0.885      0.877      0.949      0.829\n",
            "       l_fully_ripened         56        255      0.703        0.8       0.82      0.714\n",
            "        l_half_ripened         64        210      0.673      0.608      0.714      0.631\n",
            "               l_green         66        896      0.867      0.837      0.907       0.75\n",
            "Speed: 0.5ms preprocess, 9.7ms inference, 0.0ms loss, 2.6ms postprocess per image\n",
            "Results saved to \u001b[1mruns/detect/train\u001b[0m\n"
          ]
        },
        {
          "output_type": "execute_result",
          "data": {
            "text/plain": [
              "ultralytics.utils.metrics.DetMetrics object with attributes:\n",
              "\n",
              "ap_class_index: array([0, 1, 2, 3, 4, 5])\n",
              "box: ultralytics.utils.metrics.Metric object\n",
              "confusion_matrix: <ultralytics.utils.metrics.ConfusionMatrix object at 0x7f4bd50ee170>\n",
              "curves: ['Precision-Recall(B)', 'F1-Confidence(B)', 'Precision-Confidence(B)', 'Recall-Confidence(B)']\n",
              "curves_results: [[array([          0,    0.001001,    0.002002,    0.003003,    0.004004,    0.005005,    0.006006,    0.007007,    0.008008,    0.009009,     0.01001,    0.011011,    0.012012,    0.013013,    0.014014,    0.015015,    0.016016,    0.017017,    0.018018,    0.019019,     0.02002,    0.021021,    0.022022,    0.023023,\n",
              "          0.024024,    0.025025,    0.026026,    0.027027,    0.028028,    0.029029,     0.03003,    0.031031,    0.032032,    0.033033,    0.034034,    0.035035,    0.036036,    0.037037,    0.038038,    0.039039,     0.04004,    0.041041,    0.042042,    0.043043,    0.044044,    0.045045,    0.046046,    0.047047,\n",
              "          0.048048,    0.049049,     0.05005,    0.051051,    0.052052,    0.053053,    0.054054,    0.055055,    0.056056,    0.057057,    0.058058,    0.059059,     0.06006,    0.061061,    0.062062,    0.063063,    0.064064,    0.065065,    0.066066,    0.067067,    0.068068,    0.069069,     0.07007,    0.071071,\n",
              "          0.072072,    0.073073,    0.074074,    0.075075,    0.076076,    0.077077,    0.078078,    0.079079,     0.08008,    0.081081,    0.082082,    0.083083,    0.084084,    0.085085,    0.086086,    0.087087,    0.088088,    0.089089,     0.09009,    0.091091,    0.092092,    0.093093,    0.094094,    0.095095,\n",
              "          0.096096,    0.097097,    0.098098,    0.099099,      0.1001,      0.1011,      0.1021,      0.1031,      0.1041,     0.10511,     0.10611,     0.10711,     0.10811,     0.10911,     0.11011,     0.11111,     0.11211,     0.11311,     0.11411,     0.11512,     0.11612,     0.11712,     0.11812,     0.11912,\n",
              "           0.12012,     0.12112,     0.12212,     0.12312,     0.12412,     0.12513,     0.12613,     0.12713,     0.12813,     0.12913,     0.13013,     0.13113,     0.13213,     0.13313,     0.13413,     0.13514,     0.13614,     0.13714,     0.13814,     0.13914,     0.14014,     0.14114,     0.14214,     0.14314,\n",
              "           0.14414,     0.14515,     0.14615,     0.14715,     0.14815,     0.14915,     0.15015,     0.15115,     0.15215,     0.15315,     0.15415,     0.15516,     0.15616,     0.15716,     0.15816,     0.15916,     0.16016,     0.16116,     0.16216,     0.16316,     0.16416,     0.16517,     0.16617,     0.16717,\n",
              "           0.16817,     0.16917,     0.17017,     0.17117,     0.17217,     0.17317,     0.17417,     0.17518,     0.17618,     0.17718,     0.17818,     0.17918,     0.18018,     0.18118,     0.18218,     0.18318,     0.18418,     0.18519,     0.18619,     0.18719,     0.18819,     0.18919,     0.19019,     0.19119,\n",
              "           0.19219,     0.19319,     0.19419,      0.1952,      0.1962,      0.1972,      0.1982,      0.1992,      0.2002,      0.2012,      0.2022,      0.2032,      0.2042,     0.20521,     0.20621,     0.20721,     0.20821,     0.20921,     0.21021,     0.21121,     0.21221,     0.21321,     0.21421,     0.21522,\n",
              "           0.21622,     0.21722,     0.21822,     0.21922,     0.22022,     0.22122,     0.22222,     0.22322,     0.22422,     0.22523,     0.22623,     0.22723,     0.22823,     0.22923,     0.23023,     0.23123,     0.23223,     0.23323,     0.23423,     0.23524,     0.23624,     0.23724,     0.23824,     0.23924,\n",
              "           0.24024,     0.24124,     0.24224,     0.24324,     0.24424,     0.24525,     0.24625,     0.24725,     0.24825,     0.24925,     0.25025,     0.25125,     0.25225,     0.25325,     0.25425,     0.25526,     0.25626,     0.25726,     0.25826,     0.25926,     0.26026,     0.26126,     0.26226,     0.26326,\n",
              "           0.26426,     0.26527,     0.26627,     0.26727,     0.26827,     0.26927,     0.27027,     0.27127,     0.27227,     0.27327,     0.27427,     0.27528,     0.27628,     0.27728,     0.27828,     0.27928,     0.28028,     0.28128,     0.28228,     0.28328,     0.28428,     0.28529,     0.28629,     0.28729,\n",
              "           0.28829,     0.28929,     0.29029,     0.29129,     0.29229,     0.29329,     0.29429,      0.2953,      0.2963,      0.2973,      0.2983,      0.2993,      0.3003,      0.3013,      0.3023,      0.3033,      0.3043,     0.30531,     0.30631,     0.30731,     0.30831,     0.30931,     0.31031,     0.31131,\n",
              "           0.31231,     0.31331,     0.31431,     0.31532,     0.31632,     0.31732,     0.31832,     0.31932,     0.32032,     0.32132,     0.32232,     0.32332,     0.32432,     0.32533,     0.32633,     0.32733,     0.32833,     0.32933,     0.33033,     0.33133,     0.33233,     0.33333,     0.33433,     0.33534,\n",
              "           0.33634,     0.33734,     0.33834,     0.33934,     0.34034,     0.34134,     0.34234,     0.34334,     0.34434,     0.34535,     0.34635,     0.34735,     0.34835,     0.34935,     0.35035,     0.35135,     0.35235,     0.35335,     0.35435,     0.35536,     0.35636,     0.35736,     0.35836,     0.35936,\n",
              "           0.36036,     0.36136,     0.36236,     0.36336,     0.36436,     0.36537,     0.36637,     0.36737,     0.36837,     0.36937,     0.37037,     0.37137,     0.37237,     0.37337,     0.37437,     0.37538,     0.37638,     0.37738,     0.37838,     0.37938,     0.38038,     0.38138,     0.38238,     0.38338,\n",
              "           0.38438,     0.38539,     0.38639,     0.38739,     0.38839,     0.38939,     0.39039,     0.39139,     0.39239,     0.39339,     0.39439,      0.3954,      0.3964,      0.3974,      0.3984,      0.3994,      0.4004,      0.4014,      0.4024,      0.4034,      0.4044,     0.40541,     0.40641,     0.40741,\n",
              "           0.40841,     0.40941,     0.41041,     0.41141,     0.41241,     0.41341,     0.41441,     0.41542,     0.41642,     0.41742,     0.41842,     0.41942,     0.42042,     0.42142,     0.42242,     0.42342,     0.42442,     0.42543,     0.42643,     0.42743,     0.42843,     0.42943,     0.43043,     0.43143,\n",
              "           0.43243,     0.43343,     0.43443,     0.43544,     0.43644,     0.43744,     0.43844,     0.43944,     0.44044,     0.44144,     0.44244,     0.44344,     0.44444,     0.44545,     0.44645,     0.44745,     0.44845,     0.44945,     0.45045,     0.45145,     0.45245,     0.45345,     0.45445,     0.45546,\n",
              "           0.45646,     0.45746,     0.45846,     0.45946,     0.46046,     0.46146,     0.46246,     0.46346,     0.46446,     0.46547,     0.46647,     0.46747,     0.46847,     0.46947,     0.47047,     0.47147,     0.47247,     0.47347,     0.47447,     0.47548,     0.47648,     0.47748,     0.47848,     0.47948,\n",
              "           0.48048,     0.48148,     0.48248,     0.48348,     0.48448,     0.48549,     0.48649,     0.48749,     0.48849,     0.48949,     0.49049,     0.49149,     0.49249,     0.49349,     0.49449,      0.4955,      0.4965,      0.4975,      0.4985,      0.4995,      0.5005,      0.5015,      0.5025,      0.5035,\n",
              "            0.5045,     0.50551,     0.50651,     0.50751,     0.50851,     0.50951,     0.51051,     0.51151,     0.51251,     0.51351,     0.51451,     0.51552,     0.51652,     0.51752,     0.51852,     0.51952,     0.52052,     0.52152,     0.52252,     0.52352,     0.52452,     0.52553,     0.52653,     0.52753,\n",
              "           0.52853,     0.52953,     0.53053,     0.53153,     0.53253,     0.53353,     0.53453,     0.53554,     0.53654,     0.53754,     0.53854,     0.53954,     0.54054,     0.54154,     0.54254,     0.54354,     0.54454,     0.54555,     0.54655,     0.54755,     0.54855,     0.54955,     0.55055,     0.55155,\n",
              "           0.55255,     0.55355,     0.55455,     0.55556,     0.55656,     0.55756,     0.55856,     0.55956,     0.56056,     0.56156,     0.56256,     0.56356,     0.56456,     0.56557,     0.56657,     0.56757,     0.56857,     0.56957,     0.57057,     0.57157,     0.57257,     0.57357,     0.57457,     0.57558,\n",
              "           0.57658,     0.57758,     0.57858,     0.57958,     0.58058,     0.58158,     0.58258,     0.58358,     0.58458,     0.58559,     0.58659,     0.58759,     0.58859,     0.58959,     0.59059,     0.59159,     0.59259,     0.59359,     0.59459,      0.5956,      0.5966,      0.5976,      0.5986,      0.5996,\n",
              "            0.6006,      0.6016,      0.6026,      0.6036,      0.6046,     0.60561,     0.60661,     0.60761,     0.60861,     0.60961,     0.61061,     0.61161,     0.61261,     0.61361,     0.61461,     0.61562,     0.61662,     0.61762,     0.61862,     0.61962,     0.62062,     0.62162,     0.62262,     0.62362,\n",
              "           0.62462,     0.62563,     0.62663,     0.62763,     0.62863,     0.62963,     0.63063,     0.63163,     0.63263,     0.63363,     0.63463,     0.63564,     0.63664,     0.63764,     0.63864,     0.63964,     0.64064,     0.64164,     0.64264,     0.64364,     0.64464,     0.64565,     0.64665,     0.64765,\n",
              "           0.64865,     0.64965,     0.65065,     0.65165,     0.65265,     0.65365,     0.65465,     0.65566,     0.65666,     0.65766,     0.65866,     0.65966,     0.66066,     0.66166,     0.66266,     0.66366,     0.66466,     0.66567,     0.66667,     0.66767,     0.66867,     0.66967,     0.67067,     0.67167,\n",
              "           0.67267,     0.67367,     0.67467,     0.67568,     0.67668,     0.67768,     0.67868,     0.67968,     0.68068,     0.68168,     0.68268,     0.68368,     0.68468,     0.68569,     0.68669,     0.68769,     0.68869,     0.68969,     0.69069,     0.69169,     0.69269,     0.69369,     0.69469,      0.6957,\n",
              "            0.6967,      0.6977,      0.6987,      0.6997,      0.7007,      0.7017,      0.7027,      0.7037,      0.7047,     0.70571,     0.70671,     0.70771,     0.70871,     0.70971,     0.71071,     0.71171,     0.71271,     0.71371,     0.71471,     0.71572,     0.71672,     0.71772,     0.71872,     0.71972,\n",
              "           0.72072,     0.72172,     0.72272,     0.72372,     0.72472,     0.72573,     0.72673,     0.72773,     0.72873,     0.72973,     0.73073,     0.73173,     0.73273,     0.73373,     0.73473,     0.73574,     0.73674,     0.73774,     0.73874,     0.73974,     0.74074,     0.74174,     0.74274,     0.74374,\n",
              "           0.74474,     0.74575,     0.74675,     0.74775,     0.74875,     0.74975,     0.75075,     0.75175,     0.75275,     0.75375,     0.75475,     0.75576,     0.75676,     0.75776,     0.75876,     0.75976,     0.76076,     0.76176,     0.76276,     0.76376,     0.76476,     0.76577,     0.76677,     0.76777,\n",
              "           0.76877,     0.76977,     0.77077,     0.77177,     0.77277,     0.77377,     0.77477,     0.77578,     0.77678,     0.77778,     0.77878,     0.77978,     0.78078,     0.78178,     0.78278,     0.78378,     0.78478,     0.78579,     0.78679,     0.78779,     0.78879,     0.78979,     0.79079,     0.79179,\n",
              "           0.79279,     0.79379,     0.79479,      0.7958,      0.7968,      0.7978,      0.7988,      0.7998,      0.8008,      0.8018,      0.8028,      0.8038,      0.8048,     0.80581,     0.80681,     0.80781,     0.80881,     0.80981,     0.81081,     0.81181,     0.81281,     0.81381,     0.81481,     0.81582,\n",
              "           0.81682,     0.81782,     0.81882,     0.81982,     0.82082,     0.82182,     0.82282,     0.82382,     0.82482,     0.82583,     0.82683,     0.82783,     0.82883,     0.82983,     0.83083,     0.83183,     0.83283,     0.83383,     0.83483,     0.83584,     0.83684,     0.83784,     0.83884,     0.83984,\n",
              "           0.84084,     0.84184,     0.84284,     0.84384,     0.84484,     0.84585,     0.84685,     0.84785,     0.84885,     0.84985,     0.85085,     0.85185,     0.85285,     0.85385,     0.85485,     0.85586,     0.85686,     0.85786,     0.85886,     0.85986,     0.86086,     0.86186,     0.86286,     0.86386,\n",
              "           0.86486,     0.86587,     0.86687,     0.86787,     0.86887,     0.86987,     0.87087,     0.87187,     0.87287,     0.87387,     0.87487,     0.87588,     0.87688,     0.87788,     0.87888,     0.87988,     0.88088,     0.88188,     0.88288,     0.88388,     0.88488,     0.88589,     0.88689,     0.88789,\n",
              "           0.88889,     0.88989,     0.89089,     0.89189,     0.89289,     0.89389,     0.89489,      0.8959,      0.8969,      0.8979,      0.8989,      0.8999,      0.9009,      0.9019,      0.9029,      0.9039,      0.9049,     0.90591,     0.90691,     0.90791,     0.90891,     0.90991,     0.91091,     0.91191,\n",
              "           0.91291,     0.91391,     0.91491,     0.91592,     0.91692,     0.91792,     0.91892,     0.91992,     0.92092,     0.92192,     0.92292,     0.92392,     0.92492,     0.92593,     0.92693,     0.92793,     0.92893,     0.92993,     0.93093,     0.93193,     0.93293,     0.93393,     0.93493,     0.93594,\n",
              "           0.93694,     0.93794,     0.93894,     0.93994,     0.94094,     0.94194,     0.94294,     0.94394,     0.94494,     0.94595,     0.94695,     0.94795,     0.94895,     0.94995,     0.95095,     0.95195,     0.95295,     0.95395,     0.95495,     0.95596,     0.95696,     0.95796,     0.95896,     0.95996,\n",
              "           0.96096,     0.96196,     0.96296,     0.96396,     0.96496,     0.96597,     0.96697,     0.96797,     0.96897,     0.96997,     0.97097,     0.97197,     0.97297,     0.97397,     0.97497,     0.97598,     0.97698,     0.97798,     0.97898,     0.97998,     0.98098,     0.98198,     0.98298,     0.98398,\n",
              "           0.98498,     0.98599,     0.98699,     0.98799,     0.98899,     0.98999,     0.99099,     0.99199,     0.99299,     0.99399,     0.99499,       0.996,       0.997,       0.998,       0.999,           1]), array([[          1,           1,           1, ...,    0.018026,    0.009013,           0],\n",
              "       [          1,           1,           1, ...,    0.013666,   0.0068329,           0],\n",
              "       [          1,           1,           1, ...,    0.022873,    0.011437,           0],\n",
              "       [          1,           1,           1, ...,    0.015341,   0.0076703,           0],\n",
              "       [          1,           1,           1, ...,    0.012392,    0.006196,           0],\n",
              "       [          1,           1,           1, ...,   0.0085916,   0.0042958,           0]]), 'Recall', 'Precision'], [array([          0,    0.001001,    0.002002,    0.003003,    0.004004,    0.005005,    0.006006,    0.007007,    0.008008,    0.009009,     0.01001,    0.011011,    0.012012,    0.013013,    0.014014,    0.015015,    0.016016,    0.017017,    0.018018,    0.019019,     0.02002,    0.021021,    0.022022,    0.023023,\n",
              "          0.024024,    0.025025,    0.026026,    0.027027,    0.028028,    0.029029,     0.03003,    0.031031,    0.032032,    0.033033,    0.034034,    0.035035,    0.036036,    0.037037,    0.038038,    0.039039,     0.04004,    0.041041,    0.042042,    0.043043,    0.044044,    0.045045,    0.046046,    0.047047,\n",
              "          0.048048,    0.049049,     0.05005,    0.051051,    0.052052,    0.053053,    0.054054,    0.055055,    0.056056,    0.057057,    0.058058,    0.059059,     0.06006,    0.061061,    0.062062,    0.063063,    0.064064,    0.065065,    0.066066,    0.067067,    0.068068,    0.069069,     0.07007,    0.071071,\n",
              "          0.072072,    0.073073,    0.074074,    0.075075,    0.076076,    0.077077,    0.078078,    0.079079,     0.08008,    0.081081,    0.082082,    0.083083,    0.084084,    0.085085,    0.086086,    0.087087,    0.088088,    0.089089,     0.09009,    0.091091,    0.092092,    0.093093,    0.094094,    0.095095,\n",
              "          0.096096,    0.097097,    0.098098,    0.099099,      0.1001,      0.1011,      0.1021,      0.1031,      0.1041,     0.10511,     0.10611,     0.10711,     0.10811,     0.10911,     0.11011,     0.11111,     0.11211,     0.11311,     0.11411,     0.11512,     0.11612,     0.11712,     0.11812,     0.11912,\n",
              "           0.12012,     0.12112,     0.12212,     0.12312,     0.12412,     0.12513,     0.12613,     0.12713,     0.12813,     0.12913,     0.13013,     0.13113,     0.13213,     0.13313,     0.13413,     0.13514,     0.13614,     0.13714,     0.13814,     0.13914,     0.14014,     0.14114,     0.14214,     0.14314,\n",
              "           0.14414,     0.14515,     0.14615,     0.14715,     0.14815,     0.14915,     0.15015,     0.15115,     0.15215,     0.15315,     0.15415,     0.15516,     0.15616,     0.15716,     0.15816,     0.15916,     0.16016,     0.16116,     0.16216,     0.16316,     0.16416,     0.16517,     0.16617,     0.16717,\n",
              "           0.16817,     0.16917,     0.17017,     0.17117,     0.17217,     0.17317,     0.17417,     0.17518,     0.17618,     0.17718,     0.17818,     0.17918,     0.18018,     0.18118,     0.18218,     0.18318,     0.18418,     0.18519,     0.18619,     0.18719,     0.18819,     0.18919,     0.19019,     0.19119,\n",
              "           0.19219,     0.19319,     0.19419,      0.1952,      0.1962,      0.1972,      0.1982,      0.1992,      0.2002,      0.2012,      0.2022,      0.2032,      0.2042,     0.20521,     0.20621,     0.20721,     0.20821,     0.20921,     0.21021,     0.21121,     0.21221,     0.21321,     0.21421,     0.21522,\n",
              "           0.21622,     0.21722,     0.21822,     0.21922,     0.22022,     0.22122,     0.22222,     0.22322,     0.22422,     0.22523,     0.22623,     0.22723,     0.22823,     0.22923,     0.23023,     0.23123,     0.23223,     0.23323,     0.23423,     0.23524,     0.23624,     0.23724,     0.23824,     0.23924,\n",
              "           0.24024,     0.24124,     0.24224,     0.24324,     0.24424,     0.24525,     0.24625,     0.24725,     0.24825,     0.24925,     0.25025,     0.25125,     0.25225,     0.25325,     0.25425,     0.25526,     0.25626,     0.25726,     0.25826,     0.25926,     0.26026,     0.26126,     0.26226,     0.26326,\n",
              "           0.26426,     0.26527,     0.26627,     0.26727,     0.26827,     0.26927,     0.27027,     0.27127,     0.27227,     0.27327,     0.27427,     0.27528,     0.27628,     0.27728,     0.27828,     0.27928,     0.28028,     0.28128,     0.28228,     0.28328,     0.28428,     0.28529,     0.28629,     0.28729,\n",
              "           0.28829,     0.28929,     0.29029,     0.29129,     0.29229,     0.29329,     0.29429,      0.2953,      0.2963,      0.2973,      0.2983,      0.2993,      0.3003,      0.3013,      0.3023,      0.3033,      0.3043,     0.30531,     0.30631,     0.30731,     0.30831,     0.30931,     0.31031,     0.31131,\n",
              "           0.31231,     0.31331,     0.31431,     0.31532,     0.31632,     0.31732,     0.31832,     0.31932,     0.32032,     0.32132,     0.32232,     0.32332,     0.32432,     0.32533,     0.32633,     0.32733,     0.32833,     0.32933,     0.33033,     0.33133,     0.33233,     0.33333,     0.33433,     0.33534,\n",
              "           0.33634,     0.33734,     0.33834,     0.33934,     0.34034,     0.34134,     0.34234,     0.34334,     0.34434,     0.34535,     0.34635,     0.34735,     0.34835,     0.34935,     0.35035,     0.35135,     0.35235,     0.35335,     0.35435,     0.35536,     0.35636,     0.35736,     0.35836,     0.35936,\n",
              "           0.36036,     0.36136,     0.36236,     0.36336,     0.36436,     0.36537,     0.36637,     0.36737,     0.36837,     0.36937,     0.37037,     0.37137,     0.37237,     0.37337,     0.37437,     0.37538,     0.37638,     0.37738,     0.37838,     0.37938,     0.38038,     0.38138,     0.38238,     0.38338,\n",
              "           0.38438,     0.38539,     0.38639,     0.38739,     0.38839,     0.38939,     0.39039,     0.39139,     0.39239,     0.39339,     0.39439,      0.3954,      0.3964,      0.3974,      0.3984,      0.3994,      0.4004,      0.4014,      0.4024,      0.4034,      0.4044,     0.40541,     0.40641,     0.40741,\n",
              "           0.40841,     0.40941,     0.41041,     0.41141,     0.41241,     0.41341,     0.41441,     0.41542,     0.41642,     0.41742,     0.41842,     0.41942,     0.42042,     0.42142,     0.42242,     0.42342,     0.42442,     0.42543,     0.42643,     0.42743,     0.42843,     0.42943,     0.43043,     0.43143,\n",
              "           0.43243,     0.43343,     0.43443,     0.43544,     0.43644,     0.43744,     0.43844,     0.43944,     0.44044,     0.44144,     0.44244,     0.44344,     0.44444,     0.44545,     0.44645,     0.44745,     0.44845,     0.44945,     0.45045,     0.45145,     0.45245,     0.45345,     0.45445,     0.45546,\n",
              "           0.45646,     0.45746,     0.45846,     0.45946,     0.46046,     0.46146,     0.46246,     0.46346,     0.46446,     0.46547,     0.46647,     0.46747,     0.46847,     0.46947,     0.47047,     0.47147,     0.47247,     0.47347,     0.47447,     0.47548,     0.47648,     0.47748,     0.47848,     0.47948,\n",
              "           0.48048,     0.48148,     0.48248,     0.48348,     0.48448,     0.48549,     0.48649,     0.48749,     0.48849,     0.48949,     0.49049,     0.49149,     0.49249,     0.49349,     0.49449,      0.4955,      0.4965,      0.4975,      0.4985,      0.4995,      0.5005,      0.5015,      0.5025,      0.5035,\n",
              "            0.5045,     0.50551,     0.50651,     0.50751,     0.50851,     0.50951,     0.51051,     0.51151,     0.51251,     0.51351,     0.51451,     0.51552,     0.51652,     0.51752,     0.51852,     0.51952,     0.52052,     0.52152,     0.52252,     0.52352,     0.52452,     0.52553,     0.52653,     0.52753,\n",
              "           0.52853,     0.52953,     0.53053,     0.53153,     0.53253,     0.53353,     0.53453,     0.53554,     0.53654,     0.53754,     0.53854,     0.53954,     0.54054,     0.54154,     0.54254,     0.54354,     0.54454,     0.54555,     0.54655,     0.54755,     0.54855,     0.54955,     0.55055,     0.55155,\n",
              "           0.55255,     0.55355,     0.55455,     0.55556,     0.55656,     0.55756,     0.55856,     0.55956,     0.56056,     0.56156,     0.56256,     0.56356,     0.56456,     0.56557,     0.56657,     0.56757,     0.56857,     0.56957,     0.57057,     0.57157,     0.57257,     0.57357,     0.57457,     0.57558,\n",
              "           0.57658,     0.57758,     0.57858,     0.57958,     0.58058,     0.58158,     0.58258,     0.58358,     0.58458,     0.58559,     0.58659,     0.58759,     0.58859,     0.58959,     0.59059,     0.59159,     0.59259,     0.59359,     0.59459,      0.5956,      0.5966,      0.5976,      0.5986,      0.5996,\n",
              "            0.6006,      0.6016,      0.6026,      0.6036,      0.6046,     0.60561,     0.60661,     0.60761,     0.60861,     0.60961,     0.61061,     0.61161,     0.61261,     0.61361,     0.61461,     0.61562,     0.61662,     0.61762,     0.61862,     0.61962,     0.62062,     0.62162,     0.62262,     0.62362,\n",
              "           0.62462,     0.62563,     0.62663,     0.62763,     0.62863,     0.62963,     0.63063,     0.63163,     0.63263,     0.63363,     0.63463,     0.63564,     0.63664,     0.63764,     0.63864,     0.63964,     0.64064,     0.64164,     0.64264,     0.64364,     0.64464,     0.64565,     0.64665,     0.64765,\n",
              "           0.64865,     0.64965,     0.65065,     0.65165,     0.65265,     0.65365,     0.65465,     0.65566,     0.65666,     0.65766,     0.65866,     0.65966,     0.66066,     0.66166,     0.66266,     0.66366,     0.66466,     0.66567,     0.66667,     0.66767,     0.66867,     0.66967,     0.67067,     0.67167,\n",
              "           0.67267,     0.67367,     0.67467,     0.67568,     0.67668,     0.67768,     0.67868,     0.67968,     0.68068,     0.68168,     0.68268,     0.68368,     0.68468,     0.68569,     0.68669,     0.68769,     0.68869,     0.68969,     0.69069,     0.69169,     0.69269,     0.69369,     0.69469,      0.6957,\n",
              "            0.6967,      0.6977,      0.6987,      0.6997,      0.7007,      0.7017,      0.7027,      0.7037,      0.7047,     0.70571,     0.70671,     0.70771,     0.70871,     0.70971,     0.71071,     0.71171,     0.71271,     0.71371,     0.71471,     0.71572,     0.71672,     0.71772,     0.71872,     0.71972,\n",
              "           0.72072,     0.72172,     0.72272,     0.72372,     0.72472,     0.72573,     0.72673,     0.72773,     0.72873,     0.72973,     0.73073,     0.73173,     0.73273,     0.73373,     0.73473,     0.73574,     0.73674,     0.73774,     0.73874,     0.73974,     0.74074,     0.74174,     0.74274,     0.74374,\n",
              "           0.74474,     0.74575,     0.74675,     0.74775,     0.74875,     0.74975,     0.75075,     0.75175,     0.75275,     0.75375,     0.75475,     0.75576,     0.75676,     0.75776,     0.75876,     0.75976,     0.76076,     0.76176,     0.76276,     0.76376,     0.76476,     0.76577,     0.76677,     0.76777,\n",
              "           0.76877,     0.76977,     0.77077,     0.77177,     0.77277,     0.77377,     0.77477,     0.77578,     0.77678,     0.77778,     0.77878,     0.77978,     0.78078,     0.78178,     0.78278,     0.78378,     0.78478,     0.78579,     0.78679,     0.78779,     0.78879,     0.78979,     0.79079,     0.79179,\n",
              "           0.79279,     0.79379,     0.79479,      0.7958,      0.7968,      0.7978,      0.7988,      0.7998,      0.8008,      0.8018,      0.8028,      0.8038,      0.8048,     0.80581,     0.80681,     0.80781,     0.80881,     0.80981,     0.81081,     0.81181,     0.81281,     0.81381,     0.81481,     0.81582,\n",
              "           0.81682,     0.81782,     0.81882,     0.81982,     0.82082,     0.82182,     0.82282,     0.82382,     0.82482,     0.82583,     0.82683,     0.82783,     0.82883,     0.82983,     0.83083,     0.83183,     0.83283,     0.83383,     0.83483,     0.83584,     0.83684,     0.83784,     0.83884,     0.83984,\n",
              "           0.84084,     0.84184,     0.84284,     0.84384,     0.84484,     0.84585,     0.84685,     0.84785,     0.84885,     0.84985,     0.85085,     0.85185,     0.85285,     0.85385,     0.85485,     0.85586,     0.85686,     0.85786,     0.85886,     0.85986,     0.86086,     0.86186,     0.86286,     0.86386,\n",
              "           0.86486,     0.86587,     0.86687,     0.86787,     0.86887,     0.86987,     0.87087,     0.87187,     0.87287,     0.87387,     0.87487,     0.87588,     0.87688,     0.87788,     0.87888,     0.87988,     0.88088,     0.88188,     0.88288,     0.88388,     0.88488,     0.88589,     0.88689,     0.88789,\n",
              "           0.88889,     0.88989,     0.89089,     0.89189,     0.89289,     0.89389,     0.89489,      0.8959,      0.8969,      0.8979,      0.8989,      0.8999,      0.9009,      0.9019,      0.9029,      0.9039,      0.9049,     0.90591,     0.90691,     0.90791,     0.90891,     0.90991,     0.91091,     0.91191,\n",
              "           0.91291,     0.91391,     0.91491,     0.91592,     0.91692,     0.91792,     0.91892,     0.91992,     0.92092,     0.92192,     0.92292,     0.92392,     0.92492,     0.92593,     0.92693,     0.92793,     0.92893,     0.92993,     0.93093,     0.93193,     0.93293,     0.93393,     0.93493,     0.93594,\n",
              "           0.93694,     0.93794,     0.93894,     0.93994,     0.94094,     0.94194,     0.94294,     0.94394,     0.94494,     0.94595,     0.94695,     0.94795,     0.94895,     0.94995,     0.95095,     0.95195,     0.95295,     0.95395,     0.95495,     0.95596,     0.95696,     0.95796,     0.95896,     0.95996,\n",
              "           0.96096,     0.96196,     0.96296,     0.96396,     0.96496,     0.96597,     0.96697,     0.96797,     0.96897,     0.96997,     0.97097,     0.97197,     0.97297,     0.97397,     0.97497,     0.97598,     0.97698,     0.97798,     0.97898,     0.97998,     0.98098,     0.98198,     0.98298,     0.98398,\n",
              "           0.98498,     0.98599,     0.98699,     0.98799,     0.98899,     0.98999,     0.99099,     0.99199,     0.99299,     0.99399,     0.99499,       0.996,       0.997,       0.998,       0.999,           1]), array([[    0.23345,     0.23345,     0.30625, ...,           0,           0,           0],\n",
              "       [    0.23353,     0.23353,      0.3065, ...,           0,           0,           0],\n",
              "       [    0.35661,     0.35661,     0.45315, ...,           0,           0,           0],\n",
              "       [    0.34589,     0.34589,     0.40041, ...,           0,           0,           0],\n",
              "       [    0.25609,     0.25609,     0.29802, ...,           0,           0,           0],\n",
              "       [    0.31916,     0.31916,       0.394, ...,           0,           0,           0]]), 'Confidence', 'F1'], [array([          0,    0.001001,    0.002002,    0.003003,    0.004004,    0.005005,    0.006006,    0.007007,    0.008008,    0.009009,     0.01001,    0.011011,    0.012012,    0.013013,    0.014014,    0.015015,    0.016016,    0.017017,    0.018018,    0.019019,     0.02002,    0.021021,    0.022022,    0.023023,\n",
              "          0.024024,    0.025025,    0.026026,    0.027027,    0.028028,    0.029029,     0.03003,    0.031031,    0.032032,    0.033033,    0.034034,    0.035035,    0.036036,    0.037037,    0.038038,    0.039039,     0.04004,    0.041041,    0.042042,    0.043043,    0.044044,    0.045045,    0.046046,    0.047047,\n",
              "          0.048048,    0.049049,     0.05005,    0.051051,    0.052052,    0.053053,    0.054054,    0.055055,    0.056056,    0.057057,    0.058058,    0.059059,     0.06006,    0.061061,    0.062062,    0.063063,    0.064064,    0.065065,    0.066066,    0.067067,    0.068068,    0.069069,     0.07007,    0.071071,\n",
              "          0.072072,    0.073073,    0.074074,    0.075075,    0.076076,    0.077077,    0.078078,    0.079079,     0.08008,    0.081081,    0.082082,    0.083083,    0.084084,    0.085085,    0.086086,    0.087087,    0.088088,    0.089089,     0.09009,    0.091091,    0.092092,    0.093093,    0.094094,    0.095095,\n",
              "          0.096096,    0.097097,    0.098098,    0.099099,      0.1001,      0.1011,      0.1021,      0.1031,      0.1041,     0.10511,     0.10611,     0.10711,     0.10811,     0.10911,     0.11011,     0.11111,     0.11211,     0.11311,     0.11411,     0.11512,     0.11612,     0.11712,     0.11812,     0.11912,\n",
              "           0.12012,     0.12112,     0.12212,     0.12312,     0.12412,     0.12513,     0.12613,     0.12713,     0.12813,     0.12913,     0.13013,     0.13113,     0.13213,     0.13313,     0.13413,     0.13514,     0.13614,     0.13714,     0.13814,     0.13914,     0.14014,     0.14114,     0.14214,     0.14314,\n",
              "           0.14414,     0.14515,     0.14615,     0.14715,     0.14815,     0.14915,     0.15015,     0.15115,     0.15215,     0.15315,     0.15415,     0.15516,     0.15616,     0.15716,     0.15816,     0.15916,     0.16016,     0.16116,     0.16216,     0.16316,     0.16416,     0.16517,     0.16617,     0.16717,\n",
              "           0.16817,     0.16917,     0.17017,     0.17117,     0.17217,     0.17317,     0.17417,     0.17518,     0.17618,     0.17718,     0.17818,     0.17918,     0.18018,     0.18118,     0.18218,     0.18318,     0.18418,     0.18519,     0.18619,     0.18719,     0.18819,     0.18919,     0.19019,     0.19119,\n",
              "           0.19219,     0.19319,     0.19419,      0.1952,      0.1962,      0.1972,      0.1982,      0.1992,      0.2002,      0.2012,      0.2022,      0.2032,      0.2042,     0.20521,     0.20621,     0.20721,     0.20821,     0.20921,     0.21021,     0.21121,     0.21221,     0.21321,     0.21421,     0.21522,\n",
              "           0.21622,     0.21722,     0.21822,     0.21922,     0.22022,     0.22122,     0.22222,     0.22322,     0.22422,     0.22523,     0.22623,     0.22723,     0.22823,     0.22923,     0.23023,     0.23123,     0.23223,     0.23323,     0.23423,     0.23524,     0.23624,     0.23724,     0.23824,     0.23924,\n",
              "           0.24024,     0.24124,     0.24224,     0.24324,     0.24424,     0.24525,     0.24625,     0.24725,     0.24825,     0.24925,     0.25025,     0.25125,     0.25225,     0.25325,     0.25425,     0.25526,     0.25626,     0.25726,     0.25826,     0.25926,     0.26026,     0.26126,     0.26226,     0.26326,\n",
              "           0.26426,     0.26527,     0.26627,     0.26727,     0.26827,     0.26927,     0.27027,     0.27127,     0.27227,     0.27327,     0.27427,     0.27528,     0.27628,     0.27728,     0.27828,     0.27928,     0.28028,     0.28128,     0.28228,     0.28328,     0.28428,     0.28529,     0.28629,     0.28729,\n",
              "           0.28829,     0.28929,     0.29029,     0.29129,     0.29229,     0.29329,     0.29429,      0.2953,      0.2963,      0.2973,      0.2983,      0.2993,      0.3003,      0.3013,      0.3023,      0.3033,      0.3043,     0.30531,     0.30631,     0.30731,     0.30831,     0.30931,     0.31031,     0.31131,\n",
              "           0.31231,     0.31331,     0.31431,     0.31532,     0.31632,     0.31732,     0.31832,     0.31932,     0.32032,     0.32132,     0.32232,     0.32332,     0.32432,     0.32533,     0.32633,     0.32733,     0.32833,     0.32933,     0.33033,     0.33133,     0.33233,     0.33333,     0.33433,     0.33534,\n",
              "           0.33634,     0.33734,     0.33834,     0.33934,     0.34034,     0.34134,     0.34234,     0.34334,     0.34434,     0.34535,     0.34635,     0.34735,     0.34835,     0.34935,     0.35035,     0.35135,     0.35235,     0.35335,     0.35435,     0.35536,     0.35636,     0.35736,     0.35836,     0.35936,\n",
              "           0.36036,     0.36136,     0.36236,     0.36336,     0.36436,     0.36537,     0.36637,     0.36737,     0.36837,     0.36937,     0.37037,     0.37137,     0.37237,     0.37337,     0.37437,     0.37538,     0.37638,     0.37738,     0.37838,     0.37938,     0.38038,     0.38138,     0.38238,     0.38338,\n",
              "           0.38438,     0.38539,     0.38639,     0.38739,     0.38839,     0.38939,     0.39039,     0.39139,     0.39239,     0.39339,     0.39439,      0.3954,      0.3964,      0.3974,      0.3984,      0.3994,      0.4004,      0.4014,      0.4024,      0.4034,      0.4044,     0.40541,     0.40641,     0.40741,\n",
              "           0.40841,     0.40941,     0.41041,     0.41141,     0.41241,     0.41341,     0.41441,     0.41542,     0.41642,     0.41742,     0.41842,     0.41942,     0.42042,     0.42142,     0.42242,     0.42342,     0.42442,     0.42543,     0.42643,     0.42743,     0.42843,     0.42943,     0.43043,     0.43143,\n",
              "           0.43243,     0.43343,     0.43443,     0.43544,     0.43644,     0.43744,     0.43844,     0.43944,     0.44044,     0.44144,     0.44244,     0.44344,     0.44444,     0.44545,     0.44645,     0.44745,     0.44845,     0.44945,     0.45045,     0.45145,     0.45245,     0.45345,     0.45445,     0.45546,\n",
              "           0.45646,     0.45746,     0.45846,     0.45946,     0.46046,     0.46146,     0.46246,     0.46346,     0.46446,     0.46547,     0.46647,     0.46747,     0.46847,     0.46947,     0.47047,     0.47147,     0.47247,     0.47347,     0.47447,     0.47548,     0.47648,     0.47748,     0.47848,     0.47948,\n",
              "           0.48048,     0.48148,     0.48248,     0.48348,     0.48448,     0.48549,     0.48649,     0.48749,     0.48849,     0.48949,     0.49049,     0.49149,     0.49249,     0.49349,     0.49449,      0.4955,      0.4965,      0.4975,      0.4985,      0.4995,      0.5005,      0.5015,      0.5025,      0.5035,\n",
              "            0.5045,     0.50551,     0.50651,     0.50751,     0.50851,     0.50951,     0.51051,     0.51151,     0.51251,     0.51351,     0.51451,     0.51552,     0.51652,     0.51752,     0.51852,     0.51952,     0.52052,     0.52152,     0.52252,     0.52352,     0.52452,     0.52553,     0.52653,     0.52753,\n",
              "           0.52853,     0.52953,     0.53053,     0.53153,     0.53253,     0.53353,     0.53453,     0.53554,     0.53654,     0.53754,     0.53854,     0.53954,     0.54054,     0.54154,     0.54254,     0.54354,     0.54454,     0.54555,     0.54655,     0.54755,     0.54855,     0.54955,     0.55055,     0.55155,\n",
              "           0.55255,     0.55355,     0.55455,     0.55556,     0.55656,     0.55756,     0.55856,     0.55956,     0.56056,     0.56156,     0.56256,     0.56356,     0.56456,     0.56557,     0.56657,     0.56757,     0.56857,     0.56957,     0.57057,     0.57157,     0.57257,     0.57357,     0.57457,     0.57558,\n",
              "           0.57658,     0.57758,     0.57858,     0.57958,     0.58058,     0.58158,     0.58258,     0.58358,     0.58458,     0.58559,     0.58659,     0.58759,     0.58859,     0.58959,     0.59059,     0.59159,     0.59259,     0.59359,     0.59459,      0.5956,      0.5966,      0.5976,      0.5986,      0.5996,\n",
              "            0.6006,      0.6016,      0.6026,      0.6036,      0.6046,     0.60561,     0.60661,     0.60761,     0.60861,     0.60961,     0.61061,     0.61161,     0.61261,     0.61361,     0.61461,     0.61562,     0.61662,     0.61762,     0.61862,     0.61962,     0.62062,     0.62162,     0.62262,     0.62362,\n",
              "           0.62462,     0.62563,     0.62663,     0.62763,     0.62863,     0.62963,     0.63063,     0.63163,     0.63263,     0.63363,     0.63463,     0.63564,     0.63664,     0.63764,     0.63864,     0.63964,     0.64064,     0.64164,     0.64264,     0.64364,     0.64464,     0.64565,     0.64665,     0.64765,\n",
              "           0.64865,     0.64965,     0.65065,     0.65165,     0.65265,     0.65365,     0.65465,     0.65566,     0.65666,     0.65766,     0.65866,     0.65966,     0.66066,     0.66166,     0.66266,     0.66366,     0.66466,     0.66567,     0.66667,     0.66767,     0.66867,     0.66967,     0.67067,     0.67167,\n",
              "           0.67267,     0.67367,     0.67467,     0.67568,     0.67668,     0.67768,     0.67868,     0.67968,     0.68068,     0.68168,     0.68268,     0.68368,     0.68468,     0.68569,     0.68669,     0.68769,     0.68869,     0.68969,     0.69069,     0.69169,     0.69269,     0.69369,     0.69469,      0.6957,\n",
              "            0.6967,      0.6977,      0.6987,      0.6997,      0.7007,      0.7017,      0.7027,      0.7037,      0.7047,     0.70571,     0.70671,     0.70771,     0.70871,     0.70971,     0.71071,     0.71171,     0.71271,     0.71371,     0.71471,     0.71572,     0.71672,     0.71772,     0.71872,     0.71972,\n",
              "           0.72072,     0.72172,     0.72272,     0.72372,     0.72472,     0.72573,     0.72673,     0.72773,     0.72873,     0.72973,     0.73073,     0.73173,     0.73273,     0.73373,     0.73473,     0.73574,     0.73674,     0.73774,     0.73874,     0.73974,     0.74074,     0.74174,     0.74274,     0.74374,\n",
              "           0.74474,     0.74575,     0.74675,     0.74775,     0.74875,     0.74975,     0.75075,     0.75175,     0.75275,     0.75375,     0.75475,     0.75576,     0.75676,     0.75776,     0.75876,     0.75976,     0.76076,     0.76176,     0.76276,     0.76376,     0.76476,     0.76577,     0.76677,     0.76777,\n",
              "           0.76877,     0.76977,     0.77077,     0.77177,     0.77277,     0.77377,     0.77477,     0.77578,     0.77678,     0.77778,     0.77878,     0.77978,     0.78078,     0.78178,     0.78278,     0.78378,     0.78478,     0.78579,     0.78679,     0.78779,     0.78879,     0.78979,     0.79079,     0.79179,\n",
              "           0.79279,     0.79379,     0.79479,      0.7958,      0.7968,      0.7978,      0.7988,      0.7998,      0.8008,      0.8018,      0.8028,      0.8038,      0.8048,     0.80581,     0.80681,     0.80781,     0.80881,     0.80981,     0.81081,     0.81181,     0.81281,     0.81381,     0.81481,     0.81582,\n",
              "           0.81682,     0.81782,     0.81882,     0.81982,     0.82082,     0.82182,     0.82282,     0.82382,     0.82482,     0.82583,     0.82683,     0.82783,     0.82883,     0.82983,     0.83083,     0.83183,     0.83283,     0.83383,     0.83483,     0.83584,     0.83684,     0.83784,     0.83884,     0.83984,\n",
              "           0.84084,     0.84184,     0.84284,     0.84384,     0.84484,     0.84585,     0.84685,     0.84785,     0.84885,     0.84985,     0.85085,     0.85185,     0.85285,     0.85385,     0.85485,     0.85586,     0.85686,     0.85786,     0.85886,     0.85986,     0.86086,     0.86186,     0.86286,     0.86386,\n",
              "           0.86486,     0.86587,     0.86687,     0.86787,     0.86887,     0.86987,     0.87087,     0.87187,     0.87287,     0.87387,     0.87487,     0.87588,     0.87688,     0.87788,     0.87888,     0.87988,     0.88088,     0.88188,     0.88288,     0.88388,     0.88488,     0.88589,     0.88689,     0.88789,\n",
              "           0.88889,     0.88989,     0.89089,     0.89189,     0.89289,     0.89389,     0.89489,      0.8959,      0.8969,      0.8979,      0.8989,      0.8999,      0.9009,      0.9019,      0.9029,      0.9039,      0.9049,     0.90591,     0.90691,     0.90791,     0.90891,     0.90991,     0.91091,     0.91191,\n",
              "           0.91291,     0.91391,     0.91491,     0.91592,     0.91692,     0.91792,     0.91892,     0.91992,     0.92092,     0.92192,     0.92292,     0.92392,     0.92492,     0.92593,     0.92693,     0.92793,     0.92893,     0.92993,     0.93093,     0.93193,     0.93293,     0.93393,     0.93493,     0.93594,\n",
              "           0.93694,     0.93794,     0.93894,     0.93994,     0.94094,     0.94194,     0.94294,     0.94394,     0.94494,     0.94595,     0.94695,     0.94795,     0.94895,     0.94995,     0.95095,     0.95195,     0.95295,     0.95395,     0.95495,     0.95596,     0.95696,     0.95796,     0.95896,     0.95996,\n",
              "           0.96096,     0.96196,     0.96296,     0.96396,     0.96496,     0.96597,     0.96697,     0.96797,     0.96897,     0.96997,     0.97097,     0.97197,     0.97297,     0.97397,     0.97497,     0.97598,     0.97698,     0.97798,     0.97898,     0.97998,     0.98098,     0.98198,     0.98298,     0.98398,\n",
              "           0.98498,     0.98599,     0.98699,     0.98799,     0.98899,     0.98999,     0.99099,     0.99199,     0.99299,     0.99399,     0.99499,       0.996,       0.997,       0.998,       0.999,           1]), array([[    0.13241,     0.13241,     0.18181, ...,           1,           1,           1],\n",
              "       [    0.13255,     0.13255,     0.18164, ...,           1,           1,           1],\n",
              "       [    0.21792,     0.21792,     0.29512, ...,           1,           1,           1],\n",
              "       [    0.21035,     0.21035,      0.2521, ...,           1,           1,           1],\n",
              "       [    0.14738,     0.14738,     0.17601, ...,           1,           1,           1],\n",
              "       [    0.19158,     0.19158,     0.24825, ...,           1,           1,           1]]), 'Confidence', 'Precision'], [array([          0,    0.001001,    0.002002,    0.003003,    0.004004,    0.005005,    0.006006,    0.007007,    0.008008,    0.009009,     0.01001,    0.011011,    0.012012,    0.013013,    0.014014,    0.015015,    0.016016,    0.017017,    0.018018,    0.019019,     0.02002,    0.021021,    0.022022,    0.023023,\n",
              "          0.024024,    0.025025,    0.026026,    0.027027,    0.028028,    0.029029,     0.03003,    0.031031,    0.032032,    0.033033,    0.034034,    0.035035,    0.036036,    0.037037,    0.038038,    0.039039,     0.04004,    0.041041,    0.042042,    0.043043,    0.044044,    0.045045,    0.046046,    0.047047,\n",
              "          0.048048,    0.049049,     0.05005,    0.051051,    0.052052,    0.053053,    0.054054,    0.055055,    0.056056,    0.057057,    0.058058,    0.059059,     0.06006,    0.061061,    0.062062,    0.063063,    0.064064,    0.065065,    0.066066,    0.067067,    0.068068,    0.069069,     0.07007,    0.071071,\n",
              "          0.072072,    0.073073,    0.074074,    0.075075,    0.076076,    0.077077,    0.078078,    0.079079,     0.08008,    0.081081,    0.082082,    0.083083,    0.084084,    0.085085,    0.086086,    0.087087,    0.088088,    0.089089,     0.09009,    0.091091,    0.092092,    0.093093,    0.094094,    0.095095,\n",
              "          0.096096,    0.097097,    0.098098,    0.099099,      0.1001,      0.1011,      0.1021,      0.1031,      0.1041,     0.10511,     0.10611,     0.10711,     0.10811,     0.10911,     0.11011,     0.11111,     0.11211,     0.11311,     0.11411,     0.11512,     0.11612,     0.11712,     0.11812,     0.11912,\n",
              "           0.12012,     0.12112,     0.12212,     0.12312,     0.12412,     0.12513,     0.12613,     0.12713,     0.12813,     0.12913,     0.13013,     0.13113,     0.13213,     0.13313,     0.13413,     0.13514,     0.13614,     0.13714,     0.13814,     0.13914,     0.14014,     0.14114,     0.14214,     0.14314,\n",
              "           0.14414,     0.14515,     0.14615,     0.14715,     0.14815,     0.14915,     0.15015,     0.15115,     0.15215,     0.15315,     0.15415,     0.15516,     0.15616,     0.15716,     0.15816,     0.15916,     0.16016,     0.16116,     0.16216,     0.16316,     0.16416,     0.16517,     0.16617,     0.16717,\n",
              "           0.16817,     0.16917,     0.17017,     0.17117,     0.17217,     0.17317,     0.17417,     0.17518,     0.17618,     0.17718,     0.17818,     0.17918,     0.18018,     0.18118,     0.18218,     0.18318,     0.18418,     0.18519,     0.18619,     0.18719,     0.18819,     0.18919,     0.19019,     0.19119,\n",
              "           0.19219,     0.19319,     0.19419,      0.1952,      0.1962,      0.1972,      0.1982,      0.1992,      0.2002,      0.2012,      0.2022,      0.2032,      0.2042,     0.20521,     0.20621,     0.20721,     0.20821,     0.20921,     0.21021,     0.21121,     0.21221,     0.21321,     0.21421,     0.21522,\n",
              "           0.21622,     0.21722,     0.21822,     0.21922,     0.22022,     0.22122,     0.22222,     0.22322,     0.22422,     0.22523,     0.22623,     0.22723,     0.22823,     0.22923,     0.23023,     0.23123,     0.23223,     0.23323,     0.23423,     0.23524,     0.23624,     0.23724,     0.23824,     0.23924,\n",
              "           0.24024,     0.24124,     0.24224,     0.24324,     0.24424,     0.24525,     0.24625,     0.24725,     0.24825,     0.24925,     0.25025,     0.25125,     0.25225,     0.25325,     0.25425,     0.25526,     0.25626,     0.25726,     0.25826,     0.25926,     0.26026,     0.26126,     0.26226,     0.26326,\n",
              "           0.26426,     0.26527,     0.26627,     0.26727,     0.26827,     0.26927,     0.27027,     0.27127,     0.27227,     0.27327,     0.27427,     0.27528,     0.27628,     0.27728,     0.27828,     0.27928,     0.28028,     0.28128,     0.28228,     0.28328,     0.28428,     0.28529,     0.28629,     0.28729,\n",
              "           0.28829,     0.28929,     0.29029,     0.29129,     0.29229,     0.29329,     0.29429,      0.2953,      0.2963,      0.2973,      0.2983,      0.2993,      0.3003,      0.3013,      0.3023,      0.3033,      0.3043,     0.30531,     0.30631,     0.30731,     0.30831,     0.30931,     0.31031,     0.31131,\n",
              "           0.31231,     0.31331,     0.31431,     0.31532,     0.31632,     0.31732,     0.31832,     0.31932,     0.32032,     0.32132,     0.32232,     0.32332,     0.32432,     0.32533,     0.32633,     0.32733,     0.32833,     0.32933,     0.33033,     0.33133,     0.33233,     0.33333,     0.33433,     0.33534,\n",
              "           0.33634,     0.33734,     0.33834,     0.33934,     0.34034,     0.34134,     0.34234,     0.34334,     0.34434,     0.34535,     0.34635,     0.34735,     0.34835,     0.34935,     0.35035,     0.35135,     0.35235,     0.35335,     0.35435,     0.35536,     0.35636,     0.35736,     0.35836,     0.35936,\n",
              "           0.36036,     0.36136,     0.36236,     0.36336,     0.36436,     0.36537,     0.36637,     0.36737,     0.36837,     0.36937,     0.37037,     0.37137,     0.37237,     0.37337,     0.37437,     0.37538,     0.37638,     0.37738,     0.37838,     0.37938,     0.38038,     0.38138,     0.38238,     0.38338,\n",
              "           0.38438,     0.38539,     0.38639,     0.38739,     0.38839,     0.38939,     0.39039,     0.39139,     0.39239,     0.39339,     0.39439,      0.3954,      0.3964,      0.3974,      0.3984,      0.3994,      0.4004,      0.4014,      0.4024,      0.4034,      0.4044,     0.40541,     0.40641,     0.40741,\n",
              "           0.40841,     0.40941,     0.41041,     0.41141,     0.41241,     0.41341,     0.41441,     0.41542,     0.41642,     0.41742,     0.41842,     0.41942,     0.42042,     0.42142,     0.42242,     0.42342,     0.42442,     0.42543,     0.42643,     0.42743,     0.42843,     0.42943,     0.43043,     0.43143,\n",
              "           0.43243,     0.43343,     0.43443,     0.43544,     0.43644,     0.43744,     0.43844,     0.43944,     0.44044,     0.44144,     0.44244,     0.44344,     0.44444,     0.44545,     0.44645,     0.44745,     0.44845,     0.44945,     0.45045,     0.45145,     0.45245,     0.45345,     0.45445,     0.45546,\n",
              "           0.45646,     0.45746,     0.45846,     0.45946,     0.46046,     0.46146,     0.46246,     0.46346,     0.46446,     0.46547,     0.46647,     0.46747,     0.46847,     0.46947,     0.47047,     0.47147,     0.47247,     0.47347,     0.47447,     0.47548,     0.47648,     0.47748,     0.47848,     0.47948,\n",
              "           0.48048,     0.48148,     0.48248,     0.48348,     0.48448,     0.48549,     0.48649,     0.48749,     0.48849,     0.48949,     0.49049,     0.49149,     0.49249,     0.49349,     0.49449,      0.4955,      0.4965,      0.4975,      0.4985,      0.4995,      0.5005,      0.5015,      0.5025,      0.5035,\n",
              "            0.5045,     0.50551,     0.50651,     0.50751,     0.50851,     0.50951,     0.51051,     0.51151,     0.51251,     0.51351,     0.51451,     0.51552,     0.51652,     0.51752,     0.51852,     0.51952,     0.52052,     0.52152,     0.52252,     0.52352,     0.52452,     0.52553,     0.52653,     0.52753,\n",
              "           0.52853,     0.52953,     0.53053,     0.53153,     0.53253,     0.53353,     0.53453,     0.53554,     0.53654,     0.53754,     0.53854,     0.53954,     0.54054,     0.54154,     0.54254,     0.54354,     0.54454,     0.54555,     0.54655,     0.54755,     0.54855,     0.54955,     0.55055,     0.55155,\n",
              "           0.55255,     0.55355,     0.55455,     0.55556,     0.55656,     0.55756,     0.55856,     0.55956,     0.56056,     0.56156,     0.56256,     0.56356,     0.56456,     0.56557,     0.56657,     0.56757,     0.56857,     0.56957,     0.57057,     0.57157,     0.57257,     0.57357,     0.57457,     0.57558,\n",
              "           0.57658,     0.57758,     0.57858,     0.57958,     0.58058,     0.58158,     0.58258,     0.58358,     0.58458,     0.58559,     0.58659,     0.58759,     0.58859,     0.58959,     0.59059,     0.59159,     0.59259,     0.59359,     0.59459,      0.5956,      0.5966,      0.5976,      0.5986,      0.5996,\n",
              "            0.6006,      0.6016,      0.6026,      0.6036,      0.6046,     0.60561,     0.60661,     0.60761,     0.60861,     0.60961,     0.61061,     0.61161,     0.61261,     0.61361,     0.61461,     0.61562,     0.61662,     0.61762,     0.61862,     0.61962,     0.62062,     0.62162,     0.62262,     0.62362,\n",
              "           0.62462,     0.62563,     0.62663,     0.62763,     0.62863,     0.62963,     0.63063,     0.63163,     0.63263,     0.63363,     0.63463,     0.63564,     0.63664,     0.63764,     0.63864,     0.63964,     0.64064,     0.64164,     0.64264,     0.64364,     0.64464,     0.64565,     0.64665,     0.64765,\n",
              "           0.64865,     0.64965,     0.65065,     0.65165,     0.65265,     0.65365,     0.65465,     0.65566,     0.65666,     0.65766,     0.65866,     0.65966,     0.66066,     0.66166,     0.66266,     0.66366,     0.66466,     0.66567,     0.66667,     0.66767,     0.66867,     0.66967,     0.67067,     0.67167,\n",
              "           0.67267,     0.67367,     0.67467,     0.67568,     0.67668,     0.67768,     0.67868,     0.67968,     0.68068,     0.68168,     0.68268,     0.68368,     0.68468,     0.68569,     0.68669,     0.68769,     0.68869,     0.68969,     0.69069,     0.69169,     0.69269,     0.69369,     0.69469,      0.6957,\n",
              "            0.6967,      0.6977,      0.6987,      0.6997,      0.7007,      0.7017,      0.7027,      0.7037,      0.7047,     0.70571,     0.70671,     0.70771,     0.70871,     0.70971,     0.71071,     0.71171,     0.71271,     0.71371,     0.71471,     0.71572,     0.71672,     0.71772,     0.71872,     0.71972,\n",
              "           0.72072,     0.72172,     0.72272,     0.72372,     0.72472,     0.72573,     0.72673,     0.72773,     0.72873,     0.72973,     0.73073,     0.73173,     0.73273,     0.73373,     0.73473,     0.73574,     0.73674,     0.73774,     0.73874,     0.73974,     0.74074,     0.74174,     0.74274,     0.74374,\n",
              "           0.74474,     0.74575,     0.74675,     0.74775,     0.74875,     0.74975,     0.75075,     0.75175,     0.75275,     0.75375,     0.75475,     0.75576,     0.75676,     0.75776,     0.75876,     0.75976,     0.76076,     0.76176,     0.76276,     0.76376,     0.76476,     0.76577,     0.76677,     0.76777,\n",
              "           0.76877,     0.76977,     0.77077,     0.77177,     0.77277,     0.77377,     0.77477,     0.77578,     0.77678,     0.77778,     0.77878,     0.77978,     0.78078,     0.78178,     0.78278,     0.78378,     0.78478,     0.78579,     0.78679,     0.78779,     0.78879,     0.78979,     0.79079,     0.79179,\n",
              "           0.79279,     0.79379,     0.79479,      0.7958,      0.7968,      0.7978,      0.7988,      0.7998,      0.8008,      0.8018,      0.8028,      0.8038,      0.8048,     0.80581,     0.80681,     0.80781,     0.80881,     0.80981,     0.81081,     0.81181,     0.81281,     0.81381,     0.81481,     0.81582,\n",
              "           0.81682,     0.81782,     0.81882,     0.81982,     0.82082,     0.82182,     0.82282,     0.82382,     0.82482,     0.82583,     0.82683,     0.82783,     0.82883,     0.82983,     0.83083,     0.83183,     0.83283,     0.83383,     0.83483,     0.83584,     0.83684,     0.83784,     0.83884,     0.83984,\n",
              "           0.84084,     0.84184,     0.84284,     0.84384,     0.84484,     0.84585,     0.84685,     0.84785,     0.84885,     0.84985,     0.85085,     0.85185,     0.85285,     0.85385,     0.85485,     0.85586,     0.85686,     0.85786,     0.85886,     0.85986,     0.86086,     0.86186,     0.86286,     0.86386,\n",
              "           0.86486,     0.86587,     0.86687,     0.86787,     0.86887,     0.86987,     0.87087,     0.87187,     0.87287,     0.87387,     0.87487,     0.87588,     0.87688,     0.87788,     0.87888,     0.87988,     0.88088,     0.88188,     0.88288,     0.88388,     0.88488,     0.88589,     0.88689,     0.88789,\n",
              "           0.88889,     0.88989,     0.89089,     0.89189,     0.89289,     0.89389,     0.89489,      0.8959,      0.8969,      0.8979,      0.8989,      0.8999,      0.9009,      0.9019,      0.9029,      0.9039,      0.9049,     0.90591,     0.90691,     0.90791,     0.90891,     0.90991,     0.91091,     0.91191,\n",
              "           0.91291,     0.91391,     0.91491,     0.91592,     0.91692,     0.91792,     0.91892,     0.91992,     0.92092,     0.92192,     0.92292,     0.92392,     0.92492,     0.92593,     0.92693,     0.92793,     0.92893,     0.92993,     0.93093,     0.93193,     0.93293,     0.93393,     0.93493,     0.93594,\n",
              "           0.93694,     0.93794,     0.93894,     0.93994,     0.94094,     0.94194,     0.94294,     0.94394,     0.94494,     0.94595,     0.94695,     0.94795,     0.94895,     0.94995,     0.95095,     0.95195,     0.95295,     0.95395,     0.95495,     0.95596,     0.95696,     0.95796,     0.95896,     0.95996,\n",
              "           0.96096,     0.96196,     0.96296,     0.96396,     0.96496,     0.96597,     0.96697,     0.96797,     0.96897,     0.96997,     0.97097,     0.97197,     0.97297,     0.97397,     0.97497,     0.97598,     0.97698,     0.97798,     0.97898,     0.97998,     0.98098,     0.98198,     0.98298,     0.98398,\n",
              "           0.98498,     0.98599,     0.98699,     0.98799,     0.98899,     0.98999,     0.99099,     0.99199,     0.99299,     0.99399,     0.99499,       0.996,       0.997,       0.998,       0.999,           1]), array([[    0.98529,     0.98529,     0.97059, ...,           0,           0,           0],\n",
              "       [    0.98058,     0.98058,     0.98058, ...,           0,           0,           0],\n",
              "       [    0.98093,     0.98093,     0.97548, ...,           0,           0,           0],\n",
              "       [    0.97255,     0.97255,     0.97255, ...,           0,           0,           0],\n",
              "       [    0.97619,     0.97619,     0.97143, ...,           0,           0,           0],\n",
              "       [    0.95536,     0.95536,     0.95424, ...,           0,           0,           0]]), 'Confidence', 'Recall']]\n",
              "fitness: 0.7313476081183987\n",
              "keys: ['metrics/precision(B)', 'metrics/recall(B)', 'metrics/mAP50(B)', 'metrics/mAP50-95(B)']\n",
              "maps: array([    0.68713,     0.71263,     0.82878,     0.71368,     0.63115,     0.75021])\n",
              "names: {0: 'b_fully_ripened', 1: 'b_half_ripened', 2: 'b_green', 3: 'l_fully_ripened', 4: 'l_half_ripened', 5: 'l_green'}\n",
              "plot: True\n",
              "results_dict: {'metrics/precision(B)': 0.7619725966002603, 'metrics/recall(B)': 0.7714865146373652, 'metrics/mAP50(B)': 0.828104730471034, 'metrics/mAP50-95(B)': 0.7205968167458836, 'fitness': 0.7313476081183987}\n",
              "save_dir: PosixPath('runs/detect/train')\n",
              "speed: {'preprocess': 0.5061813429290173, 'inference': 9.704279743768032, 'loss': 0.0004955366546032476, 'postprocess': 2.6359682768778083}\n",
              "task: 'detect'"
            ]
          },
          "metadata": {},
          "execution_count": 6
        }
      ]
    },
    {
      "cell_type": "markdown",
      "source": [
        "Train Faster R-CNN\n"
      ],
      "metadata": {
        "id": "KsBXYYokP2qP"
      }
    },
    {
      "cell_type": "code",
      "source": [
        "from torchvision.models.detection import FasterRCNN_ResNet50_FPN_Weights\n",
        "from torchvision.models.detection.faster_rcnn import FastRCNNPredictor\n",
        "\n",
        "class CustomDataset(Dataset):\n",
        "    def __init__(self, image_folder, label_folder):\n",
        "        self.image_folder = image_folder\n",
        "        self.label_folder = label_folder\n",
        "        self.image_files = os.listdir(image_folder)\n",
        "\n",
        "    def __len__(self):\n",
        "        return len(self.image_files)\n",
        "\n",
        "    def __getitem__(self, idx):\n",
        "        image_file = self.image_files[idx]\n",
        "        img_path = os.path.join(self.image_folder, image_file)\n",
        "        label_path = os.path.join(self.label_folder, os.path.splitext(image_file)[0] + \".txt\")\n",
        "\n",
        "        image = cv2.imread(img_path)\n",
        "        image = cv2.cvtColor(image, cv2.COLOR_BGR2RGB)\n",
        "        h, w, _ = image.shape\n",
        "\n",
        "        with open(label_path, \"r\") as f:\n",
        "            boxes = []\n",
        "            labels = []\n",
        "            for line in f.readlines():\n",
        "                cls, x_center, y_center, width, height = map(float, line.strip().split())\n",
        "                xmin = (x_center - width / 2) * w\n",
        "                ymin = (y_center - height / 2) * h\n",
        "                xmax = (x_center + width / 2) * w\n",
        "                ymax = (y_center + height / 2) * h\n",
        "                boxes.append([xmin, ymin, xmax, ymax])\n",
        "                labels.append(int(cls))\n",
        "\n",
        "        boxes = torch.as_tensor(boxes, dtype=torch.float32)\n",
        "        labels = torch.as_tensor(labels, dtype=torch.int64)\n",
        "        image = F.to_tensor(image)\n",
        "\n",
        "        target = {\"boxes\": boxes, \"labels\": labels}\n",
        "\n",
        "        return image, target\n",
        "\n",
        "# Custom Collate Function to Handle Variable Number of Bounding Boxes\n",
        "def collate_fn(batch):\n",
        "    images, targets = zip(*batch)\n",
        "    return list(images), list(targets)\n",
        "\n",
        "# Create DataLoader for Faster R-CNN\n",
        "train_dataset = CustomDataset(f\"{augmented_dir}/train/images\", f\"{augmented_dir}/train/labels\")\n",
        "train_loader = DataLoader(\n",
        "    train_dataset, batch_size=4, shuffle=True, collate_fn=collate_fn\n",
        ")\n",
        "\n",
        "# Load Faster R-CNN with COCO weights\n",
        "weights = FasterRCNN_ResNet50_FPN_Weights.COCO_V1\n",
        "frcnn_model = fasterrcnn_resnet50_fpn(weights=weights)\n",
        "\n",
        "# Modify the classifier for 7 classes (including background)\n",
        "in_features = frcnn_model.roi_heads.box_predictor.cls_score.in_features\n",
        "frcnn_model.roi_heads.box_predictor = FastRCNNPredictor(in_features, 7)\n",
        "\n",
        "optimizer = torch.optim.SGD(frcnn_model.parameters(), lr=0.005, momentum=0.9)\n",
        "\n",
        "device = torch.device(\"cuda\" if torch.cuda.is_available() else \"cpu\")\n",
        "frcnn_model.to(device)\n",
        "frcnn_model.train()\n",
        "\n",
        "# Training Loop\n",
        "for epoch in range(10):  # Adjust the number of epochs as needed\n",
        "    for images, targets in train_loader:\n",
        "        images = [img.to(device) for img in images]\n",
        "        targets = [{k: v.to(device) for k, v in t.items()} for t in targets]\n",
        "\n",
        "        loss_dict = frcnn_model(images, targets)\n",
        "        losses = sum(loss for loss in loss_dict.values())\n",
        "\n",
        "        optimizer.zero_grad()\n",
        "        losses.backward()\n",
        "        optimizer.step()\n",
        "\n",
        "    print(f\"Epoch {epoch + 1}, Loss: {losses.item()}\")\n"
      ],
      "metadata": {
        "colab": {
          "base_uri": "https://localhost:8080/"
        },
        "id": "jyw5tac6P4XS",
        "outputId": "6580f2a0-5963-43fc-f468-06b32e4a55bc"
      },
      "execution_count": null,
      "outputs": [
        {
          "output_type": "stream",
          "name": "stderr",
          "text": [
            "Downloading: \"https://download.pytorch.org/models/fasterrcnn_resnet50_fpn_coco-258fb6c6.pth\" to /root/.cache/torch/hub/checkpoints/fasterrcnn_resnet50_fpn_coco-258fb6c6.pth\n",
            "100%|██████████| 160M/160M [00:01<00:00, 165MB/s]\n",
            "/usr/local/lib/python3.10/dist-packages/torch/autograd/graph.py:825: UserWarning: roi_align_backward_kernel does not have a deterministic implementation, but you set 'torch.use_deterministic_algorithms(True, warn_only=True)'. You can file an issue at https://github.com/pytorch/pytorch/issues to help us prioritize adding deterministic support for this operation. (Triggered internally at ../aten/src/ATen/Context.cpp:91.)\n",
            "  return Variable._execution_engine.run_backward(  # Calls into the C++ engine to run the backward pass\n"
          ]
        },
        {
          "output_type": "stream",
          "name": "stdout",
          "text": [
            "Epoch 1, Loss: 0.6034991145133972\n",
            "Epoch 2, Loss: 0.4442107677459717\n",
            "Epoch 3, Loss: 0.47171857953071594\n",
            "Epoch 4, Loss: 0.28911569714546204\n",
            "Epoch 5, Loss: 0.20760910212993622\n",
            "Epoch 6, Loss: 0.4430273771286011\n",
            "Epoch 7, Loss: 0.19285368919372559\n",
            "Epoch 8, Loss: 0.2252819687128067\n",
            "Epoch 9, Loss: 0.10515951365232468\n",
            "Epoch 10, Loss: 0.07782146334648132\n"
          ]
        }
      ]
    },
    {
      "cell_type": "markdown",
      "source": [
        "Ensemble Predictions"
      ],
      "metadata": {
        "id": "_c_hsSXSmM4v"
      }
    },
    {
      "cell_type": "code",
      "source": [
        "def ensemble_predictions(yolo_preds, frcnn_preds):\n",
        "    final_preds = []\n",
        "    for i in range(len(yolo_preds)):\n",
        "        votes = [yolo_preds[i], frcnn_preds[i]]\n",
        "        final_preds.append(max(set(votes), key=votes.count))  # Majority voting\n",
        "    return final_preds\n",
        "\n",
        "# Example usage\n",
        "yolo_preds = [1, 2, 2, 3]\n",
        "frcnn_preds = [1, 2, 3, 3]\n",
        "\n",
        "ensemble_preds = ensemble_predictions(yolo_preds, frcnn_preds)\n",
        "print(\"Ensemble Predictions:\", ensemble_preds)\n"
      ],
      "metadata": {
        "colab": {
          "base_uri": "https://localhost:8080/"
        },
        "id": "clM8SSZkmTQq",
        "outputId": "456400ee-65c7-45ac-e5db-faff8e93f300"
      },
      "execution_count": null,
      "outputs": [
        {
          "output_type": "stream",
          "name": "stdout",
          "text": [
            "Ensemble Predictions: [1, 2, 2, 3]\n"
          ]
        }
      ]
    },
    {
      "cell_type": "markdown",
      "source": [
        "YOLOv8 Validation"
      ],
      "metadata": {
        "id": "IUnzWc4onJAp"
      }
    },
    {
      "cell_type": "code",
      "source": [
        "results = yolo_model.val()\n",
        "print(\"YOLOv8 Validation Results:\", results)\n"
      ],
      "metadata": {
        "id": "Jyy94EvlnLBh",
        "outputId": "b3a49c0c-47b0-4f21-95f7-f6b341a09098",
        "colab": {
          "base_uri": "https://localhost:8080/",
          "height": 165
        }
      },
      "execution_count": null,
      "outputs": [
        {
          "output_type": "error",
          "ename": "NameError",
          "evalue": "name 'yolo_model' is not defined",
          "traceback": [
            "\u001b[0;31m---------------------------------------------------------------------------\u001b[0m",
            "\u001b[0;31mNameError\u001b[0m                                 Traceback (most recent call last)",
            "\u001b[0;32m<ipython-input-2-b8a014411052>\u001b[0m in \u001b[0;36m<cell line: 1>\u001b[0;34m()\u001b[0m\n\u001b[0;32m----> 1\u001b[0;31m \u001b[0mresults\u001b[0m \u001b[0;34m=\u001b[0m \u001b[0myolo_model\u001b[0m\u001b[0;34m.\u001b[0m\u001b[0mval\u001b[0m\u001b[0;34m(\u001b[0m\u001b[0;34m)\u001b[0m\u001b[0;34m\u001b[0m\u001b[0;34m\u001b[0m\u001b[0m\n\u001b[0m\u001b[1;32m      2\u001b[0m \u001b[0mprint\u001b[0m\u001b[0;34m(\u001b[0m\u001b[0;34m\"YOLOv8 Validation Results:\"\u001b[0m\u001b[0;34m,\u001b[0m \u001b[0mresults\u001b[0m\u001b[0;34m)\u001b[0m\u001b[0;34m\u001b[0m\u001b[0;34m\u001b[0m\u001b[0m\n",
            "\u001b[0;31mNameError\u001b[0m: name 'yolo_model' is not defined"
          ]
        }
      ]
    }
  ]
}